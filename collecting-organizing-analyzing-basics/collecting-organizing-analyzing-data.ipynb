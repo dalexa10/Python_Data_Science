{
  "cells": [
    {
      "cell_type": "markdown",
      "metadata": {
        "id": "view-in-github",
        "colab_type": "text"
      },
      "source": [
        "<a href=\"https://colab.research.google.com/github/dalexa10/Python_4_Data_Science/blob/main/collecting-organizing-analyzing-basics/collecting-organizing-analyzing-data.ipynb\" target=\"_parent\"><img src=\"https://colab.research.google.com/assets/colab-badge.svg\" alt=\"Open In Colab\"/></a>"
      ]
    },
    {
      "cell_type": "markdown",
      "metadata": {
        "id": "7rlFGFg5xa_a"
      },
      "source": [
        "<a href=\"https://colab.research.google.com/github/lukeolson/mse598dm-python-data/blob/main/collecting-organizing-analyzing-basics/collecting-organizing-analyzing-data.ipynb\" target=\"_parent\"><img src=\"https://colab.research.google.com/assets/colab-badge.svg\" alt=\"Open In Colab\"/></a>"
      ]
    },
    {
      "cell_type": "markdown",
      "metadata": {
        "id": "QtsaxHbUxa_f"
      },
      "source": [
        "<img src=\"https://www.fueleconomy.gov/feg/label/images/gaslabel.jpg\" width=\"600px;\" alt=\"gas prices\"/>"
      ]
    },
    {
      "cell_type": "markdown",
      "metadata": {
        "id": "6uQFWffwxa_f"
      },
      "source": [
        "#   **TOPIC**:  Collecting, organizing, and analyzing data\n",
        "\n",
        "## Objectives\n",
        "\n",
        "### Objectives\n",
        "\n",
        "1. Identify the pieces of a Pandas dataframe for a set of data.\n",
        "2. Interpret data through plotting. \n",
        "3. Apply data filtering techniques to prepare the data for analysis.\n",
        "4. Organize multiple data sets for analysis.\n",
        "5. Construct a comparison between two sets of data.\n",
        "\n",
        "### Questions To Ask\n",
        "\n",
        "1. What are the column types in your dataframe?\n",
        "2. How do you plot a column of data?\n",
        "3. Which data needs to be modified in your dataframe?\n",
        "4. How do you plot two time series?\n",
        "5. How would you correlate two series of data?\n",
        "\n",
        "### What to hand in\n",
        "1. An attempt at last portion \"Your turn...\"\n",
        "2. Answer \"Three things I learned from this example...\"\n",
        "    1. ...\n",
        "    2. ...\n",
        "    3. ...\n",
        "\n",
        "## Highlevel topics\n",
        "\n",
        "- Data importing and storage\n",
        "- Data cleaning\n",
        "- Data plotting\n",
        "- Plot manipulation\n",
        "- Data analysis using built-in tools\n",
        "\n",
        "## Synopsis\n",
        "\n",
        "You are a data scientist working for a DC think tank, and your team is studying technology and energy policy.  To prepare for an upcoming energy sumit you are studying the relationship between **US fuel prices** and **fuel efficiency**, measured in miles-per-gallon.\n",
        "\n",
        "#### Your Task\n",
        "\n",
        "Your goal is to identify trends in two different datasets on **US fuel prices** and **fuel efficiency**.\n",
        "\n",
        "## Datasets\n",
        "\n",
        "In this session two datasets will be used:\n",
        "- Automotive Trends Report\n",
        "    - This dataset provides **miles per gallon** on light-duty vehicles\n",
        "    - https://www.epa.gov/automotive-trends/explore-automotive-trends-data\n",
        "    - https://www.epa.gov/automotive-trends/about-automotive-trends-data\n",
        "    - downloaded as `table_export.csv`\n",
        "- Retail motor gasoline and on-highway diesel fuel prices\n",
        "    - This dataset provides **fuel prices**\n",
        "    - https://www.eia.gov/totalenergy/data/browser/index.php?tbl=T09.04#/\n",
        "    - (section 9.4) https://www.eia.gov/totalenergy/data/monthly/index.php\n",
        "    - downlloaded as `MER_T09_04.csv`\n",
        "\n",
        "Example\n",
        "```\n",
        "wget https://www.eia.gov/totalenergy/data/browser/csv.php\\?tbl\\=T09.04 -O T09_04.csv\n",
        "```"
      ]
    },
    {
      "cell_type": "code",
      "execution_count": 3,
      "metadata": {
        "id": "wpF84HJuxa_g",
        "outputId": "5c2abfb5-4ab9-473b-9491-9ce5cd9f0946",
        "colab": {
          "base_uri": "https://localhost:8080/"
        }
      },
      "outputs": [
        {
          "output_type": "stream",
          "name": "stdout",
          "text": [
            "--2023-01-31 17:49:54--  https://raw.githubusercontent.com/lukeolson/mse598dm-python-data/main/collecting-organizing-analyzing-basics/data/MER_T09_04.csv\n",
            "Resolving raw.githubusercontent.com (raw.githubusercontent.com)... 185.199.108.133, 185.199.109.133, 185.199.110.133, ...\n",
            "Connecting to raw.githubusercontent.com (raw.githubusercontent.com)|185.199.108.133|:443... connected.\n",
            "HTTP request sent, awaiting response... 200 OK\n",
            "Length: 691634 (675K) [text/plain]\n",
            "Saving to: ‘MER_T09_04.csv’\n",
            "\n",
            "\rMER_T09_04.csv        0%[                    ]       0  --.-KB/s               \rMER_T09_04.csv      100%[===================>] 675.42K  --.-KB/s    in 0.04s   \n",
            "\n",
            "2023-01-31 17:49:54 (15.3 MB/s) - ‘MER_T09_04.csv’ saved [691634/691634]\n",
            "\n",
            "--2023-01-31 17:49:54--  https://raw.githubusercontent.com/lukeolson/mse598dm-python-data/main/collecting-organizing-analyzing-basics/data/table_export.csv\n",
            "Resolving raw.githubusercontent.com (raw.githubusercontent.com)... 185.199.108.133, 185.199.109.133, 185.199.110.133, ...\n",
            "Connecting to raw.githubusercontent.com (raw.githubusercontent.com)|185.199.108.133|:443... connected.\n",
            "HTTP request sent, awaiting response... 200 OK\n",
            "Length: 51333 (50K) [text/plain]\n",
            "Saving to: ‘table_export.csv’\n",
            "\n",
            "table_export.csv    100%[===================>]  50.13K  --.-KB/s    in 0.01s   \n",
            "\n",
            "2023-01-31 17:49:54 (4.53 MB/s) - ‘table_export.csv’ saved [51333/51333]\n",
            "\n",
            "total 732K\n",
            "-rw-r--r-- 1 root root 676K Jan 31 17:49 MER_T09_04.csv\n",
            "drwxr-xr-x 1 root root 4.0K Jan 30 14:38 sample_data\n",
            "-rw-r--r-- 1 root root  51K Jan 31 17:49 table_export.csv\n"
          ]
        }
      ],
      "source": [
        "!wget https://raw.githubusercontent.com/lukeolson/mse598dm-python-data/main/collecting-organizing-analyzing-basics/data/MER_T09_04.csv\n",
        "!wget https://raw.githubusercontent.com/lukeolson/mse598dm-python-data/main/collecting-organizing-analyzing-basics/data/table_export.csv\n",
        "!ls -lh"
      ]
    },
    {
      "cell_type": "markdown",
      "metadata": {
        "id": "TwO7mI7Bxa_k"
      },
      "source": [
        "## 0. Getting Started"
      ]
    },
    {
      "cell_type": "markdown",
      "metadata": {
        "id": "3USLThhKxa_l"
      },
      "source": [
        "### Setting up Python\n",
        "\n",
        "First, import a few Python packages that we'll use throught the course.  By convention these are abbreviated on import.\n",
        "\n",
        "- `matplotlib` and the interface `matplotlib.pyplot` for plotting\n",
        "- `numpy` for numerical functions and arrays\n",
        "- `pandas` for data structures and analysis\n",
        "- `seaborn` for additional plotting and improved figures"
      ]
    },
    {
      "cell_type": "code",
      "execution_count": 2,
      "metadata": {
        "id": "tgXsjI2Mxa_m"
      },
      "outputs": [],
      "source": [
        "import matplotlib.pyplot as plt\n",
        "import pandas as pd\n",
        "import numpy as np\n",
        "import datetime\n",
        "\n",
        "%matplotlib inline"
      ]
    },
    {
      "cell_type": "markdown",
      "metadata": {
        "id": "q69nJ6wQxa_n"
      },
      "source": [
        "### Import data\n",
        "\n",
        "Here we will import the data with Pandas `read_csv` function and store as a *dataframe*.  \n",
        "\n",
        "What is a *dataframe*?  It's a storage container (provided by Pandas) that functions like a table.  It can also be viewed as a dictionary.  Pandas dataframes have lots of useful functions, many of which we won't use in this lesson (see [Pandas dataframe documenation](http://pandas.pydata.org/pandas-docs/stable/reference/frame.html) for more details)."
      ]
    },
    {
      "cell_type": "code",
      "execution_count": null,
      "metadata": {
        "id": "N4Ir7Kv-xa_o",
        "outputId": "b7e5e028-d55f-4692-820e-9cfe11d3f0a7",
        "colab": {
          "base_uri": "https://localhost:8080/",
          "height": 589
        }
      },
      "outputs": [
        {
          "output_type": "execute_result",
          "data": {
            "text/plain": [
              "       Model Year Regulatory Class Vehicle Type Production Share  \\\n",
              "0            1975              All          All         1.000000   \n",
              "1            1975              Car      All Car         0.806646   \n",
              "2            1975              Car  Sedan/Wagon         0.805645   \n",
              "3            1975            Truck    All Truck         0.193354   \n",
              "4            1975            Truck       Pickup         0.131322   \n",
              "..            ...              ...          ...              ...   \n",
              "379  Prelim. 2022              All          All                -   \n",
              "380  Prelim. 2022            Truck  Minivan/Van                -   \n",
              "381  Prelim. 2022            Truck    Truck SUV                -   \n",
              "382  Prelim. 2022            Truck    All Truck                -   \n",
              "383  Prelim. 2022            Truck       Pickup                -   \n",
              "\n",
              "     Real-World MPG  Real-World MPG_City  Real-World MPG_Hwy  \\\n",
              "0          13.05970             12.01552            14.61167   \n",
              "1          13.45483             12.31413            15.17266   \n",
              "2          13.45833             12.31742            15.17643   \n",
              "3          11.63431             10.91165            12.65900   \n",
              "4          11.91476             11.07827            13.12613   \n",
              "..              ...                  ...                 ...   \n",
              "379        26.35965             23.17949            29.40284   \n",
              "380        25.59317             22.10621            29.04996   \n",
              "381        24.75038             21.90441            27.43990   \n",
              "382        23.40912             20.60126            26.09186   \n",
              "383        20.06288             17.49366            22.56268   \n",
              "\n",
              "     Real-World CO2 (g/mi)  Real-World CO2_City (g/mi)  \\\n",
              "0                680.59612                   739.73800   \n",
              "1                660.63740                   721.82935   \n",
              "2                660.46603                   721.63673   \n",
              "3                763.86134                   814.45060   \n",
              "4                745.88139                   802.20090   \n",
              "..                     ...                         ...   \n",
              "379              330.81160                   377.18480   \n",
              "380              344.29378                   398.02669   \n",
              "381              354.13291                   400.54552   \n",
              "382              375.92690                   427.58585   \n",
              "383              442.43019                   508.03215   \n",
              "\n",
              "     Real-World CO2_Hwy (g/mi)  Weight (lbs)  Horsepower (HP)  \\\n",
              "0                    608.31160      4060.399         137.3346   \n",
              "1                    585.84724      4057.494         136.1964   \n",
              "2                    585.70185      4057.565         136.2256   \n",
              "3                    702.03002      4072.518         142.0826   \n",
              "4                    677.04643      4011.977         140.9365   \n",
              "..                         ...           ...              ...   \n",
              "379                  295.82831      4328.963         272.3535   \n",
              "380                  303.75842      4557.279         245.0592   \n",
              "381                  319.11989      4534.261         268.1756   \n",
              "382                  336.95612      4713.739         284.8583   \n",
              "383                  392.94099      5239.220         339.0876   \n",
              "\n",
              "    Footprint (sq. ft.)  \n",
              "0                     -  \n",
              "1                     -  \n",
              "2                     -  \n",
              "3                     -  \n",
              "4                     -  \n",
              "..                  ...  \n",
              "379            51.67437  \n",
              "380            56.21571  \n",
              "381            50.02365  \n",
              "382            54.37582  \n",
              "383            65.91698  \n",
              "\n",
              "[384 rows x 13 columns]"
            ],
            "text/html": [
              "\n",
              "  <div id=\"df-4345f47a-71c8-4270-9344-fcce7f77c59a\">\n",
              "    <div class=\"colab-df-container\">\n",
              "      <div>\n",
              "<style scoped>\n",
              "    .dataframe tbody tr th:only-of-type {\n",
              "        vertical-align: middle;\n",
              "    }\n",
              "\n",
              "    .dataframe tbody tr th {\n",
              "        vertical-align: top;\n",
              "    }\n",
              "\n",
              "    .dataframe thead th {\n",
              "        text-align: right;\n",
              "    }\n",
              "</style>\n",
              "<table border=\"1\" class=\"dataframe\">\n",
              "  <thead>\n",
              "    <tr style=\"text-align: right;\">\n",
              "      <th></th>\n",
              "      <th>Model Year</th>\n",
              "      <th>Regulatory Class</th>\n",
              "      <th>Vehicle Type</th>\n",
              "      <th>Production Share</th>\n",
              "      <th>Real-World MPG</th>\n",
              "      <th>Real-World MPG_City</th>\n",
              "      <th>Real-World MPG_Hwy</th>\n",
              "      <th>Real-World CO2 (g/mi)</th>\n",
              "      <th>Real-World CO2_City (g/mi)</th>\n",
              "      <th>Real-World CO2_Hwy (g/mi)</th>\n",
              "      <th>Weight (lbs)</th>\n",
              "      <th>Horsepower (HP)</th>\n",
              "      <th>Footprint (sq. ft.)</th>\n",
              "    </tr>\n",
              "  </thead>\n",
              "  <tbody>\n",
              "    <tr>\n",
              "      <th>0</th>\n",
              "      <td>1975</td>\n",
              "      <td>All</td>\n",
              "      <td>All</td>\n",
              "      <td>1.000000</td>\n",
              "      <td>13.05970</td>\n",
              "      <td>12.01552</td>\n",
              "      <td>14.61167</td>\n",
              "      <td>680.59612</td>\n",
              "      <td>739.73800</td>\n",
              "      <td>608.31160</td>\n",
              "      <td>4060.399</td>\n",
              "      <td>137.3346</td>\n",
              "      <td>-</td>\n",
              "    </tr>\n",
              "    <tr>\n",
              "      <th>1</th>\n",
              "      <td>1975</td>\n",
              "      <td>Car</td>\n",
              "      <td>All Car</td>\n",
              "      <td>0.806646</td>\n",
              "      <td>13.45483</td>\n",
              "      <td>12.31413</td>\n",
              "      <td>15.17266</td>\n",
              "      <td>660.63740</td>\n",
              "      <td>721.82935</td>\n",
              "      <td>585.84724</td>\n",
              "      <td>4057.494</td>\n",
              "      <td>136.1964</td>\n",
              "      <td>-</td>\n",
              "    </tr>\n",
              "    <tr>\n",
              "      <th>2</th>\n",
              "      <td>1975</td>\n",
              "      <td>Car</td>\n",
              "      <td>Sedan/Wagon</td>\n",
              "      <td>0.805645</td>\n",
              "      <td>13.45833</td>\n",
              "      <td>12.31742</td>\n",
              "      <td>15.17643</td>\n",
              "      <td>660.46603</td>\n",
              "      <td>721.63673</td>\n",
              "      <td>585.70185</td>\n",
              "      <td>4057.565</td>\n",
              "      <td>136.2256</td>\n",
              "      <td>-</td>\n",
              "    </tr>\n",
              "    <tr>\n",
              "      <th>3</th>\n",
              "      <td>1975</td>\n",
              "      <td>Truck</td>\n",
              "      <td>All Truck</td>\n",
              "      <td>0.193354</td>\n",
              "      <td>11.63431</td>\n",
              "      <td>10.91165</td>\n",
              "      <td>12.65900</td>\n",
              "      <td>763.86134</td>\n",
              "      <td>814.45060</td>\n",
              "      <td>702.03002</td>\n",
              "      <td>4072.518</td>\n",
              "      <td>142.0826</td>\n",
              "      <td>-</td>\n",
              "    </tr>\n",
              "    <tr>\n",
              "      <th>4</th>\n",
              "      <td>1975</td>\n",
              "      <td>Truck</td>\n",
              "      <td>Pickup</td>\n",
              "      <td>0.131322</td>\n",
              "      <td>11.91476</td>\n",
              "      <td>11.07827</td>\n",
              "      <td>13.12613</td>\n",
              "      <td>745.88139</td>\n",
              "      <td>802.20090</td>\n",
              "      <td>677.04643</td>\n",
              "      <td>4011.977</td>\n",
              "      <td>140.9365</td>\n",
              "      <td>-</td>\n",
              "    </tr>\n",
              "    <tr>\n",
              "      <th>...</th>\n",
              "      <td>...</td>\n",
              "      <td>...</td>\n",
              "      <td>...</td>\n",
              "      <td>...</td>\n",
              "      <td>...</td>\n",
              "      <td>...</td>\n",
              "      <td>...</td>\n",
              "      <td>...</td>\n",
              "      <td>...</td>\n",
              "      <td>...</td>\n",
              "      <td>...</td>\n",
              "      <td>...</td>\n",
              "      <td>...</td>\n",
              "    </tr>\n",
              "    <tr>\n",
              "      <th>379</th>\n",
              "      <td>Prelim. 2022</td>\n",
              "      <td>All</td>\n",
              "      <td>All</td>\n",
              "      <td>-</td>\n",
              "      <td>26.35965</td>\n",
              "      <td>23.17949</td>\n",
              "      <td>29.40284</td>\n",
              "      <td>330.81160</td>\n",
              "      <td>377.18480</td>\n",
              "      <td>295.82831</td>\n",
              "      <td>4328.963</td>\n",
              "      <td>272.3535</td>\n",
              "      <td>51.67437</td>\n",
              "    </tr>\n",
              "    <tr>\n",
              "      <th>380</th>\n",
              "      <td>Prelim. 2022</td>\n",
              "      <td>Truck</td>\n",
              "      <td>Minivan/Van</td>\n",
              "      <td>-</td>\n",
              "      <td>25.59317</td>\n",
              "      <td>22.10621</td>\n",
              "      <td>29.04996</td>\n",
              "      <td>344.29378</td>\n",
              "      <td>398.02669</td>\n",
              "      <td>303.75842</td>\n",
              "      <td>4557.279</td>\n",
              "      <td>245.0592</td>\n",
              "      <td>56.21571</td>\n",
              "    </tr>\n",
              "    <tr>\n",
              "      <th>381</th>\n",
              "      <td>Prelim. 2022</td>\n",
              "      <td>Truck</td>\n",
              "      <td>Truck SUV</td>\n",
              "      <td>-</td>\n",
              "      <td>24.75038</td>\n",
              "      <td>21.90441</td>\n",
              "      <td>27.43990</td>\n",
              "      <td>354.13291</td>\n",
              "      <td>400.54552</td>\n",
              "      <td>319.11989</td>\n",
              "      <td>4534.261</td>\n",
              "      <td>268.1756</td>\n",
              "      <td>50.02365</td>\n",
              "    </tr>\n",
              "    <tr>\n",
              "      <th>382</th>\n",
              "      <td>Prelim. 2022</td>\n",
              "      <td>Truck</td>\n",
              "      <td>All Truck</td>\n",
              "      <td>-</td>\n",
              "      <td>23.40912</td>\n",
              "      <td>20.60126</td>\n",
              "      <td>26.09186</td>\n",
              "      <td>375.92690</td>\n",
              "      <td>427.58585</td>\n",
              "      <td>336.95612</td>\n",
              "      <td>4713.739</td>\n",
              "      <td>284.8583</td>\n",
              "      <td>54.37582</td>\n",
              "    </tr>\n",
              "    <tr>\n",
              "      <th>383</th>\n",
              "      <td>Prelim. 2022</td>\n",
              "      <td>Truck</td>\n",
              "      <td>Pickup</td>\n",
              "      <td>-</td>\n",
              "      <td>20.06288</td>\n",
              "      <td>17.49366</td>\n",
              "      <td>22.56268</td>\n",
              "      <td>442.43019</td>\n",
              "      <td>508.03215</td>\n",
              "      <td>392.94099</td>\n",
              "      <td>5239.220</td>\n",
              "      <td>339.0876</td>\n",
              "      <td>65.91698</td>\n",
              "    </tr>\n",
              "  </tbody>\n",
              "</table>\n",
              "<p>384 rows × 13 columns</p>\n",
              "</div>\n",
              "      <button class=\"colab-df-convert\" onclick=\"convertToInteractive('df-4345f47a-71c8-4270-9344-fcce7f77c59a')\"\n",
              "              title=\"Convert this dataframe to an interactive table.\"\n",
              "              style=\"display:none;\">\n",
              "        \n",
              "  <svg xmlns=\"http://www.w3.org/2000/svg\" height=\"24px\"viewBox=\"0 0 24 24\"\n",
              "       width=\"24px\">\n",
              "    <path d=\"M0 0h24v24H0V0z\" fill=\"none\"/>\n",
              "    <path d=\"M18.56 5.44l.94 2.06.94-2.06 2.06-.94-2.06-.94-.94-2.06-.94 2.06-2.06.94zm-11 1L8.5 8.5l.94-2.06 2.06-.94-2.06-.94L8.5 2.5l-.94 2.06-2.06.94zm10 10l.94 2.06.94-2.06 2.06-.94-2.06-.94-.94-2.06-.94 2.06-2.06.94z\"/><path d=\"M17.41 7.96l-1.37-1.37c-.4-.4-.92-.59-1.43-.59-.52 0-1.04.2-1.43.59L10.3 9.45l-7.72 7.72c-.78.78-.78 2.05 0 2.83L4 21.41c.39.39.9.59 1.41.59.51 0 1.02-.2 1.41-.59l7.78-7.78 2.81-2.81c.8-.78.8-2.07 0-2.86zM5.41 20L4 18.59l7.72-7.72 1.47 1.35L5.41 20z\"/>\n",
              "  </svg>\n",
              "      </button>\n",
              "      \n",
              "  <style>\n",
              "    .colab-df-container {\n",
              "      display:flex;\n",
              "      flex-wrap:wrap;\n",
              "      gap: 12px;\n",
              "    }\n",
              "\n",
              "    .colab-df-convert {\n",
              "      background-color: #E8F0FE;\n",
              "      border: none;\n",
              "      border-radius: 50%;\n",
              "      cursor: pointer;\n",
              "      display: none;\n",
              "      fill: #1967D2;\n",
              "      height: 32px;\n",
              "      padding: 0 0 0 0;\n",
              "      width: 32px;\n",
              "    }\n",
              "\n",
              "    .colab-df-convert:hover {\n",
              "      background-color: #E2EBFA;\n",
              "      box-shadow: 0px 1px 2px rgba(60, 64, 67, 0.3), 0px 1px 3px 1px rgba(60, 64, 67, 0.15);\n",
              "      fill: #174EA6;\n",
              "    }\n",
              "\n",
              "    [theme=dark] .colab-df-convert {\n",
              "      background-color: #3B4455;\n",
              "      fill: #D2E3FC;\n",
              "    }\n",
              "\n",
              "    [theme=dark] .colab-df-convert:hover {\n",
              "      background-color: #434B5C;\n",
              "      box-shadow: 0px 1px 3px 1px rgba(0, 0, 0, 0.15);\n",
              "      filter: drop-shadow(0px 1px 2px rgba(0, 0, 0, 0.3));\n",
              "      fill: #FFFFFF;\n",
              "    }\n",
              "  </style>\n",
              "\n",
              "      <script>\n",
              "        const buttonEl =\n",
              "          document.querySelector('#df-4345f47a-71c8-4270-9344-fcce7f77c59a button.colab-df-convert');\n",
              "        buttonEl.style.display =\n",
              "          google.colab.kernel.accessAllowed ? 'block' : 'none';\n",
              "\n",
              "        async function convertToInteractive(key) {\n",
              "          const element = document.querySelector('#df-4345f47a-71c8-4270-9344-fcce7f77c59a');\n",
              "          const dataTable =\n",
              "            await google.colab.kernel.invokeFunction('convertToInteractive',\n",
              "                                                     [key], {});\n",
              "          if (!dataTable) return;\n",
              "\n",
              "          const docLinkHtml = 'Like what you see? Visit the ' +\n",
              "            '<a target=\"_blank\" href=https://colab.research.google.com/notebooks/data_table.ipynb>data table notebook</a>'\n",
              "            + ' to learn more about interactive tables.';\n",
              "          element.innerHTML = '';\n",
              "          dataTable['output_type'] = 'display_data';\n",
              "          await google.colab.output.renderOutput(dataTable, element);\n",
              "          const docLink = document.createElement('div');\n",
              "          docLink.innerHTML = docLinkHtml;\n",
              "          element.appendChild(docLink);\n",
              "        }\n",
              "      </script>\n",
              "    </div>\n",
              "  </div>\n",
              "  "
            ]
          },
          "metadata": {},
          "execution_count": 8
        }
      ],
      "source": [
        "ecodf = pd.read_csv('table_export.csv')\n",
        "ecodf"
      ]
    },
    {
      "cell_type": "markdown",
      "metadata": {
        "id": "bo4iNvQGxa_o"
      },
      "source": [
        "### Example dataframe\n",
        "\n",
        "Let's construct a mock dataframe to highlight some basic functionality."
      ]
    },
    {
      "cell_type": "code",
      "execution_count": null,
      "metadata": {
        "id": "stK0-FeYxa_p"
      },
      "outputs": [],
      "source": [
        "mydf = pd.DataFrame(\n",
        "    {'month': ['January', 'February', 'March'],\n",
        "     'temperature': [20, 30, 40],\n",
        "     'snowfall': [12.5, 15, 'trace']\n",
        "    }\n",
        ")"
      ]
    },
    {
      "cell_type": "markdown",
      "metadata": {
        "id": "pX73RUI0xa_p"
      },
      "source": [
        "We can inspect the dataframe in a few different ways:\n",
        "\n",
        "- `mydf.info()` shows a highlevel view of the dataframe as a data structure\n",
        "- `mydf` or `print(mydf)` will give a tabular view"
      ]
    },
    {
      "cell_type": "code",
      "execution_count": null,
      "metadata": {
        "id": "_stR25O8xa_p",
        "outputId": "6624554c-a4ce-41f7-8595-6a83aced4f0b",
        "colab": {
          "base_uri": "https://localhost:8080/",
          "height": 143
        }
      },
      "outputs": [
        {
          "output_type": "execute_result",
          "data": {
            "text/plain": [
              "      month  temperature snowfall\n",
              "0   January           20     12.5\n",
              "1  February           30       15\n",
              "2     March           40    trace"
            ],
            "text/html": [
              "\n",
              "  <div id=\"df-1d03a0e5-1087-4bf0-9a8a-c9b4e605f056\">\n",
              "    <div class=\"colab-df-container\">\n",
              "      <div>\n",
              "<style scoped>\n",
              "    .dataframe tbody tr th:only-of-type {\n",
              "        vertical-align: middle;\n",
              "    }\n",
              "\n",
              "    .dataframe tbody tr th {\n",
              "        vertical-align: top;\n",
              "    }\n",
              "\n",
              "    .dataframe thead th {\n",
              "        text-align: right;\n",
              "    }\n",
              "</style>\n",
              "<table border=\"1\" class=\"dataframe\">\n",
              "  <thead>\n",
              "    <tr style=\"text-align: right;\">\n",
              "      <th></th>\n",
              "      <th>month</th>\n",
              "      <th>temperature</th>\n",
              "      <th>snowfall</th>\n",
              "    </tr>\n",
              "  </thead>\n",
              "  <tbody>\n",
              "    <tr>\n",
              "      <th>0</th>\n",
              "      <td>January</td>\n",
              "      <td>20</td>\n",
              "      <td>12.5</td>\n",
              "    </tr>\n",
              "    <tr>\n",
              "      <th>1</th>\n",
              "      <td>February</td>\n",
              "      <td>30</td>\n",
              "      <td>15</td>\n",
              "    </tr>\n",
              "    <tr>\n",
              "      <th>2</th>\n",
              "      <td>March</td>\n",
              "      <td>40</td>\n",
              "      <td>trace</td>\n",
              "    </tr>\n",
              "  </tbody>\n",
              "</table>\n",
              "</div>\n",
              "      <button class=\"colab-df-convert\" onclick=\"convertToInteractive('df-1d03a0e5-1087-4bf0-9a8a-c9b4e605f056')\"\n",
              "              title=\"Convert this dataframe to an interactive table.\"\n",
              "              style=\"display:none;\">\n",
              "        \n",
              "  <svg xmlns=\"http://www.w3.org/2000/svg\" height=\"24px\"viewBox=\"0 0 24 24\"\n",
              "       width=\"24px\">\n",
              "    <path d=\"M0 0h24v24H0V0z\" fill=\"none\"/>\n",
              "    <path d=\"M18.56 5.44l.94 2.06.94-2.06 2.06-.94-2.06-.94-.94-2.06-.94 2.06-2.06.94zm-11 1L8.5 8.5l.94-2.06 2.06-.94-2.06-.94L8.5 2.5l-.94 2.06-2.06.94zm10 10l.94 2.06.94-2.06 2.06-.94-2.06-.94-.94-2.06-.94 2.06-2.06.94z\"/><path d=\"M17.41 7.96l-1.37-1.37c-.4-.4-.92-.59-1.43-.59-.52 0-1.04.2-1.43.59L10.3 9.45l-7.72 7.72c-.78.78-.78 2.05 0 2.83L4 21.41c.39.39.9.59 1.41.59.51 0 1.02-.2 1.41-.59l7.78-7.78 2.81-2.81c.8-.78.8-2.07 0-2.86zM5.41 20L4 18.59l7.72-7.72 1.47 1.35L5.41 20z\"/>\n",
              "  </svg>\n",
              "      </button>\n",
              "      \n",
              "  <style>\n",
              "    .colab-df-container {\n",
              "      display:flex;\n",
              "      flex-wrap:wrap;\n",
              "      gap: 12px;\n",
              "    }\n",
              "\n",
              "    .colab-df-convert {\n",
              "      background-color: #E8F0FE;\n",
              "      border: none;\n",
              "      border-radius: 50%;\n",
              "      cursor: pointer;\n",
              "      display: none;\n",
              "      fill: #1967D2;\n",
              "      height: 32px;\n",
              "      padding: 0 0 0 0;\n",
              "      width: 32px;\n",
              "    }\n",
              "\n",
              "    .colab-df-convert:hover {\n",
              "      background-color: #E2EBFA;\n",
              "      box-shadow: 0px 1px 2px rgba(60, 64, 67, 0.3), 0px 1px 3px 1px rgba(60, 64, 67, 0.15);\n",
              "      fill: #174EA6;\n",
              "    }\n",
              "\n",
              "    [theme=dark] .colab-df-convert {\n",
              "      background-color: #3B4455;\n",
              "      fill: #D2E3FC;\n",
              "    }\n",
              "\n",
              "    [theme=dark] .colab-df-convert:hover {\n",
              "      background-color: #434B5C;\n",
              "      box-shadow: 0px 1px 3px 1px rgba(0, 0, 0, 0.15);\n",
              "      filter: drop-shadow(0px 1px 2px rgba(0, 0, 0, 0.3));\n",
              "      fill: #FFFFFF;\n",
              "    }\n",
              "  </style>\n",
              "\n",
              "      <script>\n",
              "        const buttonEl =\n",
              "          document.querySelector('#df-1d03a0e5-1087-4bf0-9a8a-c9b4e605f056 button.colab-df-convert');\n",
              "        buttonEl.style.display =\n",
              "          google.colab.kernel.accessAllowed ? 'block' : 'none';\n",
              "\n",
              "        async function convertToInteractive(key) {\n",
              "          const element = document.querySelector('#df-1d03a0e5-1087-4bf0-9a8a-c9b4e605f056');\n",
              "          const dataTable =\n",
              "            await google.colab.kernel.invokeFunction('convertToInteractive',\n",
              "                                                     [key], {});\n",
              "          if (!dataTable) return;\n",
              "\n",
              "          const docLinkHtml = 'Like what you see? Visit the ' +\n",
              "            '<a target=\"_blank\" href=https://colab.research.google.com/notebooks/data_table.ipynb>data table notebook</a>'\n",
              "            + ' to learn more about interactive tables.';\n",
              "          element.innerHTML = '';\n",
              "          dataTable['output_type'] = 'display_data';\n",
              "          await google.colab.output.renderOutput(dataTable, element);\n",
              "          const docLink = document.createElement('div');\n",
              "          docLink.innerHTML = docLinkHtml;\n",
              "          element.appendChild(docLink);\n",
              "        }\n",
              "      </script>\n",
              "    </div>\n",
              "  </div>\n",
              "  "
            ]
          },
          "metadata": {},
          "execution_count": 13
        }
      ],
      "source": [
        "mydf"
      ]
    },
    {
      "cell_type": "code",
      "execution_count": null,
      "metadata": {
        "id": "Za7gKlc-xa_q",
        "outputId": "6f5e505b-0b1a-406c-97fa-1e4a02d90642",
        "colab": {
          "base_uri": "https://localhost:8080/"
        }
      },
      "outputs": [
        {
          "output_type": "stream",
          "name": "stdout",
          "text": [
            "<class 'pandas.core.frame.DataFrame'>\n",
            "RangeIndex: 3 entries, 0 to 2\n",
            "Data columns (total 3 columns):\n",
            " #   Column       Non-Null Count  Dtype \n",
            "---  ------       --------------  ----- \n",
            " 0   month        3 non-null      object\n",
            " 1   temperature  3 non-null      int64 \n",
            " 2   snowfall     3 non-null      object\n",
            "dtypes: int64(1), object(2)\n",
            "memory usage: 200.0+ bytes\n"
          ]
        }
      ],
      "source": [
        "mydf.info()"
      ]
    },
    {
      "cell_type": "code",
      "execution_count": null,
      "metadata": {
        "id": "6CfpDFg4xa_q",
        "outputId": "af8b148a-6dd9-4d60-bd1c-e12b93eb53ee",
        "colab": {
          "base_uri": "https://localhost:8080/",
          "height": 143
        }
      },
      "outputs": [
        {
          "output_type": "execute_result",
          "data": {
            "text/plain": [
              "      month  temperature snowfall\n",
              "0   January           20     12.5\n",
              "1  February           30       15\n",
              "2     March           40    trace"
            ],
            "text/html": [
              "\n",
              "  <div id=\"df-63848482-ef12-4fff-ac21-7d5ecffc0fcd\">\n",
              "    <div class=\"colab-df-container\">\n",
              "      <div>\n",
              "<style scoped>\n",
              "    .dataframe tbody tr th:only-of-type {\n",
              "        vertical-align: middle;\n",
              "    }\n",
              "\n",
              "    .dataframe tbody tr th {\n",
              "        vertical-align: top;\n",
              "    }\n",
              "\n",
              "    .dataframe thead th {\n",
              "        text-align: right;\n",
              "    }\n",
              "</style>\n",
              "<table border=\"1\" class=\"dataframe\">\n",
              "  <thead>\n",
              "    <tr style=\"text-align: right;\">\n",
              "      <th></th>\n",
              "      <th>month</th>\n",
              "      <th>temperature</th>\n",
              "      <th>snowfall</th>\n",
              "    </tr>\n",
              "  </thead>\n",
              "  <tbody>\n",
              "    <tr>\n",
              "      <th>0</th>\n",
              "      <td>January</td>\n",
              "      <td>20</td>\n",
              "      <td>12.5</td>\n",
              "    </tr>\n",
              "    <tr>\n",
              "      <th>1</th>\n",
              "      <td>February</td>\n",
              "      <td>30</td>\n",
              "      <td>15</td>\n",
              "    </tr>\n",
              "    <tr>\n",
              "      <th>2</th>\n",
              "      <td>March</td>\n",
              "      <td>40</td>\n",
              "      <td>trace</td>\n",
              "    </tr>\n",
              "  </tbody>\n",
              "</table>\n",
              "</div>\n",
              "      <button class=\"colab-df-convert\" onclick=\"convertToInteractive('df-63848482-ef12-4fff-ac21-7d5ecffc0fcd')\"\n",
              "              title=\"Convert this dataframe to an interactive table.\"\n",
              "              style=\"display:none;\">\n",
              "        \n",
              "  <svg xmlns=\"http://www.w3.org/2000/svg\" height=\"24px\"viewBox=\"0 0 24 24\"\n",
              "       width=\"24px\">\n",
              "    <path d=\"M0 0h24v24H0V0z\" fill=\"none\"/>\n",
              "    <path d=\"M18.56 5.44l.94 2.06.94-2.06 2.06-.94-2.06-.94-.94-2.06-.94 2.06-2.06.94zm-11 1L8.5 8.5l.94-2.06 2.06-.94-2.06-.94L8.5 2.5l-.94 2.06-2.06.94zm10 10l.94 2.06.94-2.06 2.06-.94-2.06-.94-.94-2.06-.94 2.06-2.06.94z\"/><path d=\"M17.41 7.96l-1.37-1.37c-.4-.4-.92-.59-1.43-.59-.52 0-1.04.2-1.43.59L10.3 9.45l-7.72 7.72c-.78.78-.78 2.05 0 2.83L4 21.41c.39.39.9.59 1.41.59.51 0 1.02-.2 1.41-.59l7.78-7.78 2.81-2.81c.8-.78.8-2.07 0-2.86zM5.41 20L4 18.59l7.72-7.72 1.47 1.35L5.41 20z\"/>\n",
              "  </svg>\n",
              "      </button>\n",
              "      \n",
              "  <style>\n",
              "    .colab-df-container {\n",
              "      display:flex;\n",
              "      flex-wrap:wrap;\n",
              "      gap: 12px;\n",
              "    }\n",
              "\n",
              "    .colab-df-convert {\n",
              "      background-color: #E8F0FE;\n",
              "      border: none;\n",
              "      border-radius: 50%;\n",
              "      cursor: pointer;\n",
              "      display: none;\n",
              "      fill: #1967D2;\n",
              "      height: 32px;\n",
              "      padding: 0 0 0 0;\n",
              "      width: 32px;\n",
              "    }\n",
              "\n",
              "    .colab-df-convert:hover {\n",
              "      background-color: #E2EBFA;\n",
              "      box-shadow: 0px 1px 2px rgba(60, 64, 67, 0.3), 0px 1px 3px 1px rgba(60, 64, 67, 0.15);\n",
              "      fill: #174EA6;\n",
              "    }\n",
              "\n",
              "    [theme=dark] .colab-df-convert {\n",
              "      background-color: #3B4455;\n",
              "      fill: #D2E3FC;\n",
              "    }\n",
              "\n",
              "    [theme=dark] .colab-df-convert:hover {\n",
              "      background-color: #434B5C;\n",
              "      box-shadow: 0px 1px 3px 1px rgba(0, 0, 0, 0.15);\n",
              "      filter: drop-shadow(0px 1px 2px rgba(0, 0, 0, 0.3));\n",
              "      fill: #FFFFFF;\n",
              "    }\n",
              "  </style>\n",
              "\n",
              "      <script>\n",
              "        const buttonEl =\n",
              "          document.querySelector('#df-63848482-ef12-4fff-ac21-7d5ecffc0fcd button.colab-df-convert');\n",
              "        buttonEl.style.display =\n",
              "          google.colab.kernel.accessAllowed ? 'block' : 'none';\n",
              "\n",
              "        async function convertToInteractive(key) {\n",
              "          const element = document.querySelector('#df-63848482-ef12-4fff-ac21-7d5ecffc0fcd');\n",
              "          const dataTable =\n",
              "            await google.colab.kernel.invokeFunction('convertToInteractive',\n",
              "                                                     [key], {});\n",
              "          if (!dataTable) return;\n",
              "\n",
              "          const docLinkHtml = 'Like what you see? Visit the ' +\n",
              "            '<a target=\"_blank\" href=https://colab.research.google.com/notebooks/data_table.ipynb>data table notebook</a>'\n",
              "            + ' to learn more about interactive tables.';\n",
              "          element.innerHTML = '';\n",
              "          dataTable['output_type'] = 'display_data';\n",
              "          await google.colab.output.renderOutput(dataTable, element);\n",
              "          const docLink = document.createElement('div');\n",
              "          docLink.innerHTML = docLinkHtml;\n",
              "          element.appendChild(docLink);\n",
              "        }\n",
              "      </script>\n",
              "    </div>\n",
              "  </div>\n",
              "  "
            ]
          },
          "metadata": {},
          "execution_count": 14
        }
      ],
      "source": [
        "mydf"
      ]
    },
    {
      "cell_type": "markdown",
      "metadata": {
        "id": "MBVo7FiLxa_q"
      },
      "source": [
        "We can access a given column of a dataframe using the bracket notation with the column label."
      ]
    },
    {
      "cell_type": "code",
      "execution_count": null,
      "metadata": {
        "id": "FHRlocBRxa_q",
        "outputId": "6a19e4b4-8545-45e8-f497-2ccaf925a6af",
        "colab": {
          "base_uri": "https://localhost:8080/"
        }
      },
      "outputs": [
        {
          "output_type": "execute_result",
          "data": {
            "text/plain": [
              "0    20\n",
              "1    30\n",
              "2    40\n",
              "Name: temperature, dtype: int64"
            ]
          },
          "metadata": {},
          "execution_count": 15
        }
      ],
      "source": [
        "mydf['temperature']"
      ]
    },
    {
      "cell_type": "markdown",
      "metadata": {
        "id": "O84Cjfnjxa_q"
      },
      "source": [
        "Also notice that each column is a Pandas *series*.  A series is simply array of values with an index to those values."
      ]
    },
    {
      "cell_type": "code",
      "execution_count": null,
      "metadata": {
        "id": "t87Km6uExa_r",
        "outputId": "06efbee1-751e-4953-e6c1-d652831d5a59",
        "colab": {
          "base_uri": "https://localhost:8080/"
        }
      },
      "outputs": [
        {
          "output_type": "execute_result",
          "data": {
            "text/plain": [
              "pandas.core.series.Series"
            ]
          },
          "metadata": {},
          "execution_count": 16
        }
      ],
      "source": [
        "type(mydf['temperature'])"
      ]
    },
    {
      "cell_type": "markdown",
      "metadata": {
        "id": "bcEC1F3Oxa_r"
      },
      "source": [
        "#### Pandas methods\n",
        "\n",
        "In the following we'll be doing mainly three things to data stored like `mydf`:\n",
        "\n",
        "1. formatting the data\n",
        "2. setting an index\n",
        "3. cleaning the data\n",
        "\n",
        "We'll work with the example dataframe for now.  Later, we'll work with the datasets described above and we'll also merge data and introduce some analytics."
      ]
    },
    {
      "cell_type": "code",
      "execution_count": null,
      "metadata": {
        "id": "4BRql_i1xa_s",
        "outputId": "725f7946-be8e-44ba-9331-fa173701fa2f",
        "colab": {
          "base_uri": "https://localhost:8080/"
        }
      },
      "outputs": [
        {
          "output_type": "stream",
          "name": "stdout",
          "text": [
            "<class 'pandas.core.frame.DataFrame'>\n",
            "RangeIndex: 3 entries, 0 to 2\n",
            "Data columns (total 3 columns):\n",
            " #   Column       Non-Null Count  Dtype \n",
            "---  ------       --------------  ----- \n",
            " 0   month        3 non-null      object\n",
            " 1   temperature  3 non-null      int64 \n",
            " 2   snowfall     3 non-null      object\n",
            "dtypes: int64(1), object(2)\n",
            "memory usage: 200.0+ bytes\n"
          ]
        }
      ],
      "source": [
        "mydf.info()"
      ]
    },
    {
      "cell_type": "markdown",
      "metadata": {
        "id": "eJ6NW8gCxa_s"
      },
      "source": [
        "#### (1)\n",
        "Let's *format* the data so that the `month` is an actual datetime format.  We can do this using [`pd.to_datetime()`](https://pandas.pydata.org/pandas-docs/stable/reference/api/pandas.to_datetime.html).\n",
        "For this we need to refer to the string format of dates in Python's `time` format:\n",
        "https://docs.python.org/3/library/time.html#time.strftime\n",
        "\n",
        "Notice that `%B` means the month name."
      ]
    },
    {
      "cell_type": "code",
      "execution_count": null,
      "metadata": {
        "id": "Kohxc0TMxa_t",
        "outputId": "601c2585-cb8e-4de2-b254-53854ad86088",
        "colab": {
          "base_uri": "https://localhost:8080/"
        }
      },
      "outputs": [
        {
          "output_type": "execute_result",
          "data": {
            "text/plain": [
              "0     January\n",
              "1    February\n",
              "2       March\n",
              "Name: month, dtype: object"
            ]
          },
          "metadata": {},
          "execution_count": 18
        }
      ],
      "source": [
        "mydf['month']"
      ]
    },
    {
      "cell_type": "code",
      "execution_count": null,
      "metadata": {
        "id": "lqCkH9XKxa_u",
        "outputId": "f0e5315d-ac2d-491c-ba98-c7af45efb960",
        "colab": {
          "base_uri": "https://localhost:8080/"
        }
      },
      "outputs": [
        {
          "output_type": "execute_result",
          "data": {
            "text/plain": [
              "Timestamp('2019-01-01 00:00:00')"
            ]
          },
          "metadata": {},
          "execution_count": 19
        }
      ],
      "source": [
        "pd.to_datetime('2019 January', format='%Y %B')"
      ]
    },
    {
      "cell_type": "code",
      "execution_count": null,
      "metadata": {
        "id": "Uup7PjuFxa_v",
        "outputId": "aa31a19e-3714-44f4-a945-4e1a29038591",
        "colab": {
          "base_uri": "https://localhost:8080/"
        }
      },
      "outputs": [
        {
          "output_type": "execute_result",
          "data": {
            "text/plain": [
              "0   1900-01-01\n",
              "1   1900-02-01\n",
              "2   1900-03-01\n",
              "Name: month, dtype: datetime64[ns]"
            ]
          },
          "metadata": {},
          "execution_count": 20
        }
      ],
      "source": [
        "pd.to_datetime(mydf['month'], format='%B')"
      ]
    },
    {
      "cell_type": "markdown",
      "metadata": {
        "id": "dqGDPHtMxa_v"
      },
      "source": [
        "Notice, the above command doesn't  actually change the column of our dataframe `mydf`."
      ]
    },
    {
      "cell_type": "code",
      "execution_count": null,
      "metadata": {
        "id": "EzZh-G66xa_v",
        "outputId": "686ec805-6a06-4718-e785-f83886aeb68b",
        "colab": {
          "base_uri": "https://localhost:8080/"
        }
      },
      "outputs": [
        {
          "output_type": "execute_result",
          "data": {
            "text/plain": [
              "0     January\n",
              "1    February\n",
              "2       March\n",
              "Name: month, dtype: object"
            ]
          },
          "metadata": {},
          "execution_count": 21
        }
      ],
      "source": [
        "mydf['month']"
      ]
    },
    {
      "cell_type": "markdown",
      "metadata": {
        "id": "2L0jJmIjxa_v"
      },
      "source": [
        "To add a year, we would use `%Y`.  To change our dataframe, we set the column equal to the new series."
      ]
    },
    {
      "cell_type": "code",
      "execution_count": null,
      "metadata": {
        "id": "80gkA7PFxa_v"
      },
      "outputs": [],
      "source": [
        "mydf['month'] = pd.to_datetime(mydf['month']+'2019', format='%B%Y')"
      ]
    },
    {
      "cell_type": "code",
      "execution_count": null,
      "metadata": {
        "id": "gAro0QI3xa_z",
        "outputId": "4acfc303-820d-4efa-cd95-e411b3f0f1e2",
        "colab": {
          "base_uri": "https://localhost:8080/",
          "height": 143
        }
      },
      "outputs": [
        {
          "output_type": "execute_result",
          "data": {
            "text/plain": [
              "       month  temperature snowfall\n",
              "0 2019-01-01           20     12.5\n",
              "1 2019-02-01           30       15\n",
              "2 2019-03-01           40    trace"
            ],
            "text/html": [
              "\n",
              "  <div id=\"df-007d4e9e-02ae-48a2-a5ac-d39407d4b465\">\n",
              "    <div class=\"colab-df-container\">\n",
              "      <div>\n",
              "<style scoped>\n",
              "    .dataframe tbody tr th:only-of-type {\n",
              "        vertical-align: middle;\n",
              "    }\n",
              "\n",
              "    .dataframe tbody tr th {\n",
              "        vertical-align: top;\n",
              "    }\n",
              "\n",
              "    .dataframe thead th {\n",
              "        text-align: right;\n",
              "    }\n",
              "</style>\n",
              "<table border=\"1\" class=\"dataframe\">\n",
              "  <thead>\n",
              "    <tr style=\"text-align: right;\">\n",
              "      <th></th>\n",
              "      <th>month</th>\n",
              "      <th>temperature</th>\n",
              "      <th>snowfall</th>\n",
              "    </tr>\n",
              "  </thead>\n",
              "  <tbody>\n",
              "    <tr>\n",
              "      <th>0</th>\n",
              "      <td>2019-01-01</td>\n",
              "      <td>20</td>\n",
              "      <td>12.5</td>\n",
              "    </tr>\n",
              "    <tr>\n",
              "      <th>1</th>\n",
              "      <td>2019-02-01</td>\n",
              "      <td>30</td>\n",
              "      <td>15</td>\n",
              "    </tr>\n",
              "    <tr>\n",
              "      <th>2</th>\n",
              "      <td>2019-03-01</td>\n",
              "      <td>40</td>\n",
              "      <td>trace</td>\n",
              "    </tr>\n",
              "  </tbody>\n",
              "</table>\n",
              "</div>\n",
              "      <button class=\"colab-df-convert\" onclick=\"convertToInteractive('df-007d4e9e-02ae-48a2-a5ac-d39407d4b465')\"\n",
              "              title=\"Convert this dataframe to an interactive table.\"\n",
              "              style=\"display:none;\">\n",
              "        \n",
              "  <svg xmlns=\"http://www.w3.org/2000/svg\" height=\"24px\"viewBox=\"0 0 24 24\"\n",
              "       width=\"24px\">\n",
              "    <path d=\"M0 0h24v24H0V0z\" fill=\"none\"/>\n",
              "    <path d=\"M18.56 5.44l.94 2.06.94-2.06 2.06-.94-2.06-.94-.94-2.06-.94 2.06-2.06.94zm-11 1L8.5 8.5l.94-2.06 2.06-.94-2.06-.94L8.5 2.5l-.94 2.06-2.06.94zm10 10l.94 2.06.94-2.06 2.06-.94-2.06-.94-.94-2.06-.94 2.06-2.06.94z\"/><path d=\"M17.41 7.96l-1.37-1.37c-.4-.4-.92-.59-1.43-.59-.52 0-1.04.2-1.43.59L10.3 9.45l-7.72 7.72c-.78.78-.78 2.05 0 2.83L4 21.41c.39.39.9.59 1.41.59.51 0 1.02-.2 1.41-.59l7.78-7.78 2.81-2.81c.8-.78.8-2.07 0-2.86zM5.41 20L4 18.59l7.72-7.72 1.47 1.35L5.41 20z\"/>\n",
              "  </svg>\n",
              "      </button>\n",
              "      \n",
              "  <style>\n",
              "    .colab-df-container {\n",
              "      display:flex;\n",
              "      flex-wrap:wrap;\n",
              "      gap: 12px;\n",
              "    }\n",
              "\n",
              "    .colab-df-convert {\n",
              "      background-color: #E8F0FE;\n",
              "      border: none;\n",
              "      border-radius: 50%;\n",
              "      cursor: pointer;\n",
              "      display: none;\n",
              "      fill: #1967D2;\n",
              "      height: 32px;\n",
              "      padding: 0 0 0 0;\n",
              "      width: 32px;\n",
              "    }\n",
              "\n",
              "    .colab-df-convert:hover {\n",
              "      background-color: #E2EBFA;\n",
              "      box-shadow: 0px 1px 2px rgba(60, 64, 67, 0.3), 0px 1px 3px 1px rgba(60, 64, 67, 0.15);\n",
              "      fill: #174EA6;\n",
              "    }\n",
              "\n",
              "    [theme=dark] .colab-df-convert {\n",
              "      background-color: #3B4455;\n",
              "      fill: #D2E3FC;\n",
              "    }\n",
              "\n",
              "    [theme=dark] .colab-df-convert:hover {\n",
              "      background-color: #434B5C;\n",
              "      box-shadow: 0px 1px 3px 1px rgba(0, 0, 0, 0.15);\n",
              "      filter: drop-shadow(0px 1px 2px rgba(0, 0, 0, 0.3));\n",
              "      fill: #FFFFFF;\n",
              "    }\n",
              "  </style>\n",
              "\n",
              "      <script>\n",
              "        const buttonEl =\n",
              "          document.querySelector('#df-007d4e9e-02ae-48a2-a5ac-d39407d4b465 button.colab-df-convert');\n",
              "        buttonEl.style.display =\n",
              "          google.colab.kernel.accessAllowed ? 'block' : 'none';\n",
              "\n",
              "        async function convertToInteractive(key) {\n",
              "          const element = document.querySelector('#df-007d4e9e-02ae-48a2-a5ac-d39407d4b465');\n",
              "          const dataTable =\n",
              "            await google.colab.kernel.invokeFunction('convertToInteractive',\n",
              "                                                     [key], {});\n",
              "          if (!dataTable) return;\n",
              "\n",
              "          const docLinkHtml = 'Like what you see? Visit the ' +\n",
              "            '<a target=\"_blank\" href=https://colab.research.google.com/notebooks/data_table.ipynb>data table notebook</a>'\n",
              "            + ' to learn more about interactive tables.';\n",
              "          element.innerHTML = '';\n",
              "          dataTable['output_type'] = 'display_data';\n",
              "          await google.colab.output.renderOutput(dataTable, element);\n",
              "          const docLink = document.createElement('div');\n",
              "          docLink.innerHTML = docLinkHtml;\n",
              "          element.appendChild(docLink);\n",
              "        }\n",
              "      </script>\n",
              "    </div>\n",
              "  </div>\n",
              "  "
            ]
          },
          "metadata": {},
          "execution_count": 23
        }
      ],
      "source": [
        "mydf"
      ]
    },
    {
      "cell_type": "code",
      "execution_count": null,
      "metadata": {
        "id": "auQh5w3Pxa_1",
        "outputId": "38cb2016-9584-40e1-bfe8-1b7c2ac634fc",
        "colab": {
          "base_uri": "https://localhost:8080/"
        }
      },
      "outputs": [
        {
          "output_type": "stream",
          "name": "stdout",
          "text": [
            "<class 'pandas.core.frame.DataFrame'>\n",
            "RangeIndex: 3 entries, 0 to 2\n",
            "Data columns (total 3 columns):\n",
            " #   Column       Non-Null Count  Dtype         \n",
            "---  ------       --------------  -----         \n",
            " 0   month        3 non-null      datetime64[ns]\n",
            " 1   temperature  3 non-null      int64         \n",
            " 2   snowfall     3 non-null      object        \n",
            "dtypes: datetime64[ns](1), int64(1), object(1)\n",
            "memory usage: 200.0+ bytes\n"
          ]
        }
      ],
      "source": [
        "mydf.info()"
      ]
    },
    {
      "cell_type": "markdown",
      "metadata": {
        "id": "bYu3Ek4Bxa_2"
      },
      "source": [
        "#### (2)\n",
        "\n",
        "Each column of a Pandas dataframe is a series and the default is to index this series with integer indices starting at 0.  We can see what the current index values are by accessing the dataframe's `index` attribute (not a function).  We can also set the index to another set of labels, say the months using the dataframe's `set_index()` function."
      ]
    },
    {
      "cell_type": "code",
      "execution_count": null,
      "metadata": {
        "id": "Ab9l8N3bxa_3",
        "outputId": "7a50c5ba-1d88-449c-c93e-378f1fa11a9d",
        "colab": {
          "base_uri": "https://localhost:8080/"
        }
      },
      "outputs": [
        {
          "output_type": "execute_result",
          "data": {
            "text/plain": [
              "RangeIndex(start=0, stop=3, step=1)"
            ]
          },
          "metadata": {},
          "execution_count": 25
        }
      ],
      "source": [
        "mydf.index"
      ]
    },
    {
      "cell_type": "code",
      "execution_count": null,
      "metadata": {
        "id": "JT9jKdmCxa_5"
      },
      "outputs": [],
      "source": [
        "mydf.set_index('month', inplace=True)"
      ]
    },
    {
      "cell_type": "markdown",
      "metadata": {
        "id": "N0NGLoRMxa_5"
      },
      "source": [
        "Notice we used `inplace=True` above so it modified `mydf` instead of making a new object.  We can look at the modified index and dataframe:"
      ]
    },
    {
      "cell_type": "code",
      "execution_count": null,
      "metadata": {
        "id": "772gbNRaxa_5",
        "outputId": "960f0594-d106-411e-be50-bdd740893b9c",
        "colab": {
          "base_uri": "https://localhost:8080/"
        }
      },
      "outputs": [
        {
          "output_type": "execute_result",
          "data": {
            "text/plain": [
              "DatetimeIndex(['2019-01-01', '2019-02-01', '2019-03-01'], dtype='datetime64[ns]', name='month', freq=None)"
            ]
          },
          "metadata": {},
          "execution_count": 27
        }
      ],
      "source": [
        "mydf.index"
      ]
    },
    {
      "cell_type": "code",
      "execution_count": null,
      "metadata": {
        "id": "zMnQSMf4xa_5",
        "outputId": "7bec6eef-b391-4113-9cd8-db181fa2255c",
        "colab": {
          "base_uri": "https://localhost:8080/",
          "height": 175
        }
      },
      "outputs": [
        {
          "output_type": "execute_result",
          "data": {
            "text/plain": [
              "            temperature  snowfall\n",
              "month                            \n",
              "2019-01-01           20      12.5\n",
              "2019-02-01           30      15.0\n",
              "2019-03-01           40       0.0"
            ],
            "text/html": [
              "\n",
              "  <div id=\"df-90501968-5ee9-434e-a882-93e89ec17522\">\n",
              "    <div class=\"colab-df-container\">\n",
              "      <div>\n",
              "<style scoped>\n",
              "    .dataframe tbody tr th:only-of-type {\n",
              "        vertical-align: middle;\n",
              "    }\n",
              "\n",
              "    .dataframe tbody tr th {\n",
              "        vertical-align: top;\n",
              "    }\n",
              "\n",
              "    .dataframe thead th {\n",
              "        text-align: right;\n",
              "    }\n",
              "</style>\n",
              "<table border=\"1\" class=\"dataframe\">\n",
              "  <thead>\n",
              "    <tr style=\"text-align: right;\">\n",
              "      <th></th>\n",
              "      <th>temperature</th>\n",
              "      <th>snowfall</th>\n",
              "    </tr>\n",
              "    <tr>\n",
              "      <th>month</th>\n",
              "      <th></th>\n",
              "      <th></th>\n",
              "    </tr>\n",
              "  </thead>\n",
              "  <tbody>\n",
              "    <tr>\n",
              "      <th>2019-01-01</th>\n",
              "      <td>20</td>\n",
              "      <td>12.5</td>\n",
              "    </tr>\n",
              "    <tr>\n",
              "      <th>2019-02-01</th>\n",
              "      <td>30</td>\n",
              "      <td>15.0</td>\n",
              "    </tr>\n",
              "    <tr>\n",
              "      <th>2019-03-01</th>\n",
              "      <td>40</td>\n",
              "      <td>0.0</td>\n",
              "    </tr>\n",
              "  </tbody>\n",
              "</table>\n",
              "</div>\n",
              "      <button class=\"colab-df-convert\" onclick=\"convertToInteractive('df-90501968-5ee9-434e-a882-93e89ec17522')\"\n",
              "              title=\"Convert this dataframe to an interactive table.\"\n",
              "              style=\"display:none;\">\n",
              "        \n",
              "  <svg xmlns=\"http://www.w3.org/2000/svg\" height=\"24px\"viewBox=\"0 0 24 24\"\n",
              "       width=\"24px\">\n",
              "    <path d=\"M0 0h24v24H0V0z\" fill=\"none\"/>\n",
              "    <path d=\"M18.56 5.44l.94 2.06.94-2.06 2.06-.94-2.06-.94-.94-2.06-.94 2.06-2.06.94zm-11 1L8.5 8.5l.94-2.06 2.06-.94-2.06-.94L8.5 2.5l-.94 2.06-2.06.94zm10 10l.94 2.06.94-2.06 2.06-.94-2.06-.94-.94-2.06-.94 2.06-2.06.94z\"/><path d=\"M17.41 7.96l-1.37-1.37c-.4-.4-.92-.59-1.43-.59-.52 0-1.04.2-1.43.59L10.3 9.45l-7.72 7.72c-.78.78-.78 2.05 0 2.83L4 21.41c.39.39.9.59 1.41.59.51 0 1.02-.2 1.41-.59l7.78-7.78 2.81-2.81c.8-.78.8-2.07 0-2.86zM5.41 20L4 18.59l7.72-7.72 1.47 1.35L5.41 20z\"/>\n",
              "  </svg>\n",
              "      </button>\n",
              "      \n",
              "  <style>\n",
              "    .colab-df-container {\n",
              "      display:flex;\n",
              "      flex-wrap:wrap;\n",
              "      gap: 12px;\n",
              "    }\n",
              "\n",
              "    .colab-df-convert {\n",
              "      background-color: #E8F0FE;\n",
              "      border: none;\n",
              "      border-radius: 50%;\n",
              "      cursor: pointer;\n",
              "      display: none;\n",
              "      fill: #1967D2;\n",
              "      height: 32px;\n",
              "      padding: 0 0 0 0;\n",
              "      width: 32px;\n",
              "    }\n",
              "\n",
              "    .colab-df-convert:hover {\n",
              "      background-color: #E2EBFA;\n",
              "      box-shadow: 0px 1px 2px rgba(60, 64, 67, 0.3), 0px 1px 3px 1px rgba(60, 64, 67, 0.15);\n",
              "      fill: #174EA6;\n",
              "    }\n",
              "\n",
              "    [theme=dark] .colab-df-convert {\n",
              "      background-color: #3B4455;\n",
              "      fill: #D2E3FC;\n",
              "    }\n",
              "\n",
              "    [theme=dark] .colab-df-convert:hover {\n",
              "      background-color: #434B5C;\n",
              "      box-shadow: 0px 1px 3px 1px rgba(0, 0, 0, 0.15);\n",
              "      filter: drop-shadow(0px 1px 2px rgba(0, 0, 0, 0.3));\n",
              "      fill: #FFFFFF;\n",
              "    }\n",
              "  </style>\n",
              "\n",
              "      <script>\n",
              "        const buttonEl =\n",
              "          document.querySelector('#df-90501968-5ee9-434e-a882-93e89ec17522 button.colab-df-convert');\n",
              "        buttonEl.style.display =\n",
              "          google.colab.kernel.accessAllowed ? 'block' : 'none';\n",
              "\n",
              "        async function convertToInteractive(key) {\n",
              "          const element = document.querySelector('#df-90501968-5ee9-434e-a882-93e89ec17522');\n",
              "          const dataTable =\n",
              "            await google.colab.kernel.invokeFunction('convertToInteractive',\n",
              "                                                     [key], {});\n",
              "          if (!dataTable) return;\n",
              "\n",
              "          const docLinkHtml = 'Like what you see? Visit the ' +\n",
              "            '<a target=\"_blank\" href=https://colab.research.google.com/notebooks/data_table.ipynb>data table notebook</a>'\n",
              "            + ' to learn more about interactive tables.';\n",
              "          element.innerHTML = '';\n",
              "          dataTable['output_type'] = 'display_data';\n",
              "          await google.colab.output.renderOutput(dataTable, element);\n",
              "          const docLink = document.createElement('div');\n",
              "          docLink.innerHTML = docLinkHtml;\n",
              "          element.appendChild(docLink);\n",
              "        }\n",
              "      </script>\n",
              "    </div>\n",
              "  </div>\n",
              "  "
            ]
          },
          "metadata": {},
          "execution_count": 34
        }
      ],
      "source": [
        "mydf"
      ]
    },
    {
      "cell_type": "markdown",
      "metadata": {
        "id": "WP4XGmm1xa_6"
      },
      "source": [
        "#### (3)\n",
        "\n",
        "Notice that the last value of snowfall is \"trace\" (a small amount of snow, but no measurable accumulation).  Unfortunately, this isn't very helpful -- we cannot take the average (or many of the other summary statistics) of a string."
      ]
    },
    {
      "cell_type": "code",
      "execution_count": null,
      "metadata": {
        "id": "_lPtu1Zoxa_6",
        "outputId": "0c8bdf47-47ab-4cf6-da41-454cfe2d8627",
        "colab": {
          "base_uri": "https://localhost:8080/",
          "height": 312
        }
      },
      "outputs": [
        {
          "output_type": "error",
          "ename": "TypeError",
          "evalue": "ignored",
          "traceback": [
            "\u001b[0;31m---------------------------------------------------------------------------\u001b[0m",
            "\u001b[0;31mTypeError\u001b[0m                                 Traceback (most recent call last)",
            "\u001b[0;32m<ipython-input-29-07fbbb601956>\u001b[0m in \u001b[0;36m<module>\u001b[0;34m\u001b[0m\n\u001b[0;32m----> 1\u001b[0;31m \u001b[0mmydf\u001b[0m\u001b[0;34m[\u001b[0m\u001b[0;34m'snowfall'\u001b[0m\u001b[0;34m]\u001b[0m\u001b[0;34m.\u001b[0m\u001b[0mmean\u001b[0m\u001b[0;34m(\u001b[0m\u001b[0;34m)\u001b[0m\u001b[0;34m\u001b[0m\u001b[0;34m\u001b[0m\u001b[0m\n\u001b[0m",
            "\u001b[0;32m/usr/local/lib/python3.8/dist-packages/pandas/core/generic.py\u001b[0m in \u001b[0;36mmean\u001b[0;34m(self, axis, skipna, level, numeric_only, **kwargs)\u001b[0m\n\u001b[1;32m  10749\u001b[0m         )\n\u001b[1;32m  10750\u001b[0m         \u001b[0;32mdef\u001b[0m \u001b[0mmean\u001b[0m\u001b[0;34m(\u001b[0m\u001b[0mself\u001b[0m\u001b[0;34m,\u001b[0m \u001b[0maxis\u001b[0m\u001b[0;34m=\u001b[0m\u001b[0;32mNone\u001b[0m\u001b[0;34m,\u001b[0m \u001b[0mskipna\u001b[0m\u001b[0;34m=\u001b[0m\u001b[0;32mNone\u001b[0m\u001b[0;34m,\u001b[0m \u001b[0mlevel\u001b[0m\u001b[0;34m=\u001b[0m\u001b[0;32mNone\u001b[0m\u001b[0;34m,\u001b[0m \u001b[0mnumeric_only\u001b[0m\u001b[0;34m=\u001b[0m\u001b[0;32mNone\u001b[0m\u001b[0;34m,\u001b[0m \u001b[0;34m**\u001b[0m\u001b[0mkwargs\u001b[0m\u001b[0;34m)\u001b[0m\u001b[0;34m:\u001b[0m\u001b[0;34m\u001b[0m\u001b[0;34m\u001b[0m\u001b[0m\n\u001b[0;32m> 10751\u001b[0;31m             \u001b[0;32mreturn\u001b[0m \u001b[0mNDFrame\u001b[0m\u001b[0;34m.\u001b[0m\u001b[0mmean\u001b[0m\u001b[0;34m(\u001b[0m\u001b[0mself\u001b[0m\u001b[0;34m,\u001b[0m \u001b[0maxis\u001b[0m\u001b[0;34m,\u001b[0m \u001b[0mskipna\u001b[0m\u001b[0;34m,\u001b[0m \u001b[0mlevel\u001b[0m\u001b[0;34m,\u001b[0m \u001b[0mnumeric_only\u001b[0m\u001b[0;34m,\u001b[0m \u001b[0;34m**\u001b[0m\u001b[0mkwargs\u001b[0m\u001b[0;34m)\u001b[0m\u001b[0;34m\u001b[0m\u001b[0;34m\u001b[0m\u001b[0m\n\u001b[0m\u001b[1;32m  10752\u001b[0m \u001b[0;34m\u001b[0m\u001b[0m\n\u001b[1;32m  10753\u001b[0m         \u001b[0msetattr\u001b[0m\u001b[0;34m(\u001b[0m\u001b[0mcls\u001b[0m\u001b[0;34m,\u001b[0m \u001b[0;34m\"mean\"\u001b[0m\u001b[0;34m,\u001b[0m \u001b[0mmean\u001b[0m\u001b[0;34m)\u001b[0m\u001b[0;34m\u001b[0m\u001b[0;34m\u001b[0m\u001b[0m\n",
            "\u001b[0;32m/usr/local/lib/python3.8/dist-packages/pandas/core/generic.py\u001b[0m in \u001b[0;36mmean\u001b[0;34m(self, axis, skipna, level, numeric_only, **kwargs)\u001b[0m\n\u001b[1;32m  10367\u001b[0m \u001b[0;34m\u001b[0m\u001b[0m\n\u001b[1;32m  10368\u001b[0m     \u001b[0;32mdef\u001b[0m \u001b[0mmean\u001b[0m\u001b[0;34m(\u001b[0m\u001b[0mself\u001b[0m\u001b[0;34m,\u001b[0m \u001b[0maxis\u001b[0m\u001b[0;34m=\u001b[0m\u001b[0;32mNone\u001b[0m\u001b[0;34m,\u001b[0m \u001b[0mskipna\u001b[0m\u001b[0;34m=\u001b[0m\u001b[0;32mNone\u001b[0m\u001b[0;34m,\u001b[0m \u001b[0mlevel\u001b[0m\u001b[0;34m=\u001b[0m\u001b[0;32mNone\u001b[0m\u001b[0;34m,\u001b[0m \u001b[0mnumeric_only\u001b[0m\u001b[0;34m=\u001b[0m\u001b[0;32mNone\u001b[0m\u001b[0;34m,\u001b[0m \u001b[0;34m**\u001b[0m\u001b[0mkwargs\u001b[0m\u001b[0;34m)\u001b[0m\u001b[0;34m:\u001b[0m\u001b[0;34m\u001b[0m\u001b[0;34m\u001b[0m\u001b[0m\n\u001b[0;32m> 10369\u001b[0;31m         return self._stat_function(\n\u001b[0m\u001b[1;32m  10370\u001b[0m             \u001b[0;34m\"mean\"\u001b[0m\u001b[0;34m,\u001b[0m \u001b[0mnanops\u001b[0m\u001b[0;34m.\u001b[0m\u001b[0mnanmean\u001b[0m\u001b[0;34m,\u001b[0m \u001b[0maxis\u001b[0m\u001b[0;34m,\u001b[0m \u001b[0mskipna\u001b[0m\u001b[0;34m,\u001b[0m \u001b[0mlevel\u001b[0m\u001b[0;34m,\u001b[0m \u001b[0mnumeric_only\u001b[0m\u001b[0;34m,\u001b[0m \u001b[0;34m**\u001b[0m\u001b[0mkwargs\u001b[0m\u001b[0;34m\u001b[0m\u001b[0;34m\u001b[0m\u001b[0m\n\u001b[1;32m  10371\u001b[0m         )\n",
            "\u001b[0;32m/usr/local/lib/python3.8/dist-packages/pandas/core/generic.py\u001b[0m in \u001b[0;36m_stat_function\u001b[0;34m(self, name, func, axis, skipna, level, numeric_only, **kwargs)\u001b[0m\n\u001b[1;32m  10352\u001b[0m                 \u001b[0mname\u001b[0m\u001b[0;34m,\u001b[0m \u001b[0maxis\u001b[0m\u001b[0;34m=\u001b[0m\u001b[0maxis\u001b[0m\u001b[0;34m,\u001b[0m \u001b[0mlevel\u001b[0m\u001b[0;34m=\u001b[0m\u001b[0mlevel\u001b[0m\u001b[0;34m,\u001b[0m \u001b[0mskipna\u001b[0m\u001b[0;34m=\u001b[0m\u001b[0mskipna\u001b[0m\u001b[0;34m,\u001b[0m \u001b[0mnumeric_only\u001b[0m\u001b[0;34m=\u001b[0m\u001b[0mnumeric_only\u001b[0m\u001b[0;34m\u001b[0m\u001b[0;34m\u001b[0m\u001b[0m\n\u001b[1;32m  10353\u001b[0m             )\n\u001b[0;32m> 10354\u001b[0;31m         return self._reduce(\n\u001b[0m\u001b[1;32m  10355\u001b[0m             \u001b[0mfunc\u001b[0m\u001b[0;34m,\u001b[0m \u001b[0mname\u001b[0m\u001b[0;34m=\u001b[0m\u001b[0mname\u001b[0m\u001b[0;34m,\u001b[0m \u001b[0maxis\u001b[0m\u001b[0;34m=\u001b[0m\u001b[0maxis\u001b[0m\u001b[0;34m,\u001b[0m \u001b[0mskipna\u001b[0m\u001b[0;34m=\u001b[0m\u001b[0mskipna\u001b[0m\u001b[0;34m,\u001b[0m \u001b[0mnumeric_only\u001b[0m\u001b[0;34m=\u001b[0m\u001b[0mnumeric_only\u001b[0m\u001b[0;34m\u001b[0m\u001b[0;34m\u001b[0m\u001b[0m\n\u001b[1;32m  10356\u001b[0m         )\n",
            "\u001b[0;32m/usr/local/lib/python3.8/dist-packages/pandas/core/series.py\u001b[0m in \u001b[0;36m_reduce\u001b[0;34m(self, op, name, axis, skipna, numeric_only, filter_type, **kwds)\u001b[0m\n\u001b[1;32m   4390\u001b[0m                 )\n\u001b[1;32m   4391\u001b[0m             \u001b[0;32mwith\u001b[0m \u001b[0mnp\u001b[0m\u001b[0;34m.\u001b[0m\u001b[0merrstate\u001b[0m\u001b[0;34m(\u001b[0m\u001b[0mall\u001b[0m\u001b[0;34m=\u001b[0m\u001b[0;34m\"ignore\"\u001b[0m\u001b[0;34m)\u001b[0m\u001b[0;34m:\u001b[0m\u001b[0;34m\u001b[0m\u001b[0;34m\u001b[0m\u001b[0m\n\u001b[0;32m-> 4392\u001b[0;31m                 \u001b[0;32mreturn\u001b[0m \u001b[0mop\u001b[0m\u001b[0;34m(\u001b[0m\u001b[0mdelegate\u001b[0m\u001b[0;34m,\u001b[0m \u001b[0mskipna\u001b[0m\u001b[0;34m=\u001b[0m\u001b[0mskipna\u001b[0m\u001b[0;34m,\u001b[0m \u001b[0;34m**\u001b[0m\u001b[0mkwds\u001b[0m\u001b[0;34m)\u001b[0m\u001b[0;34m\u001b[0m\u001b[0;34m\u001b[0m\u001b[0m\n\u001b[0m\u001b[1;32m   4393\u001b[0m \u001b[0;34m\u001b[0m\u001b[0m\n\u001b[1;32m   4394\u001b[0m     def _reindex_indexer(\n",
            "\u001b[0;32m/usr/local/lib/python3.8/dist-packages/pandas/core/nanops.py\u001b[0m in \u001b[0;36m_f\u001b[0;34m(*args, **kwargs)\u001b[0m\n\u001b[1;32m     92\u001b[0m             \u001b[0;32mtry\u001b[0m\u001b[0;34m:\u001b[0m\u001b[0;34m\u001b[0m\u001b[0;34m\u001b[0m\u001b[0m\n\u001b[1;32m     93\u001b[0m                 \u001b[0;32mwith\u001b[0m \u001b[0mnp\u001b[0m\u001b[0;34m.\u001b[0m\u001b[0merrstate\u001b[0m\u001b[0;34m(\u001b[0m\u001b[0minvalid\u001b[0m\u001b[0;34m=\u001b[0m\u001b[0;34m\"ignore\"\u001b[0m\u001b[0;34m)\u001b[0m\u001b[0;34m:\u001b[0m\u001b[0;34m\u001b[0m\u001b[0;34m\u001b[0m\u001b[0m\n\u001b[0;32m---> 94\u001b[0;31m                     \u001b[0;32mreturn\u001b[0m \u001b[0mf\u001b[0m\u001b[0;34m(\u001b[0m\u001b[0;34m*\u001b[0m\u001b[0margs\u001b[0m\u001b[0;34m,\u001b[0m \u001b[0;34m**\u001b[0m\u001b[0mkwargs\u001b[0m\u001b[0;34m)\u001b[0m\u001b[0;34m\u001b[0m\u001b[0;34m\u001b[0m\u001b[0m\n\u001b[0m\u001b[1;32m     95\u001b[0m             \u001b[0;32mexcept\u001b[0m \u001b[0mValueError\u001b[0m \u001b[0;32mas\u001b[0m \u001b[0me\u001b[0m\u001b[0;34m:\u001b[0m\u001b[0;34m\u001b[0m\u001b[0;34m\u001b[0m\u001b[0m\n\u001b[1;32m     96\u001b[0m                 \u001b[0;31m# we want to transform an object array\u001b[0m\u001b[0;34m\u001b[0m\u001b[0;34m\u001b[0m\u001b[0;34m\u001b[0m\u001b[0m\n",
            "\u001b[0;32m/usr/local/lib/python3.8/dist-packages/pandas/core/nanops.py\u001b[0m in \u001b[0;36mf\u001b[0;34m(values, axis, skipna, **kwds)\u001b[0m\n\u001b[1;32m    154\u001b[0m                     \u001b[0mresult\u001b[0m \u001b[0;34m=\u001b[0m \u001b[0malt\u001b[0m\u001b[0;34m(\u001b[0m\u001b[0mvalues\u001b[0m\u001b[0;34m,\u001b[0m \u001b[0maxis\u001b[0m\u001b[0;34m=\u001b[0m\u001b[0maxis\u001b[0m\u001b[0;34m,\u001b[0m \u001b[0mskipna\u001b[0m\u001b[0;34m=\u001b[0m\u001b[0mskipna\u001b[0m\u001b[0;34m,\u001b[0m \u001b[0;34m**\u001b[0m\u001b[0mkwds\u001b[0m\u001b[0;34m)\u001b[0m\u001b[0;34m\u001b[0m\u001b[0;34m\u001b[0m\u001b[0m\n\u001b[1;32m    155\u001b[0m             \u001b[0;32melse\u001b[0m\u001b[0;34m:\u001b[0m\u001b[0;34m\u001b[0m\u001b[0;34m\u001b[0m\u001b[0m\n\u001b[0;32m--> 156\u001b[0;31m                 \u001b[0mresult\u001b[0m \u001b[0;34m=\u001b[0m \u001b[0malt\u001b[0m\u001b[0;34m(\u001b[0m\u001b[0mvalues\u001b[0m\u001b[0;34m,\u001b[0m \u001b[0maxis\u001b[0m\u001b[0;34m=\u001b[0m\u001b[0maxis\u001b[0m\u001b[0;34m,\u001b[0m \u001b[0mskipna\u001b[0m\u001b[0;34m=\u001b[0m\u001b[0mskipna\u001b[0m\u001b[0;34m,\u001b[0m \u001b[0;34m**\u001b[0m\u001b[0mkwds\u001b[0m\u001b[0;34m)\u001b[0m\u001b[0;34m\u001b[0m\u001b[0;34m\u001b[0m\u001b[0m\n\u001b[0m\u001b[1;32m    157\u001b[0m \u001b[0;34m\u001b[0m\u001b[0m\n\u001b[1;32m    158\u001b[0m             \u001b[0;32mreturn\u001b[0m \u001b[0mresult\u001b[0m\u001b[0;34m\u001b[0m\u001b[0;34m\u001b[0m\u001b[0m\n",
            "\u001b[0;32m/usr/local/lib/python3.8/dist-packages/pandas/core/nanops.py\u001b[0m in \u001b[0;36mnew_func\u001b[0;34m(values, axis, skipna, mask, **kwargs)\u001b[0m\n\u001b[1;32m    409\u001b[0m             \u001b[0mmask\u001b[0m \u001b[0;34m=\u001b[0m \u001b[0misna\u001b[0m\u001b[0;34m(\u001b[0m\u001b[0mvalues\u001b[0m\u001b[0;34m)\u001b[0m\u001b[0;34m\u001b[0m\u001b[0;34m\u001b[0m\u001b[0m\n\u001b[1;32m    410\u001b[0m \u001b[0;34m\u001b[0m\u001b[0m\n\u001b[0;32m--> 411\u001b[0;31m         \u001b[0mresult\u001b[0m \u001b[0;34m=\u001b[0m \u001b[0mfunc\u001b[0m\u001b[0;34m(\u001b[0m\u001b[0mvalues\u001b[0m\u001b[0;34m,\u001b[0m \u001b[0maxis\u001b[0m\u001b[0;34m=\u001b[0m\u001b[0maxis\u001b[0m\u001b[0;34m,\u001b[0m \u001b[0mskipna\u001b[0m\u001b[0;34m=\u001b[0m\u001b[0mskipna\u001b[0m\u001b[0;34m,\u001b[0m \u001b[0mmask\u001b[0m\u001b[0;34m=\u001b[0m\u001b[0mmask\u001b[0m\u001b[0;34m,\u001b[0m \u001b[0;34m**\u001b[0m\u001b[0mkwargs\u001b[0m\u001b[0;34m)\u001b[0m\u001b[0;34m\u001b[0m\u001b[0;34m\u001b[0m\u001b[0m\n\u001b[0m\u001b[1;32m    412\u001b[0m \u001b[0;34m\u001b[0m\u001b[0m\n\u001b[1;32m    413\u001b[0m         \u001b[0;32mif\u001b[0m \u001b[0mdatetimelike\u001b[0m\u001b[0;34m:\u001b[0m\u001b[0;34m\u001b[0m\u001b[0;34m\u001b[0m\u001b[0m\n",
            "\u001b[0;32m/usr/local/lib/python3.8/dist-packages/pandas/core/nanops.py\u001b[0m in \u001b[0;36mnanmean\u001b[0;34m(values, axis, skipna, mask)\u001b[0m\n\u001b[1;32m    664\u001b[0m \u001b[0;34m\u001b[0m\u001b[0m\n\u001b[1;32m    665\u001b[0m     \u001b[0mcount\u001b[0m \u001b[0;34m=\u001b[0m \u001b[0m_get_counts\u001b[0m\u001b[0;34m(\u001b[0m\u001b[0mvalues\u001b[0m\u001b[0;34m.\u001b[0m\u001b[0mshape\u001b[0m\u001b[0;34m,\u001b[0m \u001b[0mmask\u001b[0m\u001b[0;34m,\u001b[0m \u001b[0maxis\u001b[0m\u001b[0;34m,\u001b[0m \u001b[0mdtype\u001b[0m\u001b[0;34m=\u001b[0m\u001b[0mdtype_count\u001b[0m\u001b[0;34m)\u001b[0m\u001b[0;34m\u001b[0m\u001b[0;34m\u001b[0m\u001b[0m\n\u001b[0;32m--> 666\u001b[0;31m     \u001b[0mthe_sum\u001b[0m \u001b[0;34m=\u001b[0m \u001b[0m_ensure_numeric\u001b[0m\u001b[0;34m(\u001b[0m\u001b[0mvalues\u001b[0m\u001b[0;34m.\u001b[0m\u001b[0msum\u001b[0m\u001b[0;34m(\u001b[0m\u001b[0maxis\u001b[0m\u001b[0;34m,\u001b[0m \u001b[0mdtype\u001b[0m\u001b[0;34m=\u001b[0m\u001b[0mdtype_sum\u001b[0m\u001b[0;34m)\u001b[0m\u001b[0;34m)\u001b[0m\u001b[0;34m\u001b[0m\u001b[0;34m\u001b[0m\u001b[0m\n\u001b[0m\u001b[1;32m    667\u001b[0m \u001b[0;34m\u001b[0m\u001b[0m\n\u001b[1;32m    668\u001b[0m     \u001b[0;32mif\u001b[0m \u001b[0maxis\u001b[0m \u001b[0;32mis\u001b[0m \u001b[0;32mnot\u001b[0m \u001b[0;32mNone\u001b[0m \u001b[0;32mand\u001b[0m \u001b[0mgetattr\u001b[0m\u001b[0;34m(\u001b[0m\u001b[0mthe_sum\u001b[0m\u001b[0;34m,\u001b[0m \u001b[0;34m\"ndim\"\u001b[0m\u001b[0;34m,\u001b[0m \u001b[0;32mFalse\u001b[0m\u001b[0;34m)\u001b[0m\u001b[0;34m:\u001b[0m\u001b[0;34m\u001b[0m\u001b[0;34m\u001b[0m\u001b[0m\n",
            "\u001b[0;32m/usr/local/lib/python3.8/dist-packages/numpy/core/_methods.py\u001b[0m in \u001b[0;36m_sum\u001b[0;34m(a, axis, dtype, out, keepdims, initial, where)\u001b[0m\n\u001b[1;32m     46\u001b[0m def _sum(a, axis=None, dtype=None, out=None, keepdims=False,\n\u001b[1;32m     47\u001b[0m          initial=_NoValue, where=True):\n\u001b[0;32m---> 48\u001b[0;31m     \u001b[0;32mreturn\u001b[0m \u001b[0mumr_sum\u001b[0m\u001b[0;34m(\u001b[0m\u001b[0ma\u001b[0m\u001b[0;34m,\u001b[0m \u001b[0maxis\u001b[0m\u001b[0;34m,\u001b[0m \u001b[0mdtype\u001b[0m\u001b[0;34m,\u001b[0m \u001b[0mout\u001b[0m\u001b[0;34m,\u001b[0m \u001b[0mkeepdims\u001b[0m\u001b[0;34m,\u001b[0m \u001b[0minitial\u001b[0m\u001b[0;34m,\u001b[0m \u001b[0mwhere\u001b[0m\u001b[0;34m)\u001b[0m\u001b[0;34m\u001b[0m\u001b[0;34m\u001b[0m\u001b[0m\n\u001b[0m\u001b[1;32m     49\u001b[0m \u001b[0;34m\u001b[0m\u001b[0m\n\u001b[1;32m     50\u001b[0m def _prod(a, axis=None, dtype=None, out=None, keepdims=False,\n",
            "\u001b[0;31mTypeError\u001b[0m: unsupported operand type(s) for +: 'float' and 'str'"
          ]
        }
      ],
      "source": [
        "mydf['snowfall'].mean()"
      ]
    },
    {
      "cell_type": "markdown",
      "metadata": {
        "id": "5V_zVq73xa_6"
      },
      "source": [
        "Since \"trace\" means a small amount, it's fairly reasonable to represent it as 0.  So we're going to construct a function that we can `apply()` to each entry.  Let's check to see if the entry is \"trace\" and if so, set it to 0.0."
      ]
    },
    {
      "cell_type": "code",
      "execution_count": null,
      "metadata": {
        "id": "TwiN_85Rxa_6",
        "outputId": "6a7c34fa-367d-496e-f1ba-345fa97166ed",
        "colab": {
          "base_uri": "https://localhost:8080/",
          "height": 175
        }
      },
      "outputs": [
        {
          "output_type": "execute_result",
          "data": {
            "text/plain": [
              "            temperature  snowfall\n",
              "month                            \n",
              "2019-01-01           20      12.5\n",
              "2019-02-01           30      15.0\n",
              "2019-03-01           40       0.0"
            ],
            "text/html": [
              "\n",
              "  <div id=\"df-7928ee76-f8ae-4ef5-8a29-75d1a32bd426\">\n",
              "    <div class=\"colab-df-container\">\n",
              "      <div>\n",
              "<style scoped>\n",
              "    .dataframe tbody tr th:only-of-type {\n",
              "        vertical-align: middle;\n",
              "    }\n",
              "\n",
              "    .dataframe tbody tr th {\n",
              "        vertical-align: top;\n",
              "    }\n",
              "\n",
              "    .dataframe thead th {\n",
              "        text-align: right;\n",
              "    }\n",
              "</style>\n",
              "<table border=\"1\" class=\"dataframe\">\n",
              "  <thead>\n",
              "    <tr style=\"text-align: right;\">\n",
              "      <th></th>\n",
              "      <th>temperature</th>\n",
              "      <th>snowfall</th>\n",
              "    </tr>\n",
              "    <tr>\n",
              "      <th>month</th>\n",
              "      <th></th>\n",
              "      <th></th>\n",
              "    </tr>\n",
              "  </thead>\n",
              "  <tbody>\n",
              "    <tr>\n",
              "      <th>2019-01-01</th>\n",
              "      <td>20</td>\n",
              "      <td>12.5</td>\n",
              "    </tr>\n",
              "    <tr>\n",
              "      <th>2019-02-01</th>\n",
              "      <td>30</td>\n",
              "      <td>15.0</td>\n",
              "    </tr>\n",
              "    <tr>\n",
              "      <th>2019-03-01</th>\n",
              "      <td>40</td>\n",
              "      <td>0.0</td>\n",
              "    </tr>\n",
              "  </tbody>\n",
              "</table>\n",
              "</div>\n",
              "      <button class=\"colab-df-convert\" onclick=\"convertToInteractive('df-7928ee76-f8ae-4ef5-8a29-75d1a32bd426')\"\n",
              "              title=\"Convert this dataframe to an interactive table.\"\n",
              "              style=\"display:none;\">\n",
              "        \n",
              "  <svg xmlns=\"http://www.w3.org/2000/svg\" height=\"24px\"viewBox=\"0 0 24 24\"\n",
              "       width=\"24px\">\n",
              "    <path d=\"M0 0h24v24H0V0z\" fill=\"none\"/>\n",
              "    <path d=\"M18.56 5.44l.94 2.06.94-2.06 2.06-.94-2.06-.94-.94-2.06-.94 2.06-2.06.94zm-11 1L8.5 8.5l.94-2.06 2.06-.94-2.06-.94L8.5 2.5l-.94 2.06-2.06.94zm10 10l.94 2.06.94-2.06 2.06-.94-2.06-.94-.94-2.06-.94 2.06-2.06.94z\"/><path d=\"M17.41 7.96l-1.37-1.37c-.4-.4-.92-.59-1.43-.59-.52 0-1.04.2-1.43.59L10.3 9.45l-7.72 7.72c-.78.78-.78 2.05 0 2.83L4 21.41c.39.39.9.59 1.41.59.51 0 1.02-.2 1.41-.59l7.78-7.78 2.81-2.81c.8-.78.8-2.07 0-2.86zM5.41 20L4 18.59l7.72-7.72 1.47 1.35L5.41 20z\"/>\n",
              "  </svg>\n",
              "      </button>\n",
              "      \n",
              "  <style>\n",
              "    .colab-df-container {\n",
              "      display:flex;\n",
              "      flex-wrap:wrap;\n",
              "      gap: 12px;\n",
              "    }\n",
              "\n",
              "    .colab-df-convert {\n",
              "      background-color: #E8F0FE;\n",
              "      border: none;\n",
              "      border-radius: 50%;\n",
              "      cursor: pointer;\n",
              "      display: none;\n",
              "      fill: #1967D2;\n",
              "      height: 32px;\n",
              "      padding: 0 0 0 0;\n",
              "      width: 32px;\n",
              "    }\n",
              "\n",
              "    .colab-df-convert:hover {\n",
              "      background-color: #E2EBFA;\n",
              "      box-shadow: 0px 1px 2px rgba(60, 64, 67, 0.3), 0px 1px 3px 1px rgba(60, 64, 67, 0.15);\n",
              "      fill: #174EA6;\n",
              "    }\n",
              "\n",
              "    [theme=dark] .colab-df-convert {\n",
              "      background-color: #3B4455;\n",
              "      fill: #D2E3FC;\n",
              "    }\n",
              "\n",
              "    [theme=dark] .colab-df-convert:hover {\n",
              "      background-color: #434B5C;\n",
              "      box-shadow: 0px 1px 3px 1px rgba(0, 0, 0, 0.15);\n",
              "      filter: drop-shadow(0px 1px 2px rgba(0, 0, 0, 0.3));\n",
              "      fill: #FFFFFF;\n",
              "    }\n",
              "  </style>\n",
              "\n",
              "      <script>\n",
              "        const buttonEl =\n",
              "          document.querySelector('#df-7928ee76-f8ae-4ef5-8a29-75d1a32bd426 button.colab-df-convert');\n",
              "        buttonEl.style.display =\n",
              "          google.colab.kernel.accessAllowed ? 'block' : 'none';\n",
              "\n",
              "        async function convertToInteractive(key) {\n",
              "          const element = document.querySelector('#df-7928ee76-f8ae-4ef5-8a29-75d1a32bd426');\n",
              "          const dataTable =\n",
              "            await google.colab.kernel.invokeFunction('convertToInteractive',\n",
              "                                                     [key], {});\n",
              "          if (!dataTable) return;\n",
              "\n",
              "          const docLinkHtml = 'Like what you see? Visit the ' +\n",
              "            '<a target=\"_blank\" href=https://colab.research.google.com/notebooks/data_table.ipynb>data table notebook</a>'\n",
              "            + ' to learn more about interactive tables.';\n",
              "          element.innerHTML = '';\n",
              "          dataTable['output_type'] = 'display_data';\n",
              "          await google.colab.output.renderOutput(dataTable, element);\n",
              "          const docLink = document.createElement('div');\n",
              "          docLink.innerHTML = docLinkHtml;\n",
              "          element.appendChild(docLink);\n",
              "        }\n",
              "      </script>\n",
              "    </div>\n",
              "  </div>\n",
              "  "
            ]
          },
          "metadata": {},
          "execution_count": 30
        }
      ],
      "source": [
        "def f(x):\n",
        "    if x == 'trace':\n",
        "        return 0.0\n",
        "    else:\n",
        "        return x\n",
        "\n",
        "mydf['snowfall'] = mydf['snowfall'].apply(f)\n",
        "mydf"
      ]
    },
    {
      "cell_type": "markdown",
      "source": [
        "The previous can also be done with the `replace` methods in pandas"
      ],
      "metadata": {
        "id": "FrrD7J9F3HUz"
      }
    },
    {
      "cell_type": "code",
      "source": [
        "mydf['snowfall'] = mydf['snowfall'].replace('trace', 0)"
      ],
      "metadata": {
        "id": "HO3K1Hsx3OmX"
      },
      "execution_count": null,
      "outputs": []
    },
    {
      "cell_type": "markdown",
      "metadata": {
        "id": "LyPOQ1m8xa_7"
      },
      "source": [
        "Now that \"trace\" is removed, we can take the average."
      ]
    },
    {
      "cell_type": "code",
      "execution_count": null,
      "metadata": {
        "id": "1xEMGK3Txa_7",
        "outputId": "e06433b2-48a7-47ed-c524-eb65027b034e",
        "colab": {
          "base_uri": "https://localhost:8080/"
        }
      },
      "outputs": [
        {
          "output_type": "execute_result",
          "data": {
            "text/plain": [
              "9.166666666666666"
            ]
          },
          "metadata": {},
          "execution_count": 31
        }
      ],
      "source": [
        "mydf['snowfall'].mean()"
      ]
    },
    {
      "cell_type": "markdown",
      "metadata": {
        "id": "GVopKaSCxa_7"
      },
      "source": [
        "## 1. The fuel economy dataset\n",
        "\n",
        "Using the practice from the `mydf` example, let's take a look at the `ecodf` dataframe we obtained above from importing the fuel economy dataset."
      ]
    },
    {
      "cell_type": "code",
      "execution_count": null,
      "metadata": {
        "id": "3I76-TTwxa_7",
        "outputId": "d4efe177-9aae-4b0c-c3a6-89dfdf6c02fd",
        "colab": {
          "base_uri": "https://localhost:8080/"
        }
      },
      "outputs": [
        {
          "output_type": "stream",
          "name": "stdout",
          "text": [
            "<class 'pandas.core.frame.DataFrame'>\n",
            "RangeIndex: 384 entries, 0 to 383\n",
            "Data columns (total 13 columns):\n",
            " #   Column                      Non-Null Count  Dtype  \n",
            "---  ------                      --------------  -----  \n",
            " 0   Model Year                  384 non-null    object \n",
            " 1   Regulatory Class            384 non-null    object \n",
            " 2   Vehicle Type                384 non-null    object \n",
            " 3   Production Share            384 non-null    object \n",
            " 4   Real-World MPG              384 non-null    float64\n",
            " 5   Real-World MPG_City         384 non-null    float64\n",
            " 6   Real-World MPG_Hwy          384 non-null    float64\n",
            " 7   Real-World CO2 (g/mi)       384 non-null    float64\n",
            " 8   Real-World CO2_City (g/mi)  384 non-null    float64\n",
            " 9   Real-World CO2_Hwy (g/mi)   384 non-null    float64\n",
            " 10  Weight (lbs)                384 non-null    float64\n",
            " 11  Horsepower (HP)             384 non-null    float64\n",
            " 12  Footprint (sq. ft.)         384 non-null    object \n",
            "dtypes: float64(8), object(5)\n",
            "memory usage: 39.1+ KB\n"
          ]
        }
      ],
      "source": [
        "ecodf.info()"
      ]
    },
    {
      "cell_type": "code",
      "execution_count": null,
      "metadata": {
        "id": "k7E1enCaxa_7",
        "outputId": "37c4e098-c69f-46df-a6fc-d24886b384b2",
        "colab": {
          "base_uri": "https://localhost:8080/",
          "height": 589
        }
      },
      "outputs": [
        {
          "output_type": "execute_result",
          "data": {
            "text/plain": [
              "       Model Year Regulatory Class Vehicle Type Production Share  \\\n",
              "0            1975              All          All         1.000000   \n",
              "1            1975              Car      All Car         0.806646   \n",
              "2            1975              Car  Sedan/Wagon         0.805645   \n",
              "3            1975            Truck    All Truck         0.193354   \n",
              "4            1975            Truck       Pickup         0.131322   \n",
              "..            ...              ...          ...              ...   \n",
              "379  Prelim. 2022              All          All                -   \n",
              "380  Prelim. 2022            Truck  Minivan/Van                -   \n",
              "381  Prelim. 2022            Truck    Truck SUV                -   \n",
              "382  Prelim. 2022            Truck    All Truck                -   \n",
              "383  Prelim. 2022            Truck       Pickup                -   \n",
              "\n",
              "     Real-World MPG  Real-World MPG_City  Real-World MPG_Hwy  \\\n",
              "0          13.05970             12.01552            14.61167   \n",
              "1          13.45483             12.31413            15.17266   \n",
              "2          13.45833             12.31742            15.17643   \n",
              "3          11.63431             10.91165            12.65900   \n",
              "4          11.91476             11.07827            13.12613   \n",
              "..              ...                  ...                 ...   \n",
              "379        26.35965             23.17949            29.40284   \n",
              "380        25.59317             22.10621            29.04996   \n",
              "381        24.75038             21.90441            27.43990   \n",
              "382        23.40912             20.60126            26.09186   \n",
              "383        20.06288             17.49366            22.56268   \n",
              "\n",
              "     Real-World CO2 (g/mi)  Real-World CO2_City (g/mi)  \\\n",
              "0                680.59612                   739.73800   \n",
              "1                660.63740                   721.82935   \n",
              "2                660.46603                   721.63673   \n",
              "3                763.86134                   814.45060   \n",
              "4                745.88139                   802.20090   \n",
              "..                     ...                         ...   \n",
              "379              330.81160                   377.18480   \n",
              "380              344.29378                   398.02669   \n",
              "381              354.13291                   400.54552   \n",
              "382              375.92690                   427.58585   \n",
              "383              442.43019                   508.03215   \n",
              "\n",
              "     Real-World CO2_Hwy (g/mi)  Weight (lbs)  Horsepower (HP)  \\\n",
              "0                    608.31160      4060.399         137.3346   \n",
              "1                    585.84724      4057.494         136.1964   \n",
              "2                    585.70185      4057.565         136.2256   \n",
              "3                    702.03002      4072.518         142.0826   \n",
              "4                    677.04643      4011.977         140.9365   \n",
              "..                         ...           ...              ...   \n",
              "379                  295.82831      4328.963         272.3535   \n",
              "380                  303.75842      4557.279         245.0592   \n",
              "381                  319.11989      4534.261         268.1756   \n",
              "382                  336.95612      4713.739         284.8583   \n",
              "383                  392.94099      5239.220         339.0876   \n",
              "\n",
              "    Footprint (sq. ft.)  \n",
              "0                     -  \n",
              "1                     -  \n",
              "2                     -  \n",
              "3                     -  \n",
              "4                     -  \n",
              "..                  ...  \n",
              "379            51.67437  \n",
              "380            56.21571  \n",
              "381            50.02365  \n",
              "382            54.37582  \n",
              "383            65.91698  \n",
              "\n",
              "[384 rows x 13 columns]"
            ],
            "text/html": [
              "\n",
              "  <div id=\"df-c19a3f60-5f73-441d-af9e-1bc0356f3ac3\">\n",
              "    <div class=\"colab-df-container\">\n",
              "      <div>\n",
              "<style scoped>\n",
              "    .dataframe tbody tr th:only-of-type {\n",
              "        vertical-align: middle;\n",
              "    }\n",
              "\n",
              "    .dataframe tbody tr th {\n",
              "        vertical-align: top;\n",
              "    }\n",
              "\n",
              "    .dataframe thead th {\n",
              "        text-align: right;\n",
              "    }\n",
              "</style>\n",
              "<table border=\"1\" class=\"dataframe\">\n",
              "  <thead>\n",
              "    <tr style=\"text-align: right;\">\n",
              "      <th></th>\n",
              "      <th>Model Year</th>\n",
              "      <th>Regulatory Class</th>\n",
              "      <th>Vehicle Type</th>\n",
              "      <th>Production Share</th>\n",
              "      <th>Real-World MPG</th>\n",
              "      <th>Real-World MPG_City</th>\n",
              "      <th>Real-World MPG_Hwy</th>\n",
              "      <th>Real-World CO2 (g/mi)</th>\n",
              "      <th>Real-World CO2_City (g/mi)</th>\n",
              "      <th>Real-World CO2_Hwy (g/mi)</th>\n",
              "      <th>Weight (lbs)</th>\n",
              "      <th>Horsepower (HP)</th>\n",
              "      <th>Footprint (sq. ft.)</th>\n",
              "    </tr>\n",
              "  </thead>\n",
              "  <tbody>\n",
              "    <tr>\n",
              "      <th>0</th>\n",
              "      <td>1975</td>\n",
              "      <td>All</td>\n",
              "      <td>All</td>\n",
              "      <td>1.000000</td>\n",
              "      <td>13.05970</td>\n",
              "      <td>12.01552</td>\n",
              "      <td>14.61167</td>\n",
              "      <td>680.59612</td>\n",
              "      <td>739.73800</td>\n",
              "      <td>608.31160</td>\n",
              "      <td>4060.399</td>\n",
              "      <td>137.3346</td>\n",
              "      <td>-</td>\n",
              "    </tr>\n",
              "    <tr>\n",
              "      <th>1</th>\n",
              "      <td>1975</td>\n",
              "      <td>Car</td>\n",
              "      <td>All Car</td>\n",
              "      <td>0.806646</td>\n",
              "      <td>13.45483</td>\n",
              "      <td>12.31413</td>\n",
              "      <td>15.17266</td>\n",
              "      <td>660.63740</td>\n",
              "      <td>721.82935</td>\n",
              "      <td>585.84724</td>\n",
              "      <td>4057.494</td>\n",
              "      <td>136.1964</td>\n",
              "      <td>-</td>\n",
              "    </tr>\n",
              "    <tr>\n",
              "      <th>2</th>\n",
              "      <td>1975</td>\n",
              "      <td>Car</td>\n",
              "      <td>Sedan/Wagon</td>\n",
              "      <td>0.805645</td>\n",
              "      <td>13.45833</td>\n",
              "      <td>12.31742</td>\n",
              "      <td>15.17643</td>\n",
              "      <td>660.46603</td>\n",
              "      <td>721.63673</td>\n",
              "      <td>585.70185</td>\n",
              "      <td>4057.565</td>\n",
              "      <td>136.2256</td>\n",
              "      <td>-</td>\n",
              "    </tr>\n",
              "    <tr>\n",
              "      <th>3</th>\n",
              "      <td>1975</td>\n",
              "      <td>Truck</td>\n",
              "      <td>All Truck</td>\n",
              "      <td>0.193354</td>\n",
              "      <td>11.63431</td>\n",
              "      <td>10.91165</td>\n",
              "      <td>12.65900</td>\n",
              "      <td>763.86134</td>\n",
              "      <td>814.45060</td>\n",
              "      <td>702.03002</td>\n",
              "      <td>4072.518</td>\n",
              "      <td>142.0826</td>\n",
              "      <td>-</td>\n",
              "    </tr>\n",
              "    <tr>\n",
              "      <th>4</th>\n",
              "      <td>1975</td>\n",
              "      <td>Truck</td>\n",
              "      <td>Pickup</td>\n",
              "      <td>0.131322</td>\n",
              "      <td>11.91476</td>\n",
              "      <td>11.07827</td>\n",
              "      <td>13.12613</td>\n",
              "      <td>745.88139</td>\n",
              "      <td>802.20090</td>\n",
              "      <td>677.04643</td>\n",
              "      <td>4011.977</td>\n",
              "      <td>140.9365</td>\n",
              "      <td>-</td>\n",
              "    </tr>\n",
              "    <tr>\n",
              "      <th>...</th>\n",
              "      <td>...</td>\n",
              "      <td>...</td>\n",
              "      <td>...</td>\n",
              "      <td>...</td>\n",
              "      <td>...</td>\n",
              "      <td>...</td>\n",
              "      <td>...</td>\n",
              "      <td>...</td>\n",
              "      <td>...</td>\n",
              "      <td>...</td>\n",
              "      <td>...</td>\n",
              "      <td>...</td>\n",
              "      <td>...</td>\n",
              "    </tr>\n",
              "    <tr>\n",
              "      <th>379</th>\n",
              "      <td>Prelim. 2022</td>\n",
              "      <td>All</td>\n",
              "      <td>All</td>\n",
              "      <td>-</td>\n",
              "      <td>26.35965</td>\n",
              "      <td>23.17949</td>\n",
              "      <td>29.40284</td>\n",
              "      <td>330.81160</td>\n",
              "      <td>377.18480</td>\n",
              "      <td>295.82831</td>\n",
              "      <td>4328.963</td>\n",
              "      <td>272.3535</td>\n",
              "      <td>51.67437</td>\n",
              "    </tr>\n",
              "    <tr>\n",
              "      <th>380</th>\n",
              "      <td>Prelim. 2022</td>\n",
              "      <td>Truck</td>\n",
              "      <td>Minivan/Van</td>\n",
              "      <td>-</td>\n",
              "      <td>25.59317</td>\n",
              "      <td>22.10621</td>\n",
              "      <td>29.04996</td>\n",
              "      <td>344.29378</td>\n",
              "      <td>398.02669</td>\n",
              "      <td>303.75842</td>\n",
              "      <td>4557.279</td>\n",
              "      <td>245.0592</td>\n",
              "      <td>56.21571</td>\n",
              "    </tr>\n",
              "    <tr>\n",
              "      <th>381</th>\n",
              "      <td>Prelim. 2022</td>\n",
              "      <td>Truck</td>\n",
              "      <td>Truck SUV</td>\n",
              "      <td>-</td>\n",
              "      <td>24.75038</td>\n",
              "      <td>21.90441</td>\n",
              "      <td>27.43990</td>\n",
              "      <td>354.13291</td>\n",
              "      <td>400.54552</td>\n",
              "      <td>319.11989</td>\n",
              "      <td>4534.261</td>\n",
              "      <td>268.1756</td>\n",
              "      <td>50.02365</td>\n",
              "    </tr>\n",
              "    <tr>\n",
              "      <th>382</th>\n",
              "      <td>Prelim. 2022</td>\n",
              "      <td>Truck</td>\n",
              "      <td>All Truck</td>\n",
              "      <td>-</td>\n",
              "      <td>23.40912</td>\n",
              "      <td>20.60126</td>\n",
              "      <td>26.09186</td>\n",
              "      <td>375.92690</td>\n",
              "      <td>427.58585</td>\n",
              "      <td>336.95612</td>\n",
              "      <td>4713.739</td>\n",
              "      <td>284.8583</td>\n",
              "      <td>54.37582</td>\n",
              "    </tr>\n",
              "    <tr>\n",
              "      <th>383</th>\n",
              "      <td>Prelim. 2022</td>\n",
              "      <td>Truck</td>\n",
              "      <td>Pickup</td>\n",
              "      <td>-</td>\n",
              "      <td>20.06288</td>\n",
              "      <td>17.49366</td>\n",
              "      <td>22.56268</td>\n",
              "      <td>442.43019</td>\n",
              "      <td>508.03215</td>\n",
              "      <td>392.94099</td>\n",
              "      <td>5239.220</td>\n",
              "      <td>339.0876</td>\n",
              "      <td>65.91698</td>\n",
              "    </tr>\n",
              "  </tbody>\n",
              "</table>\n",
              "<p>384 rows × 13 columns</p>\n",
              "</div>\n",
              "      <button class=\"colab-df-convert\" onclick=\"convertToInteractive('df-c19a3f60-5f73-441d-af9e-1bc0356f3ac3')\"\n",
              "              title=\"Convert this dataframe to an interactive table.\"\n",
              "              style=\"display:none;\">\n",
              "        \n",
              "  <svg xmlns=\"http://www.w3.org/2000/svg\" height=\"24px\"viewBox=\"0 0 24 24\"\n",
              "       width=\"24px\">\n",
              "    <path d=\"M0 0h24v24H0V0z\" fill=\"none\"/>\n",
              "    <path d=\"M18.56 5.44l.94 2.06.94-2.06 2.06-.94-2.06-.94-.94-2.06-.94 2.06-2.06.94zm-11 1L8.5 8.5l.94-2.06 2.06-.94-2.06-.94L8.5 2.5l-.94 2.06-2.06.94zm10 10l.94 2.06.94-2.06 2.06-.94-2.06-.94-.94-2.06-.94 2.06-2.06.94z\"/><path d=\"M17.41 7.96l-1.37-1.37c-.4-.4-.92-.59-1.43-.59-.52 0-1.04.2-1.43.59L10.3 9.45l-7.72 7.72c-.78.78-.78 2.05 0 2.83L4 21.41c.39.39.9.59 1.41.59.51 0 1.02-.2 1.41-.59l7.78-7.78 2.81-2.81c.8-.78.8-2.07 0-2.86zM5.41 20L4 18.59l7.72-7.72 1.47 1.35L5.41 20z\"/>\n",
              "  </svg>\n",
              "      </button>\n",
              "      \n",
              "  <style>\n",
              "    .colab-df-container {\n",
              "      display:flex;\n",
              "      flex-wrap:wrap;\n",
              "      gap: 12px;\n",
              "    }\n",
              "\n",
              "    .colab-df-convert {\n",
              "      background-color: #E8F0FE;\n",
              "      border: none;\n",
              "      border-radius: 50%;\n",
              "      cursor: pointer;\n",
              "      display: none;\n",
              "      fill: #1967D2;\n",
              "      height: 32px;\n",
              "      padding: 0 0 0 0;\n",
              "      width: 32px;\n",
              "    }\n",
              "\n",
              "    .colab-df-convert:hover {\n",
              "      background-color: #E2EBFA;\n",
              "      box-shadow: 0px 1px 2px rgba(60, 64, 67, 0.3), 0px 1px 3px 1px rgba(60, 64, 67, 0.15);\n",
              "      fill: #174EA6;\n",
              "    }\n",
              "\n",
              "    [theme=dark] .colab-df-convert {\n",
              "      background-color: #3B4455;\n",
              "      fill: #D2E3FC;\n",
              "    }\n",
              "\n",
              "    [theme=dark] .colab-df-convert:hover {\n",
              "      background-color: #434B5C;\n",
              "      box-shadow: 0px 1px 3px 1px rgba(0, 0, 0, 0.15);\n",
              "      filter: drop-shadow(0px 1px 2px rgba(0, 0, 0, 0.3));\n",
              "      fill: #FFFFFF;\n",
              "    }\n",
              "  </style>\n",
              "\n",
              "      <script>\n",
              "        const buttonEl =\n",
              "          document.querySelector('#df-c19a3f60-5f73-441d-af9e-1bc0356f3ac3 button.colab-df-convert');\n",
              "        buttonEl.style.display =\n",
              "          google.colab.kernel.accessAllowed ? 'block' : 'none';\n",
              "\n",
              "        async function convertToInteractive(key) {\n",
              "          const element = document.querySelector('#df-c19a3f60-5f73-441d-af9e-1bc0356f3ac3');\n",
              "          const dataTable =\n",
              "            await google.colab.kernel.invokeFunction('convertToInteractive',\n",
              "                                                     [key], {});\n",
              "          if (!dataTable) return;\n",
              "\n",
              "          const docLinkHtml = 'Like what you see? Visit the ' +\n",
              "            '<a target=\"_blank\" href=https://colab.research.google.com/notebooks/data_table.ipynb>data table notebook</a>'\n",
              "            + ' to learn more about interactive tables.';\n",
              "          element.innerHTML = '';\n",
              "          dataTable['output_type'] = 'display_data';\n",
              "          await google.colab.output.renderOutput(dataTable, element);\n",
              "          const docLink = document.createElement('div');\n",
              "          docLink.innerHTML = docLinkHtml;\n",
              "          element.appendChild(docLink);\n",
              "        }\n",
              "      </script>\n",
              "    </div>\n",
              "  </div>\n",
              "  "
            ]
          },
          "metadata": {},
          "execution_count": 33
        }
      ],
      "source": [
        "ecodf"
      ]
    },
    {
      "cell_type": "markdown",
      "metadata": {
        "id": "F8LijoR7xa_8"
      },
      "source": [
        "Take a look at the columns --- we'll be considering the 'Real-World MPG' for our analysis."
      ]
    },
    {
      "cell_type": "code",
      "execution_count": null,
      "metadata": {
        "id": "jUFI-dWJxa_8",
        "outputId": "30a4dde7-4f86-4ce0-cec8-5f756a12e376",
        "colab": {
          "base_uri": "https://localhost:8080/"
        }
      },
      "outputs": [
        {
          "output_type": "execute_result",
          "data": {
            "text/plain": [
              "Index(['Model Year', 'Regulatory Class', 'Vehicle Type', 'Production Share',\n",
              "       'Real-World MPG', 'Real-World MPG_City', 'Real-World MPG_Hwy',\n",
              "       'Real-World CO2 (g/mi)', 'Real-World CO2_City (g/mi)',\n",
              "       'Real-World CO2_Hwy (g/mi)', 'Weight (lbs)', 'Horsepower (HP)',\n",
              "       'Footprint (sq. ft.)'],\n",
              "      dtype='object')"
            ]
          },
          "metadata": {},
          "execution_count": 38
        }
      ],
      "source": [
        "ecodf.columns"
      ]
    },
    {
      "cell_type": "markdown",
      "metadata": {
        "id": "j2EDv-4qxa_8"
      },
      "source": [
        "### Plot the MPG\n",
        "\n",
        "Let's try to plot the values of `Real-World MPG` using the `plot()` method for series."
      ]
    },
    {
      "cell_type": "code",
      "execution_count": null,
      "metadata": {
        "id": "aLGfAuYIxa_8",
        "outputId": "2c1843c2-15e6-4793-c954-d7b4e74c573e",
        "colab": {
          "base_uri": "https://localhost:8080/",
          "height": 282
        }
      },
      "outputs": [
        {
          "output_type": "execute_result",
          "data": {
            "text/plain": [
              "<matplotlib.axes._subplots.AxesSubplot at 0x7efe1a169970>"
            ]
          },
          "metadata": {},
          "execution_count": 39
        },
        {
          "output_type": "display_data",
          "data": {
            "text/plain": [
              "<Figure size 432x288 with 1 Axes>"
            ],
            "image/png": "[encoded data removed]"
          },
          "metadata": {
            "needs_background": "light"
          }
        }
      ],
      "source": [
        "ecodf['Real-World MPG'].plot()"
      ]
    },
    {
      "cell_type": "markdown",
      "metadata": {
        "id": "-tkrxePHxa_8"
      },
      "source": [
        "#### How can we improve this?\n",
        "\n",
        "1. It looks like we're indexing this by integers (the x-axis).  A more helpful view would be years (or dates).\n",
        "2. From the dataset above, all vehicle types are being plotted (so there are multiple values corresponding to each year).  Try plotting only for the vehicle type `Car SUV`, for example.\n",
        "3. The plot needs **labels** (axes, legend) and improved formatting (look, size, font)."
      ]
    },
    {
      "cell_type": "markdown",
      "metadata": {
        "id": "BHzsw9Q_xa_9"
      },
      "source": [
        "#### (1) formatting the dates\n",
        "\n",
        "Let's format the `Model Year` column and set it as our index."
      ]
    },
    {
      "cell_type": "code",
      "execution_count": null,
      "metadata": {
        "id": "OFOutJxQxa_9",
        "outputId": "bf7fc1f0-02bf-44d5-92b8-679e5d5315fe",
        "colab": {
          "base_uri": "https://localhost:8080/",
          "height": 589
        }
      },
      "outputs": [
        {
          "output_type": "execute_result",
          "data": {
            "text/plain": [
              "       Model Year Regulatory Class Vehicle Type Production Share  \\\n",
              "0            1975              All          All         1.000000   \n",
              "1            1975              Car      All Car         0.806646   \n",
              "2            1975              Car  Sedan/Wagon         0.805645   \n",
              "3            1975            Truck    All Truck         0.193354   \n",
              "4            1975            Truck       Pickup         0.131322   \n",
              "..            ...              ...          ...              ...   \n",
              "379  Prelim. 2022              All          All                -   \n",
              "380  Prelim. 2022            Truck  Minivan/Van                -   \n",
              "381  Prelim. 2022            Truck    Truck SUV                -   \n",
              "382  Prelim. 2022            Truck    All Truck                -   \n",
              "383  Prelim. 2022            Truck       Pickup                -   \n",
              "\n",
              "     Real-World MPG  Real-World MPG_City  Real-World MPG_Hwy  \\\n",
              "0          13.05970             12.01552            14.61167   \n",
              "1          13.45483             12.31413            15.17266   \n",
              "2          13.45833             12.31742            15.17643   \n",
              "3          11.63431             10.91165            12.65900   \n",
              "4          11.91476             11.07827            13.12613   \n",
              "..              ...                  ...                 ...   \n",
              "379        26.35965             23.17949            29.40284   \n",
              "380        25.59317             22.10621            29.04996   \n",
              "381        24.75038             21.90441            27.43990   \n",
              "382        23.40912             20.60126            26.09186   \n",
              "383        20.06288             17.49366            22.56268   \n",
              "\n",
              "     Real-World CO2 (g/mi)  Real-World CO2_City (g/mi)  \\\n",
              "0                680.59612                   739.73800   \n",
              "1                660.63740                   721.82935   \n",
              "2                660.46603                   721.63673   \n",
              "3                763.86134                   814.45060   \n",
              "4                745.88139                   802.20090   \n",
              "..                     ...                         ...   \n",
              "379              330.81160                   377.18480   \n",
              "380              344.29378                   398.02669   \n",
              "381              354.13291                   400.54552   \n",
              "382              375.92690                   427.58585   \n",
              "383              442.43019                   508.03215   \n",
              "\n",
              "     Real-World CO2_Hwy (g/mi)  Weight (lbs)  Horsepower (HP)  \\\n",
              "0                    608.31160      4060.399         137.3346   \n",
              "1                    585.84724      4057.494         136.1964   \n",
              "2                    585.70185      4057.565         136.2256   \n",
              "3                    702.03002      4072.518         142.0826   \n",
              "4                    677.04643      4011.977         140.9365   \n",
              "..                         ...           ...              ...   \n",
              "379                  295.82831      4328.963         272.3535   \n",
              "380                  303.75842      4557.279         245.0592   \n",
              "381                  319.11989      4534.261         268.1756   \n",
              "382                  336.95612      4713.739         284.8583   \n",
              "383                  392.94099      5239.220         339.0876   \n",
              "\n",
              "    Footprint (sq. ft.)  \n",
              "0                     -  \n",
              "1                     -  \n",
              "2                     -  \n",
              "3                     -  \n",
              "4                     -  \n",
              "..                  ...  \n",
              "379            51.67437  \n",
              "380            56.21571  \n",
              "381            50.02365  \n",
              "382            54.37582  \n",
              "383            65.91698  \n",
              "\n",
              "[384 rows x 13 columns]"
            ],
            "text/html": [
              "\n",
              "  <div id=\"df-a2b6797f-c726-433e-8460-a5d2045b34a0\">\n",
              "    <div class=\"colab-df-container\">\n",
              "      <div>\n",
              "<style scoped>\n",
              "    .dataframe tbody tr th:only-of-type {\n",
              "        vertical-align: middle;\n",
              "    }\n",
              "\n",
              "    .dataframe tbody tr th {\n",
              "        vertical-align: top;\n",
              "    }\n",
              "\n",
              "    .dataframe thead th {\n",
              "        text-align: right;\n",
              "    }\n",
              "</style>\n",
              "<table border=\"1\" class=\"dataframe\">\n",
              "  <thead>\n",
              "    <tr style=\"text-align: right;\">\n",
              "      <th></th>\n",
              "      <th>Model Year</th>\n",
              "      <th>Regulatory Class</th>\n",
              "      <th>Vehicle Type</th>\n",
              "      <th>Production Share</th>\n",
              "      <th>Real-World MPG</th>\n",
              "      <th>Real-World MPG_City</th>\n",
              "      <th>Real-World MPG_Hwy</th>\n",
              "      <th>Real-World CO2 (g/mi)</th>\n",
              "      <th>Real-World CO2_City (g/mi)</th>\n",
              "      <th>Real-World CO2_Hwy (g/mi)</th>\n",
              "      <th>Weight (lbs)</th>\n",
              "      <th>Horsepower (HP)</th>\n",
              "      <th>Footprint (sq. ft.)</th>\n",
              "    </tr>\n",
              "  </thead>\n",
              "  <tbody>\n",
              "    <tr>\n",
              "      <th>0</th>\n",
              "      <td>1975</td>\n",
              "      <td>All</td>\n",
              "      <td>All</td>\n",
              "      <td>1.000000</td>\n",
              "      <td>13.05970</td>\n",
              "      <td>12.01552</td>\n",
              "      <td>14.61167</td>\n",
              "      <td>680.59612</td>\n",
              "      <td>739.73800</td>\n",
              "      <td>608.31160</td>\n",
              "      <td>4060.399</td>\n",
              "      <td>137.3346</td>\n",
              "      <td>-</td>\n",
              "    </tr>\n",
              "    <tr>\n",
              "      <th>1</th>\n",
              "      <td>1975</td>\n",
              "      <td>Car</td>\n",
              "      <td>All Car</td>\n",
              "      <td>0.806646</td>\n",
              "      <td>13.45483</td>\n",
              "      <td>12.31413</td>\n",
              "      <td>15.17266</td>\n",
              "      <td>660.63740</td>\n",
              "      <td>721.82935</td>\n",
              "      <td>585.84724</td>\n",
              "      <td>4057.494</td>\n",
              "      <td>136.1964</td>\n",
              "      <td>-</td>\n",
              "    </tr>\n",
              "    <tr>\n",
              "      <th>2</th>\n",
              "      <td>1975</td>\n",
              "      <td>Car</td>\n",
              "      <td>Sedan/Wagon</td>\n",
              "      <td>0.805645</td>\n",
              "      <td>13.45833</td>\n",
              "      <td>12.31742</td>\n",
              "      <td>15.17643</td>\n",
              "      <td>660.46603</td>\n",
              "      <td>721.63673</td>\n",
              "      <td>585.70185</td>\n",
              "      <td>4057.565</td>\n",
              "      <td>136.2256</td>\n",
              "      <td>-</td>\n",
              "    </tr>\n",
              "    <tr>\n",
              "      <th>3</th>\n",
              "      <td>1975</td>\n",
              "      <td>Truck</td>\n",
              "      <td>All Truck</td>\n",
              "      <td>0.193354</td>\n",
              "      <td>11.63431</td>\n",
              "      <td>10.91165</td>\n",
              "      <td>12.65900</td>\n",
              "      <td>763.86134</td>\n",
              "      <td>814.45060</td>\n",
              "      <td>702.03002</td>\n",
              "      <td>4072.518</td>\n",
              "      <td>142.0826</td>\n",
              "      <td>-</td>\n",
              "    </tr>\n",
              "    <tr>\n",
              "      <th>4</th>\n",
              "      <td>1975</td>\n",
              "      <td>Truck</td>\n",
              "      <td>Pickup</td>\n",
              "      <td>0.131322</td>\n",
              "      <td>11.91476</td>\n",
              "      <td>11.07827</td>\n",
              "      <td>13.12613</td>\n",
              "      <td>745.88139</td>\n",
              "      <td>802.20090</td>\n",
              "      <td>677.04643</td>\n",
              "      <td>4011.977</td>\n",
              "      <td>140.9365</td>\n",
              "      <td>-</td>\n",
              "    </tr>\n",
              "    <tr>\n",
              "      <th>...</th>\n",
              "      <td>...</td>\n",
              "      <td>...</td>\n",
              "      <td>...</td>\n",
              "      <td>...</td>\n",
              "      <td>...</td>\n",
              "      <td>...</td>\n",
              "      <td>...</td>\n",
              "      <td>...</td>\n",
              "      <td>...</td>\n",
              "      <td>...</td>\n",
              "      <td>...</td>\n",
              "      <td>...</td>\n",
              "      <td>...</td>\n",
              "    </tr>\n",
              "    <tr>\n",
              "      <th>379</th>\n",
              "      <td>Prelim. 2022</td>\n",
              "      <td>All</td>\n",
              "      <td>All</td>\n",
              "      <td>-</td>\n",
              "      <td>26.35965</td>\n",
              "      <td>23.17949</td>\n",
              "      <td>29.40284</td>\n",
              "      <td>330.81160</td>\n",
              "      <td>377.18480</td>\n",
              "      <td>295.82831</td>\n",
              "      <td>4328.963</td>\n",
              "      <td>272.3535</td>\n",
              "      <td>51.67437</td>\n",
              "    </tr>\n",
              "    <tr>\n",
              "      <th>380</th>\n",
              "      <td>Prelim. 2022</td>\n",
              "      <td>Truck</td>\n",
              "      <td>Minivan/Van</td>\n",
              "      <td>-</td>\n",
              "      <td>25.59317</td>\n",
              "      <td>22.10621</td>\n",
              "      <td>29.04996</td>\n",
              "      <td>344.29378</td>\n",
              "      <td>398.02669</td>\n",
              "      <td>303.75842</td>\n",
              "      <td>4557.279</td>\n",
              "      <td>245.0592</td>\n",
              "      <td>56.21571</td>\n",
              "    </tr>\n",
              "    <tr>\n",
              "      <th>381</th>\n",
              "      <td>Prelim. 2022</td>\n",
              "      <td>Truck</td>\n",
              "      <td>Truck SUV</td>\n",
              "      <td>-</td>\n",
              "      <td>24.75038</td>\n",
              "      <td>21.90441</td>\n",
              "      <td>27.43990</td>\n",
              "      <td>354.13291</td>\n",
              "      <td>400.54552</td>\n",
              "      <td>319.11989</td>\n",
              "      <td>4534.261</td>\n",
              "      <td>268.1756</td>\n",
              "      <td>50.02365</td>\n",
              "    </tr>\n",
              "    <tr>\n",
              "      <th>382</th>\n",
              "      <td>Prelim. 2022</td>\n",
              "      <td>Truck</td>\n",
              "      <td>All Truck</td>\n",
              "      <td>-</td>\n",
              "      <td>23.40912</td>\n",
              "      <td>20.60126</td>\n",
              "      <td>26.09186</td>\n",
              "      <td>375.92690</td>\n",
              "      <td>427.58585</td>\n",
              "      <td>336.95612</td>\n",
              "      <td>4713.739</td>\n",
              "      <td>284.8583</td>\n",
              "      <td>54.37582</td>\n",
              "    </tr>\n",
              "    <tr>\n",
              "      <th>383</th>\n",
              "      <td>Prelim. 2022</td>\n",
              "      <td>Truck</td>\n",
              "      <td>Pickup</td>\n",
              "      <td>-</td>\n",
              "      <td>20.06288</td>\n",
              "      <td>17.49366</td>\n",
              "      <td>22.56268</td>\n",
              "      <td>442.43019</td>\n",
              "      <td>508.03215</td>\n",
              "      <td>392.94099</td>\n",
              "      <td>5239.220</td>\n",
              "      <td>339.0876</td>\n",
              "      <td>65.91698</td>\n",
              "    </tr>\n",
              "  </tbody>\n",
              "</table>\n",
              "<p>384 rows × 13 columns</p>\n",
              "</div>\n",
              "      <button class=\"colab-df-convert\" onclick=\"convertToInteractive('df-a2b6797f-c726-433e-8460-a5d2045b34a0')\"\n",
              "              title=\"Convert this dataframe to an interactive table.\"\n",
              "              style=\"display:none;\">\n",
              "        \n",
              "  <svg xmlns=\"http://www.w3.org/2000/svg\" height=\"24px\"viewBox=\"0 0 24 24\"\n",
              "       width=\"24px\">\n",
              "    <path d=\"M0 0h24v24H0V0z\" fill=\"none\"/>\n",
              "    <path d=\"M18.56 5.44l.94 2.06.94-2.06 2.06-.94-2.06-.94-.94-2.06-.94 2.06-2.06.94zm-11 1L8.5 8.5l.94-2.06 2.06-.94-2.06-.94L8.5 2.5l-.94 2.06-2.06.94zm10 10l.94 2.06.94-2.06 2.06-.94-2.06-.94-.94-2.06-.94 2.06-2.06.94z\"/><path d=\"M17.41 7.96l-1.37-1.37c-.4-.4-.92-.59-1.43-.59-.52 0-1.04.2-1.43.59L10.3 9.45l-7.72 7.72c-.78.78-.78 2.05 0 2.83L4 21.41c.39.39.9.59 1.41.59.51 0 1.02-.2 1.41-.59l7.78-7.78 2.81-2.81c.8-.78.8-2.07 0-2.86zM5.41 20L4 18.59l7.72-7.72 1.47 1.35L5.41 20z\"/>\n",
              "  </svg>\n",
              "      </button>\n",
              "      \n",
              "  <style>\n",
              "    .colab-df-container {\n",
              "      display:flex;\n",
              "      flex-wrap:wrap;\n",
              "      gap: 12px;\n",
              "    }\n",
              "\n",
              "    .colab-df-convert {\n",
              "      background-color: #E8F0FE;\n",
              "      border: none;\n",
              "      border-radius: 50%;\n",
              "      cursor: pointer;\n",
              "      display: none;\n",
              "      fill: #1967D2;\n",
              "      height: 32px;\n",
              "      padding: 0 0 0 0;\n",
              "      width: 32px;\n",
              "    }\n",
              "\n",
              "    .colab-df-convert:hover {\n",
              "      background-color: #E2EBFA;\n",
              "      box-shadow: 0px 1px 2px rgba(60, 64, 67, 0.3), 0px 1px 3px 1px rgba(60, 64, 67, 0.15);\n",
              "      fill: #174EA6;\n",
              "    }\n",
              "\n",
              "    [theme=dark] .colab-df-convert {\n",
              "      background-color: #3B4455;\n",
              "      fill: #D2E3FC;\n",
              "    }\n",
              "\n",
              "    [theme=dark] .colab-df-convert:hover {\n",
              "      background-color: #434B5C;\n",
              "      box-shadow: 0px 1px 3px 1px rgba(0, 0, 0, 0.15);\n",
              "      filter: drop-shadow(0px 1px 2px rgba(0, 0, 0, 0.3));\n",
              "      fill: #FFFFFF;\n",
              "    }\n",
              "  </style>\n",
              "\n",
              "      <script>\n",
              "        const buttonEl =\n",
              "          document.querySelector('#df-a2b6797f-c726-433e-8460-a5d2045b34a0 button.colab-df-convert');\n",
              "        buttonEl.style.display =\n",
              "          google.colab.kernel.accessAllowed ? 'block' : 'none';\n",
              "\n",
              "        async function convertToInteractive(key) {\n",
              "          const element = document.querySelector('#df-a2b6797f-c726-433e-8460-a5d2045b34a0');\n",
              "          const dataTable =\n",
              "            await google.colab.kernel.invokeFunction('convertToInteractive',\n",
              "                                                     [key], {});\n",
              "          if (!dataTable) return;\n",
              "\n",
              "          const docLinkHtml = 'Like what you see? Visit the ' +\n",
              "            '<a target=\"_blank\" href=https://colab.research.google.com/notebooks/data_table.ipynb>data table notebook</a>'\n",
              "            + ' to learn more about interactive tables.';\n",
              "          element.innerHTML = '';\n",
              "          dataTable['output_type'] = 'display_data';\n",
              "          await google.colab.output.renderOutput(dataTable, element);\n",
              "          const docLink = document.createElement('div');\n",
              "          docLink.innerHTML = docLinkHtml;\n",
              "          element.appendChild(docLink);\n",
              "        }\n",
              "      </script>\n",
              "    </div>\n",
              "  </div>\n",
              "  "
            ]
          },
          "metadata": {},
          "execution_count": 40
        }
      ],
      "source": [
        "ecodf"
      ]
    },
    {
      "cell_type": "code",
      "execution_count": null,
      "metadata": {
        "id": "hY9j4Hb6xa_9",
        "outputId": "996d0c6f-6644-4669-c2e2-4900fbeb9b73",
        "colab": {
          "base_uri": "https://localhost:8080/",
          "height": 364
        }
      },
      "outputs": [
        {
          "output_type": "error",
          "ename": "ValueError",
          "evalue": "ignored",
          "traceback": [
            "\u001b[0;31m---------------------------------------------------------------------------\u001b[0m",
            "\u001b[0;31mTypeError\u001b[0m                                 Traceback (most recent call last)",
            "\u001b[0;32m/usr/local/lib/python3.8/dist-packages/pandas/core/tools/datetimes.py\u001b[0m in \u001b[0;36m_to_datetime_with_format\u001b[0;34m(arg, orig_arg, name, tz, fmt, exact, errors, infer_datetime_format)\u001b[0m\n\u001b[1;32m    508\u001b[0m         \u001b[0;32mtry\u001b[0m\u001b[0;34m:\u001b[0m\u001b[0;34m\u001b[0m\u001b[0;34m\u001b[0m\u001b[0m\n\u001b[0;32m--> 509\u001b[0;31m             \u001b[0mvalues\u001b[0m\u001b[0;34m,\u001b[0m \u001b[0mtz\u001b[0m \u001b[0;34m=\u001b[0m \u001b[0mconversion\u001b[0m\u001b[0;34m.\u001b[0m\u001b[0mdatetime_to_datetime64\u001b[0m\u001b[0;34m(\u001b[0m\u001b[0marg\u001b[0m\u001b[0;34m)\u001b[0m\u001b[0;34m\u001b[0m\u001b[0;34m\u001b[0m\u001b[0m\n\u001b[0m\u001b[1;32m    510\u001b[0m             \u001b[0mdta\u001b[0m \u001b[0;34m=\u001b[0m \u001b[0mDatetimeArray\u001b[0m\u001b[0;34m(\u001b[0m\u001b[0mvalues\u001b[0m\u001b[0;34m,\u001b[0m \u001b[0mdtype\u001b[0m\u001b[0;34m=\u001b[0m\u001b[0mtz_to_dtype\u001b[0m\u001b[0;34m(\u001b[0m\u001b[0mtz\u001b[0m\u001b[0;34m)\u001b[0m\u001b[0;34m)\u001b[0m\u001b[0;34m\u001b[0m\u001b[0;34m\u001b[0m\u001b[0m\n",
            "\u001b[0;32m/usr/local/lib/python3.8/dist-packages/pandas/_libs/tslibs/conversion.pyx\u001b[0m in \u001b[0;36mpandas._libs.tslibs.conversion.datetime_to_datetime64\u001b[0;34m()\u001b[0m\n",
            "\u001b[0;31mTypeError\u001b[0m: Unrecognized value type: <class 'str'>",
            "\nDuring handling of the above exception, another exception occurred:\n",
            "\u001b[0;31mValueError\u001b[0m                                Traceback (most recent call last)",
            "\u001b[0;32m<ipython-input-41-1493596ec22c>\u001b[0m in \u001b[0;36m<module>\u001b[0;34m\u001b[0m\n\u001b[0;32m----> 1\u001b[0;31m \u001b[0mpd\u001b[0m\u001b[0;34m.\u001b[0m\u001b[0mto_datetime\u001b[0m\u001b[0;34m(\u001b[0m\u001b[0mecodf\u001b[0m\u001b[0;34m[\u001b[0m\u001b[0;34m'Model Year'\u001b[0m\u001b[0;34m]\u001b[0m\u001b[0;34m,\u001b[0m \u001b[0mformat\u001b[0m\u001b[0;34m=\u001b[0m\u001b[0;34m'%Y'\u001b[0m\u001b[0;34m)\u001b[0m\u001b[0;34m\u001b[0m\u001b[0;34m\u001b[0m\u001b[0m\n\u001b[0m",
            "\u001b[0;32m/usr/local/lib/python3.8/dist-packages/pandas/core/tools/datetimes.py\u001b[0m in \u001b[0;36mto_datetime\u001b[0;34m(arg, errors, dayfirst, yearfirst, utc, format, exact, unit, infer_datetime_format, origin, cache)\u001b[0m\n\u001b[1;32m    881\u001b[0m                 \u001b[0mresult\u001b[0m \u001b[0;34m=\u001b[0m \u001b[0mresult\u001b[0m\u001b[0;34m.\u001b[0m\u001b[0mtz_localize\u001b[0m\u001b[0;34m(\u001b[0m\u001b[0mtz\u001b[0m\u001b[0;34m)\u001b[0m  \u001b[0;31m# type: ignore[call-arg]\u001b[0m\u001b[0;34m\u001b[0m\u001b[0;34m\u001b[0m\u001b[0m\n\u001b[1;32m    882\u001b[0m     \u001b[0;32melif\u001b[0m \u001b[0misinstance\u001b[0m\u001b[0;34m(\u001b[0m\u001b[0marg\u001b[0m\u001b[0;34m,\u001b[0m \u001b[0mABCSeries\u001b[0m\u001b[0;34m)\u001b[0m\u001b[0;34m:\u001b[0m\u001b[0;34m\u001b[0m\u001b[0;34m\u001b[0m\u001b[0m\n\u001b[0;32m--> 883\u001b[0;31m         \u001b[0mcache_array\u001b[0m \u001b[0;34m=\u001b[0m \u001b[0m_maybe_cache\u001b[0m\u001b[0;34m(\u001b[0m\u001b[0marg\u001b[0m\u001b[0;34m,\u001b[0m \u001b[0mformat\u001b[0m\u001b[0;34m,\u001b[0m \u001b[0mcache\u001b[0m\u001b[0;34m,\u001b[0m \u001b[0mconvert_listlike\u001b[0m\u001b[0;34m)\u001b[0m\u001b[0;34m\u001b[0m\u001b[0;34m\u001b[0m\u001b[0m\n\u001b[0m\u001b[1;32m    884\u001b[0m         \u001b[0;32mif\u001b[0m \u001b[0;32mnot\u001b[0m \u001b[0mcache_array\u001b[0m\u001b[0;34m.\u001b[0m\u001b[0mempty\u001b[0m\u001b[0;34m:\u001b[0m\u001b[0;34m\u001b[0m\u001b[0;34m\u001b[0m\u001b[0m\n\u001b[1;32m    885\u001b[0m             \u001b[0mresult\u001b[0m \u001b[0;34m=\u001b[0m \u001b[0marg\u001b[0m\u001b[0;34m.\u001b[0m\u001b[0mmap\u001b[0m\u001b[0;34m(\u001b[0m\u001b[0mcache_array\u001b[0m\u001b[0;34m)\u001b[0m\u001b[0;34m\u001b[0m\u001b[0;34m\u001b[0m\u001b[0m\n",
            "\u001b[0;32m/usr/local/lib/python3.8/dist-packages/pandas/core/tools/datetimes.py\u001b[0m in \u001b[0;36m_maybe_cache\u001b[0;34m(arg, format, cache, convert_listlike)\u001b[0m\n\u001b[1;32m    193\u001b[0m         \u001b[0munique_dates\u001b[0m \u001b[0;34m=\u001b[0m \u001b[0munique\u001b[0m\u001b[0;34m(\u001b[0m\u001b[0marg\u001b[0m\u001b[0;34m)\u001b[0m\u001b[0;34m\u001b[0m\u001b[0;34m\u001b[0m\u001b[0m\n\u001b[1;32m    194\u001b[0m         \u001b[0;32mif\u001b[0m \u001b[0mlen\u001b[0m\u001b[0;34m(\u001b[0m\u001b[0munique_dates\u001b[0m\u001b[0;34m)\u001b[0m \u001b[0;34m<\u001b[0m \u001b[0mlen\u001b[0m\u001b[0;34m(\u001b[0m\u001b[0marg\u001b[0m\u001b[0;34m)\u001b[0m\u001b[0;34m:\u001b[0m\u001b[0;34m\u001b[0m\u001b[0;34m\u001b[0m\u001b[0m\n\u001b[0;32m--> 195\u001b[0;31m             \u001b[0mcache_dates\u001b[0m \u001b[0;34m=\u001b[0m \u001b[0mconvert_listlike\u001b[0m\u001b[0;34m(\u001b[0m\u001b[0munique_dates\u001b[0m\u001b[0;34m,\u001b[0m \u001b[0mformat\u001b[0m\u001b[0;34m)\u001b[0m\u001b[0;34m\u001b[0m\u001b[0;34m\u001b[0m\u001b[0m\n\u001b[0m\u001b[1;32m    196\u001b[0m             \u001b[0mcache_array\u001b[0m \u001b[0;34m=\u001b[0m \u001b[0mSeries\u001b[0m\u001b[0;34m(\u001b[0m\u001b[0mcache_dates\u001b[0m\u001b[0;34m,\u001b[0m \u001b[0mindex\u001b[0m\u001b[0;34m=\u001b[0m\u001b[0munique_dates\u001b[0m\u001b[0;34m)\u001b[0m\u001b[0;34m\u001b[0m\u001b[0;34m\u001b[0m\u001b[0m\n\u001b[1;32m    197\u001b[0m             \u001b[0;31m# GH#39882 and GH#35888 in case of None and NaT we get duplicates\u001b[0m\u001b[0;34m\u001b[0m\u001b[0;34m\u001b[0m\u001b[0;34m\u001b[0m\u001b[0m\n",
            "\u001b[0;32m/usr/local/lib/python3.8/dist-packages/pandas/core/tools/datetimes.py\u001b[0m in \u001b[0;36m_convert_listlike_datetimes\u001b[0;34m(arg, format, name, tz, unit, errors, infer_datetime_format, dayfirst, yearfirst, exact)\u001b[0m\n\u001b[1;32m    391\u001b[0m \u001b[0;34m\u001b[0m\u001b[0m\n\u001b[1;32m    392\u001b[0m     \u001b[0;32mif\u001b[0m \u001b[0mformat\u001b[0m \u001b[0;32mis\u001b[0m \u001b[0;32mnot\u001b[0m \u001b[0;32mNone\u001b[0m\u001b[0;34m:\u001b[0m\u001b[0;34m\u001b[0m\u001b[0;34m\u001b[0m\u001b[0m\n\u001b[0;32m--> 393\u001b[0;31m         res = _to_datetime_with_format(\n\u001b[0m\u001b[1;32m    394\u001b[0m             \u001b[0marg\u001b[0m\u001b[0;34m,\u001b[0m \u001b[0morig_arg\u001b[0m\u001b[0;34m,\u001b[0m \u001b[0mname\u001b[0m\u001b[0;34m,\u001b[0m \u001b[0mtz\u001b[0m\u001b[0;34m,\u001b[0m \u001b[0mformat\u001b[0m\u001b[0;34m,\u001b[0m \u001b[0mexact\u001b[0m\u001b[0;34m,\u001b[0m \u001b[0merrors\u001b[0m\u001b[0;34m,\u001b[0m \u001b[0minfer_datetime_format\u001b[0m\u001b[0;34m\u001b[0m\u001b[0;34m\u001b[0m\u001b[0m\n\u001b[1;32m    395\u001b[0m         )\n",
            "\u001b[0;32m/usr/local/lib/python3.8/dist-packages/pandas/core/tools/datetimes.py\u001b[0m in \u001b[0;36m_to_datetime_with_format\u001b[0;34m(arg, orig_arg, name, tz, fmt, exact, errors, infer_datetime_format)\u001b[0m\n\u001b[1;32m    511\u001b[0m             \u001b[0;32mreturn\u001b[0m \u001b[0mDatetimeIndex\u001b[0m\u001b[0;34m.\u001b[0m\u001b[0m_simple_new\u001b[0m\u001b[0;34m(\u001b[0m\u001b[0mdta\u001b[0m\u001b[0;34m,\u001b[0m \u001b[0mname\u001b[0m\u001b[0;34m=\u001b[0m\u001b[0mname\u001b[0m\u001b[0;34m)\u001b[0m\u001b[0;34m\u001b[0m\u001b[0;34m\u001b[0m\u001b[0m\n\u001b[1;32m    512\u001b[0m         \u001b[0;32mexcept\u001b[0m \u001b[0;34m(\u001b[0m\u001b[0mValueError\u001b[0m\u001b[0;34m,\u001b[0m \u001b[0mTypeError\u001b[0m\u001b[0;34m)\u001b[0m\u001b[0;34m:\u001b[0m\u001b[0;34m\u001b[0m\u001b[0;34m\u001b[0m\u001b[0m\n\u001b[0;32m--> 513\u001b[0;31m             \u001b[0;32mraise\u001b[0m \u001b[0merr\u001b[0m\u001b[0;34m\u001b[0m\u001b[0;34m\u001b[0m\u001b[0m\n\u001b[0m\u001b[1;32m    514\u001b[0m \u001b[0;34m\u001b[0m\u001b[0m\n\u001b[1;32m    515\u001b[0m \u001b[0;34m\u001b[0m\u001b[0m\n",
            "\u001b[0;32m/usr/local/lib/python3.8/dist-packages/pandas/core/tools/datetimes.py\u001b[0m in \u001b[0;36m_to_datetime_with_format\u001b[0;34m(arg, orig_arg, name, tz, fmt, exact, errors, infer_datetime_format)\u001b[0m\n\u001b[1;32m    498\u001b[0m \u001b[0;34m\u001b[0m\u001b[0m\n\u001b[1;32m    499\u001b[0m         \u001b[0;31m# fallback\u001b[0m\u001b[0;34m\u001b[0m\u001b[0;34m\u001b[0m\u001b[0;34m\u001b[0m\u001b[0m\n\u001b[0;32m--> 500\u001b[0;31m         res = _array_strptime_with_fallback(\n\u001b[0m\u001b[1;32m    501\u001b[0m             \u001b[0marg\u001b[0m\u001b[0;34m,\u001b[0m \u001b[0mname\u001b[0m\u001b[0;34m,\u001b[0m \u001b[0mtz\u001b[0m\u001b[0;34m,\u001b[0m \u001b[0mfmt\u001b[0m\u001b[0;34m,\u001b[0m \u001b[0mexact\u001b[0m\u001b[0;34m,\u001b[0m \u001b[0merrors\u001b[0m\u001b[0;34m,\u001b[0m \u001b[0minfer_datetime_format\u001b[0m\u001b[0;34m\u001b[0m\u001b[0;34m\u001b[0m\u001b[0m\n\u001b[1;32m    502\u001b[0m         )\n",
            "\u001b[0;32m/usr/local/lib/python3.8/dist-packages/pandas/core/tools/datetimes.py\u001b[0m in \u001b[0;36m_array_strptime_with_fallback\u001b[0;34m(arg, name, tz, fmt, exact, errors, infer_datetime_format)\u001b[0m\n\u001b[1;32m    434\u001b[0m \u001b[0;34m\u001b[0m\u001b[0m\n\u001b[1;32m    435\u001b[0m     \u001b[0;32mtry\u001b[0m\u001b[0;34m:\u001b[0m\u001b[0;34m\u001b[0m\u001b[0;34m\u001b[0m\u001b[0m\n\u001b[0;32m--> 436\u001b[0;31m         \u001b[0mresult\u001b[0m\u001b[0;34m,\u001b[0m \u001b[0mtimezones\u001b[0m \u001b[0;34m=\u001b[0m \u001b[0marray_strptime\u001b[0m\u001b[0;34m(\u001b[0m\u001b[0marg\u001b[0m\u001b[0;34m,\u001b[0m \u001b[0mfmt\u001b[0m\u001b[0;34m,\u001b[0m \u001b[0mexact\u001b[0m\u001b[0;34m=\u001b[0m\u001b[0mexact\u001b[0m\u001b[0;34m,\u001b[0m \u001b[0merrors\u001b[0m\u001b[0;34m=\u001b[0m\u001b[0merrors\u001b[0m\u001b[0;34m)\u001b[0m\u001b[0;34m\u001b[0m\u001b[0;34m\u001b[0m\u001b[0m\n\u001b[0m\u001b[1;32m    437\u001b[0m         \u001b[0;32mif\u001b[0m \u001b[0;34m\"%Z\"\u001b[0m \u001b[0;32min\u001b[0m \u001b[0mfmt\u001b[0m \u001b[0;32mor\u001b[0m \u001b[0;34m\"%z\"\u001b[0m \u001b[0;32min\u001b[0m \u001b[0mfmt\u001b[0m\u001b[0;34m:\u001b[0m\u001b[0;34m\u001b[0m\u001b[0;34m\u001b[0m\u001b[0m\n\u001b[1;32m    438\u001b[0m             \u001b[0;32mreturn\u001b[0m \u001b[0m_return_parsed_timezone_results\u001b[0m\u001b[0;34m(\u001b[0m\u001b[0mresult\u001b[0m\u001b[0;34m,\u001b[0m \u001b[0mtimezones\u001b[0m\u001b[0;34m,\u001b[0m \u001b[0mtz\u001b[0m\u001b[0;34m,\u001b[0m \u001b[0mname\u001b[0m\u001b[0;34m)\u001b[0m\u001b[0;34m\u001b[0m\u001b[0;34m\u001b[0m\u001b[0m\n",
            "\u001b[0;32m/usr/local/lib/python3.8/dist-packages/pandas/_libs/tslibs/strptime.pyx\u001b[0m in \u001b[0;36mpandas._libs.tslibs.strptime.array_strptime\u001b[0;34m()\u001b[0m\n",
            "\u001b[0;31mValueError\u001b[0m: time data 'Prelim. 2022' does not match format '%Y' (match)"
          ]
        }
      ],
      "source": [
        "pd.to_datetime(ecodf['Model Year'], format='%Y')"
      ]
    },
    {
      "cell_type": "markdown",
      "metadata": {
        "id": "DHD9Thioxa_9"
      },
      "source": [
        "Since the most recent data is marked as preliminary, it's a string that isn't being recognized as a year.\n",
        "We'll have to work around that manually."
      ]
    },
    {
      "cell_type": "code",
      "execution_count": null,
      "metadata": {
        "id": "GBvc93y0xa_-",
        "outputId": "fae9efa4-651d-4390-924c-4a2824bd66ca",
        "colab": {
          "base_uri": "https://localhost:8080/",
          "height": 35
        }
      },
      "outputs": [
        {
          "output_type": "execute_result",
          "data": {
            "text/plain": [
              "'2021'"
            ],
            "application/vnd.google.colaboratory.intrinsic+json": {
              "type": "string"
            }
          },
          "metadata": {},
          "execution_count": 42
        }
      ],
      "source": [
        "'Prelim. 2021'.split()[-1]"
      ]
    },
    {
      "cell_type": "code",
      "execution_count": null,
      "metadata": {
        "id": "jeLT8iPExa__"
      },
      "outputs": [],
      "source": [
        "def f(t):\n",
        "    if 'Prelim.' in t:\n",
        "        t = t.split(' ')[-1]\n",
        "    return t\n",
        "\n",
        "ecodf['Model Year'] = ecodf['Model Year'].apply(f)\n",
        "ecodf['Model Year'] = pd.to_datetime(ecodf['Model Year'], format='%Y')"
      ]
    },
    {
      "cell_type": "code",
      "execution_count": null,
      "metadata": {
        "id": "gC36A20Nxa__",
        "outputId": "3aa76926-6417-48e2-c624-16d6205a2122",
        "colab": {
          "base_uri": "https://localhost:8080/",
          "height": 725
        }
      },
      "outputs": [
        {
          "output_type": "execute_result",
          "data": {
            "text/plain": [
              "           Regulatory Class Vehicle Type Production Share  Real-World MPG  \\\n",
              "Model Year                                                                  \n",
              "1975-01-01              All          All         1.000000        13.05970   \n",
              "1975-01-01              Car      All Car         0.806646        13.45483   \n",
              "1975-01-01              Car  Sedan/Wagon         0.805645        13.45833   \n",
              "1975-01-01            Truck    All Truck         0.193354        11.63431   \n",
              "1975-01-01            Truck       Pickup         0.131322        11.91476   \n",
              "...                     ...          ...              ...             ...   \n",
              "2022-01-01              All          All                -        26.35965   \n",
              "2022-01-01            Truck  Minivan/Van                -        25.59317   \n",
              "2022-01-01            Truck    Truck SUV                -        24.75038   \n",
              "2022-01-01            Truck    All Truck                -        23.40912   \n",
              "2022-01-01            Truck       Pickup                -        20.06288   \n",
              "\n",
              "            Real-World MPG_City  Real-World MPG_Hwy  Real-World CO2 (g/mi)  \\\n",
              "Model Year                                                                   \n",
              "1975-01-01             12.01552            14.61167              680.59612   \n",
              "1975-01-01             12.31413            15.17266              660.63740   \n",
              "1975-01-01             12.31742            15.17643              660.46603   \n",
              "1975-01-01             10.91165            12.65900              763.86134   \n",
              "1975-01-01             11.07827            13.12613              745.88139   \n",
              "...                         ...                 ...                    ...   \n",
              "2022-01-01             23.17949            29.40284              330.81160   \n",
              "2022-01-01             22.10621            29.04996              344.29378   \n",
              "2022-01-01             21.90441            27.43990              354.13291   \n",
              "2022-01-01             20.60126            26.09186              375.92690   \n",
              "2022-01-01             17.49366            22.56268              442.43019   \n",
              "\n",
              "            Real-World CO2_City (g/mi)  Real-World CO2_Hwy (g/mi)  \\\n",
              "Model Year                                                          \n",
              "1975-01-01                   739.73800                  608.31160   \n",
              "1975-01-01                   721.82935                  585.84724   \n",
              "1975-01-01                   721.63673                  585.70185   \n",
              "1975-01-01                   814.45060                  702.03002   \n",
              "1975-01-01                   802.20090                  677.04643   \n",
              "...                                ...                        ...   \n",
              "2022-01-01                   377.18480                  295.82831   \n",
              "2022-01-01                   398.02669                  303.75842   \n",
              "2022-01-01                   400.54552                  319.11989   \n",
              "2022-01-01                   427.58585                  336.95612   \n",
              "2022-01-01                   508.03215                  392.94099   \n",
              "\n",
              "            Weight (lbs)  Horsepower (HP) Footprint (sq. ft.)  \n",
              "Model Year                                                     \n",
              "1975-01-01      4060.399         137.3346                   -  \n",
              "1975-01-01      4057.494         136.1964                   -  \n",
              "1975-01-01      4057.565         136.2256                   -  \n",
              "1975-01-01      4072.518         142.0826                   -  \n",
              "1975-01-01      4011.977         140.9365                   -  \n",
              "...                  ...              ...                 ...  \n",
              "2022-01-01      4328.963         272.3535            51.67437  \n",
              "2022-01-01      4557.279         245.0592            56.21571  \n",
              "2022-01-01      4534.261         268.1756            50.02365  \n",
              "2022-01-01      4713.739         284.8583            54.37582  \n",
              "2022-01-01      5239.220         339.0876            65.91698  \n",
              "\n",
              "[384 rows x 12 columns]"
            ],
            "text/html": [
              "\n",
              "  <div id=\"df-55ca8b2a-7aeb-49da-a614-c52b63d271aa\">\n",
              "    <div class=\"colab-df-container\">\n",
              "      <div>\n",
              "<style scoped>\n",
              "    .dataframe tbody tr th:only-of-type {\n",
              "        vertical-align: middle;\n",
              "    }\n",
              "\n",
              "    .dataframe tbody tr th {\n",
              "        vertical-align: top;\n",
              "    }\n",
              "\n",
              "    .dataframe thead th {\n",
              "        text-align: right;\n",
              "    }\n",
              "</style>\n",
              "<table border=\"1\" class=\"dataframe\">\n",
              "  <thead>\n",
              "    <tr style=\"text-align: right;\">\n",
              "      <th></th>\n",
              "      <th>Regulatory Class</th>\n",
              "      <th>Vehicle Type</th>\n",
              "      <th>Production Share</th>\n",
              "      <th>Real-World MPG</th>\n",
              "      <th>Real-World MPG_City</th>\n",
              "      <th>Real-World MPG_Hwy</th>\n",
              "      <th>Real-World CO2 (g/mi)</th>\n",
              "      <th>Real-World CO2_City (g/mi)</th>\n",
              "      <th>Real-World CO2_Hwy (g/mi)</th>\n",
              "      <th>Weight (lbs)</th>\n",
              "      <th>Horsepower (HP)</th>\n",
              "      <th>Footprint (sq. ft.)</th>\n",
              "    </tr>\n",
              "    <tr>\n",
              "      <th>Model Year</th>\n",
              "      <th></th>\n",
              "      <th></th>\n",
              "      <th></th>\n",
              "      <th></th>\n",
              "      <th></th>\n",
              "      <th></th>\n",
              "      <th></th>\n",
              "      <th></th>\n",
              "      <th></th>\n",
              "      <th></th>\n",
              "      <th></th>\n",
              "      <th></th>\n",
              "    </tr>\n",
              "  </thead>\n",
              "  <tbody>\n",
              "    <tr>\n",
              "      <th>1975-01-01</th>\n",
              "      <td>All</td>\n",
              "      <td>All</td>\n",
              "      <td>1.000000</td>\n",
              "      <td>13.05970</td>\n",
              "      <td>12.01552</td>\n",
              "      <td>14.61167</td>\n",
              "      <td>680.59612</td>\n",
              "      <td>739.73800</td>\n",
              "      <td>608.31160</td>\n",
              "      <td>4060.399</td>\n",
              "      <td>137.3346</td>\n",
              "      <td>-</td>\n",
              "    </tr>\n",
              "    <tr>\n",
              "      <th>1975-01-01</th>\n",
              "      <td>Car</td>\n",
              "      <td>All Car</td>\n",
              "      <td>0.806646</td>\n",
              "      <td>13.45483</td>\n",
              "      <td>12.31413</td>\n",
              "      <td>15.17266</td>\n",
              "      <td>660.63740</td>\n",
              "      <td>721.82935</td>\n",
              "      <td>585.84724</td>\n",
              "      <td>4057.494</td>\n",
              "      <td>136.1964</td>\n",
              "      <td>-</td>\n",
              "    </tr>\n",
              "    <tr>\n",
              "      <th>1975-01-01</th>\n",
              "      <td>Car</td>\n",
              "      <td>Sedan/Wagon</td>\n",
              "      <td>0.805645</td>\n",
              "      <td>13.45833</td>\n",
              "      <td>12.31742</td>\n",
              "      <td>15.17643</td>\n",
              "      <td>660.46603</td>\n",
              "      <td>721.63673</td>\n",
              "      <td>585.70185</td>\n",
              "      <td>4057.565</td>\n",
              "      <td>136.2256</td>\n",
              "      <td>-</td>\n",
              "    </tr>\n",
              "    <tr>\n",
              "      <th>1975-01-01</th>\n",
              "      <td>Truck</td>\n",
              "      <td>All Truck</td>\n",
              "      <td>0.193354</td>\n",
              "      <td>11.63431</td>\n",
              "      <td>10.91165</td>\n",
              "      <td>12.65900</td>\n",
              "      <td>763.86134</td>\n",
              "      <td>814.45060</td>\n",
              "      <td>702.03002</td>\n",
              "      <td>4072.518</td>\n",
              "      <td>142.0826</td>\n",
              "      <td>-</td>\n",
              "    </tr>\n",
              "    <tr>\n",
              "      <th>1975-01-01</th>\n",
              "      <td>Truck</td>\n",
              "      <td>Pickup</td>\n",
              "      <td>0.131322</td>\n",
              "      <td>11.91476</td>\n",
              "      <td>11.07827</td>\n",
              "      <td>13.12613</td>\n",
              "      <td>745.88139</td>\n",
              "      <td>802.20090</td>\n",
              "      <td>677.04643</td>\n",
              "      <td>4011.977</td>\n",
              "      <td>140.9365</td>\n",
              "      <td>-</td>\n",
              "    </tr>\n",
              "    <tr>\n",
              "      <th>...</th>\n",
              "      <td>...</td>\n",
              "      <td>...</td>\n",
              "      <td>...</td>\n",
              "      <td>...</td>\n",
              "      <td>...</td>\n",
              "      <td>...</td>\n",
              "      <td>...</td>\n",
              "      <td>...</td>\n",
              "      <td>...</td>\n",
              "      <td>...</td>\n",
              "      <td>...</td>\n",
              "      <td>...</td>\n",
              "    </tr>\n",
              "    <tr>\n",
              "      <th>2022-01-01</th>\n",
              "      <td>All</td>\n",
              "      <td>All</td>\n",
              "      <td>-</td>\n",
              "      <td>26.35965</td>\n",
              "      <td>23.17949</td>\n",
              "      <td>29.40284</td>\n",
              "      <td>330.81160</td>\n",
              "      <td>377.18480</td>\n",
              "      <td>295.82831</td>\n",
              "      <td>4328.963</td>\n",
              "      <td>272.3535</td>\n",
              "      <td>51.67437</td>\n",
              "    </tr>\n",
              "    <tr>\n",
              "      <th>2022-01-01</th>\n",
              "      <td>Truck</td>\n",
              "      <td>Minivan/Van</td>\n",
              "      <td>-</td>\n",
              "      <td>25.59317</td>\n",
              "      <td>22.10621</td>\n",
              "      <td>29.04996</td>\n",
              "      <td>344.29378</td>\n",
              "      <td>398.02669</td>\n",
              "      <td>303.75842</td>\n",
              "      <td>4557.279</td>\n",
              "      <td>245.0592</td>\n",
              "      <td>56.21571</td>\n",
              "    </tr>\n",
              "    <tr>\n",
              "      <th>2022-01-01</th>\n",
              "      <td>Truck</td>\n",
              "      <td>Truck SUV</td>\n",
              "      <td>-</td>\n",
              "      <td>24.75038</td>\n",
              "      <td>21.90441</td>\n",
              "      <td>27.43990</td>\n",
              "      <td>354.13291</td>\n",
              "      <td>400.54552</td>\n",
              "      <td>319.11989</td>\n",
              "      <td>4534.261</td>\n",
              "      <td>268.1756</td>\n",
              "      <td>50.02365</td>\n",
              "    </tr>\n",
              "    <tr>\n",
              "      <th>2022-01-01</th>\n",
              "      <td>Truck</td>\n",
              "      <td>All Truck</td>\n",
              "      <td>-</td>\n",
              "      <td>23.40912</td>\n",
              "      <td>20.60126</td>\n",
              "      <td>26.09186</td>\n",
              "      <td>375.92690</td>\n",
              "      <td>427.58585</td>\n",
              "      <td>336.95612</td>\n",
              "      <td>4713.739</td>\n",
              "      <td>284.8583</td>\n",
              "      <td>54.37582</td>\n",
              "    </tr>\n",
              "    <tr>\n",
              "      <th>2022-01-01</th>\n",
              "      <td>Truck</td>\n",
              "      <td>Pickup</td>\n",
              "      <td>-</td>\n",
              "      <td>20.06288</td>\n",
              "      <td>17.49366</td>\n",
              "      <td>22.56268</td>\n",
              "      <td>442.43019</td>\n",
              "      <td>508.03215</td>\n",
              "      <td>392.94099</td>\n",
              "      <td>5239.220</td>\n",
              "      <td>339.0876</td>\n",
              "      <td>65.91698</td>\n",
              "    </tr>\n",
              "  </tbody>\n",
              "</table>\n",
              "<p>384 rows × 12 columns</p>\n",
              "</div>\n",
              "      <button class=\"colab-df-convert\" onclick=\"convertToInteractive('df-55ca8b2a-7aeb-49da-a614-c52b63d271aa')\"\n",
              "              title=\"Convert this dataframe to an interactive table.\"\n",
              "              style=\"display:none;\">\n",
              "        \n",
              "  <svg xmlns=\"http://www.w3.org/2000/svg\" height=\"24px\"viewBox=\"0 0 24 24\"\n",
              "       width=\"24px\">\n",
              "    <path d=\"M0 0h24v24H0V0z\" fill=\"none\"/>\n",
              "    <path d=\"M18.56 5.44l.94 2.06.94-2.06 2.06-.94-2.06-.94-.94-2.06-.94 2.06-2.06.94zm-11 1L8.5 8.5l.94-2.06 2.06-.94-2.06-.94L8.5 2.5l-.94 2.06-2.06.94zm10 10l.94 2.06.94-2.06 2.06-.94-2.06-.94-.94-2.06-.94 2.06-2.06.94z\"/><path d=\"M17.41 7.96l-1.37-1.37c-.4-.4-.92-.59-1.43-.59-.52 0-1.04.2-1.43.59L10.3 9.45l-7.72 7.72c-.78.78-.78 2.05 0 2.83L4 21.41c.39.39.9.59 1.41.59.51 0 1.02-.2 1.41-.59l7.78-7.78 2.81-2.81c.8-.78.8-2.07 0-2.86zM5.41 20L4 18.59l7.72-7.72 1.47 1.35L5.41 20z\"/>\n",
              "  </svg>\n",
              "      </button>\n",
              "      \n",
              "  <style>\n",
              "    .colab-df-container {\n",
              "      display:flex;\n",
              "      flex-wrap:wrap;\n",
              "      gap: 12px;\n",
              "    }\n",
              "\n",
              "    .colab-df-convert {\n",
              "      background-color: #E8F0FE;\n",
              "      border: none;\n",
              "      border-radius: 50%;\n",
              "      cursor: pointer;\n",
              "      display: none;\n",
              "      fill: #1967D2;\n",
              "      height: 32px;\n",
              "      padding: 0 0 0 0;\n",
              "      width: 32px;\n",
              "    }\n",
              "\n",
              "    .colab-df-convert:hover {\n",
              "      background-color: #E2EBFA;\n",
              "      box-shadow: 0px 1px 2px rgba(60, 64, 67, 0.3), 0px 1px 3px 1px rgba(60, 64, 67, 0.15);\n",
              "      fill: #174EA6;\n",
              "    }\n",
              "\n",
              "    [theme=dark] .colab-df-convert {\n",
              "      background-color: #3B4455;\n",
              "      fill: #D2E3FC;\n",
              "    }\n",
              "\n",
              "    [theme=dark] .colab-df-convert:hover {\n",
              "      background-color: #434B5C;\n",
              "      box-shadow: 0px 1px 3px 1px rgba(0, 0, 0, 0.15);\n",
              "      filter: drop-shadow(0px 1px 2px rgba(0, 0, 0, 0.3));\n",
              "      fill: #FFFFFF;\n",
              "    }\n",
              "  </style>\n",
              "\n",
              "      <script>\n",
              "        const buttonEl =\n",
              "          document.querySelector('#df-55ca8b2a-7aeb-49da-a614-c52b63d271aa button.colab-df-convert');\n",
              "        buttonEl.style.display =\n",
              "          google.colab.kernel.accessAllowed ? 'block' : 'none';\n",
              "\n",
              "        async function convertToInteractive(key) {\n",
              "          const element = document.querySelector('#df-55ca8b2a-7aeb-49da-a614-c52b63d271aa');\n",
              "          const dataTable =\n",
              "            await google.colab.kernel.invokeFunction('convertToInteractive',\n",
              "                                                     [key], {});\n",
              "          if (!dataTable) return;\n",
              "\n",
              "          const docLinkHtml = 'Like what you see? Visit the ' +\n",
              "            '<a target=\"_blank\" href=https://colab.research.google.com/notebooks/data_table.ipynb>data table notebook</a>'\n",
              "            + ' to learn more about interactive tables.';\n",
              "          element.innerHTML = '';\n",
              "          dataTable['output_type'] = 'display_data';\n",
              "          await google.colab.output.renderOutput(dataTable, element);\n",
              "          const docLink = document.createElement('div');\n",
              "          docLink.innerHTML = docLinkHtml;\n",
              "          element.appendChild(docLink);\n",
              "        }\n",
              "      </script>\n",
              "    </div>\n",
              "  </div>\n",
              "  "
            ]
          },
          "metadata": {},
          "execution_count": 44
        }
      ],
      "source": [
        "ecodf.set_index('Model Year', inplace=True)\n",
        "ecodf"
      ]
    },
    {
      "cell_type": "code",
      "execution_count": null,
      "metadata": {
        "id": "v2-YORxmxbAA",
        "outputId": "f9144869-d00d-48df-8bef-c20650feeabe",
        "colab": {
          "base_uri": "https://localhost:8080/",
          "height": 286
        }
      },
      "outputs": [
        {
          "output_type": "execute_result",
          "data": {
            "text/plain": [
              "<matplotlib.axes._subplots.AxesSubplot at 0x7efe1a0b2610>"
            ]
          },
          "metadata": {},
          "execution_count": 45
        },
        {
          "output_type": "display_data",
          "data": {
            "text/plain": [
              "<Figure size 432x288 with 1 Axes>"
            ],
            "image/png": "[encoded data removed]"
          },
          "metadata": {
            "needs_background": "light"
          }
        }
      ],
      "source": [
        "ecodf['Real-World MPG'].plot()"
      ]
    },
    {
      "cell_type": "markdown",
      "metadata": {
        "id": "-vk3APrexbAA"
      },
      "source": [
        "#### (2)\n",
        "\n",
        "We still have multiple vehicle types being plotted for each year (the large oscillating pattern).\n",
        "Now check to see where the `Vehicle Type` is equal to `Car SUV` and only plot that data."
      ]
    },
    {
      "cell_type": "markdown",
      "source": [
        "This is filtering first by vehicle type for 'Car SUV' and then column 'Real-World MPG'"
      ],
      "metadata": {
        "id": "jka4p59n5Mjs"
      }
    },
    {
      "cell_type": "code",
      "execution_count": null,
      "metadata": {
        "id": "ungM4fXTxbAA",
        "outputId": "b2a14826-200c-4e9b-b0c7-d7c161b93f1c",
        "colab": {
          "base_uri": "https://localhost:8080/",
          "height": 296
        }
      },
      "outputs": [
        {
          "output_type": "execute_result",
          "data": {
            "text/plain": [
              "<matplotlib.axes._subplots.AxesSubplot at 0x7efe19bdbeb0>"
            ]
          },
          "metadata": {},
          "execution_count": 47
        },
        {
          "output_type": "display_data",
          "data": {
            "text/plain": [
              "<Figure size 432x288 with 1 Axes>"
            ],
            "image/png": "[encoded data removed]"
          },
          "metadata": {
            "needs_background": "light"
          }
        }
      ],
      "source": [
        "ecodf[ecodf['Vehicle Type']=='Car SUV']['Real-World MPG'].plot()"
      ]
    },
    {
      "cell_type": "markdown",
      "metadata": {
        "id": "VtYK5rF5xbAB"
      },
      "source": [
        "#### (3)\n",
        "\n",
        "Note that changing the index automatically applied the index column label as the x-axis label.\n",
        "\n",
        "But, there's still a lot we can do to improve the plot with more labels and other\n",
        "visual formatting changes.\n",
        "\n",
        "First, we'll adjust the image size, add axis labels/legend, and make the line thicker.\n"
      ]
    },
    {
      "cell_type": "code",
      "execution_count": null,
      "metadata": {
        "id": "dkAlm33wxbAB",
        "outputId": "84675f47-94a0-401a-984b-bd0756ca0403",
        "colab": {
          "base_uri": "https://localhost:8080/",
          "height": 405
        }
      },
      "outputs": [
        {
          "output_type": "execute_result",
          "data": {
            "text/plain": [
              "Text(0, 0.5, 'Miles Per Gallon')"
            ]
          },
          "metadata": {},
          "execution_count": 48
        },
        {
          "output_type": "display_data",
          "data": {
            "text/plain": [
              "<Figure size 432x432 with 1 Axes>"
            ],
            "image/png": "[encoded data removed]"
          },
          "metadata": {
            "needs_background": "light"
          }
        }
      ],
      "source": [
        "fig = plt.figure(figsize=(6,6))\n",
        "ax = fig.gca()\n",
        "\n",
        "ecodf[ecodf['Vehicle Type']=='Car SUV']['Real-World MPG'].plot(ax=ax, linewidth=4)\n",
        "\n",
        "ax.legend()\n",
        "plt.ylabel('Miles Per Gallon')"
      ]
    },
    {
      "cell_type": "markdown",
      "metadata": {
        "id": "-iKabOi4xbAC"
      },
      "source": [
        "We can also change the fontsize and the general look.\n",
        "\n",
        "https://matplotlib.org/3.2.1/gallery/style_sheets/style_sheets_reference.html"
      ]
    },
    {
      "cell_type": "code",
      "execution_count": null,
      "metadata": {
        "id": "RsK_kgcxxbAC",
        "outputId": "a302b7bf-bef2-4757-aafd-ada03554ce6c",
        "colab": {
          "base_uri": "https://localhost:8080/",
          "height": 437
        }
      },
      "outputs": [
        {
          "output_type": "execute_result",
          "data": {
            "text/plain": [
              "Text(0.5, 0, 'Year')"
            ]
          },
          "metadata": {},
          "execution_count": 50
        },
        {
          "output_type": "display_data",
          "data": {
            "text/plain": [
              "<Figure size 432x432 with 1 Axes>"
            ],
            "image/png": "[encoded data removed]"
          },
          "metadata": {}
        }
      ],
      "source": [
        "plt.style.use('fivethirtyeight')\n",
        "\n",
        "fig = plt.figure(figsize=(6,6))\n",
        "ax = fig.gca()\n",
        "\n",
        "ecodf[ecodf['Vehicle Type']=='Car SUV']['Real-World MPG'].plot(ax=ax, linewidth=4)\n",
        "\n",
        "ax.legend()\n",
        "plt.ylabel('Miles per Gallon')\n",
        "plt.xlabel('Year')"
      ]
    },
    {
      "cell_type": "markdown",
      "metadata": {
        "id": "BXjM1RfLxbAC"
      },
      "source": [
        "The data has a lot of small variation that can make it\n",
        "harder to see the overall trend.  Let's plot smoothed\n",
        "data from a rolling average \n",
        "by combining the Pandas series functions `.rolling()` and `.mean()`."
      ]
    },
    {
      "cell_type": "code",
      "execution_count": null,
      "metadata": {
        "id": "CpxPNyz1xbAD",
        "outputId": "291055d2-5c3c-468d-80ad-63553c91e595",
        "colab": {
          "base_uri": "https://localhost:8080/",
          "height": 437
        }
      },
      "outputs": [
        {
          "output_type": "execute_result",
          "data": {
            "text/plain": [
              "Text(0.5, 0, 'Year')"
            ]
          },
          "metadata": {},
          "execution_count": 51
        },
        {
          "output_type": "display_data",
          "data": {
            "text/plain": [
              "<Figure size 432x432 with 1 Axes>"
            ],
            "image/png": "[encoded data removed]"
          },
          "metadata": {}
        }
      ],
      "source": [
        "plt.style.use('fivethirtyeight')\n",
        "\n",
        "fig = plt.figure(figsize=(6,6))\n",
        "ax = fig.gca()\n",
        "\n",
        "ecodf[ecodf['Vehicle Type']=='Car SUV']['Real-World MPG'].rolling(10).mean().plot(ax=ax, linewidth=4)\n",
        "\n",
        "ax.legend()\n",
        "plt.ylabel('Miles per Gallon')\n",
        "plt.xlabel('Year')"
      ]
    },
    {
      "cell_type": "markdown",
      "metadata": {
        "id": "ItXG3zeCxbAD"
      },
      "source": [
        "## 2. Your turn, the fuel prices dataset\n",
        "\n",
        "The goal of this portion of the notebook is to construct a correlation between **fuel prices** and **fuel efficiency**.  We've already imported and formatted the fuel efficiency dataset, but you'll be starting from the original .csv for the fuel prices dataset.\n",
        "\n",
        "To do this consider the following challenge questions:\n",
        "\n",
        "1. How do you format the fuel price data with a `datetime` index?  It may be helpful to distinguish between monthly values and yearly averages (the yearly averages end in \"13\" for this dataset).\n",
        "\n",
        "2. How should you handle missing data in the `Value` column?\n",
        "\n",
        "3. Do you see a trend in regular unleaded gas prices? (the column is `RUUCUUS` for regular unleaded gas)\n",
        "\n",
        "4. Find a correlation between the **fuel price** and **fuel efficiency**.  To do this you may want to combine the relevant values from the different dataframes using `pd.merge_asof()` and then use the function `.corr()` on the combined dataframe.\n",
        "\n",
        "5. Try to plot the **fuel price** and **fuel efficiency** on the same plot, but with different y-axis scales -- do you observe a correlation?\n",
        "\n",
        "6. Plot **fuel price** and **fuel efficiency** using a rolling average, for example `rolling(5).mean()` on a Pandas series to display a 5 year rolling average.  See above for an example of rolling average.  Plot the rolling averages like you plotted the values in the previous question.\n",
        "\n",
        "5. (*) Use seaborn's `jointplot()` to plot MPG vs Price to deduce a correlation.  `import seaborn as sns`"
      ]
    },
    {
      "cell_type": "markdown",
      "metadata": {
        "id": "miqYbCBUxbAE"
      },
      "source": [
        "### Getting started\n",
        "\n",
        "First import the data"
      ]
    },
    {
      "cell_type": "code",
      "execution_count": 30,
      "metadata": {
        "id": "ATyW8gDIxbAF",
        "outputId": "3be021bd-787a-4346-ce40-4679ce8346bd",
        "colab": {
          "base_uri": "https://localhost:8080/",
          "height": 424
        }
      },
      "outputs": [
        {
          "output_type": "execute_result",
          "data": {
            "text/plain": [
              "          MSN  YYYYMM  Value  Column_Order  \\\n",
              "0     RLUCUUS  194913  0.268             1   \n",
              "1     RLUCUUS  195013  0.268             1   \n",
              "2     RLUCUUS  195113  0.272             1   \n",
              "3     RLUCUUS  195213  0.274             1   \n",
              "4     RLUCUUS  195313  0.287             1   \n",
              "...       ...     ...    ...           ...   \n",
              "5379  DFONUUS  202208  5.013             8   \n",
              "5380  DFONUUS  202209  4.993             8   \n",
              "5381  DFONUUS  202210  5.211             8   \n",
              "5382  DFONUUS  202211  5.255             8   \n",
              "5383  DFONUUS  202212  4.714             8   \n",
              "\n",
              "                                            Description  \\\n",
              "0     Leaded Regular Gasoline, U.S. City Average Ret...   \n",
              "1     Leaded Regular Gasoline, U.S. City Average Ret...   \n",
              "2     Leaded Regular Gasoline, U.S. City Average Ret...   \n",
              "3     Leaded Regular Gasoline, U.S. City Average Ret...   \n",
              "4     Leaded Regular Gasoline, U.S. City Average Ret...   \n",
              "...                                                 ...   \n",
              "5379                       On-Highway Diesel Fuel Price   \n",
              "5380                       On-Highway Diesel Fuel Price   \n",
              "5381                       On-Highway Diesel Fuel Price   \n",
              "5382                       On-Highway Diesel Fuel Price   \n",
              "5383                       On-Highway Diesel Fuel Price   \n",
              "\n",
              "                                    Unit  \n",
              "0     Dollars per Gallon Including Taxes  \n",
              "1     Dollars per Gallon Including Taxes  \n",
              "2     Dollars per Gallon Including Taxes  \n",
              "3     Dollars per Gallon Including Taxes  \n",
              "4     Dollars per Gallon Including Taxes  \n",
              "...                                  ...  \n",
              "5379  Dollars per Gallon Including Taxes  \n",
              "5380  Dollars per Gallon Including Taxes  \n",
              "5381  Dollars per Gallon Including Taxes  \n",
              "5382  Dollars per Gallon Including Taxes  \n",
              "5383  Dollars per Gallon Including Taxes  \n",
              "\n",
              "[5384 rows x 6 columns]"
            ],
            "text/html": [
              "\n",
              "  <div id=\"df-e2dce48f-99d4-4757-8c73-0a59eaa73e26\">\n",
              "    <div class=\"colab-df-container\">\n",
              "      <div>\n",
              "<style scoped>\n",
              "    .dataframe tbody tr th:only-of-type {\n",
              "        vertical-align: middle;\n",
              "    }\n",
              "\n",
              "    .dataframe tbody tr th {\n",
              "        vertical-align: top;\n",
              "    }\n",
              "\n",
              "    .dataframe thead th {\n",
              "        text-align: right;\n",
              "    }\n",
              "</style>\n",
              "<table border=\"1\" class=\"dataframe\">\n",
              "  <thead>\n",
              "    <tr style=\"text-align: right;\">\n",
              "      <th></th>\n",
              "      <th>MSN</th>\n",
              "      <th>YYYYMM</th>\n",
              "      <th>Value</th>\n",
              "      <th>Column_Order</th>\n",
              "      <th>Description</th>\n",
              "      <th>Unit</th>\n",
              "    </tr>\n",
              "  </thead>\n",
              "  <tbody>\n",
              "    <tr>\n",
              "      <th>0</th>\n",
              "      <td>RLUCUUS</td>\n",
              "      <td>194913</td>\n",
              "      <td>0.268</td>\n",
              "      <td>1</td>\n",
              "      <td>Leaded Regular Gasoline, U.S. City Average Ret...</td>\n",
              "      <td>Dollars per Gallon Including Taxes</td>\n",
              "    </tr>\n",
              "    <tr>\n",
              "      <th>1</th>\n",
              "      <td>RLUCUUS</td>\n",
              "      <td>195013</td>\n",
              "      <td>0.268</td>\n",
              "      <td>1</td>\n",
              "      <td>Leaded Regular Gasoline, U.S. City Average Ret...</td>\n",
              "      <td>Dollars per Gallon Including Taxes</td>\n",
              "    </tr>\n",
              "    <tr>\n",
              "      <th>2</th>\n",
              "      <td>RLUCUUS</td>\n",
              "      <td>195113</td>\n",
              "      <td>0.272</td>\n",
              "      <td>1</td>\n",
              "      <td>Leaded Regular Gasoline, U.S. City Average Ret...</td>\n",
              "      <td>Dollars per Gallon Including Taxes</td>\n",
              "    </tr>\n",
              "    <tr>\n",
              "      <th>3</th>\n",
              "      <td>RLUCUUS</td>\n",
              "      <td>195213</td>\n",
              "      <td>0.274</td>\n",
              "      <td>1</td>\n",
              "      <td>Leaded Regular Gasoline, U.S. City Average Ret...</td>\n",
              "      <td>Dollars per Gallon Including Taxes</td>\n",
              "    </tr>\n",
              "    <tr>\n",
              "      <th>4</th>\n",
              "      <td>RLUCUUS</td>\n",
              "      <td>195313</td>\n",
              "      <td>0.287</td>\n",
              "      <td>1</td>\n",
              "      <td>Leaded Regular Gasoline, U.S. City Average Ret...</td>\n",
              "      <td>Dollars per Gallon Including Taxes</td>\n",
              "    </tr>\n",
              "    <tr>\n",
              "      <th>...</th>\n",
              "      <td>...</td>\n",
              "      <td>...</td>\n",
              "      <td>...</td>\n",
              "      <td>...</td>\n",
              "      <td>...</td>\n",
              "      <td>...</td>\n",
              "    </tr>\n",
              "    <tr>\n",
              "      <th>5379</th>\n",
              "      <td>DFONUUS</td>\n",
              "      <td>202208</td>\n",
              "      <td>5.013</td>\n",
              "      <td>8</td>\n",
              "      <td>On-Highway Diesel Fuel Price</td>\n",
              "      <td>Dollars per Gallon Including Taxes</td>\n",
              "    </tr>\n",
              "    <tr>\n",
              "      <th>5380</th>\n",
              "      <td>DFONUUS</td>\n",
              "      <td>202209</td>\n",
              "      <td>4.993</td>\n",
              "      <td>8</td>\n",
              "      <td>On-Highway Diesel Fuel Price</td>\n",
              "      <td>Dollars per Gallon Including Taxes</td>\n",
              "    </tr>\n",
              "    <tr>\n",
              "      <th>5381</th>\n",
              "      <td>DFONUUS</td>\n",
              "      <td>202210</td>\n",
              "      <td>5.211</td>\n",
              "      <td>8</td>\n",
              "      <td>On-Highway Diesel Fuel Price</td>\n",
              "      <td>Dollars per Gallon Including Taxes</td>\n",
              "    </tr>\n",
              "    <tr>\n",
              "      <th>5382</th>\n",
              "      <td>DFONUUS</td>\n",
              "      <td>202211</td>\n",
              "      <td>5.255</td>\n",
              "      <td>8</td>\n",
              "      <td>On-Highway Diesel Fuel Price</td>\n",
              "      <td>Dollars per Gallon Including Taxes</td>\n",
              "    </tr>\n",
              "    <tr>\n",
              "      <th>5383</th>\n",
              "      <td>DFONUUS</td>\n",
              "      <td>202212</td>\n",
              "      <td>4.714</td>\n",
              "      <td>8</td>\n",
              "      <td>On-Highway Diesel Fuel Price</td>\n",
              "      <td>Dollars per Gallon Including Taxes</td>\n",
              "    </tr>\n",
              "  </tbody>\n",
              "</table>\n",
              "<p>5384 rows × 6 columns</p>\n",
              "</div>\n",
              "      <button class=\"colab-df-convert\" onclick=\"convertToInteractive('df-e2dce48f-99d4-4757-8c73-0a59eaa73e26')\"\n",
              "              title=\"Convert this dataframe to an interactive table.\"\n",
              "              style=\"display:none;\">\n",
              "        \n",
              "  <svg xmlns=\"http://www.w3.org/2000/svg\" height=\"24px\"viewBox=\"0 0 24 24\"\n",
              "       width=\"24px\">\n",
              "    <path d=\"M0 0h24v24H0V0z\" fill=\"none\"/>\n",
              "    <path d=\"M18.56 5.44l.94 2.06.94-2.06 2.06-.94-2.06-.94-.94-2.06-.94 2.06-2.06.94zm-11 1L8.5 8.5l.94-2.06 2.06-.94-2.06-.94L8.5 2.5l-.94 2.06-2.06.94zm10 10l.94 2.06.94-2.06 2.06-.94-2.06-.94-.94-2.06-.94 2.06-2.06.94z\"/><path d=\"M17.41 7.96l-1.37-1.37c-.4-.4-.92-.59-1.43-.59-.52 0-1.04.2-1.43.59L10.3 9.45l-7.72 7.72c-.78.78-.78 2.05 0 2.83L4 21.41c.39.39.9.59 1.41.59.51 0 1.02-.2 1.41-.59l7.78-7.78 2.81-2.81c.8-.78.8-2.07 0-2.86zM5.41 20L4 18.59l7.72-7.72 1.47 1.35L5.41 20z\"/>\n",
              "  </svg>\n",
              "      </button>\n",
              "      \n",
              "  <style>\n",
              "    .colab-df-container {\n",
              "      display:flex;\n",
              "      flex-wrap:wrap;\n",
              "      gap: 12px;\n",
              "    }\n",
              "\n",
              "    .colab-df-convert {\n",
              "      background-color: #E8F0FE;\n",
              "      border: none;\n",
              "      border-radius: 50%;\n",
              "      cursor: pointer;\n",
              "      display: none;\n",
              "      fill: #1967D2;\n",
              "      height: 32px;\n",
              "      padding: 0 0 0 0;\n",
              "      width: 32px;\n",
              "    }\n",
              "\n",
              "    .colab-df-convert:hover {\n",
              "      background-color: #E2EBFA;\n",
              "      box-shadow: 0px 1px 2px rgba(60, 64, 67, 0.3), 0px 1px 3px 1px rgba(60, 64, 67, 0.15);\n",
              "      fill: #174EA6;\n",
              "    }\n",
              "\n",
              "    [theme=dark] .colab-df-convert {\n",
              "      background-color: #3B4455;\n",
              "      fill: #D2E3FC;\n",
              "    }\n",
              "\n",
              "    [theme=dark] .colab-df-convert:hover {\n",
              "      background-color: #434B5C;\n",
              "      box-shadow: 0px 1px 3px 1px rgba(0, 0, 0, 0.15);\n",
              "      filter: drop-shadow(0px 1px 2px rgba(0, 0, 0, 0.3));\n",
              "      fill: #FFFFFF;\n",
              "    }\n",
              "  </style>\n",
              "\n",
              "      <script>\n",
              "        const buttonEl =\n",
              "          document.querySelector('#df-e2dce48f-99d4-4757-8c73-0a59eaa73e26 button.colab-df-convert');\n",
              "        buttonEl.style.display =\n",
              "          google.colab.kernel.accessAllowed ? 'block' : 'none';\n",
              "\n",
              "        async function convertToInteractive(key) {\n",
              "          const element = document.querySelector('#df-e2dce48f-99d4-4757-8c73-0a59eaa73e26');\n",
              "          const dataTable =\n",
              "            await google.colab.kernel.invokeFunction('convertToInteractive',\n",
              "                                                     [key], {});\n",
              "          if (!dataTable) return;\n",
              "\n",
              "          const docLinkHtml = 'Like what you see? Visit the ' +\n",
              "            '<a target=\"_blank\" href=https://colab.research.google.com/notebooks/data_table.ipynb>data table notebook</a>'\n",
              "            + ' to learn more about interactive tables.';\n",
              "          element.innerHTML = '';\n",
              "          dataTable['output_type'] = 'display_data';\n",
              "          await google.colab.output.renderOutput(dataTable, element);\n",
              "          const docLink = document.createElement('div');\n",
              "          docLink.innerHTML = docLinkHtml;\n",
              "          element.appendChild(docLink);\n",
              "        }\n",
              "      </script>\n",
              "    </div>\n",
              "  </div>\n",
              "  "
            ]
          },
          "metadata": {},
          "execution_count": 30
        }
      ],
      "source": [
        "pricedf = pd.read_csv('MER_T09_04.csv')\n",
        "pricedf"
      ]
    },
    {
      "cell_type": "markdown",
      "source": [
        "Other dataframe info\n",
        "Number of rows and cols"
      ],
      "metadata": {
        "id": "BAvoyxrp87FA"
      }
    },
    {
      "cell_type": "code",
      "source": [
        "pricedf.shape"
      ],
      "metadata": {
        "id": "WxPQ_sBv86bF",
        "outputId": "f1e0f356-7629-4e8f-fe84-bad2c5a80704",
        "colab": {
          "base_uri": "https://localhost:8080/"
        }
      },
      "execution_count": 6,
      "outputs": [
        {
          "output_type": "execute_result",
          "data": {
            "text/plain": [
              "(5384, 6)"
            ]
          },
          "metadata": {},
          "execution_count": 6
        }
      ]
    },
    {
      "cell_type": "code",
      "source": [
        "pricedf.columns"
      ],
      "metadata": {
        "id": "tF6XDARDAELn",
        "outputId": "bc85d6d3-ee99-43ee-862a-1a20df51dc97",
        "colab": {
          "base_uri": "https://localhost:8080/"
        }
      },
      "execution_count": 31,
      "outputs": [
        {
          "output_type": "execute_result",
          "data": {
            "text/plain": [
              "Index(['MSN', 'YYYYMM', 'Value', 'Column_Order', 'Description', 'Unit'], dtype='object')"
            ]
          },
          "metadata": {},
          "execution_count": 31
        }
      ]
    },
    {
      "cell_type": "markdown",
      "metadata": {
        "id": "ebt40uDcxbAF"
      },
      "source": [
        "Next, do two things:\n",
        "\n",
        "1. Make a column called `Data Type` and mark it as `AVG` if the year string contains a `13`.\n",
        "2. For each row that's an `AVG`, format the year string in one way."
      ]
    },
    {
      "cell_type": "code",
      "source": [
        "x = str(1000)\n",
        "x[-2]"
      ],
      "metadata": {
        "id": "MDO3CSofA1IP",
        "outputId": "fc886668-ebcc-4eb4-8a4e-6c0105e886a6",
        "colab": {
          "base_uri": "https://localhost:8080/",
          "height": 35
        }
      },
      "execution_count": 13,
      "outputs": [
        {
          "output_type": "execute_result",
          "data": {
            "text/plain": [
              "'0'"
            ],
            "application/vnd.google.colaboratory.intrinsic+json": {
              "type": "string"
            }
          },
          "metadata": {},
          "execution_count": 13
        }
      ]
    },
    {
      "cell_type": "code",
      "execution_count": 32,
      "metadata": {
        "id": "E-ukxnuBxbAG",
        "outputId": "2e50462c-b03f-4593-8fad-0dac9a015aa5",
        "colab": {
          "base_uri": "https://localhost:8080/",
          "height": 424
        }
      },
      "outputs": [
        {
          "output_type": "execute_result",
          "data": {
            "text/plain": [
              "          MSN  YYYYMM  Value  Column_Order  \\\n",
              "0     RLUCUUS  194913  0.268             1   \n",
              "1     RLUCUUS  195013  0.268             1   \n",
              "2     RLUCUUS  195113  0.272             1   \n",
              "3     RLUCUUS  195213  0.274             1   \n",
              "4     RLUCUUS  195313  0.287             1   \n",
              "...       ...     ...    ...           ...   \n",
              "5379  DFONUUS  202208  5.013             8   \n",
              "5380  DFONUUS  202209  4.993             8   \n",
              "5381  DFONUUS  202210  5.211             8   \n",
              "5382  DFONUUS  202211  5.255             8   \n",
              "5383  DFONUUS  202212  4.714             8   \n",
              "\n",
              "                                            Description  \\\n",
              "0     Leaded Regular Gasoline, U.S. City Average Ret...   \n",
              "1     Leaded Regular Gasoline, U.S. City Average Ret...   \n",
              "2     Leaded Regular Gasoline, U.S. City Average Ret...   \n",
              "3     Leaded Regular Gasoline, U.S. City Average Ret...   \n",
              "4     Leaded Regular Gasoline, U.S. City Average Ret...   \n",
              "...                                                 ...   \n",
              "5379                       On-Highway Diesel Fuel Price   \n",
              "5380                       On-Highway Diesel Fuel Price   \n",
              "5381                       On-Highway Diesel Fuel Price   \n",
              "5382                       On-Highway Diesel Fuel Price   \n",
              "5383                       On-Highway Diesel Fuel Price   \n",
              "\n",
              "                                    Unit Data Type  \n",
              "0     Dollars per Gallon Including Taxes       AVG  \n",
              "1     Dollars per Gallon Including Taxes       AVG  \n",
              "2     Dollars per Gallon Including Taxes       AVG  \n",
              "3     Dollars per Gallon Including Taxes       AVG  \n",
              "4     Dollars per Gallon Including Taxes       AVG  \n",
              "...                                  ...       ...  \n",
              "5379  Dollars per Gallon Including Taxes            \n",
              "5380  Dollars per Gallon Including Taxes            \n",
              "5381  Dollars per Gallon Including Taxes            \n",
              "5382  Dollars per Gallon Including Taxes            \n",
              "5383  Dollars per Gallon Including Taxes            \n",
              "\n",
              "[5384 rows x 7 columns]"
            ],
            "text/html": [
              "\n",
              "  <div id=\"df-342fcfad-da5e-421b-a6cf-435e892d0040\">\n",
              "    <div class=\"colab-df-container\">\n",
              "      <div>\n",
              "<style scoped>\n",
              "    .dataframe tbody tr th:only-of-type {\n",
              "        vertical-align: middle;\n",
              "    }\n",
              "\n",
              "    .dataframe tbody tr th {\n",
              "        vertical-align: top;\n",
              "    }\n",
              "\n",
              "    .dataframe thead th {\n",
              "        text-align: right;\n",
              "    }\n",
              "</style>\n",
              "<table border=\"1\" class=\"dataframe\">\n",
              "  <thead>\n",
              "    <tr style=\"text-align: right;\">\n",
              "      <th></th>\n",
              "      <th>MSN</th>\n",
              "      <th>YYYYMM</th>\n",
              "      <th>Value</th>\n",
              "      <th>Column_Order</th>\n",
              "      <th>Description</th>\n",
              "      <th>Unit</th>\n",
              "      <th>Data Type</th>\n",
              "    </tr>\n",
              "  </thead>\n",
              "  <tbody>\n",
              "    <tr>\n",
              "      <th>0</th>\n",
              "      <td>RLUCUUS</td>\n",
              "      <td>194913</td>\n",
              "      <td>0.268</td>\n",
              "      <td>1</td>\n",
              "      <td>Leaded Regular Gasoline, U.S. City Average Ret...</td>\n",
              "      <td>Dollars per Gallon Including Taxes</td>\n",
              "      <td>AVG</td>\n",
              "    </tr>\n",
              "    <tr>\n",
              "      <th>1</th>\n",
              "      <td>RLUCUUS</td>\n",
              "      <td>195013</td>\n",
              "      <td>0.268</td>\n",
              "      <td>1</td>\n",
              "      <td>Leaded Regular Gasoline, U.S. City Average Ret...</td>\n",
              "      <td>Dollars per Gallon Including Taxes</td>\n",
              "      <td>AVG</td>\n",
              "    </tr>\n",
              "    <tr>\n",
              "      <th>2</th>\n",
              "      <td>RLUCUUS</td>\n",
              "      <td>195113</td>\n",
              "      <td>0.272</td>\n",
              "      <td>1</td>\n",
              "      <td>Leaded Regular Gasoline, U.S. City Average Ret...</td>\n",
              "      <td>Dollars per Gallon Including Taxes</td>\n",
              "      <td>AVG</td>\n",
              "    </tr>\n",
              "    <tr>\n",
              "      <th>3</th>\n",
              "      <td>RLUCUUS</td>\n",
              "      <td>195213</td>\n",
              "      <td>0.274</td>\n",
              "      <td>1</td>\n",
              "      <td>Leaded Regular Gasoline, U.S. City Average Ret...</td>\n",
              "      <td>Dollars per Gallon Including Taxes</td>\n",
              "      <td>AVG</td>\n",
              "    </tr>\n",
              "    <tr>\n",
              "      <th>4</th>\n",
              "      <td>RLUCUUS</td>\n",
              "      <td>195313</td>\n",
              "      <td>0.287</td>\n",
              "      <td>1</td>\n",
              "      <td>Leaded Regular Gasoline, U.S. City Average Ret...</td>\n",
              "      <td>Dollars per Gallon Including Taxes</td>\n",
              "      <td>AVG</td>\n",
              "    </tr>\n",
              "    <tr>\n",
              "      <th>...</th>\n",
              "      <td>...</td>\n",
              "      <td>...</td>\n",
              "      <td>...</td>\n",
              "      <td>...</td>\n",
              "      <td>...</td>\n",
              "      <td>...</td>\n",
              "      <td>...</td>\n",
              "    </tr>\n",
              "    <tr>\n",
              "      <th>5379</th>\n",
              "      <td>DFONUUS</td>\n",
              "      <td>202208</td>\n",
              "      <td>5.013</td>\n",
              "      <td>8</td>\n",
              "      <td>On-Highway Diesel Fuel Price</td>\n",
              "      <td>Dollars per Gallon Including Taxes</td>\n",
              "      <td></td>\n",
              "    </tr>\n",
              "    <tr>\n",
              "      <th>5380</th>\n",
              "      <td>DFONUUS</td>\n",
              "      <td>202209</td>\n",
              "      <td>4.993</td>\n",
              "      <td>8</td>\n",
              "      <td>On-Highway Diesel Fuel Price</td>\n",
              "      <td>Dollars per Gallon Including Taxes</td>\n",
              "      <td></td>\n",
              "    </tr>\n",
              "    <tr>\n",
              "      <th>5381</th>\n",
              "      <td>DFONUUS</td>\n",
              "      <td>202210</td>\n",
              "      <td>5.211</td>\n",
              "      <td>8</td>\n",
              "      <td>On-Highway Diesel Fuel Price</td>\n",
              "      <td>Dollars per Gallon Including Taxes</td>\n",
              "      <td></td>\n",
              "    </tr>\n",
              "    <tr>\n",
              "      <th>5382</th>\n",
              "      <td>DFONUUS</td>\n",
              "      <td>202211</td>\n",
              "      <td>5.255</td>\n",
              "      <td>8</td>\n",
              "      <td>On-Highway Diesel Fuel Price</td>\n",
              "      <td>Dollars per Gallon Including Taxes</td>\n",
              "      <td></td>\n",
              "    </tr>\n",
              "    <tr>\n",
              "      <th>5383</th>\n",
              "      <td>DFONUUS</td>\n",
              "      <td>202212</td>\n",
              "      <td>4.714</td>\n",
              "      <td>8</td>\n",
              "      <td>On-Highway Diesel Fuel Price</td>\n",
              "      <td>Dollars per Gallon Including Taxes</td>\n",
              "      <td></td>\n",
              "    </tr>\n",
              "  </tbody>\n",
              "</table>\n",
              "<p>5384 rows × 7 columns</p>\n",
              "</div>\n",
              "      <button class=\"colab-df-convert\" onclick=\"convertToInteractive('df-342fcfad-da5e-421b-a6cf-435e892d0040')\"\n",
              "              title=\"Convert this dataframe to an interactive table.\"\n",
              "              style=\"display:none;\">\n",
              "        \n",
              "  <svg xmlns=\"http://www.w3.org/2000/svg\" height=\"24px\"viewBox=\"0 0 24 24\"\n",
              "       width=\"24px\">\n",
              "    <path d=\"M0 0h24v24H0V0z\" fill=\"none\"/>\n",
              "    <path d=\"M18.56 5.44l.94 2.06.94-2.06 2.06-.94-2.06-.94-.94-2.06-.94 2.06-2.06.94zm-11 1L8.5 8.5l.94-2.06 2.06-.94-2.06-.94L8.5 2.5l-.94 2.06-2.06.94zm10 10l.94 2.06.94-2.06 2.06-.94-2.06-.94-.94-2.06-.94 2.06-2.06.94z\"/><path d=\"M17.41 7.96l-1.37-1.37c-.4-.4-.92-.59-1.43-.59-.52 0-1.04.2-1.43.59L10.3 9.45l-7.72 7.72c-.78.78-.78 2.05 0 2.83L4 21.41c.39.39.9.59 1.41.59.51 0 1.02-.2 1.41-.59l7.78-7.78 2.81-2.81c.8-.78.8-2.07 0-2.86zM5.41 20L4 18.59l7.72-7.72 1.47 1.35L5.41 20z\"/>\n",
              "  </svg>\n",
              "      </button>\n",
              "      \n",
              "  <style>\n",
              "    .colab-df-container {\n",
              "      display:flex;\n",
              "      flex-wrap:wrap;\n",
              "      gap: 12px;\n",
              "    }\n",
              "\n",
              "    .colab-df-convert {\n",
              "      background-color: #E8F0FE;\n",
              "      border: none;\n",
              "      border-radius: 50%;\n",
              "      cursor: pointer;\n",
              "      display: none;\n",
              "      fill: #1967D2;\n",
              "      height: 32px;\n",
              "      padding: 0 0 0 0;\n",
              "      width: 32px;\n",
              "    }\n",
              "\n",
              "    .colab-df-convert:hover {\n",
              "      background-color: #E2EBFA;\n",
              "      box-shadow: 0px 1px 2px rgba(60, 64, 67, 0.3), 0px 1px 3px 1px rgba(60, 64, 67, 0.15);\n",
              "      fill: #174EA6;\n",
              "    }\n",
              "\n",
              "    [theme=dark] .colab-df-convert {\n",
              "      background-color: #3B4455;\n",
              "      fill: #D2E3FC;\n",
              "    }\n",
              "\n",
              "    [theme=dark] .colab-df-convert:hover {\n",
              "      background-color: #434B5C;\n",
              "      box-shadow: 0px 1px 3px 1px rgba(0, 0, 0, 0.15);\n",
              "      filter: drop-shadow(0px 1px 2px rgba(0, 0, 0, 0.3));\n",
              "      fill: #FFFFFF;\n",
              "    }\n",
              "  </style>\n",
              "\n",
              "      <script>\n",
              "        const buttonEl =\n",
              "          document.querySelector('#df-342fcfad-da5e-421b-a6cf-435e892d0040 button.colab-df-convert');\n",
              "        buttonEl.style.display =\n",
              "          google.colab.kernel.accessAllowed ? 'block' : 'none';\n",
              "\n",
              "        async function convertToInteractive(key) {\n",
              "          const element = document.querySelector('#df-342fcfad-da5e-421b-a6cf-435e892d0040');\n",
              "          const dataTable =\n",
              "            await google.colab.kernel.invokeFunction('convertToInteractive',\n",
              "                                                     [key], {});\n",
              "          if (!dataTable) return;\n",
              "\n",
              "          const docLinkHtml = 'Like what you see? Visit the ' +\n",
              "            '<a target=\"_blank\" href=https://colab.research.google.com/notebooks/data_table.ipynb>data table notebook</a>'\n",
              "            + ' to learn more about interactive tables.';\n",
              "          element.innerHTML = '';\n",
              "          dataTable['output_type'] = 'display_data';\n",
              "          await google.colab.output.renderOutput(dataTable, element);\n",
              "          const docLink = document.createElement('div');\n",
              "          docLink.innerHTML = docLinkHtml;\n",
              "          element.appendChild(docLink);\n",
              "        }\n",
              "      </script>\n",
              "    </div>\n",
              "  </div>\n",
              "  "
            ]
          },
          "metadata": {},
          "execution_count": 32
        }
      ],
      "source": [
        "def marker_avg(x):\n",
        "  if str(x)[-2:] == '13':\n",
        "    return 'AVG'\n",
        "  else:\n",
        "    return ''\n",
        "\n",
        "\n",
        "pricedf['Data Type'] = pricedf['YYYYMM'].apply(marker_avg)\n",
        "\n",
        "pricedf"
      ]
    },
    {
      "cell_type": "markdown",
      "source": [
        "What type of variable is the value column?"
      ],
      "metadata": {
        "id": "IGrnDfCTCDiI"
      }
    },
    {
      "cell_type": "code",
      "source": [
        "type(pricedf['Value'][0])"
      ],
      "metadata": {
        "id": "VNsBtvPUCG8b",
        "outputId": "901cc1fe-d532-4927-8ec8-4b2ae626b48b",
        "colab": {
          "base_uri": "https://localhost:8080/"
        }
      },
      "execution_count": 33,
      "outputs": [
        {
          "output_type": "execute_result",
          "data": {
            "text/plain": [
              "str"
            ]
          },
          "metadata": {},
          "execution_count": 33
        }
      ]
    },
    {
      "cell_type": "markdown",
      "source": [
        "There are 'No Available' strings in some of the Value parameters. Let's get rid of them"
      ],
      "metadata": {
        "id": "3y5CUKhVDEFX"
      }
    },
    {
      "cell_type": "code",
      "source": [
        "def string2val(x):\n",
        "  if isinstance(x, str):\n",
        "    return 0.0\n",
        "  else:\n",
        "    pass\n",
        "\n",
        "pricedf['Value'] = pricedf['Value'].apply(string2val)\n",
        "pricedf"
      ],
      "metadata": {
        "id": "CM5kOqjmDJ0z",
        "outputId": "082b4ff6-6312-4adf-c04e-d387fc5d38bb",
        "colab": {
          "base_uri": "https://localhost:8080/",
          "height": 424
        }
      },
      "execution_count": 29,
      "outputs": [
        {
          "output_type": "execute_result",
          "data": {
            "text/plain": [
              "          MSN YYYYMM  Value  Column_Order  \\\n",
              "0     RLUCUUS   None    0.0             1   \n",
              "1     RLUCUUS   None    0.0             1   \n",
              "2     RLUCUUS   None    0.0             1   \n",
              "3     RLUCUUS   None    0.0             1   \n",
              "4     RLUCUUS   None    0.0             1   \n",
              "...       ...    ...    ...           ...   \n",
              "5379  DFONUUS   None    0.0             8   \n",
              "5380  DFONUUS   None    0.0             8   \n",
              "5381  DFONUUS   None    0.0             8   \n",
              "5382  DFONUUS   None    0.0             8   \n",
              "5383  DFONUUS   None    0.0             8   \n",
              "\n",
              "                                            Description  \\\n",
              "0     Leaded Regular Gasoline, U.S. City Average Ret...   \n",
              "1     Leaded Regular Gasoline, U.S. City Average Ret...   \n",
              "2     Leaded Regular Gasoline, U.S. City Average Ret...   \n",
              "3     Leaded Regular Gasoline, U.S. City Average Ret...   \n",
              "4     Leaded Regular Gasoline, U.S. City Average Ret...   \n",
              "...                                                 ...   \n",
              "5379                       On-Highway Diesel Fuel Price   \n",
              "5380                       On-Highway Diesel Fuel Price   \n",
              "5381                       On-Highway Diesel Fuel Price   \n",
              "5382                       On-Highway Diesel Fuel Price   \n",
              "5383                       On-Highway Diesel Fuel Price   \n",
              "\n",
              "                                    Unit Data Type  \n",
              "0     Dollars per Gallon Including Taxes       AVG  \n",
              "1     Dollars per Gallon Including Taxes       AVG  \n",
              "2     Dollars per Gallon Including Taxes       AVG  \n",
              "3     Dollars per Gallon Including Taxes       AVG  \n",
              "4     Dollars per Gallon Including Taxes       AVG  \n",
              "...                                  ...       ...  \n",
              "5379  Dollars per Gallon Including Taxes            \n",
              "5380  Dollars per Gallon Including Taxes            \n",
              "5381  Dollars per Gallon Including Taxes            \n",
              "5382  Dollars per Gallon Including Taxes            \n",
              "5383  Dollars per Gallon Including Taxes            \n",
              "\n",
              "[5384 rows x 7 columns]"
            ],
            "text/html": [
              "\n",
              "  <div id=\"df-369d3855-3869-45e3-8bb0-e25f06c6e382\">\n",
              "    <div class=\"colab-df-container\">\n",
              "      <div>\n",
              "<style scoped>\n",
              "    .dataframe tbody tr th:only-of-type {\n",
              "        vertical-align: middle;\n",
              "    }\n",
              "\n",
              "    .dataframe tbody tr th {\n",
              "        vertical-align: top;\n",
              "    }\n",
              "\n",
              "    .dataframe thead th {\n",
              "        text-align: right;\n",
              "    }\n",
              "</style>\n",
              "<table border=\"1\" class=\"dataframe\">\n",
              "  <thead>\n",
              "    <tr style=\"text-align: right;\">\n",
              "      <th></th>\n",
              "      <th>MSN</th>\n",
              "      <th>YYYYMM</th>\n",
              "      <th>Value</th>\n",
              "      <th>Column_Order</th>\n",
              "      <th>Description</th>\n",
              "      <th>Unit</th>\n",
              "      <th>Data Type</th>\n",
              "    </tr>\n",
              "  </thead>\n",
              "  <tbody>\n",
              "    <tr>\n",
              "      <th>0</th>\n",
              "      <td>RLUCUUS</td>\n",
              "      <td>None</td>\n",
              "      <td>0.0</td>\n",
              "      <td>1</td>\n",
              "      <td>Leaded Regular Gasoline, U.S. City Average Ret...</td>\n",
              "      <td>Dollars per Gallon Including Taxes</td>\n",
              "      <td>AVG</td>\n",
              "    </tr>\n",
              "    <tr>\n",
              "      <th>1</th>\n",
              "      <td>RLUCUUS</td>\n",
              "      <td>None</td>\n",
              "      <td>0.0</td>\n",
              "      <td>1</td>\n",
              "      <td>Leaded Regular Gasoline, U.S. City Average Ret...</td>\n",
              "      <td>Dollars per Gallon Including Taxes</td>\n",
              "      <td>AVG</td>\n",
              "    </tr>\n",
              "    <tr>\n",
              "      <th>2</th>\n",
              "      <td>RLUCUUS</td>\n",
              "      <td>None</td>\n",
              "      <td>0.0</td>\n",
              "      <td>1</td>\n",
              "      <td>Leaded Regular Gasoline, U.S. City Average Ret...</td>\n",
              "      <td>Dollars per Gallon Including Taxes</td>\n",
              "      <td>AVG</td>\n",
              "    </tr>\n",
              "    <tr>\n",
              "      <th>3</th>\n",
              "      <td>RLUCUUS</td>\n",
              "      <td>None</td>\n",
              "      <td>0.0</td>\n",
              "      <td>1</td>\n",
              "      <td>Leaded Regular Gasoline, U.S. City Average Ret...</td>\n",
              "      <td>Dollars per Gallon Including Taxes</td>\n",
              "      <td>AVG</td>\n",
              "    </tr>\n",
              "    <tr>\n",
              "      <th>4</th>\n",
              "      <td>RLUCUUS</td>\n",
              "      <td>None</td>\n",
              "      <td>0.0</td>\n",
              "      <td>1</td>\n",
              "      <td>Leaded Regular Gasoline, U.S. City Average Ret...</td>\n",
              "      <td>Dollars per Gallon Including Taxes</td>\n",
              "      <td>AVG</td>\n",
              "    </tr>\n",
              "    <tr>\n",
              "      <th>...</th>\n",
              "      <td>...</td>\n",
              "      <td>...</td>\n",
              "      <td>...</td>\n",
              "      <td>...</td>\n",
              "      <td>...</td>\n",
              "      <td>...</td>\n",
              "      <td>...</td>\n",
              "    </tr>\n",
              "    <tr>\n",
              "      <th>5379</th>\n",
              "      <td>DFONUUS</td>\n",
              "      <td>None</td>\n",
              "      <td>0.0</td>\n",
              "      <td>8</td>\n",
              "      <td>On-Highway Diesel Fuel Price</td>\n",
              "      <td>Dollars per Gallon Including Taxes</td>\n",
              "      <td></td>\n",
              "    </tr>\n",
              "    <tr>\n",
              "      <th>5380</th>\n",
              "      <td>DFONUUS</td>\n",
              "      <td>None</td>\n",
              "      <td>0.0</td>\n",
              "      <td>8</td>\n",
              "      <td>On-Highway Diesel Fuel Price</td>\n",
              "      <td>Dollars per Gallon Including Taxes</td>\n",
              "      <td></td>\n",
              "    </tr>\n",
              "    <tr>\n",
              "      <th>5381</th>\n",
              "      <td>DFONUUS</td>\n",
              "      <td>None</td>\n",
              "      <td>0.0</td>\n",
              "      <td>8</td>\n",
              "      <td>On-Highway Diesel Fuel Price</td>\n",
              "      <td>Dollars per Gallon Including Taxes</td>\n",
              "      <td></td>\n",
              "    </tr>\n",
              "    <tr>\n",
              "      <th>5382</th>\n",
              "      <td>DFONUUS</td>\n",
              "      <td>None</td>\n",
              "      <td>0.0</td>\n",
              "      <td>8</td>\n",
              "      <td>On-Highway Diesel Fuel Price</td>\n",
              "      <td>Dollars per Gallon Including Taxes</td>\n",
              "      <td></td>\n",
              "    </tr>\n",
              "    <tr>\n",
              "      <th>5383</th>\n",
              "      <td>DFONUUS</td>\n",
              "      <td>None</td>\n",
              "      <td>0.0</td>\n",
              "      <td>8</td>\n",
              "      <td>On-Highway Diesel Fuel Price</td>\n",
              "      <td>Dollars per Gallon Including Taxes</td>\n",
              "      <td></td>\n",
              "    </tr>\n",
              "  </tbody>\n",
              "</table>\n",
              "<p>5384 rows × 7 columns</p>\n",
              "</div>\n",
              "      <button class=\"colab-df-convert\" onclick=\"convertToInteractive('df-369d3855-3869-45e3-8bb0-e25f06c6e382')\"\n",
              "              title=\"Convert this dataframe to an interactive table.\"\n",
              "              style=\"display:none;\">\n",
              "        \n",
              "  <svg xmlns=\"http://www.w3.org/2000/svg\" height=\"24px\"viewBox=\"0 0 24 24\"\n",
              "       width=\"24px\">\n",
              "    <path d=\"M0 0h24v24H0V0z\" fill=\"none\"/>\n",
              "    <path d=\"M18.56 5.44l.94 2.06.94-2.06 2.06-.94-2.06-.94-.94-2.06-.94 2.06-2.06.94zm-11 1L8.5 8.5l.94-2.06 2.06-.94-2.06-.94L8.5 2.5l-.94 2.06-2.06.94zm10 10l.94 2.06.94-2.06 2.06-.94-2.06-.94-.94-2.06-.94 2.06-2.06.94z\"/><path d=\"M17.41 7.96l-1.37-1.37c-.4-.4-.92-.59-1.43-.59-.52 0-1.04.2-1.43.59L10.3 9.45l-7.72 7.72c-.78.78-.78 2.05 0 2.83L4 21.41c.39.39.9.59 1.41.59.51 0 1.02-.2 1.41-.59l7.78-7.78 2.81-2.81c.8-.78.8-2.07 0-2.86zM5.41 20L4 18.59l7.72-7.72 1.47 1.35L5.41 20z\"/>\n",
              "  </svg>\n",
              "      </button>\n",
              "      \n",
              "  <style>\n",
              "    .colab-df-container {\n",
              "      display:flex;\n",
              "      flex-wrap:wrap;\n",
              "      gap: 12px;\n",
              "    }\n",
              "\n",
              "    .colab-df-convert {\n",
              "      background-color: #E8F0FE;\n",
              "      border: none;\n",
              "      border-radius: 50%;\n",
              "      cursor: pointer;\n",
              "      display: none;\n",
              "      fill: #1967D2;\n",
              "      height: 32px;\n",
              "      padding: 0 0 0 0;\n",
              "      width: 32px;\n",
              "    }\n",
              "\n",
              "    .colab-df-convert:hover {\n",
              "      background-color: #E2EBFA;\n",
              "      box-shadow: 0px 1px 2px rgba(60, 64, 67, 0.3), 0px 1px 3px 1px rgba(60, 64, 67, 0.15);\n",
              "      fill: #174EA6;\n",
              "    }\n",
              "\n",
              "    [theme=dark] .colab-df-convert {\n",
              "      background-color: #3B4455;\n",
              "      fill: #D2E3FC;\n",
              "    }\n",
              "\n",
              "    [theme=dark] .colab-df-convert:hover {\n",
              "      background-color: #434B5C;\n",
              "      box-shadow: 0px 1px 3px 1px rgba(0, 0, 0, 0.15);\n",
              "      filter: drop-shadow(0px 1px 2px rgba(0, 0, 0, 0.3));\n",
              "      fill: #FFFFFF;\n",
              "    }\n",
              "  </style>\n",
              "\n",
              "      <script>\n",
              "        const buttonEl =\n",
              "          document.querySelector('#df-369d3855-3869-45e3-8bb0-e25f06c6e382 button.colab-df-convert');\n",
              "        buttonEl.style.display =\n",
              "          google.colab.kernel.accessAllowed ? 'block' : 'none';\n",
              "\n",
              "        async function convertToInteractive(key) {\n",
              "          const element = document.querySelector('#df-369d3855-3869-45e3-8bb0-e25f06c6e382');\n",
              "          const dataTable =\n",
              "            await google.colab.kernel.invokeFunction('convertToInteractive',\n",
              "                                                     [key], {});\n",
              "          if (!dataTable) return;\n",
              "\n",
              "          const docLinkHtml = 'Like what you see? Visit the ' +\n",
              "            '<a target=\"_blank\" href=https://colab.research.google.com/notebooks/data_table.ipynb>data table notebook</a>'\n",
              "            + ' to learn more about interactive tables.';\n",
              "          element.innerHTML = '';\n",
              "          dataTable['output_type'] = 'display_data';\n",
              "          await google.colab.output.renderOutput(dataTable, element);\n",
              "          const docLink = document.createElement('div');\n",
              "          docLink.innerHTML = docLinkHtml;\n",
              "          element.appendChild(docLink);\n",
              "        }\n",
              "      </script>\n",
              "    </div>\n",
              "  </div>\n",
              "  "
            ]
          },
          "metadata": {},
          "execution_count": 29
        }
      ]
    },
    {
      "cell_type": "code",
      "source": [],
      "metadata": {
        "id": "2V4SqLLDE-Gk"
      },
      "execution_count": null,
      "outputs": []
    },
    {
      "cell_type": "markdown",
      "source": [
        "Convert string series to float series"
      ],
      "metadata": {
        "id": "cCsIh7AYCXGD"
      }
    },
    {
      "cell_type": "code",
      "source": [
        "pricedf[pricedf['Value'] == 'Not Available']"
      ],
      "metadata": {
        "id": "PH5_fTRgEpOk",
        "outputId": "703cfade-09ed-41c6-b19c-7c6c8e6ad60e",
        "colab": {
          "base_uri": "https://localhost:8080/",
          "height": 424
        }
      },
      "execution_count": 28,
      "outputs": [
        {
          "output_type": "execute_result",
          "data": {
            "text/plain": [
              "          MSN YYYYMM          Value  Column_Order  \\\n",
              "24    RLUCUUS   None  Not Available             1   \n",
              "25    RLUCUUS   None  Not Available             1   \n",
              "26    RLUCUUS   None  Not Available             1   \n",
              "27    RLUCUUS   None  Not Available             1   \n",
              "28    RLUCUUS   None  Not Available             1   \n",
              "...       ...    ...            ...           ...   \n",
              "5016  DFONUUS   None  Not Available             8   \n",
              "5017  DFONUUS   None  Not Available             8   \n",
              "5018  DFONUUS   None  Not Available             8   \n",
              "5019  DFONUUS   None  Not Available             8   \n",
              "5020  DFONUUS   None  Not Available             8   \n",
              "\n",
              "                                            Description  \\\n",
              "24    Leaded Regular Gasoline, U.S. City Average Ret...   \n",
              "25    Leaded Regular Gasoline, U.S. City Average Ret...   \n",
              "26    Leaded Regular Gasoline, U.S. City Average Ret...   \n",
              "27    Leaded Regular Gasoline, U.S. City Average Ret...   \n",
              "28    Leaded Regular Gasoline, U.S. City Average Ret...   \n",
              "...                                                 ...   \n",
              "5016                       On-Highway Diesel Fuel Price   \n",
              "5017                       On-Highway Diesel Fuel Price   \n",
              "5018                       On-Highway Diesel Fuel Price   \n",
              "5019                       On-Highway Diesel Fuel Price   \n",
              "5020                       On-Highway Diesel Fuel Price   \n",
              "\n",
              "                                    Unit Data Type  \n",
              "24    Dollars per Gallon Including Taxes            \n",
              "25    Dollars per Gallon Including Taxes            \n",
              "26    Dollars per Gallon Including Taxes            \n",
              "27    Dollars per Gallon Including Taxes            \n",
              "28    Dollars per Gallon Including Taxes            \n",
              "...                                  ...       ...  \n",
              "5016  Dollars per Gallon Including Taxes            \n",
              "5017  Dollars per Gallon Including Taxes            \n",
              "5018  Dollars per Gallon Including Taxes            \n",
              "5019  Dollars per Gallon Including Taxes            \n",
              "5020  Dollars per Gallon Including Taxes       AVG  \n",
              "\n",
              "[527 rows x 7 columns]"
            ],
            "text/html": [
              "\n",
              "  <div id=\"df-b1baae98-970a-4ebb-adb1-5fc72a753232\">\n",
              "    <div class=\"colab-df-container\">\n",
              "      <div>\n",
              "<style scoped>\n",
              "    .dataframe tbody tr th:only-of-type {\n",
              "        vertical-align: middle;\n",
              "    }\n",
              "\n",
              "    .dataframe tbody tr th {\n",
              "        vertical-align: top;\n",
              "    }\n",
              "\n",
              "    .dataframe thead th {\n",
              "        text-align: right;\n",
              "    }\n",
              "</style>\n",
              "<table border=\"1\" class=\"dataframe\">\n",
              "  <thead>\n",
              "    <tr style=\"text-align: right;\">\n",
              "      <th></th>\n",
              "      <th>MSN</th>\n",
              "      <th>YYYYMM</th>\n",
              "      <th>Value</th>\n",
              "      <th>Column_Order</th>\n",
              "      <th>Description</th>\n",
              "      <th>Unit</th>\n",
              "      <th>Data Type</th>\n",
              "    </tr>\n",
              "  </thead>\n",
              "  <tbody>\n",
              "    <tr>\n",
              "      <th>24</th>\n",
              "      <td>RLUCUUS</td>\n",
              "      <td>None</td>\n",
              "      <td>Not Available</td>\n",
              "      <td>1</td>\n",
              "      <td>Leaded Regular Gasoline, U.S. City Average Ret...</td>\n",
              "      <td>Dollars per Gallon Including Taxes</td>\n",
              "      <td></td>\n",
              "    </tr>\n",
              "    <tr>\n",
              "      <th>25</th>\n",
              "      <td>RLUCUUS</td>\n",
              "      <td>None</td>\n",
              "      <td>Not Available</td>\n",
              "      <td>1</td>\n",
              "      <td>Leaded Regular Gasoline, U.S. City Average Ret...</td>\n",
              "      <td>Dollars per Gallon Including Taxes</td>\n",
              "      <td></td>\n",
              "    </tr>\n",
              "    <tr>\n",
              "      <th>26</th>\n",
              "      <td>RLUCUUS</td>\n",
              "      <td>None</td>\n",
              "      <td>Not Available</td>\n",
              "      <td>1</td>\n",
              "      <td>Leaded Regular Gasoline, U.S. City Average Ret...</td>\n",
              "      <td>Dollars per Gallon Including Taxes</td>\n",
              "      <td></td>\n",
              "    </tr>\n",
              "    <tr>\n",
              "      <th>27</th>\n",
              "      <td>RLUCUUS</td>\n",
              "      <td>None</td>\n",
              "      <td>Not Available</td>\n",
              "      <td>1</td>\n",
              "      <td>Leaded Regular Gasoline, U.S. City Average Ret...</td>\n",
              "      <td>Dollars per Gallon Including Taxes</td>\n",
              "      <td></td>\n",
              "    </tr>\n",
              "    <tr>\n",
              "      <th>28</th>\n",
              "      <td>RLUCUUS</td>\n",
              "      <td>None</td>\n",
              "      <td>Not Available</td>\n",
              "      <td>1</td>\n",
              "      <td>Leaded Regular Gasoline, U.S. City Average Ret...</td>\n",
              "      <td>Dollars per Gallon Including Taxes</td>\n",
              "      <td></td>\n",
              "    </tr>\n",
              "    <tr>\n",
              "      <th>...</th>\n",
              "      <td>...</td>\n",
              "      <td>...</td>\n",
              "      <td>...</td>\n",
              "      <td>...</td>\n",
              "      <td>...</td>\n",
              "      <td>...</td>\n",
              "      <td>...</td>\n",
              "    </tr>\n",
              "    <tr>\n",
              "      <th>5016</th>\n",
              "      <td>DFONUUS</td>\n",
              "      <td>None</td>\n",
              "      <td>Not Available</td>\n",
              "      <td>8</td>\n",
              "      <td>On-Highway Diesel Fuel Price</td>\n",
              "      <td>Dollars per Gallon Including Taxes</td>\n",
              "      <td></td>\n",
              "    </tr>\n",
              "    <tr>\n",
              "      <th>5017</th>\n",
              "      <td>DFONUUS</td>\n",
              "      <td>None</td>\n",
              "      <td>Not Available</td>\n",
              "      <td>8</td>\n",
              "      <td>On-Highway Diesel Fuel Price</td>\n",
              "      <td>Dollars per Gallon Including Taxes</td>\n",
              "      <td></td>\n",
              "    </tr>\n",
              "    <tr>\n",
              "      <th>5018</th>\n",
              "      <td>DFONUUS</td>\n",
              "      <td>None</td>\n",
              "      <td>Not Available</td>\n",
              "      <td>8</td>\n",
              "      <td>On-Highway Diesel Fuel Price</td>\n",
              "      <td>Dollars per Gallon Including Taxes</td>\n",
              "      <td></td>\n",
              "    </tr>\n",
              "    <tr>\n",
              "      <th>5019</th>\n",
              "      <td>DFONUUS</td>\n",
              "      <td>None</td>\n",
              "      <td>Not Available</td>\n",
              "      <td>8</td>\n",
              "      <td>On-Highway Diesel Fuel Price</td>\n",
              "      <td>Dollars per Gallon Including Taxes</td>\n",
              "      <td></td>\n",
              "    </tr>\n",
              "    <tr>\n",
              "      <th>5020</th>\n",
              "      <td>DFONUUS</td>\n",
              "      <td>None</td>\n",
              "      <td>Not Available</td>\n",
              "      <td>8</td>\n",
              "      <td>On-Highway Diesel Fuel Price</td>\n",
              "      <td>Dollars per Gallon Including Taxes</td>\n",
              "      <td>AVG</td>\n",
              "    </tr>\n",
              "  </tbody>\n",
              "</table>\n",
              "<p>527 rows × 7 columns</p>\n",
              "</div>\n",
              "      <button class=\"colab-df-convert\" onclick=\"convertToInteractive('df-b1baae98-970a-4ebb-adb1-5fc72a753232')\"\n",
              "              title=\"Convert this dataframe to an interactive table.\"\n",
              "              style=\"display:none;\">\n",
              "        \n",
              "  <svg xmlns=\"http://www.w3.org/2000/svg\" height=\"24px\"viewBox=\"0 0 24 24\"\n",
              "       width=\"24px\">\n",
              "    <path d=\"M0 0h24v24H0V0z\" fill=\"none\"/>\n",
              "    <path d=\"M18.56 5.44l.94 2.06.94-2.06 2.06-.94-2.06-.94-.94-2.06-.94 2.06-2.06.94zm-11 1L8.5 8.5l.94-2.06 2.06-.94-2.06-.94L8.5 2.5l-.94 2.06-2.06.94zm10 10l.94 2.06.94-2.06 2.06-.94-2.06-.94-.94-2.06-.94 2.06-2.06.94z\"/><path d=\"M17.41 7.96l-1.37-1.37c-.4-.4-.92-.59-1.43-.59-.52 0-1.04.2-1.43.59L10.3 9.45l-7.72 7.72c-.78.78-.78 2.05 0 2.83L4 21.41c.39.39.9.59 1.41.59.51 0 1.02-.2 1.41-.59l7.78-7.78 2.81-2.81c.8-.78.8-2.07 0-2.86zM5.41 20L4 18.59l7.72-7.72 1.47 1.35L5.41 20z\"/>\n",
              "  </svg>\n",
              "      </button>\n",
              "      \n",
              "  <style>\n",
              "    .colab-df-container {\n",
              "      display:flex;\n",
              "      flex-wrap:wrap;\n",
              "      gap: 12px;\n",
              "    }\n",
              "\n",
              "    .colab-df-convert {\n",
              "      background-color: #E8F0FE;\n",
              "      border: none;\n",
              "      border-radius: 50%;\n",
              "      cursor: pointer;\n",
              "      display: none;\n",
              "      fill: #1967D2;\n",
              "      height: 32px;\n",
              "      padding: 0 0 0 0;\n",
              "      width: 32px;\n",
              "    }\n",
              "\n",
              "    .colab-df-convert:hover {\n",
              "      background-color: #E2EBFA;\n",
              "      box-shadow: 0px 1px 2px rgba(60, 64, 67, 0.3), 0px 1px 3px 1px rgba(60, 64, 67, 0.15);\n",
              "      fill: #174EA6;\n",
              "    }\n",
              "\n",
              "    [theme=dark] .colab-df-convert {\n",
              "      background-color: #3B4455;\n",
              "      fill: #D2E3FC;\n",
              "    }\n",
              "\n",
              "    [theme=dark] .colab-df-convert:hover {\n",
              "      background-color: #434B5C;\n",
              "      box-shadow: 0px 1px 3px 1px rgba(0, 0, 0, 0.15);\n",
              "      filter: drop-shadow(0px 1px 2px rgba(0, 0, 0, 0.3));\n",
              "      fill: #FFFFFF;\n",
              "    }\n",
              "  </style>\n",
              "\n",
              "      <script>\n",
              "        const buttonEl =\n",
              "          document.querySelector('#df-b1baae98-970a-4ebb-adb1-5fc72a753232 button.colab-df-convert');\n",
              "        buttonEl.style.display =\n",
              "          google.colab.kernel.accessAllowed ? 'block' : 'none';\n",
              "\n",
              "        async function convertToInteractive(key) {\n",
              "          const element = document.querySelector('#df-b1baae98-970a-4ebb-adb1-5fc72a753232');\n",
              "          const dataTable =\n",
              "            await google.colab.kernel.invokeFunction('convertToInteractive',\n",
              "                                                     [key], {});\n",
              "          if (!dataTable) return;\n",
              "\n",
              "          const docLinkHtml = 'Like what you see? Visit the ' +\n",
              "            '<a target=\"_blank\" href=https://colab.research.google.com/notebooks/data_table.ipynb>data table notebook</a>'\n",
              "            + ' to learn more about interactive tables.';\n",
              "          element.innerHTML = '';\n",
              "          dataTable['output_type'] = 'display_data';\n",
              "          await google.colab.output.renderOutput(dataTable, element);\n",
              "          const docLink = document.createElement('div');\n",
              "          docLink.innerHTML = docLinkHtml;\n",
              "          element.appendChild(docLink);\n",
              "        }\n",
              "      </script>\n",
              "    </div>\n",
              "  </div>\n",
              "  "
            ]
          },
          "metadata": {},
          "execution_count": 28
        }
      ]
    },
    {
      "cell_type": "code",
      "source": [
        "pricedf['Value'] = pricedf['Value'].astype(float)"
      ],
      "metadata": {
        "id": "i1Q-3KDUCWuI",
        "outputId": "7aa1604e-5d2b-4b4e-fb5b-19cdb9b99680",
        "colab": {
          "base_uri": "https://localhost:8080/",
          "height": 312
        }
      },
      "execution_count": 26,
      "outputs": [
        {
          "output_type": "error",
          "ename": "ValueError",
          "evalue": "ignored",
          "traceback": [
            "\u001b[0;31m---------------------------------------------------------------------------\u001b[0m",
            "\u001b[0;31mValueError\u001b[0m                                Traceback (most recent call last)",
            "\u001b[0;32m<ipython-input-26-8416e5df7669>\u001b[0m in \u001b[0;36m<module>\u001b[0;34m\u001b[0m\n\u001b[0;32m----> 1\u001b[0;31m \u001b[0mpricedf\u001b[0m\u001b[0;34m[\u001b[0m\u001b[0;34m'Value'\u001b[0m\u001b[0;34m]\u001b[0m \u001b[0;34m=\u001b[0m \u001b[0mpricedf\u001b[0m\u001b[0;34m[\u001b[0m\u001b[0;34m'Value'\u001b[0m\u001b[0;34m]\u001b[0m\u001b[0;34m.\u001b[0m\u001b[0mastype\u001b[0m\u001b[0;34m(\u001b[0m\u001b[0mfloat\u001b[0m\u001b[0;34m)\u001b[0m\u001b[0;34m\u001b[0m\u001b[0;34m\u001b[0m\u001b[0m\n\u001b[0m",
            "\u001b[0;32m/usr/local/lib/python3.8/dist-packages/pandas/core/generic.py\u001b[0m in \u001b[0;36mastype\u001b[0;34m(self, dtype, copy, errors)\u001b[0m\n\u001b[1;32m   5813\u001b[0m         \u001b[0;32melse\u001b[0m\u001b[0;34m:\u001b[0m\u001b[0;34m\u001b[0m\u001b[0;34m\u001b[0m\u001b[0m\n\u001b[1;32m   5814\u001b[0m             \u001b[0;31m# else, only a single dtype is given\u001b[0m\u001b[0;34m\u001b[0m\u001b[0;34m\u001b[0m\u001b[0;34m\u001b[0m\u001b[0m\n\u001b[0;32m-> 5815\u001b[0;31m             \u001b[0mnew_data\u001b[0m \u001b[0;34m=\u001b[0m \u001b[0mself\u001b[0m\u001b[0;34m.\u001b[0m\u001b[0m_mgr\u001b[0m\u001b[0;34m.\u001b[0m\u001b[0mastype\u001b[0m\u001b[0;34m(\u001b[0m\u001b[0mdtype\u001b[0m\u001b[0;34m=\u001b[0m\u001b[0mdtype\u001b[0m\u001b[0;34m,\u001b[0m \u001b[0mcopy\u001b[0m\u001b[0;34m=\u001b[0m\u001b[0mcopy\u001b[0m\u001b[0;34m,\u001b[0m \u001b[0merrors\u001b[0m\u001b[0;34m=\u001b[0m\u001b[0merrors\u001b[0m\u001b[0;34m)\u001b[0m\u001b[0;34m\u001b[0m\u001b[0;34m\u001b[0m\u001b[0m\n\u001b[0m\u001b[1;32m   5816\u001b[0m             \u001b[0;32mreturn\u001b[0m \u001b[0mself\u001b[0m\u001b[0;34m.\u001b[0m\u001b[0m_constructor\u001b[0m\u001b[0;34m(\u001b[0m\u001b[0mnew_data\u001b[0m\u001b[0;34m)\u001b[0m\u001b[0;34m.\u001b[0m\u001b[0m__finalize__\u001b[0m\u001b[0;34m(\u001b[0m\u001b[0mself\u001b[0m\u001b[0;34m,\u001b[0m \u001b[0mmethod\u001b[0m\u001b[0;34m=\u001b[0m\u001b[0;34m\"astype\"\u001b[0m\u001b[0;34m)\u001b[0m\u001b[0;34m\u001b[0m\u001b[0;34m\u001b[0m\u001b[0m\n\u001b[1;32m   5817\u001b[0m \u001b[0;34m\u001b[0m\u001b[0m\n",
            "\u001b[0;32m/usr/local/lib/python3.8/dist-packages/pandas/core/internals/managers.py\u001b[0m in \u001b[0;36mastype\u001b[0;34m(self, dtype, copy, errors)\u001b[0m\n\u001b[1;32m    416\u001b[0m \u001b[0;34m\u001b[0m\u001b[0m\n\u001b[1;32m    417\u001b[0m     \u001b[0;32mdef\u001b[0m \u001b[0mastype\u001b[0m\u001b[0;34m(\u001b[0m\u001b[0mself\u001b[0m\u001b[0;34m:\u001b[0m \u001b[0mT\u001b[0m\u001b[0;34m,\u001b[0m \u001b[0mdtype\u001b[0m\u001b[0;34m,\u001b[0m \u001b[0mcopy\u001b[0m\u001b[0;34m:\u001b[0m \u001b[0mbool\u001b[0m \u001b[0;34m=\u001b[0m \u001b[0;32mFalse\u001b[0m\u001b[0;34m,\u001b[0m \u001b[0merrors\u001b[0m\u001b[0;34m:\u001b[0m \u001b[0mstr\u001b[0m \u001b[0;34m=\u001b[0m \u001b[0;34m\"raise\"\u001b[0m\u001b[0;34m)\u001b[0m \u001b[0;34m->\u001b[0m \u001b[0mT\u001b[0m\u001b[0;34m:\u001b[0m\u001b[0;34m\u001b[0m\u001b[0;34m\u001b[0m\u001b[0m\n\u001b[0;32m--> 418\u001b[0;31m         \u001b[0;32mreturn\u001b[0m \u001b[0mself\u001b[0m\u001b[0;34m.\u001b[0m\u001b[0mapply\u001b[0m\u001b[0;34m(\u001b[0m\u001b[0;34m\"astype\"\u001b[0m\u001b[0;34m,\u001b[0m \u001b[0mdtype\u001b[0m\u001b[0;34m=\u001b[0m\u001b[0mdtype\u001b[0m\u001b[0;34m,\u001b[0m \u001b[0mcopy\u001b[0m\u001b[0;34m=\u001b[0m\u001b[0mcopy\u001b[0m\u001b[0;34m,\u001b[0m \u001b[0merrors\u001b[0m\u001b[0;34m=\u001b[0m\u001b[0merrors\u001b[0m\u001b[0;34m)\u001b[0m\u001b[0;34m\u001b[0m\u001b[0;34m\u001b[0m\u001b[0m\n\u001b[0m\u001b[1;32m    419\u001b[0m \u001b[0;34m\u001b[0m\u001b[0m\n\u001b[1;32m    420\u001b[0m     def convert(\n",
            "\u001b[0;32m/usr/local/lib/python3.8/dist-packages/pandas/core/internals/managers.py\u001b[0m in \u001b[0;36mapply\u001b[0;34m(self, f, align_keys, ignore_failures, **kwargs)\u001b[0m\n\u001b[1;32m    325\u001b[0m                     \u001b[0mapplied\u001b[0m \u001b[0;34m=\u001b[0m \u001b[0mb\u001b[0m\u001b[0;34m.\u001b[0m\u001b[0mapply\u001b[0m\u001b[0;34m(\u001b[0m\u001b[0mf\u001b[0m\u001b[0;34m,\u001b[0m \u001b[0;34m**\u001b[0m\u001b[0mkwargs\u001b[0m\u001b[0;34m)\u001b[0m\u001b[0;34m\u001b[0m\u001b[0;34m\u001b[0m\u001b[0m\n\u001b[1;32m    326\u001b[0m                 \u001b[0;32melse\u001b[0m\u001b[0;34m:\u001b[0m\u001b[0;34m\u001b[0m\u001b[0;34m\u001b[0m\u001b[0m\n\u001b[0;32m--> 327\u001b[0;31m                     \u001b[0mapplied\u001b[0m \u001b[0;34m=\u001b[0m \u001b[0mgetattr\u001b[0m\u001b[0;34m(\u001b[0m\u001b[0mb\u001b[0m\u001b[0;34m,\u001b[0m \u001b[0mf\u001b[0m\u001b[0;34m)\u001b[0m\u001b[0;34m(\u001b[0m\u001b[0;34m**\u001b[0m\u001b[0mkwargs\u001b[0m\u001b[0;34m)\u001b[0m\u001b[0;34m\u001b[0m\u001b[0;34m\u001b[0m\u001b[0m\n\u001b[0m\u001b[1;32m    328\u001b[0m             \u001b[0;32mexcept\u001b[0m \u001b[0;34m(\u001b[0m\u001b[0mTypeError\u001b[0m\u001b[0;34m,\u001b[0m \u001b[0mNotImplementedError\u001b[0m\u001b[0;34m)\u001b[0m\u001b[0;34m:\u001b[0m\u001b[0;34m\u001b[0m\u001b[0;34m\u001b[0m\u001b[0m\n\u001b[1;32m    329\u001b[0m                 \u001b[0;32mif\u001b[0m \u001b[0;32mnot\u001b[0m \u001b[0mignore_failures\u001b[0m\u001b[0;34m:\u001b[0m\u001b[0;34m\u001b[0m\u001b[0;34m\u001b[0m\u001b[0m\n",
            "\u001b[0;32m/usr/local/lib/python3.8/dist-packages/pandas/core/internals/blocks.py\u001b[0m in \u001b[0;36mastype\u001b[0;34m(self, dtype, copy, errors)\u001b[0m\n\u001b[1;32m    589\u001b[0m         \u001b[0mvalues\u001b[0m \u001b[0;34m=\u001b[0m \u001b[0mself\u001b[0m\u001b[0;34m.\u001b[0m\u001b[0mvalues\u001b[0m\u001b[0;34m\u001b[0m\u001b[0;34m\u001b[0m\u001b[0m\n\u001b[1;32m    590\u001b[0m \u001b[0;34m\u001b[0m\u001b[0m\n\u001b[0;32m--> 591\u001b[0;31m         \u001b[0mnew_values\u001b[0m \u001b[0;34m=\u001b[0m \u001b[0mastype_array_safe\u001b[0m\u001b[0;34m(\u001b[0m\u001b[0mvalues\u001b[0m\u001b[0;34m,\u001b[0m \u001b[0mdtype\u001b[0m\u001b[0;34m,\u001b[0m \u001b[0mcopy\u001b[0m\u001b[0;34m=\u001b[0m\u001b[0mcopy\u001b[0m\u001b[0;34m,\u001b[0m \u001b[0merrors\u001b[0m\u001b[0;34m=\u001b[0m\u001b[0merrors\u001b[0m\u001b[0;34m)\u001b[0m\u001b[0;34m\u001b[0m\u001b[0;34m\u001b[0m\u001b[0m\n\u001b[0m\u001b[1;32m    592\u001b[0m \u001b[0;34m\u001b[0m\u001b[0m\n\u001b[1;32m    593\u001b[0m         \u001b[0mnew_values\u001b[0m \u001b[0;34m=\u001b[0m \u001b[0mmaybe_coerce_values\u001b[0m\u001b[0;34m(\u001b[0m\u001b[0mnew_values\u001b[0m\u001b[0;34m)\u001b[0m\u001b[0;34m\u001b[0m\u001b[0;34m\u001b[0m\u001b[0m\n",
            "\u001b[0;32m/usr/local/lib/python3.8/dist-packages/pandas/core/dtypes/cast.py\u001b[0m in \u001b[0;36mastype_array_safe\u001b[0;34m(values, dtype, copy, errors)\u001b[0m\n\u001b[1;32m   1307\u001b[0m \u001b[0;34m\u001b[0m\u001b[0m\n\u001b[1;32m   1308\u001b[0m     \u001b[0;32mtry\u001b[0m\u001b[0;34m:\u001b[0m\u001b[0;34m\u001b[0m\u001b[0;34m\u001b[0m\u001b[0m\n\u001b[0;32m-> 1309\u001b[0;31m         \u001b[0mnew_values\u001b[0m \u001b[0;34m=\u001b[0m \u001b[0mastype_array\u001b[0m\u001b[0;34m(\u001b[0m\u001b[0mvalues\u001b[0m\u001b[0;34m,\u001b[0m \u001b[0mdtype\u001b[0m\u001b[0;34m,\u001b[0m \u001b[0mcopy\u001b[0m\u001b[0;34m=\u001b[0m\u001b[0mcopy\u001b[0m\u001b[0;34m)\u001b[0m\u001b[0;34m\u001b[0m\u001b[0;34m\u001b[0m\u001b[0m\n\u001b[0m\u001b[1;32m   1310\u001b[0m     \u001b[0;32mexcept\u001b[0m \u001b[0;34m(\u001b[0m\u001b[0mValueError\u001b[0m\u001b[0;34m,\u001b[0m \u001b[0mTypeError\u001b[0m\u001b[0;34m)\u001b[0m\u001b[0;34m:\u001b[0m\u001b[0;34m\u001b[0m\u001b[0;34m\u001b[0m\u001b[0m\n\u001b[1;32m   1311\u001b[0m         \u001b[0;31m# e.g. astype_nansafe can fail on object-dtype of strings\u001b[0m\u001b[0;34m\u001b[0m\u001b[0;34m\u001b[0m\u001b[0;34m\u001b[0m\u001b[0m\n",
            "\u001b[0;32m/usr/local/lib/python3.8/dist-packages/pandas/core/dtypes/cast.py\u001b[0m in \u001b[0;36mastype_array\u001b[0;34m(values, dtype, copy)\u001b[0m\n\u001b[1;32m   1255\u001b[0m \u001b[0;34m\u001b[0m\u001b[0m\n\u001b[1;32m   1256\u001b[0m     \u001b[0;32melse\u001b[0m\u001b[0;34m:\u001b[0m\u001b[0;34m\u001b[0m\u001b[0;34m\u001b[0m\u001b[0m\n\u001b[0;32m-> 1257\u001b[0;31m         \u001b[0mvalues\u001b[0m \u001b[0;34m=\u001b[0m \u001b[0mastype_nansafe\u001b[0m\u001b[0;34m(\u001b[0m\u001b[0mvalues\u001b[0m\u001b[0;34m,\u001b[0m \u001b[0mdtype\u001b[0m\u001b[0;34m,\u001b[0m \u001b[0mcopy\u001b[0m\u001b[0;34m=\u001b[0m\u001b[0mcopy\u001b[0m\u001b[0;34m)\u001b[0m\u001b[0;34m\u001b[0m\u001b[0;34m\u001b[0m\u001b[0m\n\u001b[0m\u001b[1;32m   1258\u001b[0m \u001b[0;34m\u001b[0m\u001b[0m\n\u001b[1;32m   1259\u001b[0m     \u001b[0;31m# in pandas we don't store numpy str dtypes, so convert to object\u001b[0m\u001b[0;34m\u001b[0m\u001b[0;34m\u001b[0m\u001b[0;34m\u001b[0m\u001b[0m\n",
            "\u001b[0;32m/usr/local/lib/python3.8/dist-packages/pandas/core/dtypes/cast.py\u001b[0m in \u001b[0;36mastype_nansafe\u001b[0;34m(arr, dtype, copy, skipna)\u001b[0m\n\u001b[1;32m   1199\u001b[0m     \u001b[0;32mif\u001b[0m \u001b[0mcopy\u001b[0m \u001b[0;32mor\u001b[0m \u001b[0mis_object_dtype\u001b[0m\u001b[0;34m(\u001b[0m\u001b[0marr\u001b[0m\u001b[0;34m.\u001b[0m\u001b[0mdtype\u001b[0m\u001b[0;34m)\u001b[0m \u001b[0;32mor\u001b[0m \u001b[0mis_object_dtype\u001b[0m\u001b[0;34m(\u001b[0m\u001b[0mdtype\u001b[0m\u001b[0;34m)\u001b[0m\u001b[0;34m:\u001b[0m\u001b[0;34m\u001b[0m\u001b[0;34m\u001b[0m\u001b[0m\n\u001b[1;32m   1200\u001b[0m         \u001b[0;31m# Explicit copy, or required since NumPy can't view from / to object.\u001b[0m\u001b[0;34m\u001b[0m\u001b[0;34m\u001b[0m\u001b[0;34m\u001b[0m\u001b[0m\n\u001b[0;32m-> 1201\u001b[0;31m         \u001b[0;32mreturn\u001b[0m \u001b[0marr\u001b[0m\u001b[0;34m.\u001b[0m\u001b[0mastype\u001b[0m\u001b[0;34m(\u001b[0m\u001b[0mdtype\u001b[0m\u001b[0;34m,\u001b[0m \u001b[0mcopy\u001b[0m\u001b[0;34m=\u001b[0m\u001b[0;32mTrue\u001b[0m\u001b[0;34m)\u001b[0m\u001b[0;34m\u001b[0m\u001b[0;34m\u001b[0m\u001b[0m\n\u001b[0m\u001b[1;32m   1202\u001b[0m \u001b[0;34m\u001b[0m\u001b[0m\n\u001b[1;32m   1203\u001b[0m     \u001b[0;32mreturn\u001b[0m \u001b[0marr\u001b[0m\u001b[0;34m.\u001b[0m\u001b[0mastype\u001b[0m\u001b[0;34m(\u001b[0m\u001b[0mdtype\u001b[0m\u001b[0;34m,\u001b[0m \u001b[0mcopy\u001b[0m\u001b[0;34m=\u001b[0m\u001b[0mcopy\u001b[0m\u001b[0;34m)\u001b[0m\u001b[0;34m\u001b[0m\u001b[0;34m\u001b[0m\u001b[0m\n",
            "\u001b[0;31mValueError\u001b[0m: could not convert string to float: 'Not Available'"
          ]
        }
      ]
    },
    {
      "cell_type": "markdown",
      "metadata": {
        "id": "j3H4UWraxbAG"
      },
      "source": [
        "Now check to see what all of the `AVG` `Value` numbers look like."
      ]
    },
    {
      "cell_type": "code",
      "execution_count": 16,
      "metadata": {
        "id": "a6X8blfTxbAG",
        "outputId": "3c42330e-10b2-4a0b-ac80-ac73ec657ea3",
        "colab": {
          "base_uri": "https://localhost:8080/",
          "height": 768
        }
      },
      "outputs": [
        {
          "output_type": "error",
          "ename": "TypeError",
          "evalue": "ignored",
          "traceback": [
            "\u001b[0;31m---------------------------------------------------------------------------\u001b[0m",
            "\u001b[0;31mTypeError\u001b[0m                                 Traceback (most recent call last)",
            "\u001b[0;32m<ipython-input-16-77b5ae852b02>\u001b[0m in \u001b[0;36m<module>\u001b[0;34m\u001b[0m\n\u001b[1;32m      4\u001b[0m \u001b[0max\u001b[0m \u001b[0;34m=\u001b[0m \u001b[0mfig\u001b[0m\u001b[0;34m.\u001b[0m\u001b[0mgca\u001b[0m\u001b[0;34m(\u001b[0m\u001b[0;34m)\u001b[0m\u001b[0;34m\u001b[0m\u001b[0;34m\u001b[0m\u001b[0m\n\u001b[1;32m      5\u001b[0m \u001b[0;34m\u001b[0m\u001b[0m\n\u001b[0;32m----> 6\u001b[0;31m \u001b[0mpricedf\u001b[0m\u001b[0;34m[\u001b[0m\u001b[0mpricedf\u001b[0m\u001b[0;34m[\u001b[0m\u001b[0;34m'Data Type'\u001b[0m\u001b[0;34m]\u001b[0m\u001b[0;34m==\u001b[0m\u001b[0;34m'AVG'\u001b[0m\u001b[0;34m]\u001b[0m\u001b[0;34m[\u001b[0m\u001b[0;34m'Value'\u001b[0m\u001b[0;34m]\u001b[0m\u001b[0;34m.\u001b[0m\u001b[0mplot\u001b[0m\u001b[0;34m(\u001b[0m\u001b[0max\u001b[0m\u001b[0;34m=\u001b[0m\u001b[0max\u001b[0m\u001b[0;34m,\u001b[0m \u001b[0mlinewidth\u001b[0m\u001b[0;34m=\u001b[0m\u001b[0;36m4\u001b[0m\u001b[0;34m)\u001b[0m\u001b[0;34m\u001b[0m\u001b[0;34m\u001b[0m\u001b[0m\n\u001b[0m\u001b[1;32m      7\u001b[0m \u001b[0;34m\u001b[0m\u001b[0m\n\u001b[1;32m      8\u001b[0m \u001b[0max\u001b[0m\u001b[0;34m.\u001b[0m\u001b[0mlegend\u001b[0m\u001b[0;34m(\u001b[0m\u001b[0;34m)\u001b[0m\u001b[0;34m\u001b[0m\u001b[0;34m\u001b[0m\u001b[0m\n",
            "\u001b[0;32m/usr/local/lib/python3.8/dist-packages/pandas/plotting/_core.py\u001b[0m in \u001b[0;36m__call__\u001b[0;34m(self, *args, **kwargs)\u001b[0m\n\u001b[1;32m    970\u001b[0m                     \u001b[0mdata\u001b[0m\u001b[0;34m.\u001b[0m\u001b[0mcolumns\u001b[0m \u001b[0;34m=\u001b[0m \u001b[0mlabel_name\u001b[0m\u001b[0;34m\u001b[0m\u001b[0;34m\u001b[0m\u001b[0m\n\u001b[1;32m    971\u001b[0m \u001b[0;34m\u001b[0m\u001b[0m\n\u001b[0;32m--> 972\u001b[0;31m         \u001b[0;32mreturn\u001b[0m \u001b[0mplot_backend\u001b[0m\u001b[0;34m.\u001b[0m\u001b[0mplot\u001b[0m\u001b[0;34m(\u001b[0m\u001b[0mdata\u001b[0m\u001b[0;34m,\u001b[0m \u001b[0mkind\u001b[0m\u001b[0;34m=\u001b[0m\u001b[0mkind\u001b[0m\u001b[0;34m,\u001b[0m \u001b[0;34m**\u001b[0m\u001b[0mkwargs\u001b[0m\u001b[0;34m)\u001b[0m\u001b[0;34m\u001b[0m\u001b[0;34m\u001b[0m\u001b[0m\n\u001b[0m\u001b[1;32m    973\u001b[0m \u001b[0;34m\u001b[0m\u001b[0m\n\u001b[1;32m    974\u001b[0m     \u001b[0m__call__\u001b[0m\u001b[0;34m.\u001b[0m\u001b[0m__doc__\u001b[0m \u001b[0;34m=\u001b[0m \u001b[0m__doc__\u001b[0m\u001b[0;34m\u001b[0m\u001b[0;34m\u001b[0m\u001b[0m\n",
            "\u001b[0;32m/usr/local/lib/python3.8/dist-packages/pandas/plotting/_matplotlib/__init__.py\u001b[0m in \u001b[0;36mplot\u001b[0;34m(data, kind, **kwargs)\u001b[0m\n\u001b[1;32m     69\u001b[0m             \u001b[0mkwargs\u001b[0m\u001b[0;34m[\u001b[0m\u001b[0;34m\"ax\"\u001b[0m\u001b[0;34m]\u001b[0m \u001b[0;34m=\u001b[0m \u001b[0mgetattr\u001b[0m\u001b[0;34m(\u001b[0m\u001b[0max\u001b[0m\u001b[0;34m,\u001b[0m \u001b[0;34m\"left_ax\"\u001b[0m\u001b[0;34m,\u001b[0m \u001b[0max\u001b[0m\u001b[0;34m)\u001b[0m\u001b[0;34m\u001b[0m\u001b[0;34m\u001b[0m\u001b[0m\n\u001b[1;32m     70\u001b[0m     \u001b[0mplot_obj\u001b[0m \u001b[0;34m=\u001b[0m \u001b[0mPLOT_CLASSES\u001b[0m\u001b[0;34m[\u001b[0m\u001b[0mkind\u001b[0m\u001b[0;34m]\u001b[0m\u001b[0;34m(\u001b[0m\u001b[0mdata\u001b[0m\u001b[0;34m,\u001b[0m \u001b[0;34m**\u001b[0m\u001b[0mkwargs\u001b[0m\u001b[0;34m)\u001b[0m\u001b[0;34m\u001b[0m\u001b[0;34m\u001b[0m\u001b[0m\n\u001b[0;32m---> 71\u001b[0;31m     \u001b[0mplot_obj\u001b[0m\u001b[0;34m.\u001b[0m\u001b[0mgenerate\u001b[0m\u001b[0;34m(\u001b[0m\u001b[0;34m)\u001b[0m\u001b[0;34m\u001b[0m\u001b[0;34m\u001b[0m\u001b[0m\n\u001b[0m\u001b[1;32m     72\u001b[0m     \u001b[0mplot_obj\u001b[0m\u001b[0;34m.\u001b[0m\u001b[0mdraw\u001b[0m\u001b[0;34m(\u001b[0m\u001b[0;34m)\u001b[0m\u001b[0;34m\u001b[0m\u001b[0;34m\u001b[0m\u001b[0m\n\u001b[1;32m     73\u001b[0m     \u001b[0;32mreturn\u001b[0m \u001b[0mplot_obj\u001b[0m\u001b[0;34m.\u001b[0m\u001b[0mresult\u001b[0m\u001b[0;34m\u001b[0m\u001b[0;34m\u001b[0m\u001b[0m\n",
            "\u001b[0;32m/usr/local/lib/python3.8/dist-packages/pandas/plotting/_matplotlib/core.py\u001b[0m in \u001b[0;36mgenerate\u001b[0;34m(self)\u001b[0m\n\u001b[1;32m    284\u001b[0m     \u001b[0;32mdef\u001b[0m \u001b[0mgenerate\u001b[0m\u001b[0;34m(\u001b[0m\u001b[0mself\u001b[0m\u001b[0;34m)\u001b[0m\u001b[0;34m:\u001b[0m\u001b[0;34m\u001b[0m\u001b[0;34m\u001b[0m\u001b[0m\n\u001b[1;32m    285\u001b[0m         \u001b[0mself\u001b[0m\u001b[0;34m.\u001b[0m\u001b[0m_args_adjust\u001b[0m\u001b[0;34m(\u001b[0m\u001b[0;34m)\u001b[0m\u001b[0;34m\u001b[0m\u001b[0;34m\u001b[0m\u001b[0m\n\u001b[0;32m--> 286\u001b[0;31m         \u001b[0mself\u001b[0m\u001b[0;34m.\u001b[0m\u001b[0m_compute_plot_data\u001b[0m\u001b[0;34m(\u001b[0m\u001b[0;34m)\u001b[0m\u001b[0;34m\u001b[0m\u001b[0;34m\u001b[0m\u001b[0m\n\u001b[0m\u001b[1;32m    287\u001b[0m         \u001b[0mself\u001b[0m\u001b[0;34m.\u001b[0m\u001b[0m_setup_subplots\u001b[0m\u001b[0;34m(\u001b[0m\u001b[0;34m)\u001b[0m\u001b[0;34m\u001b[0m\u001b[0;34m\u001b[0m\u001b[0m\n\u001b[1;32m    288\u001b[0m         \u001b[0mself\u001b[0m\u001b[0;34m.\u001b[0m\u001b[0m_make_plot\u001b[0m\u001b[0;34m(\u001b[0m\u001b[0;34m)\u001b[0m\u001b[0;34m\u001b[0m\u001b[0;34m\u001b[0m\u001b[0m\n",
            "\u001b[0;32m/usr/local/lib/python3.8/dist-packages/pandas/plotting/_matplotlib/core.py\u001b[0m in \u001b[0;36m_compute_plot_data\u001b[0;34m(self)\u001b[0m\n\u001b[1;32m    451\u001b[0m         \u001b[0;31m# no non-numeric frames or series allowed\u001b[0m\u001b[0;34m\u001b[0m\u001b[0;34m\u001b[0m\u001b[0;34m\u001b[0m\u001b[0m\n\u001b[1;32m    452\u001b[0m         \u001b[0;32mif\u001b[0m \u001b[0mis_empty\u001b[0m\u001b[0;34m:\u001b[0m\u001b[0;34m\u001b[0m\u001b[0;34m\u001b[0m\u001b[0m\n\u001b[0;32m--> 453\u001b[0;31m             \u001b[0;32mraise\u001b[0m \u001b[0mTypeError\u001b[0m\u001b[0;34m(\u001b[0m\u001b[0;34m\"no numeric data to plot\"\u001b[0m\u001b[0;34m)\u001b[0m\u001b[0;34m\u001b[0m\u001b[0;34m\u001b[0m\u001b[0m\n\u001b[0m\u001b[1;32m    454\u001b[0m \u001b[0;34m\u001b[0m\u001b[0m\n\u001b[1;32m    455\u001b[0m         \u001b[0mself\u001b[0m\u001b[0;34m.\u001b[0m\u001b[0mdata\u001b[0m \u001b[0;34m=\u001b[0m \u001b[0mnumeric_data\u001b[0m\u001b[0;34m.\u001b[0m\u001b[0mapply\u001b[0m\u001b[0;34m(\u001b[0m\u001b[0mself\u001b[0m\u001b[0;34m.\u001b[0m\u001b[0m_convert_to_ndarray\u001b[0m\u001b[0;34m)\u001b[0m\u001b[0;34m\u001b[0m\u001b[0;34m\u001b[0m\u001b[0m\n",
            "\u001b[0;31mTypeError\u001b[0m: no numeric data to plot"
          ]
        },
        {
          "output_type": "display_data",
          "data": {
            "text/plain": [
              "<Figure size 432x432 with 1 Axes>"
            ],
            "image/png": "[encoded data removed]"
          },
          "metadata": {}
        }
      ],
      "source": [
        "plt.style.use('fivethirtyeight')\n",
        "\n",
        "fig = plt.figure(figsize=(6,6))\n",
        "ax = fig.gca()\n",
        "\n",
        "pricedf[pricedf['Data Type'] == 'AVG']['Value'].plot(ax=ax, linewidth=4)\n",
        "\n",
        "ax.legend()\n",
        "plt.ylabel('Price')\n",
        "plt.xlabel('Year')"
      ]
    },
    {
      "cell_type": "markdown",
      "metadata": {
        "id": "W9Ajwj02xbAH"
      },
      "source": [
        "For the next step you'll want to \n",
        "\n",
        "1. try to convert a number to a float\n",
        "2. if the convertion doesn't work, then use not-a-number (`np.nan`)"
      ]
    },
    {
      "cell_type": "code",
      "execution_count": null,
      "metadata": {
        "id": "1iyHHMBKxbAH"
      },
      "outputs": [],
      "source": [
        "try:\n",
        "    a = 1/0\n",
        "except:\n",
        "    print('oops, division by zero')"
      ]
    },
    {
      "cell_type": "code",
      "execution_count": null,
      "metadata": {
        "id": "MmIryZS8xbAH"
      },
      "outputs": [],
      "source": []
    },
    {
      "cell_type": "code",
      "execution_count": null,
      "metadata": {
        "id": "AZRHjU2sxbAH"
      },
      "outputs": [],
      "source": []
    },
    {
      "cell_type": "markdown",
      "metadata": {
        "id": "ZvUbncIkxbAI"
      },
      "source": [
        "Try using both the fuel average `AVG` and the vehicle `RLUCUUS`\n",
        "\n",
        "Here's a reminder:"
      ]
    },
    {
      "cell_type": "code",
      "execution_count": null,
      "metadata": {
        "id": "EQTRn6CoxbAI"
      },
      "outputs": [],
      "source": [
        "mydf.info()\n",
        "mydf[\n",
        "    (mydf['temperature'] == 20)\n",
        "    &\n",
        "    (mydf['snowfall'] == 12.5)\n",
        "]"
      ]
    },
    {
      "cell_type": "code",
      "execution_count": null,
      "metadata": {
        "id": "zn2W_a29xbAJ"
      },
      "outputs": [],
      "source": []
    },
    {
      "cell_type": "markdown",
      "metadata": {
        "id": "9cWRZ28_xbAJ"
      },
      "source": [
        " Plot the leaded and unleadded: `RLUCUUS` and `RUUCUUS`"
      ]
    },
    {
      "cell_type": "code",
      "execution_count": null,
      "metadata": {
        "id": "gkmYEFM3xbAJ"
      },
      "outputs": [],
      "source": []
    },
    {
      "cell_type": "markdown",
      "metadata": {
        "id": "4ku0prYaxbAJ"
      },
      "source": [
        "Make a new data frame for unleaded and set the `Date` as the index"
      ]
    },
    {
      "cell_type": "code",
      "execution_count": null,
      "metadata": {
        "id": "klv5-RkPxbAK"
      },
      "outputs": [],
      "source": []
    },
    {
      "cell_type": "markdown",
      "metadata": {
        "id": "zh42R0maxbAK"
      },
      "source": [
        "Now plot the values and the rolling mean (say every 4 years as an example)"
      ]
    },
    {
      "cell_type": "code",
      "execution_count": null,
      "metadata": {
        "id": "Vx_DnABSxbAK"
      },
      "outputs": [],
      "source": []
    },
    {
      "cell_type": "markdown",
      "metadata": {
        "id": "kHu1CLMxxbAK"
      },
      "source": [
        "Make a new data frame for the `Real-World MPG` for `All Car` types:"
      ]
    },
    {
      "cell_type": "code",
      "execution_count": null,
      "metadata": {
        "id": "KAafMmSwxbAL"
      },
      "outputs": [],
      "source": []
    },
    {
      "cell_type": "markdown",
      "metadata": {
        "id": "YNSMLgroxbAL"
      },
      "source": [
        "Now use `pdf.merge_asof`, paying close attention to `left_index`, `right_index`, and `direction`.\n",
        "\n",
        "This should make a new data frame:"
      ]
    },
    {
      "cell_type": "code",
      "execution_count": null,
      "metadata": {
        "id": "iiur_wvvxbAL"
      },
      "outputs": [],
      "source": []
    },
    {
      "cell_type": "code",
      "execution_count": null,
      "metadata": {
        "id": "hfagO-iAxbAL"
      },
      "outputs": [],
      "source": []
    },
    {
      "cell_type": "code",
      "execution_count": null,
      "metadata": {
        "id": "3csp3o4_xbAM"
      },
      "outputs": [],
      "source": []
    },
    {
      "cell_type": "markdown",
      "metadata": {
        "id": "PpMfCwsFxbAM"
      },
      "source": [
        "Now plot the rolling mean and try to use two axis (a secondary `y`) for the MPG and the price of gas."
      ]
    },
    {
      "cell_type": "code",
      "execution_count": null,
      "metadata": {
        "id": "ZMu_ND64xbAM"
      },
      "outputs": [],
      "source": []
    },
    {
      "cell_type": "markdown",
      "metadata": {
        "id": "JPat-nYUxbAM"
      },
      "source": [
        "Challenge problem: find the correlation and use `jointplot`"
      ]
    },
    {
      "cell_type": "code",
      "execution_count": null,
      "metadata": {
        "id": "mmXoaptGxbAM"
      },
      "outputs": [],
      "source": []
    },
    {
      "cell_type": "code",
      "execution_count": null,
      "metadata": {
        "id": "3EuCEK44xbAN"
      },
      "outputs": [],
      "source": []
    }
  ],
  "metadata": {
    "kernelspec": {
      "display_name": "Python 3 (ipykernel)",
      "language": "python",
      "name": "python3"
    },
    "language_info": {
      "codemirror_mode": {
        "name": "ipython",
        "version": 3
      },
      "file_extension": ".py",
      "mimetype": "text/x-python",
      "name": "python",
      "nbconvert_exporter": "python",
      "pygments_lexer": "ipython3",
      "version": "3.10.9"
    },
    "colab": {
      "provenance": [],
      "include_colab_link": true
    }
  },
  "nbformat": 4,
  "nbformat_minor": 0
}