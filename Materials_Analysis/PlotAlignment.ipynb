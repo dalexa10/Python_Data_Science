{
  "cells": [
    {
      "cell_type": "markdown",
      "metadata": {
        "id": "view-in-github",
        "colab_type": "text"
      },
      "source": [
        "<a href=\"https://colab.research.google.com/github/dalexa10/Python_Data_Science/blob/main/Materials_Analysis/PlotAlignment.ipynb\" target=\"_parent\"><img src=\"https://colab.research.google.com/assets/colab-badge.svg\" alt=\"Open In Colab\"/></a>"
      ]
    },
    {
      "cell_type": "markdown",
      "metadata": {
        "collapsed": true,
        "id": "7S13-fQ5ojry"
      },
      "source": [
        "This notebook plots the band alignment of materials using the data from Materials Project."
      ]
    },
    {
      "cell_type": "code",
      "execution_count": 1,
      "metadata": {
        "colab": {
          "base_uri": "https://localhost:8080/"
        },
        "id": "_-Wyhn6bojr3",
        "outputId": "c12d4b3b-efff-4b14-85b5-e3e457ac73b2"
      },
      "outputs": [
        {
          "output_type": "stream",
          "name": "stdout",
          "text": [
            "Mounted at /content/drive\n"
          ]
        }
      ],
      "source": [
        "import math\n",
        "import numpy as np\n",
        "import matplotlib.pyplot as plt\n",
        "import bisect\n",
        "import itertools\n",
        "import copy\n",
        "import operator\n",
        "from matplotlib.ticker import AutoMinorLocator\n",
        "import matplotlib as mpl\n",
        "mpl.rcParams['axes.linewidth'] = 2.0\n",
        "csfont = {'fontname':'Times New Roman'}\n",
        "from google.colab import drive\n",
        "drive.mount('/content/drive')"
      ]
    },
    {
      "cell_type": "markdown",
      "metadata": {
        "id": "AMPg_uLQojr4"
      },
      "source": [
        "In the next cell, specify the MPIDs for he desired materials.  Order is not important, they will be sorted automatically."
      ]
    },
    {
      "cell_type": "code",
      "execution_count": 2,
      "metadata": {
        "id": "8aS7VdhPojr4"
      },
      "outputs": [],
      "source": [
        "#IDsToPlot=[886,554278,352,10390,19342,5238,4840,3839,19833,22386,22736,22811,546794,19921,856,570136,22883,1143,2920,\n",
        "#           661,672,804,22205,7631,2133,2172,1550,2624,2691,406,2534,2490,1156,20305,20012,10695,1190,2176,361,1132,\n",
        "#           23251,1265,715434,32,149]\n",
        "IDsToPlot=[886,554278,352,10390]"
      ]
    },
    {
      "cell_type": "markdown",
      "metadata": {
        "id": "0GyxomAIojr4"
      },
      "source": [
        "The next slide is the main section."
      ]
    },
    {
      "cell_type": "code",
      "execution_count": 6,
      "metadata": {
        "colab": {
          "base_uri": "https://localhost:8080/",
          "height": 565
        },
        "id": "_AHMpafVojr5",
        "outputId": "90a60af1-28eb-4b66-dc26-199543aca79b"
      },
      "outputs": [
        {
          "output_type": "stream",
          "name": "stderr",
          "text": [
            "<ipython-input-6-33d4fc3ae417>:4: VisibleDeprecationWarning: Reading unicode strings without specifying the encoding argument is deprecated. Set the encoding, use None for the system default.\n",
            "  MPData=np.genfromtxt('/content/drive/My Drive/Colab Notebooks/CNData_DensityEHullNAt_CompENeg_GapCorrCNL0.txt',dtype=None) #MP data with gap correction, CNL at 0\n",
            "<ipython-input-6-33d4fc3ae417>:23: VisibleDeprecationWarning: Reading unicode strings without specifying the encoding argument is deprecated. Set the encoding, use None for the system default.\n",
            "  Formulas=np.genfromtxt('/content/drive/My Drive//Colab Notebooks/ChemComps.txt',dtype=None) #Only need chemical formulas, not separated names\n"
          ]
        },
        {
          "output_type": "stream",
          "name": "stdout",
          "text": [
            "[886, -3.2988920000000004, 0.32089199999999973, b\"b'Ga2O3'\", 12]\n",
            "[554278, -1.3952142856999998, 1.7762142856999992, b\"b'TiO2'\", 12]\n",
            "[352, -2.88, 3.0199999999999996, b\"b'HfO2'\", 14]\n",
            "[10390, -1.2249980000000007, 1.340998, b\"b'Ta2O5'\", 15]\n",
            "[b\"b'Ga2O3'\", b\"b'TiO2'\", b\"b'HfO2'\", b\"b'Ta2O5'\"]\n"
          ]
        },
        {
          "output_type": "display_data",
          "data": {
            "text/plain": [
              "<Figure size 432x288 with 1 Axes>"
            ],
            "image/png": "[encoded data removed]"
          },
          "metadata": {
            "needs_background": "light"
          }
        }
      ],
      "source": [
        "#ExpDat=np.genfromtxt('UserCNLData_Exp.txt')\n",
        "ExpDat=[]\n",
        "ExpCNL=[]\n",
        "MPData=np.genfromtxt('/content/drive/My Drive/Colab Notebooks/CNData_DensityEHullNAt_CompENeg_GapCorrCNL0.txt',dtype=None) #MP data with gap correction, CNL at 0\n",
        "AllIDs=[]\n",
        "AllCNLs=[]\n",
        "AllGaps=[]\n",
        "AllVBMs=[]\n",
        "\n",
        "for i in range(0,len(MPData)):\n",
        "    AllIDs.append(MPData[i][0])\n",
        "    AllCNLs.append(MPData[i][1])\n",
        "    AllGaps.append(MPData[i][2])\n",
        "    AllVBMs.append(MPData[i][4])\n",
        "    \n",
        "FilteredIDs=np.array([i[0] for i in MPData])\n",
        "FilteredDataIndices=[np.where(FilteredIDs==a)[0] for a in IDsToPlot]\n",
        "FilteredDataIndices=[item for sublist in FilteredDataIndices for item in sublist]\n",
        "\n",
        "#Import list of descriptors for sym group and list of chemical formulas\n",
        "#both these files have the same indexing\n",
        "DescriptorsData=np.genfromtxt('/content/drive/My Drive//Colab Notebooks/Descriptors.txt',dtype=None)\n",
        "Formulas=np.genfromtxt('/content/drive/My Drive//Colab Notebooks/ChemComps.txt',dtype=None) #Only need chemical formulas, not separated names\n",
        "allIDs=np.array([i[0] for i in DescriptorsData])\n",
        "FullDataIndices=[np.where(allIDs==a)[0] for a in IDsToPlot]\n",
        "FullDataIndices=[x for sublist in FullDataIndices for x in sublist]\n",
        "\n",
        "#Collect MPID,VBM,CBM,Formula,SymGroup#\n",
        "AllData=[[i,MPData[b][4],MPData[b][5],MPData[b][7],DescriptorsData[c][4]] for (i,b,c) in zip(IDsToPlot,FilteredDataIndices,FullDataIndices)]\n",
        "for item in AllData:\n",
        "    print(item)\n",
        "AllData.sort(key = operator.itemgetter(4, 3)) #Sort by sym group number then by name\n",
        "#for i in range(0,len(AllData)):\n",
        "#    print AllData[i]\n",
        "MPVBM=[AllData[a][1] for a in range(0,len(AllData))]\n",
        "MPCBM=[AllData[a][2] for a in range(0,len(AllData))]\n",
        "\n",
        "#Put user data into arrays and shifts CNL for comparison with MP\n",
        "for i in range(0,len(AllData)):   \n",
        "    if AllData[i][0] in ExpDat:\n",
        "        ind1=np.where(ExpDat==AllData[i][0])[0][0]\n",
        "        ExpCNL.append(ExpDat[ind1][1]+AllData[i][1])\n",
        "        #print(AllData[i][0],AllData[i][3])\n",
        "    else:\n",
        "        ExpCNL.append(1000.0)\n",
        "\n",
        "#print CitrineErr      \n",
        "lowerVBM=[-1000]*len(AllData) #For bar plotting purposes\n",
        "upperCBM=[1000]*len(AllData)\n",
        "\n",
        "#hfont = {'fontname':'Times New Roman'}\n",
        "x=np.arange(len(AllData))\n",
        "xticks=[]\n",
        "y=np.arange(-10,10,1)\n",
        "yticks=np.arange(-10,10,1)\n",
        "for i in np.arange(0,len(AllData)):\n",
        "    xticks.append(AllData[i][3])\n",
        "# print(xticks)\n",
        "plt.xticks(rotation=90)\n",
        "plt.bar(x,lowerVBM,1.0,bottom=MPVBM,color='b',alpha=0.8,align='center',edgecolor='b',label='Materials Project Bands')\n",
        "plt.bar(x,upperCBM,1.0,bottom=MPCBM,color='r',alpha=0.8,edgecolor='r',align='center')\n",
        "plt.plot(x,ExpCNL,linestyle='None',marker='h',color='m',markersize=12,label=r'E$_{CN,Exp}$')\n",
        "\n",
        "ml = AutoMinorLocator(4)\n",
        "plt.tick_params(which='both', width=2)\n",
        "plt.tick_params(which='major', length=6)\n",
        "plt.tick_params(which='minor', length=4)\n",
        "plt.plot([-10,max(x)+10],[0,0],'--k',linewidth=2.0)\n",
        "plt.xticks(x, xticks, fontsize=20,**csfont)\n",
        "plt.yticks(y,yticks,fontsize=28,**csfont)\n",
        "plt.gca().xaxis.grid(True,linestyle='--',linewidth=2.0)\n",
        "plt.axis([-.5, len(AllData)-.5, -6,4])\n",
        "plt.ylabel(r\"$\\rm{E-E_\\mathrm{BP} (eV)}$\",fontsize=40,**csfont)\n",
        "plt.tick_params(axis='both', which='major', labelsize=20)\n",
        "# plt.gca().axes().yaxis.set_minor_locator(ml)\n",
        "plt.show() \n"
      ]
    },
    {
      "cell_type": "code",
      "execution_count": null,
      "metadata": {
        "collapsed": true,
        "id": "pYtV7lO_ojr6"
      },
      "outputs": [],
      "source": []
    }
  ],
  "metadata": {
    "colab": {
      "provenance": [],
      "include_colab_link": true
    },
    "kernelspec": {
      "display_name": "Python 3",
      "language": "python",
      "name": "python3"
    },
    "language_info": {
      "codemirror_mode": {
        "name": "ipython",
        "version": 3
      },
      "file_extension": ".py",
      "mimetype": "text/x-python",
      "name": "python",
      "nbconvert_exporter": "python",
      "pygments_lexer": "ipython3",
      "version": "3.8.8"
    }
  },
  "nbformat": 4,
  "nbformat_minor": 0
}