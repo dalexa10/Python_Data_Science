{
  "nbformat": 4,
  "nbformat_minor": 0,
  "metadata": {
    "colab": {
      "provenance": [],
      "authorship_tag": "ABX9TyOIg52QLWH2oyjin6bY6qQZ",
      "include_colab_link": true
    },
    "kernelspec": {
      "name": "python3",
      "display_name": "Python 3"
    },
    "language_info": {
      "name": "python"
    }
  },
  "cells": [
    {
      "cell_type": "markdown",
      "metadata": {
        "id": "view-in-github",
        "colab_type": "text"
      },
      "source": [
        "<a href=\"https://colab.research.google.com/github/dalexa10/Python_4_Data_Science/blob/main/GLM/generalized_linear_model.ipynb\" target=\"_parent\"><img src=\"https://colab.research.google.com/assets/colab-badge.svg\" alt=\"Open In Colab\"/></a>"
      ]
    },
    {
      "cell_type": "markdown",
      "source": [
        "#Statistical modeling\n",
        "Import packages first"
      ],
      "metadata": {
        "id": "3dF5sIDKBWtH"
      }
    },
    {
      "cell_type": "code",
      "execution_count": 4,
      "metadata": {
        "id": "dZCddkqbBTS4"
      },
      "outputs": [],
      "source": [
        "import pandas as pd\n",
        "import numpy as np\n",
        "import statsmodels.api as sm\n",
        "from statsmodels.formula.api import logit\n",
        "import matplotlib.pyplot as plt \n",
        "import math"
      ]
    },
    {
      "cell_type": "markdown",
      "source": [
        "##Example 1: Psych Data\n"
      ],
      "metadata": {
        "id": "tsL5BIjDBj0l"
      }
    },
    {
      "cell_type": "code",
      "source": [
        "with open('psych.txt', 'r') as f:\n",
        "  psych = pd.read_csv(f, sep=\" \")\n",
        "# psych.columns\n",
        "# psych.head\n",
        "psych.shape"
      ],
      "metadata": {
        "colab": {
          "base_uri": "https://localhost:8080/"
        },
        "id": "WXsZ97qOEnEv",
        "outputId": "7d93ea65-c6f1-4f83-c5c6-20e0ef16121a"
      },
      "execution_count": null,
      "outputs": [
        {
          "output_type": "execute_result",
          "data": {
            "text/plain": [
              "(45, 6)"
            ]
          },
          "metadata": {},
          "execution_count": 3
        }
      ]
    },
    {
      "cell_type": "code",
      "source": [
        "endog = psych.iloc[:,0] #y: ill\n",
        "exog = sm.add_constant(psych.iloc[:,1:6]) # x1-x5 with the interception\n",
        "\n",
        "psychfit1 = sm.GLM(endog, exog, family=sm.families.Binomial())\n",
        "result1 = psychfit1.fit()\n",
        "print(result1.summary())"
      ],
      "metadata": {
        "colab": {
          "base_uri": "https://localhost:8080/"
        },
        "id": "3nMY2SOQBfBg",
        "outputId": "2345f536-9038-4bc5-db88-71239b8145ef"
      },
      "execution_count": null,
      "outputs": [
        {
          "output_type": "stream",
          "name": "stdout",
          "text": [
            "                 Generalized Linear Model Regression Results                  \n",
            "==============================================================================\n",
            "Dep. Variable:                    ill   No. Observations:                   45\n",
            "Model:                            GLM   Df Residuals:                       39\n",
            "Model Family:                Binomial   Df Model:                            5\n",
            "Link Function:                  logit   Scale:                          1.0000\n",
            "Method:                          IRLS   Log-Likelihood:                -12.827\n",
            "Date:                Tue, 14 Feb 2023   Deviance:                       25.653\n",
            "Time:                        18:07:04   Pearson chi2:                     39.8\n",
            "No. Iterations:                     7                                         \n",
            "Covariance Type:            nonrobust                                         \n",
            "==============================================================================\n",
            "                 coef    std err          z      P>|z|      [0.025      0.975]\n",
            "------------------------------------------------------------------------------\n",
            "const         15.2226      6.332      2.404      0.016       2.812      27.633\n",
            "x1            -0.6757      0.804     -0.840      0.401      -2.252       0.901\n",
            "x2            -1.1471      1.062     -1.080      0.280      -3.229       0.935\n",
            "x3            -2.9016      2.273     -1.276      0.202      -7.357       1.554\n",
            "x4            -1.0316      0.708     -1.457      0.145      -2.419       0.356\n",
            "x5            -2.0280      1.202     -1.687      0.092      -4.385       0.329\n",
            "==============================================================================\n"
          ]
        },
        {
          "output_type": "stream",
          "name": "stderr",
          "text": [
            "/usr/local/lib/python3.8/dist-packages/statsmodels/tsa/tsatools.py:142: FutureWarning: In a future version of pandas all arguments of concat except for the argument 'objs' will be keyword-only\n",
            "  x = pd.concat(x[::order], 1)\n"
          ]
        }
      ]
    },
    {
      "cell_type": "code",
      "source": [
        "# In another way\n",
        "logistic_model = logit('ill ~ x1+x2+x3+x4+x5',psych)\n",
        "result = logistic_model.fit()\n",
        "print(result.summary())"
      ],
      "metadata": {
        "id": "JSWt6kHmFy7N",
        "colab": {
          "base_uri": "https://localhost:8080/"
        },
        "outputId": "20cb4f36-ed94-4ff2-8e36-5d225b0b6532"
      },
      "execution_count": null,
      "outputs": [
        {
          "output_type": "stream",
          "name": "stdout",
          "text": [
            "Optimization terminated successfully.\n",
            "         Current function value: 0.285038\n",
            "         Iterations 9\n",
            "                           Logit Regression Results                           \n",
            "==============================================================================\n",
            "Dep. Variable:                    ill   No. Observations:                   45\n",
            "Model:                          Logit   Df Residuals:                       39\n",
            "Method:                           MLE   Df Model:                            5\n",
            "Date:                Tue, 14 Feb 2023   Pseudo R-squ.:                  0.5522\n",
            "Time:                        18:07:41   Log-Likelihood:                -12.827\n",
            "converged:                       True   LL-Null:                       -28.643\n",
            "Covariance Type:            nonrobust   LLR p-value:                 7.023e-06\n",
            "==============================================================================\n",
            "                 coef    std err          z      P>|z|      [0.025      0.975]\n",
            "------------------------------------------------------------------------------\n",
            "Intercept     15.2226      6.332      2.404      0.016       2.812      27.633\n",
            "x1            -0.6757      0.804     -0.840      0.401      -2.252       0.901\n",
            "x2            -1.1471      1.062     -1.080      0.280      -3.229       0.935\n",
            "x3            -2.9016      2.273     -1.276      0.202      -7.357       1.554\n",
            "x4            -1.0316      0.708     -1.457      0.145      -2.419       0.356\n",
            "x5            -2.0280      1.202     -1.687      0.092      -4.385       0.329\n",
            "==============================================================================\n"
          ]
        }
      ]
    },
    {
      "cell_type": "code",
      "source": [
        "# Try using the total score only.\n",
        "endog = psych.iloc[:,0] #y: ill\n",
        "np.sum(psych.iloc[:,1:6], axis=1) # calcuate the row sum\n",
        "exog = sm.add_constant(np.sum(psych.iloc[:,1:6], axis=1))\n",
        "\n",
        "psychfit2 = sm.GLM(endog, exog, family=sm.families.Binomial())\n",
        "result2 = psychfit2.fit()\n",
        "print(result2.summary())"
      ],
      "metadata": {
        "colab": {
          "base_uri": "https://localhost:8080/"
        },
        "id": "Z9Ig1jqsHGkk",
        "outputId": "66bcc749-b48e-47a1-a4fc-87d6279b3759"
      },
      "execution_count": null,
      "outputs": [
        {
          "output_type": "stream",
          "name": "stdout",
          "text": [
            "                 Generalized Linear Model Regression Results                  \n",
            "==============================================================================\n",
            "Dep. Variable:                    ill   No. Observations:                   45\n",
            "Model:                            GLM   Df Residuals:                       43\n",
            "Model Family:                Binomial   Df Model:                            1\n",
            "Link Function:                  logit   Scale:                          1.0000\n",
            "Method:                          IRLS   Log-Likelihood:                -13.686\n",
            "Date:                Tue, 14 Feb 2023   Deviance:                       27.373\n",
            "Time:                        18:08:15   Pearson chi2:                     54.7\n",
            "No. Iterations:                     7                                         \n",
            "Covariance Type:            nonrobust                                         \n",
            "==============================================================================\n",
            "                 coef    std err          z      P>|z|      [0.025      0.975]\n",
            "------------------------------------------------------------------------------\n",
            "const         10.0331      3.145      3.190      0.001       3.869      16.197\n",
            "0             -1.0524      0.318     -3.312      0.001      -1.675      -0.430\n",
            "==============================================================================\n"
          ]
        },
        {
          "output_type": "stream",
          "name": "stderr",
          "text": [
            "/usr/local/lib/python3.8/dist-packages/statsmodels/tsa/tsatools.py:142: FutureWarning: In a future version of pandas all arguments of concat except for the argument 'objs' will be keyword-only\n",
            "  x = pd.concat(x[::order], 1)\n"
          ]
        }
      ]
    },
    {
      "cell_type": "code",
      "source": [
        "# Plot fitted probabilities of illness versus the total score:\n",
        "def p(x):   # Calcuate the fitted probabilities\n",
        "    e = result2.params[\"const\"]+result2.params[0]*x\n",
        "    return(math.exp(e)/(1+math.exp(e)))\n",
        "\n",
        "fitprob = list(map(p, np.sum(psych.iloc[:,1:6], axis=1))) \n",
        "\n",
        "# plotting the points  \n",
        "plt.scatter(np.sum(psych.iloc[:,1:6], axis=1), fitprob)\n",
        "  \n",
        "# naming the x axis \n",
        "plt.xlabel('Total Score') \n",
        "# naming the y axis \n",
        "plt.ylabel('Fitted Probability of Illness') \n",
        "\n",
        "# function to show the plot \n",
        "plt.show() "
      ],
      "metadata": {
        "colab": {
          "base_uri": "https://localhost:8080/",
          "height": 279
        },
        "id": "OefnMAcuHO4i",
        "outputId": "233ceaa8-7264-46bd-fe49-d2342f39df0a"
      },
      "execution_count": null,
      "outputs": [
        {
          "output_type": "display_data",
          "data": {
            "text/plain": [
              "<Figure size 432x288 with 1 Axes>"
            ],
            "image/png": "[encoded data removed]"
          },
          "metadata": {
            "needs_background": "light"
          }
        }
      ]
    },
    {
      "cell_type": "code",
      "source": [
        "# Plot fitted probabilities of illness versus the total score:\n",
        "fitprob = result2.predict(sm.add_constant(np.sum(psych.iloc[:,1:6], axis=1)))\n",
        "\n",
        "# plotting the points  \n",
        "plt.scatter(np.sum(psych.iloc[:,1:6], axis=1), fitprob)\n",
        "  \n",
        "# naming the x axis \n",
        "plt.xlabel('Total Score') \n",
        "# naming the y axis \n",
        "plt.ylabel('Fitted Probability of Illness') \n",
        "\n",
        "# function to show the plot \n",
        "plt.show() "
      ],
      "metadata": {
        "colab": {
          "base_uri": "https://localhost:8080/",
          "height": 334
        },
        "id": "qbkz8VneHRvW",
        "outputId": "bf99b923-95f2-4864-effd-57ea4c20d5f8"
      },
      "execution_count": null,
      "outputs": [
        {
          "output_type": "stream",
          "name": "stderr",
          "text": [
            "/usr/local/lib/python3.8/dist-packages/statsmodels/tsa/tsatools.py:142: FutureWarning: In a future version of pandas all arguments of concat except for the argument 'objs' will be keyword-only\n",
            "  x = pd.concat(x[::order], 1)\n"
          ]
        },
        {
          "output_type": "display_data",
          "data": {
            "text/plain": [
              "<Figure size 432x288 with 1 Axes>"
            ],
            "image/png": "[encoded data removed]"
          },
          "metadata": {
            "needs_background": "light"
          }
        }
      ]
    },
    {
      "cell_type": "code",
      "source": [],
      "metadata": {
        "id": "POB3wSMYHVuZ"
      },
      "execution_count": null,
      "outputs": []
    }
  ]
}