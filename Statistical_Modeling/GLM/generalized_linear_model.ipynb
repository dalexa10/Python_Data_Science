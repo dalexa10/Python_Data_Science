{
  "nbformat": 4,
  "nbformat_minor": 0,
  "metadata": {
    "colab": {
      "provenance": [],
      "include_colab_link": true
    },
    "kernelspec": {
      "name": "python3",
      "display_name": "Python 3"
    },
    "language_info": {
      "name": "python"
    }
  },
  "cells": [
    {
      "cell_type": "markdown",
      "metadata": {
        "id": "view-in-github",
        "colab_type": "text"
      },
      "source": [
        "<a href=\"https://colab.research.google.com/github/dalexa10/Python_Data_Science/blob/main/Statistical_Modeling/GLM/generalized_linear_model.ipynb\" target=\"_parent\"><img src=\"https://colab.research.google.com/assets/colab-badge.svg\" alt=\"Open In Colab\"/></a>"
      ]
    },
    {
      "cell_type": "markdown",
      "source": [
        "#Statistical modeling\n",
        "##Generalized Linear Models\n",
        "\n",
        "Import packages first"
      ],
      "metadata": {
        "id": "3dF5sIDKBWtH"
      }
    },
    {
      "cell_type": "code",
      "execution_count": 2,
      "metadata": {
        "id": "dZCddkqbBTS4"
      },
      "outputs": [],
      "source": [
        "import pandas as pd\n",
        "import numpy as np\n",
        "import statsmodels.api as sm\n",
        "from statsmodels.formula.api import logit\n",
        "import matplotlib.pyplot as plt \n",
        "import math"
      ]
    },
    {
      "cell_type": "markdown",
      "source": [
        "###Example 1: Psych Data\n"
      ],
      "metadata": {
        "id": "tsL5BIjDBj0l"
      }
    },
    {
      "cell_type": "markdown",
      "source": [
        "The data represent the following:\n",
        "\\begin{align}\n",
        "  Y_i = \n",
        "  \\begin{cases}\n",
        "    0 & if \\ subject \\ i \\ is \\ healthy \\ (30) \\\\\n",
        "    1 & if \\ subject \\ i \\ is \\ mentally \\ ill \\ (15) \n",
        "  \\end{cases}\n",
        "\\end{align}\n",
        "\n",
        "And the expanatory variables $x_1$, $x_2$, $x_3$, $x_4$, $x_5$ represent scores (1 to 4) on five questions, where higher values are expected to be healthier. "
      ],
      "metadata": {
        "id": "MXcmNnrzd5_P"
      }
    },
    {
      "cell_type": "markdown",
      "source": [
        "Let's read the data ... You might need to change the `url_data` variable"
      ],
      "metadata": {
        "id": "a34zRrydfpA_"
      }
    },
    {
      "cell_type": "code",
      "source": [
        "url_data = 'https://raw.githubusercontent.com/dalexa10/Python_Data_Science/main/Statistical_Modeling/GLM/psych.txt'\n",
        "psych = pd.read_csv(url_data, sep=' ')\n",
        "psych.shape\n",
        "psych.head(5)"
      ],
      "metadata": {
        "id": "5QvfSLIImELK",
        "outputId": "01860458-5544-4564-d2c9-d11fdd505cb5",
        "colab": {
          "base_uri": "https://localhost:8080/",
          "height": 206
        }
      },
      "execution_count": 4,
      "outputs": [
        {
          "output_type": "execute_result",
          "data": {
            "text/plain": [
              "   ill  x1  x2  x3  x4  x5\n",
              "0    1   2   2   2   2   2\n",
              "1    1   2   2   2   1   2\n",
              "2    1   1   1   2   1   1\n",
              "3    1   2   2   2   1   2\n",
              "4    1   1   1   2   1   2"
            ],
            "text/html": [
              "\n",
              "  <div id=\"df-fcc8a096-67c9-4921-8723-3c5e0b502b72\">\n",
              "    <div class=\"colab-df-container\">\n",
              "      <div>\n",
              "<style scoped>\n",
              "    .dataframe tbody tr th:only-of-type {\n",
              "        vertical-align: middle;\n",
              "    }\n",
              "\n",
              "    .dataframe tbody tr th {\n",
              "        vertical-align: top;\n",
              "    }\n",
              "\n",
              "    .dataframe thead th {\n",
              "        text-align: right;\n",
              "    }\n",
              "</style>\n",
              "<table border=\"1\" class=\"dataframe\">\n",
              "  <thead>\n",
              "    <tr style=\"text-align: right;\">\n",
              "      <th></th>\n",
              "      <th>ill</th>\n",
              "      <th>x1</th>\n",
              "      <th>x2</th>\n",
              "      <th>x3</th>\n",
              "      <th>x4</th>\n",
              "      <th>x5</th>\n",
              "    </tr>\n",
              "  </thead>\n",
              "  <tbody>\n",
              "    <tr>\n",
              "      <th>0</th>\n",
              "      <td>1</td>\n",
              "      <td>2</td>\n",
              "      <td>2</td>\n",
              "      <td>2</td>\n",
              "      <td>2</td>\n",
              "      <td>2</td>\n",
              "    </tr>\n",
              "    <tr>\n",
              "      <th>1</th>\n",
              "      <td>1</td>\n",
              "      <td>2</td>\n",
              "      <td>2</td>\n",
              "      <td>2</td>\n",
              "      <td>1</td>\n",
              "      <td>2</td>\n",
              "    </tr>\n",
              "    <tr>\n",
              "      <th>2</th>\n",
              "      <td>1</td>\n",
              "      <td>1</td>\n",
              "      <td>1</td>\n",
              "      <td>2</td>\n",
              "      <td>1</td>\n",
              "      <td>1</td>\n",
              "    </tr>\n",
              "    <tr>\n",
              "      <th>3</th>\n",
              "      <td>1</td>\n",
              "      <td>2</td>\n",
              "      <td>2</td>\n",
              "      <td>2</td>\n",
              "      <td>1</td>\n",
              "      <td>2</td>\n",
              "    </tr>\n",
              "    <tr>\n",
              "      <th>4</th>\n",
              "      <td>1</td>\n",
              "      <td>1</td>\n",
              "      <td>1</td>\n",
              "      <td>2</td>\n",
              "      <td>1</td>\n",
              "      <td>2</td>\n",
              "    </tr>\n",
              "  </tbody>\n",
              "</table>\n",
              "</div>\n",
              "      <button class=\"colab-df-convert\" onclick=\"convertToInteractive('df-fcc8a096-67c9-4921-8723-3c5e0b502b72')\"\n",
              "              title=\"Convert this dataframe to an interactive table.\"\n",
              "              style=\"display:none;\">\n",
              "        \n",
              "  <svg xmlns=\"http://www.w3.org/2000/svg\" height=\"24px\"viewBox=\"0 0 24 24\"\n",
              "       width=\"24px\">\n",
              "    <path d=\"M0 0h24v24H0V0z\" fill=\"none\"/>\n",
              "    <path d=\"M18.56 5.44l.94 2.06.94-2.06 2.06-.94-2.06-.94-.94-2.06-.94 2.06-2.06.94zm-11 1L8.5 8.5l.94-2.06 2.06-.94-2.06-.94L8.5 2.5l-.94 2.06-2.06.94zm10 10l.94 2.06.94-2.06 2.06-.94-2.06-.94-.94-2.06-.94 2.06-2.06.94z\"/><path d=\"M17.41 7.96l-1.37-1.37c-.4-.4-.92-.59-1.43-.59-.52 0-1.04.2-1.43.59L10.3 9.45l-7.72 7.72c-.78.78-.78 2.05 0 2.83L4 21.41c.39.39.9.59 1.41.59.51 0 1.02-.2 1.41-.59l7.78-7.78 2.81-2.81c.8-.78.8-2.07 0-2.86zM5.41 20L4 18.59l7.72-7.72 1.47 1.35L5.41 20z\"/>\n",
              "  </svg>\n",
              "      </button>\n",
              "      \n",
              "  <style>\n",
              "    .colab-df-container {\n",
              "      display:flex;\n",
              "      flex-wrap:wrap;\n",
              "      gap: 12px;\n",
              "    }\n",
              "\n",
              "    .colab-df-convert {\n",
              "      background-color: #E8F0FE;\n",
              "      border: none;\n",
              "      border-radius: 50%;\n",
              "      cursor: pointer;\n",
              "      display: none;\n",
              "      fill: #1967D2;\n",
              "      height: 32px;\n",
              "      padding: 0 0 0 0;\n",
              "      width: 32px;\n",
              "    }\n",
              "\n",
              "    .colab-df-convert:hover {\n",
              "      background-color: #E2EBFA;\n",
              "      box-shadow: 0px 1px 2px rgba(60, 64, 67, 0.3), 0px 1px 3px 1px rgba(60, 64, 67, 0.15);\n",
              "      fill: #174EA6;\n",
              "    }\n",
              "\n",
              "    [theme=dark] .colab-df-convert {\n",
              "      background-color: #3B4455;\n",
              "      fill: #D2E3FC;\n",
              "    }\n",
              "\n",
              "    [theme=dark] .colab-df-convert:hover {\n",
              "      background-color: #434B5C;\n",
              "      box-shadow: 0px 1px 3px 1px rgba(0, 0, 0, 0.15);\n",
              "      filter: drop-shadow(0px 1px 2px rgba(0, 0, 0, 0.3));\n",
              "      fill: #FFFFFF;\n",
              "    }\n",
              "  </style>\n",
              "\n",
              "      <script>\n",
              "        const buttonEl =\n",
              "          document.querySelector('#df-fcc8a096-67c9-4921-8723-3c5e0b502b72 button.colab-df-convert');\n",
              "        buttonEl.style.display =\n",
              "          google.colab.kernel.accessAllowed ? 'block' : 'none';\n",
              "\n",
              "        async function convertToInteractive(key) {\n",
              "          const element = document.querySelector('#df-fcc8a096-67c9-4921-8723-3c5e0b502b72');\n",
              "          const dataTable =\n",
              "            await google.colab.kernel.invokeFunction('convertToInteractive',\n",
              "                                                     [key], {});\n",
              "          if (!dataTable) return;\n",
              "\n",
              "          const docLinkHtml = 'Like what you see? Visit the ' +\n",
              "            '<a target=\"_blank\" href=https://colab.research.google.com/notebooks/data_table.ipynb>data table notebook</a>'\n",
              "            + ' to learn more about interactive tables.';\n",
              "          element.innerHTML = '';\n",
              "          dataTable['output_type'] = 'display_data';\n",
              "          await google.colab.output.renderOutput(dataTable, element);\n",
              "          const docLink = document.createElement('div');\n",
              "          docLink.innerHTML = docLinkHtml;\n",
              "          element.appendChild(docLink);\n",
              "        }\n",
              "      </script>\n",
              "    </div>\n",
              "  </div>\n",
              "  "
            ]
          },
          "metadata": {},
          "execution_count": 4
        }
      ]
    },
    {
      "cell_type": "code",
      "source": [
        "psych.tail(5)"
      ],
      "metadata": {
        "id": "wOxAgAvDbUpY",
        "outputId": "11dfce9a-a95b-44dc-9185-1adf809a0409",
        "colab": {
          "base_uri": "https://localhost:8080/",
          "height": 206
        }
      },
      "execution_count": 5,
      "outputs": [
        {
          "output_type": "execute_result",
          "data": {
            "text/plain": [
              "    ill  x1  x2  x3  x4  x5\n",
              "40    0   2   2   2   1   2\n",
              "41    0   4   2   2   2   2\n",
              "42    0   3   3   2   3   3\n",
              "43    0   2   3   2   2   2\n",
              "44    0   4   3   1   2   3"
            ],
            "text/html": [
              "\n",
              "  <div id=\"df-bd5fa0d3-6430-4d17-b266-fa58624e77df\">\n",
              "    <div class=\"colab-df-container\">\n",
              "      <div>\n",
              "<style scoped>\n",
              "    .dataframe tbody tr th:only-of-type {\n",
              "        vertical-align: middle;\n",
              "    }\n",
              "\n",
              "    .dataframe tbody tr th {\n",
              "        vertical-align: top;\n",
              "    }\n",
              "\n",
              "    .dataframe thead th {\n",
              "        text-align: right;\n",
              "    }\n",
              "</style>\n",
              "<table border=\"1\" class=\"dataframe\">\n",
              "  <thead>\n",
              "    <tr style=\"text-align: right;\">\n",
              "      <th></th>\n",
              "      <th>ill</th>\n",
              "      <th>x1</th>\n",
              "      <th>x2</th>\n",
              "      <th>x3</th>\n",
              "      <th>x4</th>\n",
              "      <th>x5</th>\n",
              "    </tr>\n",
              "  </thead>\n",
              "  <tbody>\n",
              "    <tr>\n",
              "      <th>40</th>\n",
              "      <td>0</td>\n",
              "      <td>2</td>\n",
              "      <td>2</td>\n",
              "      <td>2</td>\n",
              "      <td>1</td>\n",
              "      <td>2</td>\n",
              "    </tr>\n",
              "    <tr>\n",
              "      <th>41</th>\n",
              "      <td>0</td>\n",
              "      <td>4</td>\n",
              "      <td>2</td>\n",
              "      <td>2</td>\n",
              "      <td>2</td>\n",
              "      <td>2</td>\n",
              "    </tr>\n",
              "    <tr>\n",
              "      <th>42</th>\n",
              "      <td>0</td>\n",
              "      <td>3</td>\n",
              "      <td>3</td>\n",
              "      <td>2</td>\n",
              "      <td>3</td>\n",
              "      <td>3</td>\n",
              "    </tr>\n",
              "    <tr>\n",
              "      <th>43</th>\n",
              "      <td>0</td>\n",
              "      <td>2</td>\n",
              "      <td>3</td>\n",
              "      <td>2</td>\n",
              "      <td>2</td>\n",
              "      <td>2</td>\n",
              "    </tr>\n",
              "    <tr>\n",
              "      <th>44</th>\n",
              "      <td>0</td>\n",
              "      <td>4</td>\n",
              "      <td>3</td>\n",
              "      <td>1</td>\n",
              "      <td>2</td>\n",
              "      <td>3</td>\n",
              "    </tr>\n",
              "  </tbody>\n",
              "</table>\n",
              "</div>\n",
              "      <button class=\"colab-df-convert\" onclick=\"convertToInteractive('df-bd5fa0d3-6430-4d17-b266-fa58624e77df')\"\n",
              "              title=\"Convert this dataframe to an interactive table.\"\n",
              "              style=\"display:none;\">\n",
              "        \n",
              "  <svg xmlns=\"http://www.w3.org/2000/svg\" height=\"24px\"viewBox=\"0 0 24 24\"\n",
              "       width=\"24px\">\n",
              "    <path d=\"M0 0h24v24H0V0z\" fill=\"none\"/>\n",
              "    <path d=\"M18.56 5.44l.94 2.06.94-2.06 2.06-.94-2.06-.94-.94-2.06-.94 2.06-2.06.94zm-11 1L8.5 8.5l.94-2.06 2.06-.94-2.06-.94L8.5 2.5l-.94 2.06-2.06.94zm10 10l.94 2.06.94-2.06 2.06-.94-2.06-.94-.94-2.06-.94 2.06-2.06.94z\"/><path d=\"M17.41 7.96l-1.37-1.37c-.4-.4-.92-.59-1.43-.59-.52 0-1.04.2-1.43.59L10.3 9.45l-7.72 7.72c-.78.78-.78 2.05 0 2.83L4 21.41c.39.39.9.59 1.41.59.51 0 1.02-.2 1.41-.59l7.78-7.78 2.81-2.81c.8-.78.8-2.07 0-2.86zM5.41 20L4 18.59l7.72-7.72 1.47 1.35L5.41 20z\"/>\n",
              "  </svg>\n",
              "      </button>\n",
              "      \n",
              "  <style>\n",
              "    .colab-df-container {\n",
              "      display:flex;\n",
              "      flex-wrap:wrap;\n",
              "      gap: 12px;\n",
              "    }\n",
              "\n",
              "    .colab-df-convert {\n",
              "      background-color: #E8F0FE;\n",
              "      border: none;\n",
              "      border-radius: 50%;\n",
              "      cursor: pointer;\n",
              "      display: none;\n",
              "      fill: #1967D2;\n",
              "      height: 32px;\n",
              "      padding: 0 0 0 0;\n",
              "      width: 32px;\n",
              "    }\n",
              "\n",
              "    .colab-df-convert:hover {\n",
              "      background-color: #E2EBFA;\n",
              "      box-shadow: 0px 1px 2px rgba(60, 64, 67, 0.3), 0px 1px 3px 1px rgba(60, 64, 67, 0.15);\n",
              "      fill: #174EA6;\n",
              "    }\n",
              "\n",
              "    [theme=dark] .colab-df-convert {\n",
              "      background-color: #3B4455;\n",
              "      fill: #D2E3FC;\n",
              "    }\n",
              "\n",
              "    [theme=dark] .colab-df-convert:hover {\n",
              "      background-color: #434B5C;\n",
              "      box-shadow: 0px 1px 3px 1px rgba(0, 0, 0, 0.15);\n",
              "      filter: drop-shadow(0px 1px 2px rgba(0, 0, 0, 0.3));\n",
              "      fill: #FFFFFF;\n",
              "    }\n",
              "  </style>\n",
              "\n",
              "      <script>\n",
              "        const buttonEl =\n",
              "          document.querySelector('#df-bd5fa0d3-6430-4d17-b266-fa58624e77df button.colab-df-convert');\n",
              "        buttonEl.style.display =\n",
              "          google.colab.kernel.accessAllowed ? 'block' : 'none';\n",
              "\n",
              "        async function convertToInteractive(key) {\n",
              "          const element = document.querySelector('#df-bd5fa0d3-6430-4d17-b266-fa58624e77df');\n",
              "          const dataTable =\n",
              "            await google.colab.kernel.invokeFunction('convertToInteractive',\n",
              "                                                     [key], {});\n",
              "          if (!dataTable) return;\n",
              "\n",
              "          const docLinkHtml = 'Like what you see? Visit the ' +\n",
              "            '<a target=\"_blank\" href=https://colab.research.google.com/notebooks/data_table.ipynb>data table notebook</a>'\n",
              "            + ' to learn more about interactive tables.';\n",
              "          element.innerHTML = '';\n",
              "          dataTable['output_type'] = 'display_data';\n",
              "          await google.colab.output.renderOutput(dataTable, element);\n",
              "          const docLink = document.createElement('div');\n",
              "          docLink.innerHTML = docLinkHtml;\n",
              "          element.appendChild(docLink);\n",
              "        }\n",
              "      </script>\n",
              "    </div>\n",
              "  </div>\n",
              "  "
            ]
          },
          "metadata": {},
          "execution_count": 5
        }
      ]
    },
    {
      "cell_type": "markdown",
      "source": [
        "Note that the $ill$ column is binary. Hence, a proper linear model depending on the response variables $x_i$ "
      ],
      "metadata": {
        "id": "-8AMOCt2aoGf"
      }
    },
    {
      "cell_type": "markdown",
      "source": [
        "Note that `Binomial()` method is used in the `sm.families` object for the `familly` argument"
      ],
      "metadata": {
        "id": "0NeLULGyvH30"
      }
    },
    {
      "cell_type": "code",
      "source": [
        "endog = psych.iloc[:,0] #y: ill\n",
        "exog = sm.add_constant(psych.iloc[:,1:]) # x1-x5 with the interception\n",
        "\n",
        "psychfit1 = sm.GLM(endog, exog, family=sm.families.Binomial())\n",
        "result1 = psychfit1.fit()\n",
        "print(result1.summary())"
      ],
      "metadata": {
        "colab": {
          "base_uri": "https://localhost:8080/"
        },
        "id": "3nMY2SOQBfBg",
        "outputId": "4944dada-3b45-47e4-b3b5-ce6fb15f9110"
      },
      "execution_count": 6,
      "outputs": [
        {
          "output_type": "stream",
          "name": "stdout",
          "text": [
            "                 Generalized Linear Model Regression Results                  \n",
            "==============================================================================\n",
            "Dep. Variable:                    ill   No. Observations:                   45\n",
            "Model:                            GLM   Df Residuals:                       39\n",
            "Model Family:                Binomial   Df Model:                            5\n",
            "Link Function:                  logit   Scale:                          1.0000\n",
            "Method:                          IRLS   Log-Likelihood:                -12.827\n",
            "Date:                Sat, 18 Feb 2023   Deviance:                       25.653\n",
            "Time:                        18:33:49   Pearson chi2:                     39.8\n",
            "No. Iterations:                     7                                         \n",
            "Covariance Type:            nonrobust                                         \n",
            "==============================================================================\n",
            "                 coef    std err          z      P>|z|      [0.025      0.975]\n",
            "------------------------------------------------------------------------------\n",
            "const         15.2226      6.332      2.404      0.016       2.812      27.633\n",
            "x1            -0.6757      0.804     -0.840      0.401      -2.252       0.901\n",
            "x2            -1.1471      1.062     -1.080      0.280      -3.229       0.935\n",
            "x3            -2.9016      2.273     -1.276      0.202      -7.357       1.554\n",
            "x4            -1.0316      0.708     -1.457      0.145      -2.419       0.356\n",
            "x5            -2.0280      1.202     -1.687      0.092      -4.385       0.329\n",
            "==============================================================================\n"
          ]
        },
        {
          "output_type": "stream",
          "name": "stderr",
          "text": [
            "/usr/local/lib/python3.8/dist-packages/statsmodels/tsa/tsatools.py:142: FutureWarning: In a future version of pandas all arguments of concat except for the argument 'objs' will be keyword-only\n",
            "  x = pd.concat(x[::order], 1)\n"
          ]
        }
      ]
    },
    {
      "cell_type": "markdown",
      "source": [
        "The previous results can be obtained by using the function `logit` from the API `statsmodels.formula.api`"
      ],
      "metadata": {
        "id": "ke8bnfGYw_MT"
      }
    },
    {
      "cell_type": "code",
      "source": [
        "# In another way\n",
        "logistic_model = logit('ill ~ x1+x2+x3+x4+x5',psych)\n",
        "result = logistic_model.fit()\n",
        "print(result.summary())"
      ],
      "metadata": {
        "id": "JSWt6kHmFy7N",
        "colab": {
          "base_uri": "https://localhost:8080/"
        },
        "outputId": "e47c4809-ab53-426b-fe7c-8b665ac78403"
      },
      "execution_count": 7,
      "outputs": [
        {
          "output_type": "stream",
          "name": "stdout",
          "text": [
            "Optimization terminated successfully.\n",
            "         Current function value: 0.285038\n",
            "         Iterations 9\n",
            "                           Logit Regression Results                           \n",
            "==============================================================================\n",
            "Dep. Variable:                    ill   No. Observations:                   45\n",
            "Model:                          Logit   Df Residuals:                       39\n",
            "Method:                           MLE   Df Model:                            5\n",
            "Date:                Sat, 18 Feb 2023   Pseudo R-squ.:                  0.5522\n",
            "Time:                        18:33:52   Log-Likelihood:                -12.827\n",
            "converged:                       True   LL-Null:                       -28.643\n",
            "Covariance Type:            nonrobust   LLR p-value:                 7.023e-06\n",
            "==============================================================================\n",
            "                 coef    std err          z      P>|z|      [0.025      0.975]\n",
            "------------------------------------------------------------------------------\n",
            "Intercept     15.2226      6.332      2.404      0.016       2.812      27.633\n",
            "x1            -0.6757      0.804     -0.840      0.401      -2.252       0.901\n",
            "x2            -1.1471      1.062     -1.080      0.280      -3.229       0.935\n",
            "x3            -2.9016      2.273     -1.276      0.202      -7.357       1.554\n",
            "x4            -1.0316      0.708     -1.457      0.145      -2.419       0.356\n",
            "x5            -2.0280      1.202     -1.687      0.092      -4.385       0.329\n",
            "==============================================================================\n"
          ]
        }
      ]
    },
    {
      "cell_type": "markdown",
      "source": [
        "Bsically the same results are obtained. It can be seen that all effects ( $\\hat{\\beta}_i$) have the same direction but apparently none appears significant. Is it a possible collinearity?\n",
        "\n",
        "**Note**: it can be clearly seen that the $\\beta$'s values seem to not have influence and this is because the probabilily of mental illness is inversely proportional to the score. Hence, the increase of any $x_i$ should be reflected on the decrease of the illness probability, and this takes significance when x is higher. "
      ],
      "metadata": {
        "id": "ZxmhBbG3xSnQ"
      }
    },
    {
      "cell_type": "markdown",
      "source": [
        "What if for each individual $y_i$, the total score is used as explanatory variable $x_1$ and apply the same GLM analysis with `Binomial()` method"
      ],
      "metadata": {
        "id": "nOsHq3NOzgp4"
      }
    },
    {
      "cell_type": "code",
      "source": [
        "# Try using the total score only.\n",
        "endog = psych.iloc[:,0] #y: ill\n",
        "np.sum(psych.iloc[:,1:6], axis=1) # calcuate the row sum\n",
        "exog = sm.add_constant(np.sum(psych.iloc[:,1:6], axis=1))\n",
        "\n",
        "psychfit2 = sm.GLM(endog, exog, family=sm.families.Binomial())\n",
        "result2 = psychfit2.fit()\n",
        "print(result2.summary())"
      ],
      "metadata": {
        "colab": {
          "base_uri": "https://localhost:8080/"
        },
        "id": "Z9Ig1jqsHGkk",
        "outputId": "d162a97d-1b13-4bef-9332-f079874a87d0"
      },
      "execution_count": 8,
      "outputs": [
        {
          "output_type": "stream",
          "name": "stdout",
          "text": [
            "                 Generalized Linear Model Regression Results                  \n",
            "==============================================================================\n",
            "Dep. Variable:                    ill   No. Observations:                   45\n",
            "Model:                            GLM   Df Residuals:                       43\n",
            "Model Family:                Binomial   Df Model:                            1\n",
            "Link Function:                  logit   Scale:                          1.0000\n",
            "Method:                          IRLS   Log-Likelihood:                -13.686\n",
            "Date:                Sat, 18 Feb 2023   Deviance:                       27.373\n",
            "Time:                        18:33:54   Pearson chi2:                     54.7\n",
            "No. Iterations:                     7                                         \n",
            "Covariance Type:            nonrobust                                         \n",
            "==============================================================================\n",
            "                 coef    std err          z      P>|z|      [0.025      0.975]\n",
            "------------------------------------------------------------------------------\n",
            "const         10.0331      3.145      3.190      0.001       3.869      16.197\n",
            "0             -1.0524      0.318     -3.312      0.001      -1.675      -0.430\n",
            "==============================================================================\n"
          ]
        },
        {
          "output_type": "stream",
          "name": "stderr",
          "text": [
            "/usr/local/lib/python3.8/dist-packages/statsmodels/tsa/tsatools.py:142: FutureWarning: In a future version of pandas all arguments of concat except for the argument 'objs' will be keyword-only\n",
            "  x = pd.concat(x[::order], 1)\n"
          ]
        }
      ]
    },
    {
      "cell_type": "markdown",
      "source": [
        "Let's compute the probabilities with both predicted results. When a the total score is used, the probability function (fitted generalized linear model) looks like this"
      ],
      "metadata": {
        "id": "MzrFNUwl2GtZ"
      }
    },
    {
      "cell_type": "code",
      "source": [
        "# Plot fitted probabilities of illness versus the total score:\n",
        "def p(x):   # Calcuate the fitted probabilities\n",
        "    e = result2.params[\"const\"]+result2.params[0]*x\n",
        "    return(math.exp(e)/(1+math.exp(e)))\n",
        "\n",
        "fitprob = list(map(p, np.sum(psych.iloc[:,1:6], axis=1))) \n",
        "\n",
        "# plotting the points  \n",
        "plt.scatter(np.sum(psych.iloc[:,1:6], axis=1), fitprob)\n",
        "  \n",
        "# naming the x axis \n",
        "plt.xlabel('Total Score') \n",
        "# naming the y axis \n",
        "plt.ylabel('Fitted Probability of Illness') \n",
        "\n",
        "# function to show the plot \n",
        "plt.show() "
      ],
      "metadata": {
        "colab": {
          "base_uri": "https://localhost:8080/",
          "height": 279
        },
        "id": "OefnMAcuHO4i",
        "outputId": "68b0fbb3-b725-4b48-d717-aabb3abf47cb"
      },
      "execution_count": 9,
      "outputs": [
        {
          "output_type": "display_data",
          "data": {
            "text/plain": [
              "<Figure size 432x288 with 1 Axes>"
            ],
            "image/png": "[encoded data removed]"
          },
          "metadata": {
            "needs_background": "light"
          }
        }
      ]
    },
    {
      "cell_type": "code",
      "source": [
        "# Plot fitted probabilities of illness versus the total score:\n",
        "fitprob = result2.predict(sm.add_constant(np.sum(psych.iloc[:,1:6], axis=1)))\n",
        "\n",
        "# plotting the points  \n",
        "plt.scatter(np.sum(psych.iloc[:,1:6], axis=1), fitprob)\n",
        "  \n",
        "# naming the x axis \n",
        "plt.xlabel('Total Score') \n",
        "# naming the y axis \n",
        "plt.ylabel('Fitted Probability of Illness') \n",
        "\n",
        "# function to show the plot \n",
        "plt.show() "
      ],
      "metadata": {
        "colab": {
          "base_uri": "https://localhost:8080/",
          "height": 314
        },
        "id": "qbkz8VneHRvW",
        "outputId": "420e33db-a285-427b-bce4-a788f9016e1d"
      },
      "execution_count": 10,
      "outputs": [
        {
          "output_type": "stream",
          "name": "stderr",
          "text": [
            "/usr/local/lib/python3.8/dist-packages/statsmodels/tsa/tsatools.py:142: FutureWarning: In a future version of pandas all arguments of concat except for the argument 'objs' will be keyword-only\n",
            "  x = pd.concat(x[::order], 1)\n"
          ]
        },
        {
          "output_type": "display_data",
          "data": {
            "text/plain": [
              "<Figure size 432x288 with 1 Axes>"
            ],
            "image/png": "[encoded data removed]"
          },
          "metadata": {
            "needs_background": "light"
          }
        }
      ]
    },
    {
      "cell_type": "code",
      "source": [
        "a=psych.iloc[:,1:6].values.tolist()\n",
        "a[0]"
      ],
      "metadata": {
        "id": "hUP3irKR87NU",
        "outputId": "fb73ce68-e69c-44fe-ed75-6d5d2f8c7a6e",
        "colab": {
          "base_uri": "https://localhost:8080/"
        }
      },
      "execution_count": 11,
      "outputs": [
        {
          "output_type": "execute_result",
          "data": {
            "text/plain": [
              "[2, 2, 2, 2, 2]"
            ]
          },
          "metadata": {},
          "execution_count": 11
        }
      ]
    },
    {
      "cell_type": "markdown",
      "source": [
        "Now, when $p=1$ (using all $\\beta$ coefficients) and plotting the probability against the answers for Question 1 only"
      ],
      "metadata": {
        "id": "2wx_dL9W-Ivv"
      }
    },
    {
      "cell_type": "code",
      "source": [
        "# Plot fitted probabilities of illness versus the total score:\n",
        "def p2(x):   # Calcuate the fitted probabilities\n",
        "  e = result1.params[\"const\"] + np.sum(np.array([result1.params[i+1] * x[i] for i in range(5)]))\n",
        "  return(math.exp(e)/(1+math.exp(e)))\n",
        "\n",
        "fitprob = list(map(p2, psych.iloc[:,1:6].values.tolist())) \n",
        "\n",
        "# plotting the points  \n",
        "plt.scatter(psych.iloc[:,1], fitprob)\n",
        "\n",
        "# naming the x axis \n",
        "plt.xlabel('Total Score') \n",
        "# naming the y axis \n",
        "plt.ylabel('Fitted Probability of Illness') \n",
        "\n",
        "# function to show the plot \n",
        "plt.show() "
      ],
      "metadata": {
        "id": "POB3wSMYHVuZ",
        "outputId": "c48d577f-f820-448f-ee54-d292fd8a690e",
        "colab": {
          "base_uri": "https://localhost:8080/",
          "height": 279
        }
      },
      "execution_count": 20,
      "outputs": [
        {
          "output_type": "display_data",
          "data": {
            "text/plain": [
              "<Figure size 432x288 with 1 Axes>"
            ],
            "image/png": "[encoded data removed]"
          },
          "metadata": {
            "needs_background": "light"
          }
        }
      ]
    },
    {
      "cell_type": "markdown",
      "source": [
        "What about for question 2"
      ],
      "metadata": {
        "id": "C5aswFet-w96"
      }
    },
    {
      "cell_type": "code",
      "source": [
        "# Plot fitted probabilities of illness versus the total score:\n",
        "def p2(x):   # Calcuate the fitted probabilities\n",
        "  e = result1.params[\"const\"] + np.sum(np.array([result1.params[i+1] * x[i] for i in range(5)]))\n",
        "  return(math.exp(e)/(1+math.exp(e)))\n",
        "\n",
        "fitprob = list(map(p2, psych.iloc[:,1:6].values.tolist())) \n",
        "\n",
        "# plotting the points  \n",
        "plt.scatter(psych.iloc[:,2], fitprob)\n",
        "\n",
        "# naming the x axis \n",
        "plt.xlabel('Total Score') \n",
        "# naming the y axis \n",
        "plt.ylabel('Fitted Probability of Illness') \n",
        "\n",
        "# function to show the plot \n",
        "plt.show() "
      ],
      "metadata": {
        "id": "NWLjyCqn7nA0",
        "outputId": "8d654c20-8707-480f-a4e0-1c2576061555",
        "colab": {
          "base_uri": "https://localhost:8080/",
          "height": 279
        }
      },
      "execution_count": null,
      "outputs": [
        {
          "output_type": "display_data",
          "data": {
            "text/plain": [
              "<Figure size 432x288 with 1 Axes>"
            ],
            "image/png": "[encoded data removed]"
          },
          "metadata": {
            "needs_background": "light"
          }
        }
      ]
    },
    {
      "cell_type": "markdown",
      "source": [
        "What about for the total score points vs the probability computed by the GLM?"
      ],
      "metadata": {
        "id": "aVsONoEX-8Up"
      }
    },
    {
      "cell_type": "code",
      "source": [
        "# Plot fitted probabilities of illness versus the total score:\n",
        "def p2(x):   # Calcuate the fitted probabilities\n",
        "  e = result1.params[\"const\"] + np.sum(np.array([result1.params[i+1] * x[i] for i in range(5)]))\n",
        "  return(math.exp(e)/(1+math.exp(e)))\n",
        "\n",
        "fitprob = list(map(p2, psych.iloc[:,1:6].values.tolist())) \n",
        "\n",
        "# plotting the points  \n",
        "plt.scatter(np.sum(psych.iloc[:,1:6], axis=1), fitprob)\n",
        "\n",
        "# naming the x axis \n",
        "plt.xlabel('Total Score') \n",
        "# naming the y axis \n",
        "plt.ylabel('Fitted Probability of Illness') \n",
        "\n",
        "# function to show the plot \n",
        "plt.show() "
      ],
      "metadata": {
        "id": "nkWEWsd2-5_X",
        "outputId": "333dd1be-ae26-4d54-9263-31a01854c7fe",
        "colab": {
          "base_uri": "https://localhost:8080/",
          "height": 279
        }
      },
      "execution_count": 21,
      "outputs": [
        {
          "output_type": "display_data",
          "data": {
            "text/plain": [
              "<Figure size 432x288 with 1 Axes>"
            ],
            "image/png": "[encoded data removed]"
          },
          "metadata": {
            "needs_background": "light"
          }
        }
      ]
    },
    {
      "cell_type": "markdown",
      "source": [
        "##Conclusion \n",
        "All plots shown here make sense since the trend indicates that the higher the score, the healthier the individual is. No matter if the probability of a single question score or the total score is considered, when plotting against the probability (computed with the GLM coefficients), the trend is the same (with a negative slope). In other words, lower scores indicates the invidual is likely to be ill. \\\\\n",
        "Also note that when plotting the results when using the $\\beta$'s for the 5 explanatory variables $x_i$, although the probability shows a negative slope trend, it is also scatter in the region from 10 to 14 total score. This behavior is smoothed when using a single $\\beta$ by adding up the total score and compute the coefficients.  \n",
        "\n",
        "Finally, summing binary (0/1) observations with the same x (replications) gives a grouped data binomial distribution \\\\\n",
        "\n",
        "\\begin{aligned}\n",
        "  Y_i ~ binomial(n_i, \\pi(x_i))\n",
        "\\end{aligned}\n",
        "\n",
        "where $i$ now referes to the ith group (of the $n_i$ binary observations). Hence, whetever data are groupe or ungropued, fitting with maximum likelihood give the same results"
      ],
      "metadata": {
        "id": "BoMIJ73H_V8o"
      }
    },
    {
      "cell_type": "markdown",
      "source": [],
      "metadata": {
        "id": "jsvCFVwkvIiU"
      }
    },
    {
      "cell_type": "markdown",
      "source": [
        "\\\\"
      ],
      "metadata": {
        "id": "WmM3sz3fvKjb"
      }
    },
    {
      "cell_type": "markdown",
      "source": [
        "###Example 2: Snoring & Heart Disease Data"
      ],
      "metadata": {
        "id": "QSFkHRHm_5bt"
      }
    },
    {
      "cell_type": "markdown",
      "source": [
        "This is just a simple example where the snoring level (0 - 5) is tabulated against illness disease or no disease cases. Again, this analysis represents a binomial distribution case since there are only two posibilities. The idea is to create a GLM that predicts if an individual is prone to suffer a heart attack based on his/her snoring level "
      ],
      "metadata": {
        "id": "VzfEB6olB26v"
      }
    },
    {
      "cell_type": "code",
      "source": [
        "data = np.array([(24, 1355, 0),(35, 603, 2),(21,192, 4), (30, 224, 5)])\n",
        "snoreheart = pd.DataFrame(data, columns=['Disease',  'NoDisease',  'Snoring'])\n",
        "snoreheart"
      ],
      "metadata": {
        "id": "osmMmR2y_I8x",
        "outputId": "a7ba417c-787e-4125-e345-518d66221165",
        "colab": {
          "base_uri": "https://localhost:8080/",
          "height": 175
        }
      },
      "execution_count": 22,
      "outputs": [
        {
          "output_type": "execute_result",
          "data": {
            "text/plain": [
              "   Disease  NoDisease  Snoring\n",
              "0       24       1355        0\n",
              "1       35        603        2\n",
              "2       21        192        4\n",
              "3       30        224        5"
            ],
            "text/html": [
              "\n",
              "  <div id=\"df-9e021dd4-27b5-442f-b604-968c34c16eed\">\n",
              "    <div class=\"colab-df-container\">\n",
              "      <div>\n",
              "<style scoped>\n",
              "    .dataframe tbody tr th:only-of-type {\n",
              "        vertical-align: middle;\n",
              "    }\n",
              "\n",
              "    .dataframe tbody tr th {\n",
              "        vertical-align: top;\n",
              "    }\n",
              "\n",
              "    .dataframe thead th {\n",
              "        text-align: right;\n",
              "    }\n",
              "</style>\n",
              "<table border=\"1\" class=\"dataframe\">\n",
              "  <thead>\n",
              "    <tr style=\"text-align: right;\">\n",
              "      <th></th>\n",
              "      <th>Disease</th>\n",
              "      <th>NoDisease</th>\n",
              "      <th>Snoring</th>\n",
              "    </tr>\n",
              "  </thead>\n",
              "  <tbody>\n",
              "    <tr>\n",
              "      <th>0</th>\n",
              "      <td>24</td>\n",
              "      <td>1355</td>\n",
              "      <td>0</td>\n",
              "    </tr>\n",
              "    <tr>\n",
              "      <th>1</th>\n",
              "      <td>35</td>\n",
              "      <td>603</td>\n",
              "      <td>2</td>\n",
              "    </tr>\n",
              "    <tr>\n",
              "      <th>2</th>\n",
              "      <td>21</td>\n",
              "      <td>192</td>\n",
              "      <td>4</td>\n",
              "    </tr>\n",
              "    <tr>\n",
              "      <th>3</th>\n",
              "      <td>30</td>\n",
              "      <td>224</td>\n",
              "      <td>5</td>\n",
              "    </tr>\n",
              "  </tbody>\n",
              "</table>\n",
              "</div>\n",
              "      <button class=\"colab-df-convert\" onclick=\"convertToInteractive('df-9e021dd4-27b5-442f-b604-968c34c16eed')\"\n",
              "              title=\"Convert this dataframe to an interactive table.\"\n",
              "              style=\"display:none;\">\n",
              "        \n",
              "  <svg xmlns=\"http://www.w3.org/2000/svg\" height=\"24px\"viewBox=\"0 0 24 24\"\n",
              "       width=\"24px\">\n",
              "    <path d=\"M0 0h24v24H0V0z\" fill=\"none\"/>\n",
              "    <path d=\"M18.56 5.44l.94 2.06.94-2.06 2.06-.94-2.06-.94-.94-2.06-.94 2.06-2.06.94zm-11 1L8.5 8.5l.94-2.06 2.06-.94-2.06-.94L8.5 2.5l-.94 2.06-2.06.94zm10 10l.94 2.06.94-2.06 2.06-.94-2.06-.94-.94-2.06-.94 2.06-2.06.94z\"/><path d=\"M17.41 7.96l-1.37-1.37c-.4-.4-.92-.59-1.43-.59-.52 0-1.04.2-1.43.59L10.3 9.45l-7.72 7.72c-.78.78-.78 2.05 0 2.83L4 21.41c.39.39.9.59 1.41.59.51 0 1.02-.2 1.41-.59l7.78-7.78 2.81-2.81c.8-.78.8-2.07 0-2.86zM5.41 20L4 18.59l7.72-7.72 1.47 1.35L5.41 20z\"/>\n",
              "  </svg>\n",
              "      </button>\n",
              "      \n",
              "  <style>\n",
              "    .colab-df-container {\n",
              "      display:flex;\n",
              "      flex-wrap:wrap;\n",
              "      gap: 12px;\n",
              "    }\n",
              "\n",
              "    .colab-df-convert {\n",
              "      background-color: #E8F0FE;\n",
              "      border: none;\n",
              "      border-radius: 50%;\n",
              "      cursor: pointer;\n",
              "      display: none;\n",
              "      fill: #1967D2;\n",
              "      height: 32px;\n",
              "      padding: 0 0 0 0;\n",
              "      width: 32px;\n",
              "    }\n",
              "\n",
              "    .colab-df-convert:hover {\n",
              "      background-color: #E2EBFA;\n",
              "      box-shadow: 0px 1px 2px rgba(60, 64, 67, 0.3), 0px 1px 3px 1px rgba(60, 64, 67, 0.15);\n",
              "      fill: #174EA6;\n",
              "    }\n",
              "\n",
              "    [theme=dark] .colab-df-convert {\n",
              "      background-color: #3B4455;\n",
              "      fill: #D2E3FC;\n",
              "    }\n",
              "\n",
              "    [theme=dark] .colab-df-convert:hover {\n",
              "      background-color: #434B5C;\n",
              "      box-shadow: 0px 1px 3px 1px rgba(0, 0, 0, 0.15);\n",
              "      filter: drop-shadow(0px 1px 2px rgba(0, 0, 0, 0.3));\n",
              "      fill: #FFFFFF;\n",
              "    }\n",
              "  </style>\n",
              "\n",
              "      <script>\n",
              "        const buttonEl =\n",
              "          document.querySelector('#df-9e021dd4-27b5-442f-b604-968c34c16eed button.colab-df-convert');\n",
              "        buttonEl.style.display =\n",
              "          google.colab.kernel.accessAllowed ? 'block' : 'none';\n",
              "\n",
              "        async function convertToInteractive(key) {\n",
              "          const element = document.querySelector('#df-9e021dd4-27b5-442f-b604-968c34c16eed');\n",
              "          const dataTable =\n",
              "            await google.colab.kernel.invokeFunction('convertToInteractive',\n",
              "                                                     [key], {});\n",
              "          if (!dataTable) return;\n",
              "\n",
              "          const docLinkHtml = 'Like what you see? Visit the ' +\n",
              "            '<a target=\"_blank\" href=https://colab.research.google.com/notebooks/data_table.ipynb>data table notebook</a>'\n",
              "            + ' to learn more about interactive tables.';\n",
              "          element.innerHTML = '';\n",
              "          dataTable['output_type'] = 'display_data';\n",
              "          await google.colab.output.renderOutput(dataTable, element);\n",
              "          const docLink = document.createElement('div');\n",
              "          docLink.innerHTML = docLinkHtml;\n",
              "          element.appendChild(docLink);\n",
              "        }\n",
              "      </script>\n",
              "    </div>\n",
              "  </div>\n",
              "  "
            ]
          },
          "metadata": {},
          "execution_count": 22
        }
      ]
    },
    {
      "cell_type": "markdown",
      "source": [
        "Note that `endog` is a 2d array for the binomial family `[Disease NoDisease]` and exog is an array-like (single value in this case) for the independent variables $x_i$"
      ],
      "metadata": {
        "id": "CZHz9DzaFT4c"
      }
    },
    {
      "cell_type": "code",
      "source": [
        "endog = snoreheart.iloc[:,:2] #y: Disease and NoDisease\n",
        "exog = sm.add_constant(snoreheart.Snoring) # x: Snoring with the interception\n",
        "\n",
        "snorefit = sm.GLM(endog, exog, family=sm.families.Binomial())\n",
        "result3 = snorefit.fit()\n",
        "print(result3.summary())"
      ],
      "metadata": {
        "id": "dqdsSmgGDwa6",
        "outputId": "d57e8e07-95d6-4c94-d109-ae5eee7fd57a",
        "colab": {
          "base_uri": "https://localhost:8080/"
        }
      },
      "execution_count": 25,
      "outputs": [
        {
          "output_type": "stream",
          "name": "stdout",
          "text": [
            "                    Generalized Linear Model Regression Results                     \n",
            "====================================================================================\n",
            "Dep. Variable:     ['Disease', 'NoDisease']   No. Observations:                    4\n",
            "Model:                                  GLM   Df Residuals:                        2\n",
            "Model Family:                      Binomial   Df Model:                            1\n",
            "Link Function:                        logit   Scale:                          1.0000\n",
            "Method:                                IRLS   Log-Likelihood:                -11.531\n",
            "Date:                      Sat, 18 Feb 2023   Deviance:                       2.8089\n",
            "Time:                              18:57:39   Pearson chi2:                     2.87\n",
            "No. Iterations:                           7                                         \n",
            "Covariance Type:                  nonrobust                                         \n",
            "==============================================================================\n",
            "                 coef    std err          z      P>|z|      [0.025      0.975]\n",
            "------------------------------------------------------------------------------\n",
            "const         -3.8662      0.166    -23.261      0.000      -4.192      -3.540\n",
            "Snoring        0.3973      0.050      7.945      0.000       0.299       0.495\n",
            "==============================================================================\n"
          ]
        },
        {
          "output_type": "stream",
          "name": "stderr",
          "text": [
            "/usr/local/lib/python3.8/dist-packages/statsmodels/tsa/tsatools.py:142: FutureWarning: In a future version of pandas all arguments of concat except for the argument 'objs' will be keyword-only\n",
            "  x = pd.concat(x[::order], 1)\n"
          ]
        }
      ]
    },
    {
      "cell_type": "markdown",
      "source": [
        "Now, let's plot this results. Note how the GLM predicts the trend for any random value for the snoring level range analyzed. "
      ],
      "metadata": {
        "id": "AsiSlOwLF48n"
      }
    },
    {
      "cell_type": "code",
      "source": [
        "plt.scatter(snoreheart.Snoring, snoreheart.Disease/(snoreheart.Disease+snoreheart.NoDisease))\n",
        "plt.xlabel('Snoring Level')\n",
        "plt.ylabel('Prob. Heart Disease')\n",
        "x = np.linspace(0, 5, 200)\n",
        "plt.plot(x, result3.predict(sm.add_constant(x)))\n",
        "plt.show()"
      ],
      "metadata": {
        "id": "ILGKFbsjEDFq",
        "outputId": "17da634d-a472-412a-807c-09854e6da04e",
        "colab": {
          "base_uri": "https://localhost:8080/",
          "height": 279
        }
      },
      "execution_count": 33,
      "outputs": [
        {
          "output_type": "display_data",
          "data": {
            "text/plain": [
              "<Figure size 432x288 with 1 Axes>"
            ],
            "image/png": "[encoded data removed]"
          },
          "metadata": {
            "needs_background": "light"
          }
        }
      ]
    },
    {
      "cell_type": "markdown",
      "source": [
        "##Conclusion\n",
        "From this plot, it can be clearly observed that there is a strong positive correlations between the level of snoring and the probabily of a heart disease. Note how the GLM is able to capture the trend of the real data"
      ],
      "metadata": {
        "id": "EI7K4xAu3RFc"
      }
    },
    {
      "cell_type": "markdown",
      "source": [
        "\\\\"
      ],
      "metadata": {
        "id": "SlkdGDAM3vXF"
      }
    },
    {
      "cell_type": "markdown",
      "source": [
        "##Example 3: Horseshoe Crab Data"
      ],
      "metadata": {
        "id": "Nu6Fw3zm3wzn"
      }
    },
    {
      "cell_type": "markdown",
      "source": [
        "Recall that counts of independently-ocurring incidents (without any maximum) are often modeled using the Poisson distribution"
      ],
      "metadata": {
        "id": "YDe28oBq-Sww"
      }
    },
    {
      "cell_type": "markdown",
      "source": [
        "In this example, we aim to analyze horseshoe crab data. In particular, we want to see how the width of female (cm) $x_i$ is related to $Y_i$, the number of males (\"satellites\") by female $i$ "
      ],
      "metadata": {
        "id": "OC-iRcfv-hfn"
      }
    },
    {
      "cell_type": "code",
      "source": [
        "url_data_horse = 'https://raw.githubusercontent.com/dalexa10/Python_Data_Science/main/Statistical_Modeling/GLM/horseshoe.txt'\n",
        "horseshoe = pd.read_csv(url_data_horse, sep=' ').iloc[:, :6]  # Last column dropped, it doesn't mean anything\n",
        "horseshoe.shape\n",
        "horseshoe.head(5)"
      ],
      "metadata": {
        "id": "DABrZmeYF8KN",
        "colab": {
          "base_uri": "https://localhost:8080/",
          "height": 206
        },
        "outputId": "9512df4c-7b23-4aca-ea2a-e1a787a27099"
      },
      "execution_count": 36,
      "outputs": [
        {
          "output_type": "execute_result",
          "data": {
            "text/plain": [
              "   color  spine  width  satell  weight  y\n",
              "0      3      3   28.3       8    3050  1\n",
              "1      4      3   22.5       0    1550  0\n",
              "2      2      1   26.0       9    2300  1\n",
              "3      4      3   24.8       0    2100  0\n",
              "4      4      3   26.0       4    2600  1"
            ],
            "text/html": [
              "\n",
              "  <div id=\"df-8bc105f7-35cb-47ef-92d4-c4599cc6f84a\">\n",
              "    <div class=\"colab-df-container\">\n",
              "      <div>\n",
              "<style scoped>\n",
              "    .dataframe tbody tr th:only-of-type {\n",
              "        vertical-align: middle;\n",
              "    }\n",
              "\n",
              "    .dataframe tbody tr th {\n",
              "        vertical-align: top;\n",
              "    }\n",
              "\n",
              "    .dataframe thead th {\n",
              "        text-align: right;\n",
              "    }\n",
              "</style>\n",
              "<table border=\"1\" class=\"dataframe\">\n",
              "  <thead>\n",
              "    <tr style=\"text-align: right;\">\n",
              "      <th></th>\n",
              "      <th>color</th>\n",
              "      <th>spine</th>\n",
              "      <th>width</th>\n",
              "      <th>satell</th>\n",
              "      <th>weight</th>\n",
              "      <th>y</th>\n",
              "    </tr>\n",
              "  </thead>\n",
              "  <tbody>\n",
              "    <tr>\n",
              "      <th>0</th>\n",
              "      <td>3</td>\n",
              "      <td>3</td>\n",
              "      <td>28.3</td>\n",
              "      <td>8</td>\n",
              "      <td>3050</td>\n",
              "      <td>1</td>\n",
              "    </tr>\n",
              "    <tr>\n",
              "      <th>1</th>\n",
              "      <td>4</td>\n",
              "      <td>3</td>\n",
              "      <td>22.5</td>\n",
              "      <td>0</td>\n",
              "      <td>1550</td>\n",
              "      <td>0</td>\n",
              "    </tr>\n",
              "    <tr>\n",
              "      <th>2</th>\n",
              "      <td>2</td>\n",
              "      <td>1</td>\n",
              "      <td>26.0</td>\n",
              "      <td>9</td>\n",
              "      <td>2300</td>\n",
              "      <td>1</td>\n",
              "    </tr>\n",
              "    <tr>\n",
              "      <th>3</th>\n",
              "      <td>4</td>\n",
              "      <td>3</td>\n",
              "      <td>24.8</td>\n",
              "      <td>0</td>\n",
              "      <td>2100</td>\n",
              "      <td>0</td>\n",
              "    </tr>\n",
              "    <tr>\n",
              "      <th>4</th>\n",
              "      <td>4</td>\n",
              "      <td>3</td>\n",
              "      <td>26.0</td>\n",
              "      <td>4</td>\n",
              "      <td>2600</td>\n",
              "      <td>1</td>\n",
              "    </tr>\n",
              "  </tbody>\n",
              "</table>\n",
              "</div>\n",
              "      <button class=\"colab-df-convert\" onclick=\"convertToInteractive('df-8bc105f7-35cb-47ef-92d4-c4599cc6f84a')\"\n",
              "              title=\"Convert this dataframe to an interactive table.\"\n",
              "              style=\"display:none;\">\n",
              "        \n",
              "  <svg xmlns=\"http://www.w3.org/2000/svg\" height=\"24px\"viewBox=\"0 0 24 24\"\n",
              "       width=\"24px\">\n",
              "    <path d=\"M0 0h24v24H0V0z\" fill=\"none\"/>\n",
              "    <path d=\"M18.56 5.44l.94 2.06.94-2.06 2.06-.94-2.06-.94-.94-2.06-.94 2.06-2.06.94zm-11 1L8.5 8.5l.94-2.06 2.06-.94-2.06-.94L8.5 2.5l-.94 2.06-2.06.94zm10 10l.94 2.06.94-2.06 2.06-.94-2.06-.94-.94-2.06-.94 2.06-2.06.94z\"/><path d=\"M17.41 7.96l-1.37-1.37c-.4-.4-.92-.59-1.43-.59-.52 0-1.04.2-1.43.59L10.3 9.45l-7.72 7.72c-.78.78-.78 2.05 0 2.83L4 21.41c.39.39.9.59 1.41.59.51 0 1.02-.2 1.41-.59l7.78-7.78 2.81-2.81c.8-.78.8-2.07 0-2.86zM5.41 20L4 18.59l7.72-7.72 1.47 1.35L5.41 20z\"/>\n",
              "  </svg>\n",
              "      </button>\n",
              "      \n",
              "  <style>\n",
              "    .colab-df-container {\n",
              "      display:flex;\n",
              "      flex-wrap:wrap;\n",
              "      gap: 12px;\n",
              "    }\n",
              "\n",
              "    .colab-df-convert {\n",
              "      background-color: #E8F0FE;\n",
              "      border: none;\n",
              "      border-radius: 50%;\n",
              "      cursor: pointer;\n",
              "      display: none;\n",
              "      fill: #1967D2;\n",
              "      height: 32px;\n",
              "      padding: 0 0 0 0;\n",
              "      width: 32px;\n",
              "    }\n",
              "\n",
              "    .colab-df-convert:hover {\n",
              "      background-color: #E2EBFA;\n",
              "      box-shadow: 0px 1px 2px rgba(60, 64, 67, 0.3), 0px 1px 3px 1px rgba(60, 64, 67, 0.15);\n",
              "      fill: #174EA6;\n",
              "    }\n",
              "\n",
              "    [theme=dark] .colab-df-convert {\n",
              "      background-color: #3B4455;\n",
              "      fill: #D2E3FC;\n",
              "    }\n",
              "\n",
              "    [theme=dark] .colab-df-convert:hover {\n",
              "      background-color: #434B5C;\n",
              "      box-shadow: 0px 1px 3px 1px rgba(0, 0, 0, 0.15);\n",
              "      filter: drop-shadow(0px 1px 2px rgba(0, 0, 0, 0.3));\n",
              "      fill: #FFFFFF;\n",
              "    }\n",
              "  </style>\n",
              "\n",
              "      <script>\n",
              "        const buttonEl =\n",
              "          document.querySelector('#df-8bc105f7-35cb-47ef-92d4-c4599cc6f84a button.colab-df-convert');\n",
              "        buttonEl.style.display =\n",
              "          google.colab.kernel.accessAllowed ? 'block' : 'none';\n",
              "\n",
              "        async function convertToInteractive(key) {\n",
              "          const element = document.querySelector('#df-8bc105f7-35cb-47ef-92d4-c4599cc6f84a');\n",
              "          const dataTable =\n",
              "            await google.colab.kernel.invokeFunction('convertToInteractive',\n",
              "                                                     [key], {});\n",
              "          if (!dataTable) return;\n",
              "\n",
              "          const docLinkHtml = 'Like what you see? Visit the ' +\n",
              "            '<a target=\"_blank\" href=https://colab.research.google.com/notebooks/data_table.ipynb>data table notebook</a>'\n",
              "            + ' to learn more about interactive tables.';\n",
              "          element.innerHTML = '';\n",
              "          dataTable['output_type'] = 'display_data';\n",
              "          await google.colab.output.renderOutput(dataTable, element);\n",
              "          const docLink = document.createElement('div');\n",
              "          docLink.innerHTML = docLinkHtml;\n",
              "          element.appendChild(docLink);\n",
              "        }\n",
              "      </script>\n",
              "    </div>\n",
              "  </div>\n",
              "  "
            ]
          },
          "metadata": {},
          "execution_count": 36
        }
      ]
    },
    {
      "cell_type": "markdown",
      "source": [
        "Let's create a simple plot to visualize the data first"
      ],
      "metadata": {
        "id": "_6BajWl7_f31"
      }
    },
    {
      "cell_type": "code",
      "source": [
        "# plotting the points  \n",
        "plt.scatter(horseshoe.width, horseshoe.satell)   \n",
        "plt.xlabel('Width') \n",
        "plt.ylabel('Number of Satellites') \n",
        "plt.show() "
      ],
      "metadata": {
        "colab": {
          "base_uri": "https://localhost:8080/",
          "height": 279
        },
        "id": "9YDE8O_66nai",
        "outputId": "16b17044-2acd-4dc6-b240-baec870f3c3a"
      },
      "execution_count": 39,
      "outputs": [
        {
          "output_type": "display_data",
          "data": {
            "text/plain": [
              "<Figure size 432x288 with 1 Axes>"
            ],
            "image/png": "[encoded data removed]"
          },
          "metadata": {
            "needs_background": "light"
          }
        }
      ]
    },
    {
      "cell_type": "markdown",
      "source": [
        "And now, let's create the GLM with a `Poison()` method in the `sm.families` "
      ],
      "metadata": {
        "id": "S0HsGPOL_xSk"
      }
    },
    {
      "cell_type": "code",
      "source": [
        "endog = horseshoe.satell\n",
        "exog = sm.add_constant(horseshoe.width)\n",
        "\n",
        "crabfit = sm.GLM(endog, exog, family=sm.families.Poisson())\n",
        "result4 = crabfit.fit()\n",
        "print(result4.summary())"
      ],
      "metadata": {
        "colab": {
          "base_uri": "https://localhost:8080/"
        },
        "id": "DKyobdkD_jmp",
        "outputId": "f07255c7-6ff7-448d-d352-923f4d781f69"
      },
      "execution_count": 38,
      "outputs": [
        {
          "output_type": "stream",
          "name": "stdout",
          "text": [
            "                 Generalized Linear Model Regression Results                  \n",
            "==============================================================================\n",
            "Dep. Variable:                 satell   No. Observations:                  173\n",
            "Model:                            GLM   Df Residuals:                      171\n",
            "Model Family:                 Poisson   Df Model:                            1\n",
            "Link Function:                    log   Scale:                          1.0000\n",
            "Method:                          IRLS   Log-Likelihood:                -461.59\n",
            "Date:                Sat, 18 Feb 2023   Deviance:                       567.88\n",
            "Time:                        19:29:13   Pearson chi2:                     544.\n",
            "No. Iterations:                     5                                         \n",
            "Covariance Type:            nonrobust                                         \n",
            "==============================================================================\n",
            "                 coef    std err          z      P>|z|      [0.025      0.975]\n",
            "------------------------------------------------------------------------------\n",
            "const         -3.3048      0.542     -6.095      0.000      -4.368      -2.242\n",
            "width          0.1640      0.020      8.216      0.000       0.125       0.203\n",
            "==============================================================================\n"
          ]
        },
        {
          "output_type": "stream",
          "name": "stderr",
          "text": [
            "/usr/local/lib/python3.8/dist-packages/statsmodels/tsa/tsatools.py:142: FutureWarning: In a future version of pandas all arguments of concat except for the argument 'objs' will be keyword-only\n",
            "  x = pd.concat(x[::order], 1)\n"
          ]
        }
      ]
    },
    {
      "cell_type": "markdown",
      "source": [
        "Now, let's plot the predicted results with the GLM, together with the real data "
      ],
      "metadata": {
        "id": "GWYjN01IAadZ"
      }
    },
    {
      "cell_type": "code",
      "source": [
        "plt.scatter(horseshoe.width, horseshoe.satell) \n",
        "plt.xlabel('Width') \n",
        "plt.ylabel('Number of Satellites') \n",
        "x = np.linspace(21, 34, 100)\n",
        "plt.plot(x, result4.predict(sm.add_constant(x)))\n",
        "plt.show()"
      ],
      "metadata": {
        "colab": {
          "base_uri": "https://localhost:8080/",
          "height": 279
        },
        "id": "fjmHU4P2AZe0",
        "outputId": "d8312783-2a7a-4680-baff-805e292515ae"
      },
      "execution_count": 40,
      "outputs": [
        {
          "output_type": "display_data",
          "data": {
            "text/plain": [
              "<Figure size 432x288 with 1 Axes>"
            ],
            "image/png": "[encoded data removed]"
          },
          "metadata": {
            "needs_background": "light"
          }
        }
      ]
    },
    {
      "cell_type": "markdown",
      "source": [
        "It captures the trend, doesn't it? Let's do an individual analysis instead. We know from the obtained GLM that:\n",
        "&nbsp;\n",
        "\n",
        "\\begin{aligned}\n",
        "  \\hat{\\mu}(x) \\approx e^{-3.3048 + 0.164 x}\n",
        "\\end{aligned}\n",
        "Hence, a 30 [cm] female should have about "
      ],
      "metadata": {
        "id": "NwqWk_G2BOmA"
      }
    },
    {
      "cell_type": "code",
      "source": [
        "mu_30 = np.exp(-3.3048 + 0.164 * 30)\n",
        "print('{:.2f} satellites'.format(mu_30))"
      ],
      "metadata": {
        "colab": {
          "base_uri": "https://localhost:8080/"
        },
        "id": "tHlIs8g3AHs3",
        "outputId": "956c65fa-abc6-4aff-9cd5-894b81465020"
      },
      "execution_count": 42,
      "outputs": [
        {
          "output_type": "stream",
          "name": "stdout",
          "text": [
            "5.03 satellites\n"
          ]
        }
      ]
    },
    {
      "cell_type": "markdown",
      "source": [
        "##Conclusion\n",
        "For each 1 [cm] increase in width, the mean number of satellites increases by a factor of"
      ],
      "metadata": {
        "id": "YI57UFOzDI3Z"
      }
    },
    {
      "cell_type": "code",
      "source": [
        "increase = np.exp(0.164)\n",
        "percentaje = str(round(increase, 2))[2:4]\n",
        "\n",
        "print('{:.2f}, i.e. a percentaje incresae of {} %'.format(increase, percentaje))\n"
      ],
      "metadata": {
        "colab": {
          "base_uri": "https://localhost:8080/"
        },
        "id": "_5P1DznrC5d-",
        "outputId": "84c61cfa-52d2-48fc-9e6c-9ffae4fe9ef8"
      },
      "execution_count": 57,
      "outputs": [
        {
          "output_type": "stream",
          "name": "stdout",
          "text": [
            "1.18, i.e. a percentaje incresae of 18 %\n"
          ]
        }
      ]
    },
    {
      "cell_type": "markdown",
      "source": [
        "\\\\"
      ],
      "metadata": {
        "id": "HJH4jetFGvgi"
      }
    },
    {
      "cell_type": "markdown",
      "source": [
        "##Example 4\n",
        "$E(Y_i) = \\mu_i$ is sometimes expected to be proportional to another observed variable $t_i > 0$ and hence:\n",
        "\\begin{aligned}\n",
        "  \\mu_i = \\lambda_i t_i\n",
        "\\end{aligned}\n"
      ],
      "metadata": {
        "id": "vssj_jGVGxcS"
      }
    },
    {
      "cell_type": "markdown",
      "source": [
        "For this example in specific, we have:\n",
        "\n",
        "$Y_i$ = number of collision between trains & road vehicles (year $i$)\n",
        "\n",
        "$x_i$ = year minus 1975\n",
        "\n",
        "$t_i$ = total km of train travel (millons)"
      ],
      "metadata": {
        "id": "_OSCAo95J6wo"
      }
    },
    {
      "cell_type": "code",
      "source": [
        "url_data_train = 'https://raw.githubusercontent.com/dalexa10/Python_Data_Science/main/Statistical_Modeling/GLM/traincollisions.txt'\n",
        "tc = pd.read_csv(url_data_train, sep=' ') # Last column dropped, it doesn't mean anything\n",
        "tc.shape\n",
        "tc.head(5)"
      ],
      "metadata": {
        "colab": {
          "base_uri": "https://localhost:8080/",
          "height": 206
        },
        "id": "g_uOAi0cDX4w",
        "outputId": "8204a70d-db80-44c5-9de3-2fadcc520a3e"
      },
      "execution_count": 63,
      "outputs": [
        {
          "output_type": "execute_result",
          "data": {
            "text/plain": [
              "   Year   KM  Train  TrRd\n",
              "0  2003  518      0     3\n",
              "1  2002  516      1     3\n",
              "2  2001  508      0     4\n",
              "3  2000  503      1     3\n",
              "4  1999  505      1     2"
            ],
            "text/html": [
              "\n",
              "  <div id=\"df-e30ed8fb-5ae2-4dfb-8d4c-46b26bb44b90\">\n",
              "    <div class=\"colab-df-container\">\n",
              "      <div>\n",
              "<style scoped>\n",
              "    .dataframe tbody tr th:only-of-type {\n",
              "        vertical-align: middle;\n",
              "    }\n",
              "\n",
              "    .dataframe tbody tr th {\n",
              "        vertical-align: top;\n",
              "    }\n",
              "\n",
              "    .dataframe thead th {\n",
              "        text-align: right;\n",
              "    }\n",
              "</style>\n",
              "<table border=\"1\" class=\"dataframe\">\n",
              "  <thead>\n",
              "    <tr style=\"text-align: right;\">\n",
              "      <th></th>\n",
              "      <th>Year</th>\n",
              "      <th>KM</th>\n",
              "      <th>Train</th>\n",
              "      <th>TrRd</th>\n",
              "    </tr>\n",
              "  </thead>\n",
              "  <tbody>\n",
              "    <tr>\n",
              "      <th>0</th>\n",
              "      <td>2003</td>\n",
              "      <td>518</td>\n",
              "      <td>0</td>\n",
              "      <td>3</td>\n",
              "    </tr>\n",
              "    <tr>\n",
              "      <th>1</th>\n",
              "      <td>2002</td>\n",
              "      <td>516</td>\n",
              "      <td>1</td>\n",
              "      <td>3</td>\n",
              "    </tr>\n",
              "    <tr>\n",
              "      <th>2</th>\n",
              "      <td>2001</td>\n",
              "      <td>508</td>\n",
              "      <td>0</td>\n",
              "      <td>4</td>\n",
              "    </tr>\n",
              "    <tr>\n",
              "      <th>3</th>\n",
              "      <td>2000</td>\n",
              "      <td>503</td>\n",
              "      <td>1</td>\n",
              "      <td>3</td>\n",
              "    </tr>\n",
              "    <tr>\n",
              "      <th>4</th>\n",
              "      <td>1999</td>\n",
              "      <td>505</td>\n",
              "      <td>1</td>\n",
              "      <td>2</td>\n",
              "    </tr>\n",
              "  </tbody>\n",
              "</table>\n",
              "</div>\n",
              "      <button class=\"colab-df-convert\" onclick=\"convertToInteractive('df-e30ed8fb-5ae2-4dfb-8d4c-46b26bb44b90')\"\n",
              "              title=\"Convert this dataframe to an interactive table.\"\n",
              "              style=\"display:none;\">\n",
              "        \n",
              "  <svg xmlns=\"http://www.w3.org/2000/svg\" height=\"24px\"viewBox=\"0 0 24 24\"\n",
              "       width=\"24px\">\n",
              "    <path d=\"M0 0h24v24H0V0z\" fill=\"none\"/>\n",
              "    <path d=\"M18.56 5.44l.94 2.06.94-2.06 2.06-.94-2.06-.94-.94-2.06-.94 2.06-2.06.94zm-11 1L8.5 8.5l.94-2.06 2.06-.94-2.06-.94L8.5 2.5l-.94 2.06-2.06.94zm10 10l.94 2.06.94-2.06 2.06-.94-2.06-.94-.94-2.06-.94 2.06-2.06.94z\"/><path d=\"M17.41 7.96l-1.37-1.37c-.4-.4-.92-.59-1.43-.59-.52 0-1.04.2-1.43.59L10.3 9.45l-7.72 7.72c-.78.78-.78 2.05 0 2.83L4 21.41c.39.39.9.59 1.41.59.51 0 1.02-.2 1.41-.59l7.78-7.78 2.81-2.81c.8-.78.8-2.07 0-2.86zM5.41 20L4 18.59l7.72-7.72 1.47 1.35L5.41 20z\"/>\n",
              "  </svg>\n",
              "      </button>\n",
              "      \n",
              "  <style>\n",
              "    .colab-df-container {\n",
              "      display:flex;\n",
              "      flex-wrap:wrap;\n",
              "      gap: 12px;\n",
              "    }\n",
              "\n",
              "    .colab-df-convert {\n",
              "      background-color: #E8F0FE;\n",
              "      border: none;\n",
              "      border-radius: 50%;\n",
              "      cursor: pointer;\n",
              "      display: none;\n",
              "      fill: #1967D2;\n",
              "      height: 32px;\n",
              "      padding: 0 0 0 0;\n",
              "      width: 32px;\n",
              "    }\n",
              "\n",
              "    .colab-df-convert:hover {\n",
              "      background-color: #E2EBFA;\n",
              "      box-shadow: 0px 1px 2px rgba(60, 64, 67, 0.3), 0px 1px 3px 1px rgba(60, 64, 67, 0.15);\n",
              "      fill: #174EA6;\n",
              "    }\n",
              "\n",
              "    [theme=dark] .colab-df-convert {\n",
              "      background-color: #3B4455;\n",
              "      fill: #D2E3FC;\n",
              "    }\n",
              "\n",
              "    [theme=dark] .colab-df-convert:hover {\n",
              "      background-color: #434B5C;\n",
              "      box-shadow: 0px 1px 3px 1px rgba(0, 0, 0, 0.15);\n",
              "      filter: drop-shadow(0px 1px 2px rgba(0, 0, 0, 0.3));\n",
              "      fill: #FFFFFF;\n",
              "    }\n",
              "  </style>\n",
              "\n",
              "      <script>\n",
              "        const buttonEl =\n",
              "          document.querySelector('#df-e30ed8fb-5ae2-4dfb-8d4c-46b26bb44b90 button.colab-df-convert');\n",
              "        buttonEl.style.display =\n",
              "          google.colab.kernel.accessAllowed ? 'block' : 'none';\n",
              "\n",
              "        async function convertToInteractive(key) {\n",
              "          const element = document.querySelector('#df-e30ed8fb-5ae2-4dfb-8d4c-46b26bb44b90');\n",
              "          const dataTable =\n",
              "            await google.colab.kernel.invokeFunction('convertToInteractive',\n",
              "                                                     [key], {});\n",
              "          if (!dataTable) return;\n",
              "\n",
              "          const docLinkHtml = 'Like what you see? Visit the ' +\n",
              "            '<a target=\"_blank\" href=https://colab.research.google.com/notebooks/data_table.ipynb>data table notebook</a>'\n",
              "            + ' to learn more about interactive tables.';\n",
              "          element.innerHTML = '';\n",
              "          dataTable['output_type'] = 'display_data';\n",
              "          await google.colab.output.renderOutput(dataTable, element);\n",
              "          const docLink = document.createElement('div');\n",
              "          docLink.innerHTML = docLinkHtml;\n",
              "          element.appendChild(docLink);\n",
              "        }\n",
              "      </script>\n",
              "    </div>\n",
              "  </div>\n",
              "  "
            ]
          },
          "metadata": {},
          "execution_count": 63
        }
      ]
    },
    {
      "cell_type": "markdown",
      "source": [
        "if \n",
        "\\begin{aligned}\n",
        "  ln(\\lambda_i) = \\alpha + \\beta_1 x_{i1} + ... + \\beta_p x_{ip}\n",
        "\\end{aligned}\n",
        "\n",
        "then, \n",
        "\\begin{aligned}\n",
        "ln(\\mu_i) = ln(\\lambda_i) + ln(t_i)\\\\\n",
        "ln(\\mu_i) = \\alpha + \\beta_1 x_{i1} + ... + \\beta_p x_{ip} + ln(t_i)\n",
        "\\end{aligned}\n",
        "\n",
        "Note that $ln(t_i)$ has no coefficient, and it is called offset. This value is input when solving the GLM as shown below \n"
      ],
      "metadata": {
        "id": "JOEyKkAWL72H"
      }
    },
    {
      "cell_type": "code",
      "source": [
        "endog = tc.TrRd\n",
        "exog = sm.add_constant(tc.Year-1975)\n",
        "\n",
        "tcfit = sm.GLM(endog, exog, offset = np.log(tc.KM), family=sm.families.Poisson()) #offset = log(KM)\n",
        "result5 = tcfit.fit()\n",
        "print(result5.summary())"
      ],
      "metadata": {
        "colab": {
          "base_uri": "https://localhost:8080/"
        },
        "id": "6BDOgrYnHX6l",
        "outputId": "187ed3aa-6c5e-431e-9334-020dfd4e05c5"
      },
      "execution_count": 64,
      "outputs": [
        {
          "output_type": "stream",
          "name": "stdout",
          "text": [
            "                 Generalized Linear Model Regression Results                  \n",
            "==============================================================================\n",
            "Dep. Variable:                   TrRd   No. Observations:                   29\n",
            "Model:                            GLM   Df Residuals:                       27\n",
            "Model Family:                 Poisson   Df Model:                            1\n",
            "Link Function:                    log   Scale:                          1.0000\n",
            "Method:                          IRLS   Log-Likelihood:                -64.760\n",
            "Date:                Sat, 18 Feb 2023   Deviance:                       37.853\n",
            "Time:                        20:21:17   Pearson chi2:                     42.2\n",
            "No. Iterations:                     4                                         \n",
            "Covariance Type:            nonrobust                                         \n",
            "==============================================================================\n",
            "                 coef    std err          z      P>|z|      [0.025      0.975]\n",
            "------------------------------------------------------------------------------\n",
            "const         -4.2114      0.159    -26.500      0.000      -4.523      -3.900\n",
            "Year          -0.0329      0.011     -3.060      0.002      -0.054      -0.012\n",
            "==============================================================================\n"
          ]
        },
        {
          "output_type": "stream",
          "name": "stderr",
          "text": [
            "/usr/local/lib/python3.8/dist-packages/statsmodels/tsa/tsatools.py:142: FutureWarning: In a future version of pandas all arguments of concat except for the argument 'objs' will be keyword-only\n",
            "  x = pd.concat(x[::order], 1)\n"
          ]
        }
      ]
    },
    {
      "cell_type": "markdown",
      "source": [
        "Now, let's plot these results"
      ],
      "metadata": {
        "id": "EzqZg-FPMG63"
      }
    },
    {
      "cell_type": "code",
      "source": [
        "plt.scatter(tc.Year, 1000*tc.TrRd/tc.KM)\n",
        "plt.ylabel('Collisions per Billion Train-Kilometers')\n",
        "plt.xlabel('Year')\n",
        "newyear = np.linspace(1975, 2005, 200)\n",
        "KM = [1]*200\n",
        "result5.predict(sm.add_constant(newyear-1975), offset = np.log(KM)) # predict when KM=1, log(1)=0\n",
        "# result5.predict(sm.add_constant(newyear-1975), offset = [0]*200)\n",
        "plt.plot(newyear, 1000 * result5.predict(sm.add_constant(newyear-1975), offset =  np.log(KM)))\n",
        "plt.show()"
      ],
      "metadata": {
        "colab": {
          "base_uri": "https://localhost:8080/",
          "height": 279
        },
        "id": "bxskrEEsMCeG",
        "outputId": "f85e98d2-ebd8-41ca-93ae-816b9ab6725e"
      },
      "execution_count": 65,
      "outputs": [
        {
          "output_type": "display_data",
          "data": {
            "text/plain": [
              "<Figure size 432x288 with 1 Axes>"
            ],
            "image/png": "[encoded data removed]"
          },
          "metadata": {
            "needs_background": "light"
          }
        }
      ]
    },
    {
      "cell_type": "markdown",
      "source": [
        "##Conclusion\n",
        "Again, the GLM is able to predict the trend, but the model do not show an adequate fitting to the data. However, something that can be preliminary concluded is that the rate of train collisions has decreased from around 15 collison per billion-train kilometers to around 10, i.e, around 30%"
      ],
      "metadata": {
        "id": "xU2T5pWnNXUf"
      }
    }
  ]
}