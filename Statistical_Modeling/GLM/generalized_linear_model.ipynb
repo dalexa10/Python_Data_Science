{
  "nbformat": 4,
  "nbformat_minor": 0,
  "metadata": {
    "colab": {
      "provenance": [],
      "authorship_tag": "ABX9TyP8khikUy3paSSuqeMIvboB",
      "include_colab_link": true
    },
    "kernelspec": {
      "name": "python3",
      "display_name": "Python 3"
    },
    "language_info": {
      "name": "python"
    }
  },
  "cells": [
    {
      "cell_type": "markdown",
      "metadata": {
        "id": "view-in-github",
        "colab_type": "text"
      },
      "source": [
        "<a href=\"https://colab.research.google.com/github/dalexa10/Python_Data_Science/blob/main/Statistical_Modeling/GLM/generalized_linear_model.ipynb\" target=\"_parent\"><img src=\"https://colab.research.google.com/assets/colab-badge.svg\" alt=\"Open In Colab\"/></a>"
      ]
    },
    {
      "cell_type": "markdown",
      "source": [
        "#Statistical modeling\n",
        "##Generalized Linear Models\n",
        "\n",
        "Import packages first"
      ],
      "metadata": {
        "id": "3dF5sIDKBWtH"
      }
    },
    {
      "cell_type": "code",
      "execution_count": null,
      "metadata": {
        "id": "dZCddkqbBTS4"
      },
      "outputs": [],
      "source": [
        "import pandas as pd\n",
        "import numpy as np\n",
        "import statsmodels.api as sm\n",
        "from statsmodels.formula.api import logit\n",
        "import matplotlib.pyplot as plt \n",
        "import math"
      ]
    },
    {
      "cell_type": "markdown",
      "source": [
        "###Example 1: Psych Data\n"
      ],
      "metadata": {
        "id": "tsL5BIjDBj0l"
      }
    },
    {
      "cell_type": "markdown",
      "source": [
        "The data represent the following:\n",
        "\\begin{align}\n",
        "  Y_i = \n",
        "  \\begin{cases}\n",
        "    0 & if \\ subject \\ i \\ is \\ healthy \\ (30) \\\\\n",
        "    1 & if \\ subject \\ i \\ is \\ mentally \\ ill \\ (15) \n",
        "  \\end{cases}\n",
        "\\end{align}\n",
        "\n",
        "And the expanatory variables $x_1$, $x_2$, $x_3$, $x_4$, $x_5$ represent scores (1 to 4) on five questions, where higher values are expected to be healthier. "
      ],
      "metadata": {
        "id": "MXcmNnrzd5_P"
      }
    },
    {
      "cell_type": "markdown",
      "source": [
        "Let's read the data ... You might need to change the `url_data` variable"
      ],
      "metadata": {
        "id": "a34zRrydfpA_"
      }
    },
    {
      "cell_type": "code",
      "source": [
        "url_data = 'https://raw.githubusercontent.com/dalexa10/Python_4_Data_Science/main/Statistical_Modeling/GLM/psych.txt'\n",
        "psych = pd.read_csv(url_data, sep=' ')\n",
        "psych.shape\n",
        "psych.head(5)"
      ],
      "metadata": {
        "id": "5QvfSLIImELK",
        "outputId": "e881e563-56b8-4776-c721-bde7e8c594b0",
        "colab": {
          "base_uri": "https://localhost:8080/",
          "height": 206
        }
      },
      "execution_count": null,
      "outputs": [
        {
          "output_type": "execute_result",
          "data": {
            "text/plain": [
              "   ill  x1  x2  x3  x4  x5\n",
              "0    1   2   2   2   2   2\n",
              "1    1   2   2   2   1   2\n",
              "2    1   1   1   2   1   1\n",
              "3    1   2   2   2   1   2\n",
              "4    1   1   1   2   1   2"
            ],
            "text/html": [
              "\n",
              "  <div id=\"df-8b17932d-7000-495b-b228-12ee6cb40745\">\n",
              "    <div class=\"colab-df-container\">\n",
              "      <div>\n",
              "<style scoped>\n",
              "    .dataframe tbody tr th:only-of-type {\n",
              "        vertical-align: middle;\n",
              "    }\n",
              "\n",
              "    .dataframe tbody tr th {\n",
              "        vertical-align: top;\n",
              "    }\n",
              "\n",
              "    .dataframe thead th {\n",
              "        text-align: right;\n",
              "    }\n",
              "</style>\n",
              "<table border=\"1\" class=\"dataframe\">\n",
              "  <thead>\n",
              "    <tr style=\"text-align: right;\">\n",
              "      <th></th>\n",
              "      <th>ill</th>\n",
              "      <th>x1</th>\n",
              "      <th>x2</th>\n",
              "      <th>x3</th>\n",
              "      <th>x4</th>\n",
              "      <th>x5</th>\n",
              "    </tr>\n",
              "  </thead>\n",
              "  <tbody>\n",
              "    <tr>\n",
              "      <th>0</th>\n",
              "      <td>1</td>\n",
              "      <td>2</td>\n",
              "      <td>2</td>\n",
              "      <td>2</td>\n",
              "      <td>2</td>\n",
              "      <td>2</td>\n",
              "    </tr>\n",
              "    <tr>\n",
              "      <th>1</th>\n",
              "      <td>1</td>\n",
              "      <td>2</td>\n",
              "      <td>2</td>\n",
              "      <td>2</td>\n",
              "      <td>1</td>\n",
              "      <td>2</td>\n",
              "    </tr>\n",
              "    <tr>\n",
              "      <th>2</th>\n",
              "      <td>1</td>\n",
              "      <td>1</td>\n",
              "      <td>1</td>\n",
              "      <td>2</td>\n",
              "      <td>1</td>\n",
              "      <td>1</td>\n",
              "    </tr>\n",
              "    <tr>\n",
              "      <th>3</th>\n",
              "      <td>1</td>\n",
              "      <td>2</td>\n",
              "      <td>2</td>\n",
              "      <td>2</td>\n",
              "      <td>1</td>\n",
              "      <td>2</td>\n",
              "    </tr>\n",
              "    <tr>\n",
              "      <th>4</th>\n",
              "      <td>1</td>\n",
              "      <td>1</td>\n",
              "      <td>1</td>\n",
              "      <td>2</td>\n",
              "      <td>1</td>\n",
              "      <td>2</td>\n",
              "    </tr>\n",
              "  </tbody>\n",
              "</table>\n",
              "</div>\n",
              "      <button class=\"colab-df-convert\" onclick=\"convertToInteractive('df-8b17932d-7000-495b-b228-12ee6cb40745')\"\n",
              "              title=\"Convert this dataframe to an interactive table.\"\n",
              "              style=\"display:none;\">\n",
              "        \n",
              "  <svg xmlns=\"http://www.w3.org/2000/svg\" height=\"24px\"viewBox=\"0 0 24 24\"\n",
              "       width=\"24px\">\n",
              "    <path d=\"M0 0h24v24H0V0z\" fill=\"none\"/>\n",
              "    <path d=\"M18.56 5.44l.94 2.06.94-2.06 2.06-.94-2.06-.94-.94-2.06-.94 2.06-2.06.94zm-11 1L8.5 8.5l.94-2.06 2.06-.94-2.06-.94L8.5 2.5l-.94 2.06-2.06.94zm10 10l.94 2.06.94-2.06 2.06-.94-2.06-.94-.94-2.06-.94 2.06-2.06.94z\"/><path d=\"M17.41 7.96l-1.37-1.37c-.4-.4-.92-.59-1.43-.59-.52 0-1.04.2-1.43.59L10.3 9.45l-7.72 7.72c-.78.78-.78 2.05 0 2.83L4 21.41c.39.39.9.59 1.41.59.51 0 1.02-.2 1.41-.59l7.78-7.78 2.81-2.81c.8-.78.8-2.07 0-2.86zM5.41 20L4 18.59l7.72-7.72 1.47 1.35L5.41 20z\"/>\n",
              "  </svg>\n",
              "      </button>\n",
              "      \n",
              "  <style>\n",
              "    .colab-df-container {\n",
              "      display:flex;\n",
              "      flex-wrap:wrap;\n",
              "      gap: 12px;\n",
              "    }\n",
              "\n",
              "    .colab-df-convert {\n",
              "      background-color: #E8F0FE;\n",
              "      border: none;\n",
              "      border-radius: 50%;\n",
              "      cursor: pointer;\n",
              "      display: none;\n",
              "      fill: #1967D2;\n",
              "      height: 32px;\n",
              "      padding: 0 0 0 0;\n",
              "      width: 32px;\n",
              "    }\n",
              "\n",
              "    .colab-df-convert:hover {\n",
              "      background-color: #E2EBFA;\n",
              "      box-shadow: 0px 1px 2px rgba(60, 64, 67, 0.3), 0px 1px 3px 1px rgba(60, 64, 67, 0.15);\n",
              "      fill: #174EA6;\n",
              "    }\n",
              "\n",
              "    [theme=dark] .colab-df-convert {\n",
              "      background-color: #3B4455;\n",
              "      fill: #D2E3FC;\n",
              "    }\n",
              "\n",
              "    [theme=dark] .colab-df-convert:hover {\n",
              "      background-color: #434B5C;\n",
              "      box-shadow: 0px 1px 3px 1px rgba(0, 0, 0, 0.15);\n",
              "      filter: drop-shadow(0px 1px 2px rgba(0, 0, 0, 0.3));\n",
              "      fill: #FFFFFF;\n",
              "    }\n",
              "  </style>\n",
              "\n",
              "      <script>\n",
              "        const buttonEl =\n",
              "          document.querySelector('#df-8b17932d-7000-495b-b228-12ee6cb40745 button.colab-df-convert');\n",
              "        buttonEl.style.display =\n",
              "          google.colab.kernel.accessAllowed ? 'block' : 'none';\n",
              "\n",
              "        async function convertToInteractive(key) {\n",
              "          const element = document.querySelector('#df-8b17932d-7000-495b-b228-12ee6cb40745');\n",
              "          const dataTable =\n",
              "            await google.colab.kernel.invokeFunction('convertToInteractive',\n",
              "                                                     [key], {});\n",
              "          if (!dataTable) return;\n",
              "\n",
              "          const docLinkHtml = 'Like what you see? Visit the ' +\n",
              "            '<a target=\"_blank\" href=https://colab.research.google.com/notebooks/data_table.ipynb>data table notebook</a>'\n",
              "            + ' to learn more about interactive tables.';\n",
              "          element.innerHTML = '';\n",
              "          dataTable['output_type'] = 'display_data';\n",
              "          await google.colab.output.renderOutput(dataTable, element);\n",
              "          const docLink = document.createElement('div');\n",
              "          docLink.innerHTML = docLinkHtml;\n",
              "          element.appendChild(docLink);\n",
              "        }\n",
              "      </script>\n",
              "    </div>\n",
              "  </div>\n",
              "  "
            ]
          },
          "metadata": {},
          "execution_count": 5
        }
      ]
    },
    {
      "cell_type": "code",
      "source": [
        "psych.tail(5)"
      ],
      "metadata": {
        "id": "wOxAgAvDbUpY",
        "outputId": "db8ed23e-eb4a-4700-8b9e-7d3272d0870a",
        "colab": {
          "base_uri": "https://localhost:8080/",
          "height": 206
        }
      },
      "execution_count": null,
      "outputs": [
        {
          "output_type": "execute_result",
          "data": {
            "text/plain": [
              "    ill  x1  x2  x3  x4  x5\n",
              "40    0   2   2   2   1   2\n",
              "41    0   4   2   2   2   2\n",
              "42    0   3   3   2   3   3\n",
              "43    0   2   3   2   2   2\n",
              "44    0   4   3   1   2   3"
            ],
            "text/html": [
              "\n",
              "  <div id=\"df-dc18b6ce-7066-4274-b88d-229ca83b4dfb\">\n",
              "    <div class=\"colab-df-container\">\n",
              "      <div>\n",
              "<style scoped>\n",
              "    .dataframe tbody tr th:only-of-type {\n",
              "        vertical-align: middle;\n",
              "    }\n",
              "\n",
              "    .dataframe tbody tr th {\n",
              "        vertical-align: top;\n",
              "    }\n",
              "\n",
              "    .dataframe thead th {\n",
              "        text-align: right;\n",
              "    }\n",
              "</style>\n",
              "<table border=\"1\" class=\"dataframe\">\n",
              "  <thead>\n",
              "    <tr style=\"text-align: right;\">\n",
              "      <th></th>\n",
              "      <th>ill</th>\n",
              "      <th>x1</th>\n",
              "      <th>x2</th>\n",
              "      <th>x3</th>\n",
              "      <th>x4</th>\n",
              "      <th>x5</th>\n",
              "    </tr>\n",
              "  </thead>\n",
              "  <tbody>\n",
              "    <tr>\n",
              "      <th>40</th>\n",
              "      <td>0</td>\n",
              "      <td>2</td>\n",
              "      <td>2</td>\n",
              "      <td>2</td>\n",
              "      <td>1</td>\n",
              "      <td>2</td>\n",
              "    </tr>\n",
              "    <tr>\n",
              "      <th>41</th>\n",
              "      <td>0</td>\n",
              "      <td>4</td>\n",
              "      <td>2</td>\n",
              "      <td>2</td>\n",
              "      <td>2</td>\n",
              "      <td>2</td>\n",
              "    </tr>\n",
              "    <tr>\n",
              "      <th>42</th>\n",
              "      <td>0</td>\n",
              "      <td>3</td>\n",
              "      <td>3</td>\n",
              "      <td>2</td>\n",
              "      <td>3</td>\n",
              "      <td>3</td>\n",
              "    </tr>\n",
              "    <tr>\n",
              "      <th>43</th>\n",
              "      <td>0</td>\n",
              "      <td>2</td>\n",
              "      <td>3</td>\n",
              "      <td>2</td>\n",
              "      <td>2</td>\n",
              "      <td>2</td>\n",
              "    </tr>\n",
              "    <tr>\n",
              "      <th>44</th>\n",
              "      <td>0</td>\n",
              "      <td>4</td>\n",
              "      <td>3</td>\n",
              "      <td>1</td>\n",
              "      <td>2</td>\n",
              "      <td>3</td>\n",
              "    </tr>\n",
              "  </tbody>\n",
              "</table>\n",
              "</div>\n",
              "      <button class=\"colab-df-convert\" onclick=\"convertToInteractive('df-dc18b6ce-7066-4274-b88d-229ca83b4dfb')\"\n",
              "              title=\"Convert this dataframe to an interactive table.\"\n",
              "              style=\"display:none;\">\n",
              "        \n",
              "  <svg xmlns=\"http://www.w3.org/2000/svg\" height=\"24px\"viewBox=\"0 0 24 24\"\n",
              "       width=\"24px\">\n",
              "    <path d=\"M0 0h24v24H0V0z\" fill=\"none\"/>\n",
              "    <path d=\"M18.56 5.44l.94 2.06.94-2.06 2.06-.94-2.06-.94-.94-2.06-.94 2.06-2.06.94zm-11 1L8.5 8.5l.94-2.06 2.06-.94-2.06-.94L8.5 2.5l-.94 2.06-2.06.94zm10 10l.94 2.06.94-2.06 2.06-.94-2.06-.94-.94-2.06-.94 2.06-2.06.94z\"/><path d=\"M17.41 7.96l-1.37-1.37c-.4-.4-.92-.59-1.43-.59-.52 0-1.04.2-1.43.59L10.3 9.45l-7.72 7.72c-.78.78-.78 2.05 0 2.83L4 21.41c.39.39.9.59 1.41.59.51 0 1.02-.2 1.41-.59l7.78-7.78 2.81-2.81c.8-.78.8-2.07 0-2.86zM5.41 20L4 18.59l7.72-7.72 1.47 1.35L5.41 20z\"/>\n",
              "  </svg>\n",
              "      </button>\n",
              "      \n",
              "  <style>\n",
              "    .colab-df-container {\n",
              "      display:flex;\n",
              "      flex-wrap:wrap;\n",
              "      gap: 12px;\n",
              "    }\n",
              "\n",
              "    .colab-df-convert {\n",
              "      background-color: #E8F0FE;\n",
              "      border: none;\n",
              "      border-radius: 50%;\n",
              "      cursor: pointer;\n",
              "      display: none;\n",
              "      fill: #1967D2;\n",
              "      height: 32px;\n",
              "      padding: 0 0 0 0;\n",
              "      width: 32px;\n",
              "    }\n",
              "\n",
              "    .colab-df-convert:hover {\n",
              "      background-color: #E2EBFA;\n",
              "      box-shadow: 0px 1px 2px rgba(60, 64, 67, 0.3), 0px 1px 3px 1px rgba(60, 64, 67, 0.15);\n",
              "      fill: #174EA6;\n",
              "    }\n",
              "\n",
              "    [theme=dark] .colab-df-convert {\n",
              "      background-color: #3B4455;\n",
              "      fill: #D2E3FC;\n",
              "    }\n",
              "\n",
              "    [theme=dark] .colab-df-convert:hover {\n",
              "      background-color: #434B5C;\n",
              "      box-shadow: 0px 1px 3px 1px rgba(0, 0, 0, 0.15);\n",
              "      filter: drop-shadow(0px 1px 2px rgba(0, 0, 0, 0.3));\n",
              "      fill: #FFFFFF;\n",
              "    }\n",
              "  </style>\n",
              "\n",
              "      <script>\n",
              "        const buttonEl =\n",
              "          document.querySelector('#df-dc18b6ce-7066-4274-b88d-229ca83b4dfb button.colab-df-convert');\n",
              "        buttonEl.style.display =\n",
              "          google.colab.kernel.accessAllowed ? 'block' : 'none';\n",
              "\n",
              "        async function convertToInteractive(key) {\n",
              "          const element = document.querySelector('#df-dc18b6ce-7066-4274-b88d-229ca83b4dfb');\n",
              "          const dataTable =\n",
              "            await google.colab.kernel.invokeFunction('convertToInteractive',\n",
              "                                                     [key], {});\n",
              "          if (!dataTable) return;\n",
              "\n",
              "          const docLinkHtml = 'Like what you see? Visit the ' +\n",
              "            '<a target=\"_blank\" href=https://colab.research.google.com/notebooks/data_table.ipynb>data table notebook</a>'\n",
              "            + ' to learn more about interactive tables.';\n",
              "          element.innerHTML = '';\n",
              "          dataTable['output_type'] = 'display_data';\n",
              "          await google.colab.output.renderOutput(dataTable, element);\n",
              "          const docLink = document.createElement('div');\n",
              "          docLink.innerHTML = docLinkHtml;\n",
              "          element.appendChild(docLink);\n",
              "        }\n",
              "      </script>\n",
              "    </div>\n",
              "  </div>\n",
              "  "
            ]
          },
          "metadata": {},
          "execution_count": 6
        }
      ]
    },
    {
      "cell_type": "markdown",
      "source": [
        "Note that the $ill$ column is binary. Hence, a proper linear model depending on the response variables $x_i$ "
      ],
      "metadata": {
        "id": "-8AMOCt2aoGf"
      }
    },
    {
      "cell_type": "markdown",
      "source": [
        "Note that `Binomial()` method is used in the `sm.families` object for the `familly` argument"
      ],
      "metadata": {
        "id": "0NeLULGyvH30"
      }
    },
    {
      "cell_type": "code",
      "source": [
        "endog = psych.iloc[:,0] #y: ill\n",
        "exog = sm.add_constant(psych.iloc[:,1:]) # x1-x5 with the interception\n",
        "\n",
        "psychfit1 = sm.GLM(endog, exog, family=sm.families.Binomial())\n",
        "result1 = psychfit1.fit()\n",
        "print(result1.summary())"
      ],
      "metadata": {
        "colab": {
          "base_uri": "https://localhost:8080/"
        },
        "id": "3nMY2SOQBfBg",
        "outputId": "6180ea6d-8542-4b2c-9935-568aba399c4b"
      },
      "execution_count": null,
      "outputs": [
        {
          "output_type": "stream",
          "name": "stdout",
          "text": [
            "                 Generalized Linear Model Regression Results                  \n",
            "==============================================================================\n",
            "Dep. Variable:                    ill   No. Observations:                   45\n",
            "Model:                            GLM   Df Residuals:                       39\n",
            "Model Family:                Binomial   Df Model:                            5\n",
            "Link Function:                  logit   Scale:                          1.0000\n",
            "Method:                          IRLS   Log-Likelihood:                -12.827\n",
            "Date:                Fri, 17 Feb 2023   Deviance:                       25.653\n",
            "Time:                        23:41:32   Pearson chi2:                     39.8\n",
            "No. Iterations:                     7                                         \n",
            "Covariance Type:            nonrobust                                         \n",
            "==============================================================================\n",
            "                 coef    std err          z      P>|z|      [0.025      0.975]\n",
            "------------------------------------------------------------------------------\n",
            "const         15.2226      6.332      2.404      0.016       2.812      27.633\n",
            "x1            -0.6757      0.804     -0.840      0.401      -2.252       0.901\n",
            "x2            -1.1471      1.062     -1.080      0.280      -3.229       0.935\n",
            "x3            -2.9016      2.273     -1.276      0.202      -7.357       1.554\n",
            "x4            -1.0316      0.708     -1.457      0.145      -2.419       0.356\n",
            "x5            -2.0280      1.202     -1.687      0.092      -4.385       0.329\n",
            "==============================================================================\n"
          ]
        }
      ]
    },
    {
      "cell_type": "markdown",
      "source": [
        "The previous results can be obtained by using the function `logit` from the API `statsmodels.formula.api`"
      ],
      "metadata": {
        "id": "ke8bnfGYw_MT"
      }
    },
    {
      "cell_type": "code",
      "source": [
        "# In another way\n",
        "logistic_model = logit('ill ~ x1+x2+x3+x4+x5',psych)\n",
        "result = logistic_model.fit()\n",
        "print(result.summary())"
      ],
      "metadata": {
        "id": "JSWt6kHmFy7N",
        "colab": {
          "base_uri": "https://localhost:8080/"
        },
        "outputId": "2fe454a8-7568-423b-e81a-923bbed8e3a0"
      },
      "execution_count": null,
      "outputs": [
        {
          "output_type": "stream",
          "name": "stdout",
          "text": [
            "Optimization terminated successfully.\n",
            "         Current function value: 0.285038\n",
            "         Iterations 9\n",
            "                           Logit Regression Results                           \n",
            "==============================================================================\n",
            "Dep. Variable:                    ill   No. Observations:                   45\n",
            "Model:                          Logit   Df Residuals:                       39\n",
            "Method:                           MLE   Df Model:                            5\n",
            "Date:                Sat, 18 Feb 2023   Pseudo R-squ.:                  0.5522\n",
            "Time:                        00:15:11   Log-Likelihood:                -12.827\n",
            "converged:                       True   LL-Null:                       -28.643\n",
            "Covariance Type:            nonrobust   LLR p-value:                 7.023e-06\n",
            "==============================================================================\n",
            "                 coef    std err          z      P>|z|      [0.025      0.975]\n",
            "------------------------------------------------------------------------------\n",
            "Intercept     15.2226      6.332      2.404      0.016       2.812      27.633\n",
            "x1            -0.6757      0.804     -0.840      0.401      -2.252       0.901\n",
            "x2            -1.1471      1.062     -1.080      0.280      -3.229       0.935\n",
            "x3            -2.9016      2.273     -1.276      0.202      -7.357       1.554\n",
            "x4            -1.0316      0.708     -1.457      0.145      -2.419       0.356\n",
            "x5            -2.0280      1.202     -1.687      0.092      -4.385       0.329\n",
            "==============================================================================\n"
          ]
        }
      ]
    },
    {
      "cell_type": "markdown",
      "source": [
        "Bsically the same results are obtained. It can be seen that all effects ( $\\hat{\\beta}_i$) have the same direction but apparently none appears significant. Is it a possible collinearity?"
      ],
      "metadata": {
        "id": "ZxmhBbG3xSnQ"
      }
    },
    {
      "cell_type": "markdown",
      "source": [
        "What if for each individual $y_i$, the total score is used as explanatory variable $x_1$ and apply the same GLM analysis with `Binomial()` method"
      ],
      "metadata": {
        "id": "nOsHq3NOzgp4"
      }
    },
    {
      "cell_type": "code",
      "source": [
        "# Try using the total score only.\n",
        "endog = psych.iloc[:,0] #y: ill\n",
        "np.sum(psych.iloc[:,1:6], axis=1) # calcuate the row sum\n",
        "exog = sm.add_constant(np.sum(psych.iloc[:,1:6], axis=1))\n",
        "\n",
        "psychfit2 = sm.GLM(endog, exog, family=sm.families.Binomial())\n",
        "result2 = psychfit2.fit()\n",
        "print(result2.summary())"
      ],
      "metadata": {
        "colab": {
          "base_uri": "https://localhost:8080/"
        },
        "id": "Z9Ig1jqsHGkk",
        "outputId": "f494e55a-fc44-41f2-e005-23eff46cf02c"
      },
      "execution_count": null,
      "outputs": [
        {
          "output_type": "stream",
          "name": "stdout",
          "text": [
            "                 Generalized Linear Model Regression Results                  \n",
            "==============================================================================\n",
            "Dep. Variable:                    ill   No. Observations:                   45\n",
            "Model:                            GLM   Df Residuals:                       43\n",
            "Model Family:                Binomial   Df Model:                            1\n",
            "Link Function:                  logit   Scale:                          1.0000\n",
            "Method:                          IRLS   Log-Likelihood:                -13.686\n",
            "Date:                Fri, 17 Feb 2023   Deviance:                       27.373\n",
            "Time:                        23:58:35   Pearson chi2:                     54.7\n",
            "No. Iterations:                     7                                         \n",
            "Covariance Type:            nonrobust                                         \n",
            "==============================================================================\n",
            "                 coef    std err          z      P>|z|      [0.025      0.975]\n",
            "------------------------------------------------------------------------------\n",
            "const         10.0331      3.145      3.190      0.001       3.869      16.197\n",
            "0             -1.0524      0.318     -3.312      0.001      -1.675      -0.430\n",
            "==============================================================================\n"
          ]
        },
        {
          "output_type": "stream",
          "name": "stderr",
          "text": [
            "/usr/local/lib/python3.8/dist-packages/statsmodels/tsa/tsatools.py:142: FutureWarning: In a future version of pandas all arguments of concat except for the argument 'objs' will be keyword-only\n",
            "  x = pd.concat(x[::order], 1)\n"
          ]
        }
      ]
    },
    {
      "cell_type": "markdown",
      "source": [
        "Let's compute the probabilities with both predicted results. When a the total score is used, the probability function looks like this"
      ],
      "metadata": {
        "id": "MzrFNUwl2GtZ"
      }
    },
    {
      "cell_type": "code",
      "source": [
        "# Plot fitted probabilities of illness versus the total score:\n",
        "def p(x):   # Calcuate the fitted probabilities\n",
        "    e = result2.params[\"const\"]+result2.params[0]*x\n",
        "    return(math.exp(e)/(1+math.exp(e)))\n",
        "\n",
        "fitprob = list(map(p, np.sum(psych.iloc[:,1:6], axis=1))) \n",
        "\n",
        "# plotting the points  \n",
        "plt.scatter(np.sum(psych.iloc[:,1:6], axis=1), fitprob)\n",
        "  \n",
        "# naming the x axis \n",
        "plt.xlabel('Total Score') \n",
        "# naming the y axis \n",
        "plt.ylabel('Fitted Probability of Illness') \n",
        "\n",
        "# function to show the plot \n",
        "plt.show() "
      ],
      "metadata": {
        "colab": {
          "base_uri": "https://localhost:8080/",
          "height": 279
        },
        "id": "OefnMAcuHO4i",
        "outputId": "14362b93-765b-4aa7-a3ec-54477b3882ad"
      },
      "execution_count": null,
      "outputs": [
        {
          "output_type": "display_data",
          "data": {
            "text/plain": [
              "<Figure size 432x288 with 1 Axes>"
            ],
            "image/png": "[encoded data removed]"
          },
          "metadata": {
            "needs_background": "light"
          }
        }
      ]
    },
    {
      "cell_type": "code",
      "source": [
        "# Plot fitted probabilities of illness versus the total score:\n",
        "fitprob = result2.predict(sm.add_constant(np.sum(psych.iloc[:,1:6], axis=1)))\n",
        "\n",
        "# plotting the points  \n",
        "plt.scatter(np.sum(psych.iloc[:,1:6], axis=1), fitprob)\n",
        "  \n",
        "# naming the x axis \n",
        "plt.xlabel('Total Score') \n",
        "# naming the y axis \n",
        "plt.ylabel('Fitted Probability of Illness') \n",
        "\n",
        "# function to show the plot \n",
        "plt.show() "
      ],
      "metadata": {
        "colab": {
          "base_uri": "https://localhost:8080/",
          "height": 334
        },
        "id": "qbkz8VneHRvW",
        "outputId": "ddb9f40c-0e82-4489-ef87-f612bf3ead25"
      },
      "execution_count": null,
      "outputs": [
        {
          "output_type": "stream",
          "name": "stderr",
          "text": [
            "/usr/local/lib/python3.8/dist-packages/statsmodels/tsa/tsatools.py:142: FutureWarning: In a future version of pandas all arguments of concat except for the argument 'objs' will be keyword-only\n",
            "  x = pd.concat(x[::order], 1)\n"
          ]
        },
        {
          "output_type": "display_data",
          "data": {
            "text/plain": [
              "<Figure size 432x288 with 1 Axes>"
            ],
            "image/png": "[encoded data removed]"
          },
          "metadata": {
            "needs_background": "light"
          }
        }
      ]
    },
    {
      "cell_type": "code",
      "source": [
        "a=psych.iloc[:,1:6].values.tolist()\n",
        "a[0]"
      ],
      "metadata": {
        "id": "hUP3irKR87NU",
        "outputId": "42705182-fa9a-4eff-f9ea-8f721a5b0266",
        "colab": {
          "base_uri": "https://localhost:8080/"
        }
      },
      "execution_count": null,
      "outputs": [
        {
          "output_type": "execute_result",
          "data": {
            "text/plain": [
              "[2, 2, 2, 2, 2]"
            ]
          },
          "metadata": {},
          "execution_count": 49
        }
      ]
    },
    {
      "cell_type": "markdown",
      "source": [
        "Now, when $p=4$ (using all the $\\beta$ coefficients) and plotting the probability against the answers for Question 1 only"
      ],
      "metadata": {
        "id": "2wx_dL9W-Ivv"
      }
    },
    {
      "cell_type": "code",
      "source": [
        "# Plot fitted probabilities of illness versus the total score:\n",
        "def p2(x):   # Calcuate the fitted probabilities\n",
        "  e = result1.params[\"const\"] + np.sum(np.array([result1.params[i+1] * x[i] for i in range(5)]))\n",
        "  return(math.exp(e)/(1+math.exp(e)))\n",
        "\n",
        "fitprob = list(map(p2, psych.iloc[:,1:6].values.tolist())) \n",
        "\n",
        "# plotting the points  \n",
        "plt.scatter(psych.iloc[:,1], fitprob)\n",
        "\n",
        "# naming the x axis \n",
        "plt.xlabel('Total Score') \n",
        "# naming the y axis \n",
        "plt.ylabel('Fitted Probability of Illness') \n",
        "\n",
        "# function to show the plot \n",
        "plt.show() "
      ],
      "metadata": {
        "id": "POB3wSMYHVuZ",
        "outputId": "7e2521ea-2515-46ef-bbfb-5abb53f86904",
        "colab": {
          "base_uri": "https://localhost:8080/",
          "height": 279
        }
      },
      "execution_count": null,
      "outputs": [
        {
          "output_type": "display_data",
          "data": {
            "text/plain": [
              "<Figure size 432x288 with 1 Axes>"
            ],
            "image/png": "[encoded data removed]"
          },
          "metadata": {
            "needs_background": "light"
          }
        }
      ]
    },
    {
      "cell_type": "markdown",
      "source": [
        "What about for question 2"
      ],
      "metadata": {
        "id": "C5aswFet-w96"
      }
    },
    {
      "cell_type": "code",
      "source": [
        "# Plot fitted probabilities of illness versus the total score:\n",
        "def p2(x):   # Calcuate the fitted probabilities\n",
        "  e = result1.params[\"const\"] + np.sum(np.array([result1.params[i+1] * x[i] for i in range(5)]))\n",
        "  return(math.exp(e)/(1+math.exp(e)))\n",
        "\n",
        "fitprob = list(map(p2, psych.iloc[:,1:6].values.tolist())) \n",
        "\n",
        "# plotting the points  \n",
        "plt.scatter(psych.iloc[:,2], fitprob)\n",
        "\n",
        "# naming the x axis \n",
        "plt.xlabel('Total Score') \n",
        "# naming the y axis \n",
        "plt.ylabel('Fitted Probability of Illness') \n",
        "\n",
        "# function to show the plot \n",
        "plt.show() "
      ],
      "metadata": {
        "id": "NWLjyCqn7nA0",
        "outputId": "8d654c20-8707-480f-a4e0-1c2576061555",
        "colab": {
          "base_uri": "https://localhost:8080/",
          "height": 279
        }
      },
      "execution_count": null,
      "outputs": [
        {
          "output_type": "display_data",
          "data": {
            "text/plain": [
              "<Figure size 432x288 with 1 Axes>"
            ],
            "image/png": "[encoded data removed]"
          },
          "metadata": {
            "needs_background": "light"
          }
        }
      ]
    },
    {
      "cell_type": "markdown",
      "source": [
        "What about for the total points (adding the results of all questions)?"
      ],
      "metadata": {
        "id": "aVsONoEX-8Up"
      }
    },
    {
      "cell_type": "code",
      "source": [
        "# Plot fitted probabilities of illness versus the total score:\n",
        "def p2(x):   # Calcuate the fitted probabilities\n",
        "  e = result1.params[\"const\"] + np.sum(np.array([result1.params[i+1] * x[i] for i in range(5)]))\n",
        "  return(math.exp(e)/(1+math.exp(e)))\n",
        "\n",
        "fitprob = list(map(p2, psych.iloc[:,1:6].values.tolist())) \n",
        "\n",
        "# plotting the points  \n",
        "plt.scatter(np.sum(psych.iloc[:,1:6], axis=1), fitprob)\n",
        "\n",
        "# naming the x axis \n",
        "plt.xlabel('Total Score') \n",
        "# naming the y axis \n",
        "plt.ylabel('Fitted Probability of Illness') \n",
        "\n",
        "# function to show the plot \n",
        "plt.show() "
      ],
      "metadata": {
        "id": "nkWEWsd2-5_X",
        "outputId": "9cd3f5b8-e6c3-4fd1-e5ff-f9f6cc62b1bf",
        "colab": {
          "base_uri": "https://localhost:8080/",
          "height": 279
        }
      },
      "execution_count": null,
      "outputs": [
        {
          "output_type": "display_data",
          "data": {
            "text/plain": [
              "<Figure size 432x288 with 1 Axes>"
            ],
            "image/png": "[encoded data removed]"
          },
          "metadata": {
            "needs_background": "light"
          }
        }
      ]
    },
    {
      "cell_type": "markdown",
      "source": [
        "##Conclusion \n",
        "All plots shown here make sense since the trend indicates that the higher the score, the healthier the individual is. No matter if the probability of a single question score or the total score is considered, when plotting against the probability (computed with the GLM coefficients), the trend is the same. In other words, lower scores indicates the invidual is likely to be ill. \\\\\n",
        "Morevoer, recall than summing binary (0/1) observations with the same x (replications) gives a grouped data binomial distribution \\\\\n",
        "\n",
        "\\begin{aligned}\n",
        "  Y_i ~ binomial(n_i, \\pi(x_i))\n",
        "\\end{aligned}\n",
        "\n",
        "where $i$ now referes to the ith group (of the $n_i$ binary observations)"
      ],
      "metadata": {
        "id": "BoMIJ73H_V8o"
      }
    },
    {
      "cell_type": "markdown",
      "source": [
        "###Example 2: Snoring & Heart Disease Data"
      ],
      "metadata": {
        "id": "QSFkHRHm_5bt"
      }
    },
    {
      "cell_type": "markdown",
      "source": [
        "This is just a simple example to assess the snoring level (0 - 5) as independant variable with a illness (disease/ no disease) cases. Again, this analysis belongs to a binomial distribution case as explained before "
      ],
      "metadata": {
        "id": "VzfEB6olB26v"
      }
    },
    {
      "cell_type": "code",
      "source": [
        "data = np.array([(24, 1355, 0),(35, 603, 2),(21,192, 4), (30, 224, 5)])\n",
        "snoreheart = pd.DataFrame(data, columns=['Disease',  'NoDisease',  'Snoring'])\n",
        "snoreheart"
      ],
      "metadata": {
        "id": "osmMmR2y_I8x",
        "outputId": "ef8d7a2a-e35b-4697-8b70-7ad02f40fb86",
        "colab": {
          "base_uri": "https://localhost:8080/",
          "height": 175
        }
      },
      "execution_count": null,
      "outputs": [
        {
          "output_type": "execute_result",
          "data": {
            "text/plain": [
              "   Disease  NoDisease  Snoring\n",
              "0       24       1355        0\n",
              "1       35        603        2\n",
              "2       21        192        4\n",
              "3       30        224        5"
            ],
            "text/html": [
              "\n",
              "  <div id=\"df-d50c9fd4-94ee-4b4e-a708-fd74a5b200b4\">\n",
              "    <div class=\"colab-df-container\">\n",
              "      <div>\n",
              "<style scoped>\n",
              "    .dataframe tbody tr th:only-of-type {\n",
              "        vertical-align: middle;\n",
              "    }\n",
              "\n",
              "    .dataframe tbody tr th {\n",
              "        vertical-align: top;\n",
              "    }\n",
              "\n",
              "    .dataframe thead th {\n",
              "        text-align: right;\n",
              "    }\n",
              "</style>\n",
              "<table border=\"1\" class=\"dataframe\">\n",
              "  <thead>\n",
              "    <tr style=\"text-align: right;\">\n",
              "      <th></th>\n",
              "      <th>Disease</th>\n",
              "      <th>NoDisease</th>\n",
              "      <th>Snoring</th>\n",
              "    </tr>\n",
              "  </thead>\n",
              "  <tbody>\n",
              "    <tr>\n",
              "      <th>0</th>\n",
              "      <td>24</td>\n",
              "      <td>1355</td>\n",
              "      <td>0</td>\n",
              "    </tr>\n",
              "    <tr>\n",
              "      <th>1</th>\n",
              "      <td>35</td>\n",
              "      <td>603</td>\n",
              "      <td>2</td>\n",
              "    </tr>\n",
              "    <tr>\n",
              "      <th>2</th>\n",
              "      <td>21</td>\n",
              "      <td>192</td>\n",
              "      <td>4</td>\n",
              "    </tr>\n",
              "    <tr>\n",
              "      <th>3</th>\n",
              "      <td>30</td>\n",
              "      <td>224</td>\n",
              "      <td>5</td>\n",
              "    </tr>\n",
              "  </tbody>\n",
              "</table>\n",
              "</div>\n",
              "      <button class=\"colab-df-convert\" onclick=\"convertToInteractive('df-d50c9fd4-94ee-4b4e-a708-fd74a5b200b4')\"\n",
              "              title=\"Convert this dataframe to an interactive table.\"\n",
              "              style=\"display:none;\">\n",
              "        \n",
              "  <svg xmlns=\"http://www.w3.org/2000/svg\" height=\"24px\"viewBox=\"0 0 24 24\"\n",
              "       width=\"24px\">\n",
              "    <path d=\"M0 0h24v24H0V0z\" fill=\"none\"/>\n",
              "    <path d=\"M18.56 5.44l.94 2.06.94-2.06 2.06-.94-2.06-.94-.94-2.06-.94 2.06-2.06.94zm-11 1L8.5 8.5l.94-2.06 2.06-.94-2.06-.94L8.5 2.5l-.94 2.06-2.06.94zm10 10l.94 2.06.94-2.06 2.06-.94-2.06-.94-.94-2.06-.94 2.06-2.06.94z\"/><path d=\"M17.41 7.96l-1.37-1.37c-.4-.4-.92-.59-1.43-.59-.52 0-1.04.2-1.43.59L10.3 9.45l-7.72 7.72c-.78.78-.78 2.05 0 2.83L4 21.41c.39.39.9.59 1.41.59.51 0 1.02-.2 1.41-.59l7.78-7.78 2.81-2.81c.8-.78.8-2.07 0-2.86zM5.41 20L4 18.59l7.72-7.72 1.47 1.35L5.41 20z\"/>\n",
              "  </svg>\n",
              "      </button>\n",
              "      \n",
              "  <style>\n",
              "    .colab-df-container {\n",
              "      display:flex;\n",
              "      flex-wrap:wrap;\n",
              "      gap: 12px;\n",
              "    }\n",
              "\n",
              "    .colab-df-convert {\n",
              "      background-color: #E8F0FE;\n",
              "      border: none;\n",
              "      border-radius: 50%;\n",
              "      cursor: pointer;\n",
              "      display: none;\n",
              "      fill: #1967D2;\n",
              "      height: 32px;\n",
              "      padding: 0 0 0 0;\n",
              "      width: 32px;\n",
              "    }\n",
              "\n",
              "    .colab-df-convert:hover {\n",
              "      background-color: #E2EBFA;\n",
              "      box-shadow: 0px 1px 2px rgba(60, 64, 67, 0.3), 0px 1px 3px 1px rgba(60, 64, 67, 0.15);\n",
              "      fill: #174EA6;\n",
              "    }\n",
              "\n",
              "    [theme=dark] .colab-df-convert {\n",
              "      background-color: #3B4455;\n",
              "      fill: #D2E3FC;\n",
              "    }\n",
              "\n",
              "    [theme=dark] .colab-df-convert:hover {\n",
              "      background-color: #434B5C;\n",
              "      box-shadow: 0px 1px 3px 1px rgba(0, 0, 0, 0.15);\n",
              "      filter: drop-shadow(0px 1px 2px rgba(0, 0, 0, 0.3));\n",
              "      fill: #FFFFFF;\n",
              "    }\n",
              "  </style>\n",
              "\n",
              "      <script>\n",
              "        const buttonEl =\n",
              "          document.querySelector('#df-d50c9fd4-94ee-4b4e-a708-fd74a5b200b4 button.colab-df-convert');\n",
              "        buttonEl.style.display =\n",
              "          google.colab.kernel.accessAllowed ? 'block' : 'none';\n",
              "\n",
              "        async function convertToInteractive(key) {\n",
              "          const element = document.querySelector('#df-d50c9fd4-94ee-4b4e-a708-fd74a5b200b4');\n",
              "          const dataTable =\n",
              "            await google.colab.kernel.invokeFunction('convertToInteractive',\n",
              "                                                     [key], {});\n",
              "          if (!dataTable) return;\n",
              "\n",
              "          const docLinkHtml = 'Like what you see? Visit the ' +\n",
              "            '<a target=\"_blank\" href=https://colab.research.google.com/notebooks/data_table.ipynb>data table notebook</a>'\n",
              "            + ' to learn more about interactive tables.';\n",
              "          element.innerHTML = '';\n",
              "          dataTable['output_type'] = 'display_data';\n",
              "          await google.colab.output.renderOutput(dataTable, element);\n",
              "          const docLink = document.createElement('div');\n",
              "          docLink.innerHTML = docLinkHtml;\n",
              "          element.appendChild(docLink);\n",
              "        }\n",
              "      </script>\n",
              "    </div>\n",
              "  </div>\n",
              "  "
            ]
          },
          "metadata": {},
          "execution_count": 54
        }
      ]
    },
    {
      "cell_type": "markdown",
      "source": [
        "Note that `endog` is a 2d array for the binomial family `[Disease NoDisease]` and exog is an array-like (single value in this case) for the independent variables $x_i$"
      ],
      "metadata": {
        "id": "CZHz9DzaFT4c"
      }
    },
    {
      "cell_type": "code",
      "source": [
        "endog = snoreheart.iloc[:,:2] #y: Disease and NoDisease\n",
        "exog = sm.add_constant(snoreheart.Snoring) # x: Snoring with the interception\n",
        "\n",
        "snorefit = sm.GLM(endog, exog, family=sm.families.Binomial())\n",
        "result3 = snorefit.fit()\n",
        "print(result3.summary())"
      ],
      "metadata": {
        "id": "dqdsSmgGDwa6",
        "outputId": "f4fc099b-f0ad-43f1-a9a7-a6c62476e605",
        "colab": {
          "base_uri": "https://localhost:8080/"
        }
      },
      "execution_count": null,
      "outputs": [
        {
          "output_type": "stream",
          "name": "stdout",
          "text": [
            "                    Generalized Linear Model Regression Results                     \n",
            "====================================================================================\n",
            "Dep. Variable:     ['Disease', 'NoDisease']   No. Observations:                    4\n",
            "Model:                                  GLM   Df Residuals:                        2\n",
            "Model Family:                      Binomial   Df Model:                            1\n",
            "Link Function:                        logit   Scale:                          1.0000\n",
            "Method:                                IRLS   Log-Likelihood:                -11.531\n",
            "Date:                      Sat, 18 Feb 2023   Deviance:                       2.8089\n",
            "Time:                              01:07:53   Pearson chi2:                     2.87\n",
            "No. Iterations:                           7                                         \n",
            "Covariance Type:                  nonrobust                                         \n",
            "==============================================================================\n",
            "                 coef    std err          z      P>|z|      [0.025      0.975]\n",
            "------------------------------------------------------------------------------\n",
            "const         -3.8662      0.166    -23.261      0.000      -4.192      -3.540\n",
            "Snoring        0.3973      0.050      7.945      0.000       0.299       0.495\n",
            "==============================================================================\n"
          ]
        },
        {
          "output_type": "stream",
          "name": "stderr",
          "text": [
            "/usr/local/lib/python3.8/dist-packages/statsmodels/tsa/tsatools.py:142: FutureWarning: In a future version of pandas all arguments of concat except for the argument 'objs' will be keyword-only\n",
            "  x = pd.concat(x[::order], 1)\n"
          ]
        }
      ]
    },
    {
      "cell_type": "markdown",
      "source": [
        "Now, let's plot this results. Note how the GLM predicts the trend for any random value for the snoring level range analyzed. \n",
        "\n",
        "##Conclusion\n",
        "From this plot, it can be clearly observed that there is a strong positive correlations between the level of snoring and the probabily of a heart disease."
      ],
      "metadata": {
        "id": "AsiSlOwLF48n"
      }
    },
    {
      "cell_type": "code",
      "source": [
        "plt.scatter(snoreheart.Snoring, snoreheart.Disease/(snoreheart.Disease+snoreheart.NoDisease))\n",
        "plt.xlabel('Snoring Level')\n",
        "plt.ylabel('Prob. Heart Disease')\n",
        "x = np.linspace(0, 5, 200)\n",
        "plt.plot(x, result3.predict(sm.add_constant(x)))\n",
        "plt.show()"
      ],
      "metadata": {
        "id": "ILGKFbsjEDFq",
        "outputId": "d093d59e-3788-4e15-c5e8-d55886ee4065",
        "colab": {
          "base_uri": "https://localhost:8080/",
          "height": 279
        }
      },
      "execution_count": null,
      "outputs": [
        {
          "output_type": "display_data",
          "data": {
            "text/plain": [
              "<Figure size 432x288 with 1 Axes>"
            ],
            "image/png": "[encoded data removed]"
          },
          "metadata": {
            "needs_background": "light"
          }
        }
      ]
    },
    {
      "cell_type": "code",
      "source": [],
      "metadata": {
        "id": "DABrZmeYF8KN"
      },
      "execution_count": null,
      "outputs": []
    }
  ]
}